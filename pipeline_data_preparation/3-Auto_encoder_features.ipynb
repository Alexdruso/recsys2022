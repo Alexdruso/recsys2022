{
  "cells": [
    {
      "cell_type": "code",
      "execution_count": null,
      "metadata": {
        "id": "owDtEs6MsTc9"
      },
      "outputs": [],
      "source": [
        "import pandas as pd\n",
        "import numpy as np\n",
        "import tensorflow as tf\n",
        "from tensorflow.keras import layers\n",
        "import tensorflow_probability as tfp\n",
        "from sklearn.model_selection import train_test_split\n",
        "\n",
        "tfd = tfp.distributions\n",
        "tfb = tfp.bijectors\n",
        "tfpl = tfp.layers"
      ]
    },
    {
      "cell_type": "code",
      "execution_count": null,
      "metadata": {
        "colab": {
          "base_uri": "https://localhost:8080/",
          "height": 206
        },
        "id": "1JyKbD7LtKP-",
        "outputId": "8d4df8b0-4940-4479-9089-0da50588fd15"
      },
      "outputs": [
        {
          "data": {
            "text/html": [
              "\n",
              "  <div id=\"df-8a67de48-f997-4466-8dee-76cb4b576821\">\n",
              "    <div class=\"colab-df-container\">\n",
              "      <div>\n",
              "<style scoped>\n",
              "    .dataframe tbody tr th:only-of-type {\n",
              "        vertical-align: middle;\n",
              "    }\n",
              "\n",
              "    .dataframe tbody tr th {\n",
              "        vertical-align: top;\n",
              "    }\n",
              "\n",
              "    .dataframe thead th {\n",
              "        text-align: right;\n",
              "    }\n",
              "</style>\n",
              "<table border=\"1\" class=\"dataframe\">\n",
              "  <thead>\n",
              "    <tr style=\"text-align: right;\">\n",
              "      <th></th>\n",
              "      <th>item_id</th>\n",
              "      <th>feature_idx</th>\n",
              "    </tr>\n",
              "  </thead>\n",
              "  <tbody>\n",
              "    <tr>\n",
              "      <th>0</th>\n",
              "      <td>19021</td>\n",
              "      <td>0</td>\n",
              "    </tr>\n",
              "    <tr>\n",
              "      <th>1</th>\n",
              "      <td>19021</td>\n",
              "      <td>22</td>\n",
              "    </tr>\n",
              "    <tr>\n",
              "      <th>2</th>\n",
              "      <td>19021</td>\n",
              "      <td>15</td>\n",
              "    </tr>\n",
              "    <tr>\n",
              "      <th>3</th>\n",
              "      <td>19021</td>\n",
              "      <td>446</td>\n",
              "    </tr>\n",
              "    <tr>\n",
              "      <th>4</th>\n",
              "      <td>19021</td>\n",
              "      <td>1</td>\n",
              "    </tr>\n",
              "  </tbody>\n",
              "</table>\n",
              "</div>\n",
              "      <button class=\"colab-df-convert\" onclick=\"convertToInteractive('df-8a67de48-f997-4466-8dee-76cb4b576821')\"\n",
              "              title=\"Convert this dataframe to an interactive table.\"\n",
              "              style=\"display:none;\">\n",
              "        \n",
              "  <svg xmlns=\"http://www.w3.org/2000/svg\" height=\"24px\"viewBox=\"0 0 24 24\"\n",
              "       width=\"24px\">\n",
              "    <path d=\"M0 0h24v24H0V0z\" fill=\"none\"/>\n",
              "    <path d=\"M18.56 5.44l.94 2.06.94-2.06 2.06-.94-2.06-.94-.94-2.06-.94 2.06-2.06.94zm-11 1L8.5 8.5l.94-2.06 2.06-.94-2.06-.94L8.5 2.5l-.94 2.06-2.06.94zm10 10l.94 2.06.94-2.06 2.06-.94-2.06-.94-.94-2.06-.94 2.06-2.06.94z\"/><path d=\"M17.41 7.96l-1.37-1.37c-.4-.4-.92-.59-1.43-.59-.52 0-1.04.2-1.43.59L10.3 9.45l-7.72 7.72c-.78.78-.78 2.05 0 2.83L4 21.41c.39.39.9.59 1.41.59.51 0 1.02-.2 1.41-.59l7.78-7.78 2.81-2.81c.8-.78.8-2.07 0-2.86zM5.41 20L4 18.59l7.72-7.72 1.47 1.35L5.41 20z\"/>\n",
              "  </svg>\n",
              "      </button>\n",
              "      \n",
              "  <style>\n",
              "    .colab-df-container {\n",
              "      display:flex;\n",
              "      flex-wrap:wrap;\n",
              "      gap: 12px;\n",
              "    }\n",
              "\n",
              "    .colab-df-convert {\n",
              "      background-color: #E8F0FE;\n",
              "      border: none;\n",
              "      border-radius: 50%;\n",
              "      cursor: pointer;\n",
              "      display: none;\n",
              "      fill: #1967D2;\n",
              "      height: 32px;\n",
              "      padding: 0 0 0 0;\n",
              "      width: 32px;\n",
              "    }\n",
              "\n",
              "    .colab-df-convert:hover {\n",
              "      background-color: #E2EBFA;\n",
              "      box-shadow: 0px 1px 2px rgba(60, 64, 67, 0.3), 0px 1px 3px 1px rgba(60, 64, 67, 0.15);\n",
              "      fill: #174EA6;\n",
              "    }\n",
              "\n",
              "    [theme=dark] .colab-df-convert {\n",
              "      background-color: #3B4455;\n",
              "      fill: #D2E3FC;\n",
              "    }\n",
              "\n",
              "    [theme=dark] .colab-df-convert:hover {\n",
              "      background-color: #434B5C;\n",
              "      box-shadow: 0px 1px 3px 1px rgba(0, 0, 0, 0.15);\n",
              "      filter: drop-shadow(0px 1px 2px rgba(0, 0, 0, 0.3));\n",
              "      fill: #FFFFFF;\n",
              "    }\n",
              "  </style>\n",
              "\n",
              "      <script>\n",
              "        const buttonEl =\n",
              "          document.querySelector('#df-8a67de48-f997-4466-8dee-76cb4b576821 button.colab-df-convert');\n",
              "        buttonEl.style.display =\n",
              "          google.colab.kernel.accessAllowed ? 'block' : 'none';\n",
              "\n",
              "        async function convertToInteractive(key) {\n",
              "          const element = document.querySelector('#df-8a67de48-f997-4466-8dee-76cb4b576821');\n",
              "          const dataTable =\n",
              "            await google.colab.kernel.invokeFunction('convertToInteractive',\n",
              "                                                     [key], {});\n",
              "          if (!dataTable) return;\n",
              "\n",
              "          const docLinkHtml = 'Like what you see? Visit the ' +\n",
              "            '<a target=\"_blank\" href=https://colab.research.google.com/notebooks/data_table.ipynb>data table notebook</a>'\n",
              "            + ' to learn more about interactive tables.';\n",
              "          element.innerHTML = '';\n",
              "          dataTable['output_type'] = 'display_data';\n",
              "          await google.colab.output.renderOutput(dataTable, element);\n",
              "          const docLink = document.createElement('div');\n",
              "          docLink.innerHTML = docLinkHtml;\n",
              "          element.appendChild(docLink);\n",
              "        }\n",
              "      </script>\n",
              "    </div>\n",
              "  </div>\n",
              "  "
            ],
            "text/plain": [
              "   item_id  feature_idx\n",
              "0    19021            0\n",
              "1    19021           22\n",
              "2    19021           15\n",
              "3    19021          446\n",
              "4    19021            1"
            ]
          },
          "execution_count": 3,
          "metadata": {},
          "output_type": "execute_result"
        }
      ],
      "source": [
        "items_features = pd.read_csv('../dataset/processed_data/simplified_features_and_categories_30.csv')\n",
        "items_features.head()"
      ]
    },
    {
      "cell_type": "code",
      "execution_count": null,
      "metadata": {
        "colab": {
          "base_uri": "https://localhost:8080/"
        },
        "id": "0L-2_mkypZIT",
        "outputId": "7e46d3bd-d557-4f21-8550-449e5bbecff5"
      },
      "outputs": [
        {
          "data": {
            "text/plain": [
              "23691"
            ]
          },
          "execution_count": 4,
          "metadata": {},
          "output_type": "execute_result"
        }
      ],
      "source": [
        "items_features['item_id'].max()"
      ]
    },
    {
      "cell_type": "code",
      "execution_count": null,
      "metadata": {
        "id": "NhWZfcj7z3T4"
      },
      "outputs": [],
      "source": [
        "dataset = np.zeros(\n",
        "    (items_features['item_id'].max()+1, items_features['feature_idx'].max()+1)\n",
        "    )\n",
        "dataset[(items_features['item_id'], items_features['feature_idx'])] = 1\n",
        "\n",
        "dataset\n",
        "train_dataset=dataset[1:,:]"
      ]
    },
    {
      "cell_type": "code",
      "execution_count": null,
      "metadata": {
        "id": "ZO-qIdyclm-l"
      },
      "outputs": [],
      "source": [
        "from sklearn.model_selection import train_test_split\n",
        "train,test=train_test_split(train_dataset,test_size=0.2,random_state=941116)"
      ]
    },
    {
      "cell_type": "code",
      "execution_count": null,
      "metadata": {
        "colab": {
          "base_uri": "https://localhost:8080/"
        },
        "id": "gmqXJ3zDB7b0",
        "outputId": "e124f74b-f7b9-4570-db1c-7302f1885980"
      },
      "outputs": [
        {
          "data": {
            "text/plain": [
              "(23692, 636)"
            ]
          },
          "execution_count": 7,
          "metadata": {},
          "output_type": "execute_result"
        }
      ],
      "source": [
        "dataset.shape"
      ]
    },
    {
      "cell_type": "code",
      "execution_count": null,
      "metadata": {
        "colab": {
          "base_uri": "https://localhost:8080/"
        },
        "id": "poeMvbnyl11j",
        "outputId": "9a7a99d5-d7a7-4041-cb74-956e4218f774"
      },
      "outputs": [
        {
          "data": {
            "text/plain": [
              "(18952, 636)"
            ]
          },
          "execution_count": 8,
          "metadata": {},
          "output_type": "execute_result"
        }
      ],
      "source": [
        "train.shape"
      ]
    },
    {
      "cell_type": "code",
      "execution_count": null,
      "metadata": {
        "colab": {
          "base_uri": "https://localhost:8080/"
        },
        "id": "yJzyRil8GCth",
        "outputId": "a11dcaab-c116-470f-ed63-d425eeac9ce2"
      },
      "outputs": [
        {
          "data": {
            "text/plain": [
              "(4739, 636)"
            ]
          },
          "execution_count": 9,
          "metadata": {},
          "output_type": "execute_result"
        }
      ],
      "source": [
        "test.shape"
      ]
    },
    {
      "cell_type": "markdown",
      "metadata": {
        "id": "d3nCfuxMKi8X"
      },
      "source": [
        "# Autoencoder"
      ]
    },
    {
      "cell_type": "code",
      "execution_count": null,
      "metadata": {
        "id": "1RjrcwqVKkvm"
      },
      "outputs": [],
      "source": [
        "latent_dimension = 64\n",
        "starting_dimension = 512\n",
        "\n",
        "inputs = layers.Input(items_features['feature_idx'].max()+1)\n",
        "\n",
        "x = inputs \n",
        "dimension = starting_dimension\n",
        "\n",
        "while(dimension != latent_dimension):\n",
        "    #x = layers.BatchNormalization()(x)\n",
        "    x = layers.Dense(units=dimension, activation='gelu',activity_regularizer=tf.keras.regularizers.L1L2(l1=1e-5,l2=1e-5))(x)\n",
        "    x = layers.Dropout(0.1)(x)\n",
        "\n",
        "    dimension = dimension//2\n",
        "\n",
        "x = layers.Dense(units=dimension,activation=\"tanh\",activity_regularizer=tf.keras.regularizers.L1L2(l1=5e-5,l2=4e-4))(x)\n",
        "outputs = x\n",
        "encoder = tf.keras.Model(inputs=inputs, outputs=outputs, name='encoder')"
      ]
    },
    {
      "cell_type": "code",
      "execution_count": null,
      "metadata": {
        "id": "ZBxWYv-JL06x"
      },
      "outputs": [],
      "source": [
        "max_width = 1024\n",
        "ending_dimension = items_features['feature_idx'].max()+1\n",
        "\n",
        "inputs = layers.Input(latent_dimension)\n",
        "\n",
        "x = inputs \n",
        "dimension = latent_dimension\n",
        "\n",
        "x = layers.Dense(units=256, activation='gelu',activity_regularizer=tf.keras.regularizers.L1L2(l1=1e-5,l2=1e-5))(x)\n",
        "x = layers.Dropout(0.1)(x)\n",
        "x = layers.Dense(units=512, activation='gelu',activity_regularizer=tf.keras.regularizers.L1L2(l1=1e-5,l2=1e-5))(x)\n",
        "x = layers.Dropout(0.2)(x)\n",
        "    \n",
        "\n",
        "x = layers.Dense(units=ending_dimension,activation=\"sigmoid\")(x)\n",
        "outputs = x\n",
        "\n",
        "decoder = tf.keras.Model(inputs=inputs, outputs=outputs, name='decoder')\n",
        "\n",
        "#decoder.summary()"
      ]
    },
    {
      "cell_type": "code",
      "execution_count": null,
      "metadata": {
        "id": "XoCB5g0EL7sI"
      },
      "outputs": [],
      "source": [
        "ae = tf.keras.Model(inputs=encoder.inputs, outputs=decoder(encoder.outputs), name='auto_encoder')\n",
        "#ae.summary()"
      ]
    },
    {
      "cell_type": "code",
      "execution_count": null,
      "metadata": {
        "id": "z0LDKqMkMOtK"
      },
      "outputs": [],
      "source": [
        "def custom_loss(x_true,x_pred):\n",
        "    return tf.keras.losses.cosine_similarity(x_true,x_pred)+tf.keras.losses.mean_squared_error(x_true,x_pred)#"
      ]
    },
    {
      "cell_type": "code",
      "execution_count": null,
      "metadata": {
        "id": "MP0KJxaGMNuZ"
      },
      "outputs": [],
      "source": [
        "ae.compile(\n",
        "    optimizer=tf.keras.optimizers.Adamax(learning_rate=0.006), \n",
        "    loss=custom_loss,\n",
        "    metrics=[tf.keras.metrics.CosineSimilarity(),tf.keras.metrics.MeanAbsoluteError()]\n",
        "    )"
      ]
    },
    {
      "cell_type": "markdown",
      "metadata": {
        "id": "YrLisRiO73WY"
      },
      "source": [
        "#Training"
      ]
    },
    {
      "cell_type": "code",
      "execution_count": null,
      "metadata": {
        "colab": {
          "base_uri": "https://localhost:8080/"
        },
        "id": "k66RodSl71Ya",
        "outputId": "552b3658-298f-41a7-c1c9-530461918164"
      },
      "outputs": [
        {
          "name": "stdout",
          "output_type": "stream",
          "text": [
            "Epoch 1/200\n",
            "297/297 [==============================] - 8s 21ms/step - loss: -0.7541 - cosine_similarity: 0.7911 - mean_absolute_error: 0.0499 - val_loss: -0.8476 - val_cosine_similarity: 0.8716 - val_mean_absolute_error: 0.0317 - lr: 0.0060\n",
            "Epoch 2/200\n",
            "297/297 [==============================] - 6s 20ms/step - loss: -0.8534 - cosine_similarity: 0.8763 - mean_absolute_error: 0.0302 - val_loss: -0.8736 - val_cosine_similarity: 0.8938 - val_mean_absolute_error: 0.0263 - lr: 0.0060\n",
            "Epoch 3/200\n",
            "297/297 [==============================] - 6s 19ms/step - loss: -0.8728 - cosine_similarity: 0.8931 - mean_absolute_error: 0.0265 - val_loss: -0.8909 - val_cosine_similarity: 0.9095 - val_mean_absolute_error: 0.0222 - lr: 0.0060\n",
            "Epoch 4/200\n",
            "297/297 [==============================] - 6s 19ms/step - loss: -0.8858 - cosine_similarity: 0.9045 - mean_absolute_error: 0.0239 - val_loss: -0.8989 - val_cosine_similarity: 0.9161 - val_mean_absolute_error: 0.0211 - lr: 0.0060\n",
            "Epoch 5/200\n",
            "297/297 [==============================] - 6s 19ms/step - loss: -0.8939 - cosine_similarity: 0.9116 - mean_absolute_error: 0.0221 - val_loss: -0.9077 - val_cosine_similarity: 0.9238 - val_mean_absolute_error: 0.0198 - lr: 0.0060\n",
            "Epoch 6/200\n",
            "297/297 [==============================] - 6s 19ms/step - loss: -0.9012 - cosine_similarity: 0.9178 - mean_absolute_error: 0.0207 - val_loss: -0.9150 - val_cosine_similarity: 0.9299 - val_mean_absolute_error: 0.0183 - lr: 0.0060\n",
            "Epoch 7/200\n",
            "297/297 [==============================] - 6s 19ms/step - loss: -0.9068 - cosine_similarity: 0.9228 - mean_absolute_error: 0.0195 - val_loss: -0.9205 - val_cosine_similarity: 0.9348 - val_mean_absolute_error: 0.0173 - lr: 0.0060\n",
            "Epoch 8/200\n",
            "297/297 [==============================] - 7s 24ms/step - loss: -0.9122 - cosine_similarity: 0.9275 - mean_absolute_error: 0.0184 - val_loss: -0.9248 - val_cosine_similarity: 0.9386 - val_mean_absolute_error: 0.0157 - lr: 0.0060\n",
            "Epoch 9/200\n",
            "297/297 [==============================] - 6s 19ms/step - loss: -0.9170 - cosine_similarity: 0.9317 - mean_absolute_error: 0.0174 - val_loss: -0.9290 - val_cosine_similarity: 0.9423 - val_mean_absolute_error: 0.0150 - lr: 0.0060\n",
            "Epoch 10/200\n",
            "297/297 [==============================] - 6s 19ms/step - loss: -0.9207 - cosine_similarity: 0.9349 - mean_absolute_error: 0.0167 - val_loss: -0.9331 - val_cosine_similarity: 0.9457 - val_mean_absolute_error: 0.0143 - lr: 0.0060\n",
            "Epoch 11/200\n",
            "297/297 [==============================] - 6s 19ms/step - loss: -0.9238 - cosine_similarity: 0.9376 - mean_absolute_error: 0.0160 - val_loss: -0.9343 - val_cosine_similarity: 0.9468 - val_mean_absolute_error: 0.0139 - lr: 0.0060\n",
            "Epoch 12/200\n",
            "297/297 [==============================] - 6s 19ms/step - loss: -0.9268 - cosine_similarity: 0.9402 - mean_absolute_error: 0.0154 - val_loss: -0.9372 - val_cosine_similarity: 0.9491 - val_mean_absolute_error: 0.0133 - lr: 0.0060\n",
            "Epoch 13/200\n",
            "297/297 [==============================] - 6s 19ms/step - loss: -0.9286 - cosine_similarity: 0.9417 - mean_absolute_error: 0.0150 - val_loss: -0.9393 - val_cosine_similarity: 0.9509 - val_mean_absolute_error: 0.0132 - lr: 0.0060\n",
            "Epoch 14/200\n",
            "297/297 [==============================] - 6s 19ms/step - loss: -0.9308 - cosine_similarity: 0.9437 - mean_absolute_error: 0.0145 - val_loss: -0.9411 - val_cosine_similarity: 0.9526 - val_mean_absolute_error: 0.0124 - lr: 0.0060\n",
            "Epoch 15/200\n",
            "297/297 [==============================] - 6s 19ms/step - loss: -0.9323 - cosine_similarity: 0.9450 - mean_absolute_error: 0.0141 - val_loss: -0.9419 - val_cosine_similarity: 0.9535 - val_mean_absolute_error: 0.0120 - lr: 0.0060\n",
            "Epoch 16/200\n",
            "297/297 [==============================] - 6s 21ms/step - loss: -0.9340 - cosine_similarity: 0.9464 - mean_absolute_error: 0.0138 - val_loss: -0.9444 - val_cosine_similarity: 0.9554 - val_mean_absolute_error: 0.0116 - lr: 0.0060\n",
            "Epoch 17/200\n",
            "297/297 [==============================] - 6s 19ms/step - loss: -0.9354 - cosine_similarity: 0.9476 - mean_absolute_error: 0.0135 - val_loss: -0.9454 - val_cosine_similarity: 0.9564 - val_mean_absolute_error: 0.0111 - lr: 0.0060\n",
            "Epoch 18/200\n",
            "297/297 [==============================] - 6s 19ms/step - loss: -0.9368 - cosine_similarity: 0.9488 - mean_absolute_error: 0.0131 - val_loss: -0.9461 - val_cosine_similarity: 0.9570 - val_mean_absolute_error: 0.0111 - lr: 0.0060\n",
            "Epoch 19/200\n",
            "297/297 [==============================] - 7s 23ms/step - loss: -0.9380 - cosine_similarity: 0.9498 - mean_absolute_error: 0.0129 - val_loss: -0.9472 - val_cosine_similarity: 0.9579 - val_mean_absolute_error: 0.0108 - lr: 0.0060\n",
            "Epoch 20/200\n",
            "297/297 [==============================] - 6s 20ms/step - loss: -0.9391 - cosine_similarity: 0.9509 - mean_absolute_error: 0.0126 - val_loss: -0.9487 - val_cosine_similarity: 0.9591 - val_mean_absolute_error: 0.0107 - lr: 0.0060\n",
            "Epoch 21/200\n",
            "297/297 [==============================] - 6s 20ms/step - loss: -0.9406 - cosine_similarity: 0.9521 - mean_absolute_error: 0.0123 - val_loss: -0.9494 - val_cosine_similarity: 0.9599 - val_mean_absolute_error: 0.0101 - lr: 0.0060\n",
            "Epoch 22/200\n",
            "297/297 [==============================] - 6s 19ms/step - loss: -0.9425 - cosine_similarity: 0.9538 - mean_absolute_error: 0.0120 - val_loss: -0.9515 - val_cosine_similarity: 0.9615 - val_mean_absolute_error: 0.0099 - lr: 0.0060\n",
            "Epoch 23/200\n",
            "297/297 [==============================] - 6s 20ms/step - loss: -0.9436 - cosine_similarity: 0.9548 - mean_absolute_error: 0.0118 - val_loss: -0.9527 - val_cosine_similarity: 0.9627 - val_mean_absolute_error: 0.0096 - lr: 0.0060\n",
            "Epoch 24/200\n",
            "297/297 [==============================] - 6s 20ms/step - loss: -0.9443 - cosine_similarity: 0.9554 - mean_absolute_error: 0.0116 - val_loss: -0.9528 - val_cosine_similarity: 0.9628 - val_mean_absolute_error: 0.0096 - lr: 0.0060\n",
            "Epoch 25/200\n",
            "297/297 [==============================] - 6s 20ms/step - loss: -0.9453 - cosine_similarity: 0.9562 - mean_absolute_error: 0.0114 - val_loss: -0.9540 - val_cosine_similarity: 0.9638 - val_mean_absolute_error: 0.0093 - lr: 0.0060\n",
            "Epoch 26/200\n",
            "297/297 [==============================] - 6s 19ms/step - loss: -0.9458 - cosine_similarity: 0.9567 - mean_absolute_error: 0.0112 - val_loss: -0.9543 - val_cosine_similarity: 0.9641 - val_mean_absolute_error: 0.0090 - lr: 0.0060\n",
            "Epoch 27/200\n",
            "297/297 [==============================] - 6s 19ms/step - loss: -0.9468 - cosine_similarity: 0.9575 - mean_absolute_error: 0.0110 - val_loss: -0.9555 - val_cosine_similarity: 0.9650 - val_mean_absolute_error: 0.0089 - lr: 0.0060\n",
            "Epoch 28/200\n",
            "297/297 [==============================] - 6s 19ms/step - loss: -0.9479 - cosine_similarity: 0.9584 - mean_absolute_error: 0.0108 - val_loss: -0.9561 - val_cosine_similarity: 0.9655 - val_mean_absolute_error: 0.0088 - lr: 0.0060\n",
            "Epoch 29/200\n",
            "297/297 [==============================] - 6s 20ms/step - loss: -0.9486 - cosine_similarity: 0.9591 - mean_absolute_error: 0.0106 - val_loss: -0.9560 - val_cosine_similarity: 0.9655 - val_mean_absolute_error: 0.0087 - lr: 0.0060\n",
            "Epoch 30/200\n",
            "297/297 [==============================] - 6s 20ms/step - loss: -0.9491 - cosine_similarity: 0.9595 - mean_absolute_error: 0.0105 - val_loss: -0.9576 - val_cosine_similarity: 0.9670 - val_mean_absolute_error: 0.0083 - lr: 0.0060\n",
            "Epoch 31/200\n",
            "297/297 [==============================] - 6s 19ms/step - loss: -0.9500 - cosine_similarity: 0.9603 - mean_absolute_error: 0.0103 - val_loss: -0.9580 - val_cosine_similarity: 0.9673 - val_mean_absolute_error: 0.0082 - lr: 0.0060\n",
            "Epoch 32/200\n",
            "297/297 [==============================] - 6s 20ms/step - loss: -0.9506 - cosine_similarity: 0.9608 - mean_absolute_error: 0.0102 - val_loss: -0.9586 - val_cosine_similarity: 0.9676 - val_mean_absolute_error: 0.0083 - lr: 0.0060\n",
            "Epoch 33/200\n",
            "297/297 [==============================] - 6s 19ms/step - loss: -0.9512 - cosine_similarity: 0.9613 - mean_absolute_error: 0.0100 - val_loss: -0.9586 - val_cosine_similarity: 0.9678 - val_mean_absolute_error: 0.0082 - lr: 0.0060\n",
            "Epoch 34/200\n",
            "297/297 [==============================] - 6s 19ms/step - loss: -0.9514 - cosine_similarity: 0.9615 - mean_absolute_error: 0.0099 - val_loss: -0.9599 - val_cosine_similarity: 0.9688 - val_mean_absolute_error: 0.0078 - lr: 0.0060\n",
            "Epoch 35/200\n",
            "297/297 [==============================] - 6s 20ms/step - loss: -0.9523 - cosine_similarity: 0.9623 - mean_absolute_error: 0.0098 - val_loss: -0.9596 - val_cosine_similarity: 0.9687 - val_mean_absolute_error: 0.0077 - lr: 0.0060\n",
            "Epoch 36/200\n",
            "297/297 [==============================] - 6s 20ms/step - loss: -0.9529 - cosine_similarity: 0.9628 - mean_absolute_error: 0.0097 - val_loss: -0.9604 - val_cosine_similarity: 0.9693 - val_mean_absolute_error: 0.0078 - lr: 0.0060\n",
            "Epoch 37/200\n",
            "297/297 [==============================] - 6s 20ms/step - loss: -0.9534 - cosine_similarity: 0.9633 - mean_absolute_error: 0.0095 - val_loss: -0.9609 - val_cosine_similarity: 0.9697 - val_mean_absolute_error: 0.0076 - lr: 0.0060\n",
            "Epoch 38/200\n",
            "297/297 [==============================] - 6s 19ms/step - loss: -0.9542 - cosine_similarity: 0.9639 - mean_absolute_error: 0.0094 - val_loss: -0.9615 - val_cosine_similarity: 0.9703 - val_mean_absolute_error: 0.0073 - lr: 0.0060\n",
            "Epoch 39/200\n",
            "297/297 [==============================] - 6s 20ms/step - loss: -0.9546 - cosine_similarity: 0.9642 - mean_absolute_error: 0.0093 - val_loss: -0.9624 - val_cosine_similarity: 0.9711 - val_mean_absolute_error: 0.0071 - lr: 0.0060\n",
            "Epoch 40/200\n",
            "297/297 [==============================] - 6s 20ms/step - loss: -0.9550 - cosine_similarity: 0.9646 - mean_absolute_error: 0.0092 - val_loss: -0.9627 - val_cosine_similarity: 0.9712 - val_mean_absolute_error: 0.0072 - lr: 0.0060\n",
            "Epoch 41/200\n",
            "297/297 [==============================] - 6s 19ms/step - loss: -0.9556 - cosine_similarity: 0.9651 - mean_absolute_error: 0.0091 - val_loss: -0.9624 - val_cosine_similarity: 0.9711 - val_mean_absolute_error: 0.0072 - lr: 0.0060\n",
            "Epoch 42/200\n",
            "297/297 [==============================] - 6s 20ms/step - loss: -0.9559 - cosine_similarity: 0.9653 - mean_absolute_error: 0.0090 - val_loss: -0.9635 - val_cosine_similarity: 0.9720 - val_mean_absolute_error: 0.0070 - lr: 0.0060\n",
            "Epoch 43/200\n",
            "297/297 [==============================] - 6s 20ms/step - loss: -0.9565 - cosine_similarity: 0.9659 - mean_absolute_error: 0.0089 - val_loss: -0.9637 - val_cosine_similarity: 0.9721 - val_mean_absolute_error: 0.0069 - lr: 0.0060\n",
            "Epoch 44/200\n",
            "297/297 [==============================] - 6s 20ms/step - loss: -0.9569 - cosine_similarity: 0.9662 - mean_absolute_error: 0.0088 - val_loss: -0.9647 - val_cosine_similarity: 0.9729 - val_mean_absolute_error: 0.0069 - lr: 0.0060\n",
            "Epoch 45/200\n",
            "297/297 [==============================] - 6s 20ms/step - loss: -0.9567 - cosine_similarity: 0.9661 - mean_absolute_error: 0.0087 - val_loss: -0.9644 - val_cosine_similarity: 0.9728 - val_mean_absolute_error: 0.0068 - lr: 0.0060\n",
            "Epoch 46/200\n",
            "297/297 [==============================] - 6s 20ms/step - loss: -0.9574 - cosine_similarity: 0.9667 - mean_absolute_error: 0.0086 - val_loss: -0.9646 - val_cosine_similarity: 0.9729 - val_mean_absolute_error: 0.0068 - lr: 0.0060\n",
            "Epoch 47/200\n",
            "297/297 [==============================] - 6s 20ms/step - loss: -0.9603 - cosine_similarity: 0.9691 - mean_absolute_error: 0.0082 - val_loss: -0.9665 - val_cosine_similarity: 0.9746 - val_mean_absolute_error: 0.0063 - lr: 0.0042\n",
            "Epoch 48/200\n",
            "297/297 [==============================] - 6s 20ms/step - loss: -0.9611 - cosine_similarity: 0.9699 - mean_absolute_error: 0.0081 - val_loss: -0.9671 - val_cosine_similarity: 0.9750 - val_mean_absolute_error: 0.0062 - lr: 0.0042\n",
            "Epoch 49/200\n",
            "297/297 [==============================] - 6s 20ms/step - loss: -0.9618 - cosine_similarity: 0.9705 - mean_absolute_error: 0.0080 - val_loss: -0.9676 - val_cosine_similarity: 0.9753 - val_mean_absolute_error: 0.0063 - lr: 0.0042\n",
            "Epoch 50/200\n",
            "297/297 [==============================] - 6s 20ms/step - loss: -0.9617 - cosine_similarity: 0.9704 - mean_absolute_error: 0.0080 - val_loss: -0.9672 - val_cosine_similarity: 0.9751 - val_mean_absolute_error: 0.0062 - lr: 0.0042\n",
            "Epoch 51/200\n",
            "297/297 [==============================] - 6s 20ms/step - loss: -0.9620 - cosine_similarity: 0.9706 - mean_absolute_error: 0.0079 - val_loss: -0.9673 - val_cosine_similarity: 0.9751 - val_mean_absolute_error: 0.0062 - lr: 0.0042\n",
            "Epoch 52/200\n",
            "297/297 [==============================] - 6s 22ms/step - loss: -0.9637 - cosine_similarity: 0.9721 - mean_absolute_error: 0.0076 - val_loss: -0.9691 - val_cosine_similarity: 0.9767 - val_mean_absolute_error: 0.0060 - lr: 0.0029\n",
            "Epoch 53/200\n",
            "297/297 [==============================] - 7s 22ms/step - loss: -0.9642 - cosine_similarity: 0.9725 - mean_absolute_error: 0.0076 - val_loss: -0.9692 - val_cosine_similarity: 0.9767 - val_mean_absolute_error: 0.0060 - lr: 0.0029\n",
            "Epoch 54/200\n",
            "297/297 [==============================] - 6s 20ms/step - loss: -0.9645 - cosine_similarity: 0.9728 - mean_absolute_error: 0.0075 - val_loss: -0.9693 - val_cosine_similarity: 0.9768 - val_mean_absolute_error: 0.0059 - lr: 0.0029\n",
            "Epoch 55/200\n",
            "297/297 [==============================] - 6s 20ms/step - loss: -0.9646 - cosine_similarity: 0.9728 - mean_absolute_error: 0.0074 - val_loss: -0.9696 - val_cosine_similarity: 0.9771 - val_mean_absolute_error: 0.0058 - lr: 0.0029\n",
            "Epoch 56/200\n",
            "297/297 [==============================] - 6s 20ms/step - loss: -0.9647 - cosine_similarity: 0.9730 - mean_absolute_error: 0.0074 - val_loss: -0.9695 - val_cosine_similarity: 0.9770 - val_mean_absolute_error: 0.0058 - lr: 0.0029\n",
            "Epoch 57/200\n",
            "297/297 [==============================] - 6s 20ms/step - loss: -0.9649 - cosine_similarity: 0.9731 - mean_absolute_error: 0.0074 - val_loss: -0.9698 - val_cosine_similarity: 0.9771 - val_mean_absolute_error: 0.0059 - lr: 0.0029\n",
            "Epoch 58/200\n",
            "297/297 [==============================] - 6s 20ms/step - loss: -0.9662 - cosine_similarity: 0.9742 - mean_absolute_error: 0.0072 - val_loss: -0.9705 - val_cosine_similarity: 0.9778 - val_mean_absolute_error: 0.0056 - lr: 0.0021\n",
            "Epoch 59/200\n",
            "297/297 [==============================] - 6s 20ms/step - loss: -0.9665 - cosine_similarity: 0.9745 - mean_absolute_error: 0.0071 - val_loss: -0.9709 - val_cosine_similarity: 0.9781 - val_mean_absolute_error: 0.0056 - lr: 0.0021\n",
            "Epoch 60/200\n",
            "297/297 [==============================] - 6s 20ms/step - loss: -0.9669 - cosine_similarity: 0.9748 - mean_absolute_error: 0.0071 - val_loss: -0.9711 - val_cosine_similarity: 0.9784 - val_mean_absolute_error: 0.0055 - lr: 0.0021\n",
            "Epoch 61/200\n",
            "297/297 [==============================] - 6s 20ms/step - loss: -0.9669 - cosine_similarity: 0.9748 - mean_absolute_error: 0.0071 - val_loss: -0.9711 - val_cosine_similarity: 0.9784 - val_mean_absolute_error: 0.0055 - lr: 0.0021\n",
            "Epoch 62/200\n",
            "297/297 [==============================] - 6s 20ms/step - loss: -0.9672 - cosine_similarity: 0.9750 - mean_absolute_error: 0.0070 - val_loss: -0.9711 - val_cosine_similarity: 0.9784 - val_mean_absolute_error: 0.0055 - lr: 0.0021\n",
            "Epoch 63/200\n",
            "297/297 [==============================] - 6s 20ms/step - loss: -0.9677 - cosine_similarity: 0.9755 - mean_absolute_error: 0.0069 - val_loss: -0.9717 - val_cosine_similarity: 0.9788 - val_mean_absolute_error: 0.0054 - lr: 0.0014\n",
            "Epoch 64/200\n",
            "297/297 [==============================] - 6s 20ms/step - loss: -0.9680 - cosine_similarity: 0.9758 - mean_absolute_error: 0.0069 - val_loss: -0.9716 - val_cosine_similarity: 0.9788 - val_mean_absolute_error: 0.0054 - lr: 0.0014\n",
            "Epoch 65/200\n",
            "297/297 [==============================] - 6s 20ms/step - loss: -0.9682 - cosine_similarity: 0.9760 - mean_absolute_error: 0.0068 - val_loss: -0.9719 - val_cosine_similarity: 0.9789 - val_mean_absolute_error: 0.0054 - lr: 0.0014\n",
            "Epoch 66/200\n",
            "297/297 [==============================] - 6s 20ms/step - loss: -0.9687 - cosine_similarity: 0.9763 - mean_absolute_error: 0.0068 - val_loss: -0.9723 - val_cosine_similarity: 0.9793 - val_mean_absolute_error: 0.0053 - lr: 0.0010\n",
            "Epoch 67/200\n",
            "297/297 [==============================] - 6s 20ms/step - loss: -0.9688 - cosine_similarity: 0.9764 - mean_absolute_error: 0.0067 - val_loss: -0.9723 - val_cosine_similarity: 0.9793 - val_mean_absolute_error: 0.0053 - lr: 0.0010\n",
            "Epoch 68/200\n",
            "297/297 [==============================] - 6s 20ms/step - loss: -0.9690 - cosine_similarity: 0.9766 - mean_absolute_error: 0.0067 - val_loss: -0.9724 - val_cosine_similarity: 0.9794 - val_mean_absolute_error: 0.0053 - lr: 0.0010\n",
            "Epoch 69/200\n",
            "297/297 [==============================] - 6s 20ms/step - loss: -0.9693 - cosine_similarity: 0.9769 - mean_absolute_error: 0.0067 - val_loss: -0.9725 - val_cosine_similarity: 0.9795 - val_mean_absolute_error: 0.0052 - lr: 7.0589e-04\n",
            "Epoch 70/200\n",
            "297/297 [==============================] - 6s 20ms/step - loss: -0.9696 - cosine_similarity: 0.9771 - mean_absolute_error: 0.0066 - val_loss: -0.9726 - val_cosine_similarity: 0.9796 - val_mean_absolute_error: 0.0052 - lr: 7.0589e-04\n",
            "Epoch 71/200\n",
            "297/297 [==============================] - 6s 20ms/step - loss: -0.9697 - cosine_similarity: 0.9772 - mean_absolute_error: 0.0066 - val_loss: -0.9728 - val_cosine_similarity: 0.9797 - val_mean_absolute_error: 0.0052 - lr: 7.0589e-04\n",
            "Epoch 72/200\n",
            "297/297 [==============================] - 6s 20ms/step - loss: -0.9697 - cosine_similarity: 0.9772 - mean_absolute_error: 0.0066 - val_loss: -0.9729 - val_cosine_similarity: 0.9798 - val_mean_absolute_error: 0.0052 - lr: 7.0589e-04\n",
            "Epoch 73/200\n",
            "297/297 [==============================] - 6s 20ms/step - loss: -0.9699 - cosine_similarity: 0.9774 - mean_absolute_error: 0.0066 - val_loss: -0.9729 - val_cosine_similarity: 0.9798 - val_mean_absolute_error: 0.0052 - lr: 7.0589e-04\n",
            "Epoch 74/200\n",
            "297/297 [==============================] - 6s 20ms/step - loss: -0.9698 - cosine_similarity: 0.9773 - mean_absolute_error: 0.0066 - val_loss: -0.9730 - val_cosine_similarity: 0.9799 - val_mean_absolute_error: 0.0052 - lr: 7.0589e-04\n",
            "Epoch 75/200\n",
            "297/297 [==============================] - 6s 20ms/step - loss: -0.9699 - cosine_similarity: 0.9774 - mean_absolute_error: 0.0066 - val_loss: -0.9729 - val_cosine_similarity: 0.9799 - val_mean_absolute_error: 0.0051 - lr: 7.0589e-04\n",
            "Epoch 76/200\n",
            "297/297 [==============================] - 6s 20ms/step - loss: -0.9700 - cosine_similarity: 0.9774 - mean_absolute_error: 0.0065 - val_loss: -0.9731 - val_cosine_similarity: 0.9800 - val_mean_absolute_error: 0.0051 - lr: 7.0589e-04\n",
            "Epoch 77/200\n",
            "297/297 [==============================] - 6s 20ms/step - loss: -0.9702 - cosine_similarity: 0.9776 - mean_absolute_error: 0.0065 - val_loss: -0.9732 - val_cosine_similarity: 0.9800 - val_mean_absolute_error: 0.0051 - lr: 4.9413e-04\n",
            "Epoch 78/200\n",
            "297/297 [==============================] - 6s 20ms/step - loss: -0.9703 - cosine_similarity: 0.9777 - mean_absolute_error: 0.0065 - val_loss: -0.9732 - val_cosine_similarity: 0.9801 - val_mean_absolute_error: 0.0051 - lr: 4.9413e-04\n",
            "Epoch 79/200\n",
            "297/297 [==============================] - 6s 20ms/step - loss: -0.9703 - cosine_similarity: 0.9778 - mean_absolute_error: 0.0065 - val_loss: -0.9732 - val_cosine_similarity: 0.9801 - val_mean_absolute_error: 0.0051 - lr: 4.9413e-04\n",
            "Epoch 80/200\n",
            "297/297 [==============================] - 6s 20ms/step - loss: -0.9703 - cosine_similarity: 0.9777 - mean_absolute_error: 0.0065 - val_loss: -0.9734 - val_cosine_similarity: 0.9802 - val_mean_absolute_error: 0.0051 - lr: 3.4589e-04\n",
            "Epoch 81/200\n",
            "297/297 [==============================] - 6s 20ms/step - loss: -0.9705 - cosine_similarity: 0.9779 - mean_absolute_error: 0.0065 - val_loss: -0.9734 - val_cosine_similarity: 0.9802 - val_mean_absolute_error: 0.0051 - lr: 3.4589e-04\n",
            "Epoch 82/200\n",
            "297/297 [==============================] - 6s 20ms/step - loss: -0.9706 - cosine_similarity: 0.9779 - mean_absolute_error: 0.0064 - val_loss: -0.9735 - val_cosine_similarity: 0.9803 - val_mean_absolute_error: 0.0051 - lr: 3.4589e-04\n",
            "Epoch 83/200\n",
            "297/297 [==============================] - 6s 20ms/step - loss: -0.9707 - cosine_similarity: 0.9781 - mean_absolute_error: 0.0064 - val_loss: -0.9735 - val_cosine_similarity: 0.9803 - val_mean_absolute_error: 0.0051 - lr: 2.4212e-04\n",
            "Epoch 84/200\n",
            "297/297 [==============================] - 6s 20ms/step - loss: -0.9707 - cosine_similarity: 0.9781 - mean_absolute_error: 0.0064 - val_loss: -0.9735 - val_cosine_similarity: 0.9803 - val_mean_absolute_error: 0.0051 - lr: 2.4212e-04\n",
            "Epoch 85/200\n",
            "297/297 [==============================] - 6s 20ms/step - loss: -0.9708 - cosine_similarity: 0.9782 - mean_absolute_error: 0.0064 - val_loss: -0.9735 - val_cosine_similarity: 0.9803 - val_mean_absolute_error: 0.0051 - lr: 2.4212e-04\n",
            "Epoch 86/200\n",
            "297/297 [==============================] - 6s 20ms/step - loss: -0.9708 - cosine_similarity: 0.9782 - mean_absolute_error: 0.0064 - val_loss: -0.9736 - val_cosine_similarity: 0.9804 - val_mean_absolute_error: 0.0050 - lr: 1.6949e-04\n",
            "Epoch 87/200\n",
            "297/297 [==============================] - 6s 20ms/step - loss: -0.9709 - cosine_similarity: 0.9782 - mean_absolute_error: 0.0064 - val_loss: -0.9736 - val_cosine_similarity: 0.9804 - val_mean_absolute_error: 0.0050 - lr: 1.6949e-04\n",
            "Epoch 88/200\n",
            "297/297 [==============================] - 6s 20ms/step - loss: -0.9709 - cosine_similarity: 0.9782 - mean_absolute_error: 0.0064 - val_loss: -0.9736 - val_cosine_similarity: 0.9804 - val_mean_absolute_error: 0.0050 - lr: 1.1864e-04\n",
            "Epoch 89/200\n",
            "297/297 [==============================] - 6s 20ms/step - loss: -0.9710 - cosine_similarity: 0.9783 - mean_absolute_error: 0.0064 - val_loss: -0.9736 - val_cosine_similarity: 0.9804 - val_mean_absolute_error: 0.0050 - lr: 1.1864e-04\n",
            "Epoch 90/200\n",
            "297/297 [==============================] - 6s 20ms/step - loss: -0.9709 - cosine_similarity: 0.9783 - mean_absolute_error: 0.0064 - val_loss: -0.9737 - val_cosine_similarity: 0.9804 - val_mean_absolute_error: 0.0050 - lr: 1.1864e-04\n",
            "Epoch 91/200\n",
            "297/297 [==============================] - 6s 20ms/step - loss: -0.9710 - cosine_similarity: 0.9783 - mean_absolute_error: 0.0064 - val_loss: -0.9737 - val_cosine_similarity: 0.9805 - val_mean_absolute_error: 0.0050 - lr: 8.3048e-05\n",
            "Epoch 92/200\n",
            "297/297 [==============================] - 6s 20ms/step - loss: -0.9711 - cosine_similarity: 0.9784 - mean_absolute_error: 0.0064 - val_loss: -0.9736 - val_cosine_similarity: 0.9804 - val_mean_absolute_error: 0.0050 - lr: 8.3048e-05\n",
            "Epoch 93/200\n",
            "297/297 [==============================] - 6s 20ms/step - loss: -0.9711 - cosine_similarity: 0.9784 - mean_absolute_error: 0.0064 - val_loss: -0.9737 - val_cosine_similarity: 0.9805 - val_mean_absolute_error: 0.0050 - lr: 5.8133e-05\n",
            "Epoch 94/200\n",
            "297/297 [==============================] - 6s 20ms/step - loss: -0.9710 - cosine_similarity: 0.9783 - mean_absolute_error: 0.0064 - val_loss: -0.9737 - val_cosine_similarity: 0.9805 - val_mean_absolute_error: 0.0050 - lr: 5.8133e-05\n",
            "Epoch 95/200\n",
            "297/297 [==============================] - 6s 20ms/step - loss: -0.9710 - cosine_similarity: 0.9783 - mean_absolute_error: 0.0064 - val_loss: -0.9737 - val_cosine_similarity: 0.9805 - val_mean_absolute_error: 0.0050 - lr: 5.0000e-05\n",
            "Epoch 96/200\n",
            "297/297 [==============================] - 6s 20ms/step - loss: -0.9711 - cosine_similarity: 0.9784 - mean_absolute_error: 0.0064 - val_loss: -0.9737 - val_cosine_similarity: 0.9805 - val_mean_absolute_error: 0.0050 - lr: 5.0000e-05\n",
            "Epoch 97/200\n",
            "297/297 [==============================] - 6s 20ms/step - loss: -0.9710 - cosine_similarity: 0.9783 - mean_absolute_error: 0.0064 - val_loss: -0.9737 - val_cosine_similarity: 0.9805 - val_mean_absolute_error: 0.0050 - lr: 5.0000e-05\n",
            "Epoch 98/200\n",
            "297/297 [==============================] - 7s 25ms/step - loss: -0.9711 - cosine_similarity: 0.9784 - mean_absolute_error: 0.0064 - val_loss: -0.9737 - val_cosine_similarity: 0.9805 - val_mean_absolute_error: 0.0050 - lr: 5.0000e-05\n",
            "Epoch 99/200\n",
            "297/297 [==============================] - 6s 20ms/step - loss: -0.9712 - cosine_similarity: 0.9784 - mean_absolute_error: 0.0064 - val_loss: -0.9737 - val_cosine_similarity: 0.9805 - val_mean_absolute_error: 0.0050 - lr: 5.0000e-05\n",
            "Epoch 100/200\n",
            "297/297 [==============================] - 6s 20ms/step - loss: -0.9711 - cosine_similarity: 0.9784 - mean_absolute_error: 0.0064 - val_loss: -0.9737 - val_cosine_similarity: 0.9805 - val_mean_absolute_error: 0.0050 - lr: 5.0000e-05\n",
            "Epoch 101/200\n",
            "297/297 [==============================] - 6s 20ms/step - loss: -0.9711 - cosine_similarity: 0.9784 - mean_absolute_error: 0.0064 - val_loss: -0.9737 - val_cosine_similarity: 0.9805 - val_mean_absolute_error: 0.0050 - lr: 5.0000e-05\n",
            "Epoch 102/200\n",
            "297/297 [==============================] - 6s 20ms/step - loss: -0.9711 - cosine_similarity: 0.9784 - mean_absolute_error: 0.0064 - val_loss: -0.9737 - val_cosine_similarity: 0.9805 - val_mean_absolute_error: 0.0050 - lr: 5.0000e-05\n",
            "Epoch 103/200\n",
            "297/297 [==============================] - 6s 20ms/step - loss: -0.9711 - cosine_similarity: 0.9784 - mean_absolute_error: 0.0064 - val_loss: -0.9737 - val_cosine_similarity: 0.9805 - val_mean_absolute_error: 0.0050 - lr: 5.0000e-05\n",
            "Epoch 104/200\n",
            "297/297 [==============================] - 6s 20ms/step - loss: -0.9712 - cosine_similarity: 0.9785 - mean_absolute_error: 0.0064 - val_loss: -0.9737 - val_cosine_similarity: 0.9805 - val_mean_absolute_error: 0.0050 - lr: 5.0000e-05\n",
            "Epoch 105/200\n",
            "297/297 [==============================] - 6s 20ms/step - loss: -0.9712 - cosine_similarity: 0.9785 - mean_absolute_error: 0.0063 - val_loss: -0.9737 - val_cosine_similarity: 0.9805 - val_mean_absolute_error: 0.0050 - lr: 5.0000e-05\n",
            "Epoch 106/200\n",
            "297/297 [==============================] - 6s 20ms/step - loss: -0.9713 - cosine_similarity: 0.9786 - mean_absolute_error: 0.0063 - val_loss: -0.9738 - val_cosine_similarity: 0.9805 - val_mean_absolute_error: 0.0050 - lr: 5.0000e-05\n",
            "Epoch 107/200\n",
            "297/297 [==============================] - 6s 20ms/step - loss: -0.9712 - cosine_similarity: 0.9785 - mean_absolute_error: 0.0064 - val_loss: -0.9737 - val_cosine_similarity: 0.9805 - val_mean_absolute_error: 0.0050 - lr: 5.0000e-05\n",
            "Epoch 108/200\n",
            "297/297 [==============================] - 6s 20ms/step - loss: -0.9712 - cosine_similarity: 0.9785 - mean_absolute_error: 0.0063 - val_loss: -0.9738 - val_cosine_similarity: 0.9805 - val_mean_absolute_error: 0.0050 - lr: 5.0000e-05\n",
            "Epoch 109/200\n",
            "297/297 [==============================] - 6s 20ms/step - loss: -0.9711 - cosine_similarity: 0.9784 - mean_absolute_error: 0.0064 - val_loss: -0.9738 - val_cosine_similarity: 0.9805 - val_mean_absolute_error: 0.0050 - lr: 5.0000e-05\n",
            "Epoch 110/200\n",
            "297/297 [==============================] - 6s 20ms/step - loss: -0.9712 - cosine_similarity: 0.9785 - mean_absolute_error: 0.0063 - val_loss: -0.9738 - val_cosine_similarity: 0.9806 - val_mean_absolute_error: 0.0050 - lr: 5.0000e-05\n",
            "Epoch 111/200\n",
            "297/297 [==============================] - 6s 20ms/step - loss: -0.9712 - cosine_similarity: 0.9784 - mean_absolute_error: 0.0064 - val_loss: -0.9738 - val_cosine_similarity: 0.9805 - val_mean_absolute_error: 0.0050 - lr: 5.0000e-05\n",
            "Epoch 112/200\n",
            "297/297 [==============================] - 6s 20ms/step - loss: -0.9712 - cosine_similarity: 0.9785 - mean_absolute_error: 0.0063 - val_loss: -0.9738 - val_cosine_similarity: 0.9805 - val_mean_absolute_error: 0.0050 - lr: 5.0000e-05\n",
            "Epoch 113/200\n",
            "297/297 [==============================] - 6s 20ms/step - loss: -0.9713 - cosine_similarity: 0.9786 - mean_absolute_error: 0.0063 - val_loss: -0.9738 - val_cosine_similarity: 0.9806 - val_mean_absolute_error: 0.0050 - lr: 5.0000e-05\n",
            "Epoch 114/200\n",
            "297/297 [==============================] - 6s 20ms/step - loss: -0.9714 - cosine_similarity: 0.9786 - mean_absolute_error: 0.0063 - val_loss: -0.9738 - val_cosine_similarity: 0.9805 - val_mean_absolute_error: 0.0050 - lr: 5.0000e-05\n",
            "Epoch 115/200\n",
            "297/297 [==============================] - 6s 20ms/step - loss: -0.9712 - cosine_similarity: 0.9785 - mean_absolute_error: 0.0063 - val_loss: -0.9738 - val_cosine_similarity: 0.9806 - val_mean_absolute_error: 0.0050 - lr: 5.0000e-05\n",
            "Epoch 116/200\n",
            "297/297 [==============================] - 6s 20ms/step - loss: -0.9712 - cosine_similarity: 0.9785 - mean_absolute_error: 0.0063 - val_loss: -0.9738 - val_cosine_similarity: 0.9806 - val_mean_absolute_error: 0.0050 - lr: 5.0000e-05\n",
            "Epoch 117/200\n",
            "297/297 [==============================] - 6s 20ms/step - loss: -0.9712 - cosine_similarity: 0.9785 - mean_absolute_error: 0.0063 - val_loss: -0.9738 - val_cosine_similarity: 0.9806 - val_mean_absolute_error: 0.0050 - lr: 5.0000e-05\n",
            "Epoch 118/200\n",
            "297/297 [==============================] - 6s 20ms/step - loss: -0.9713 - cosine_similarity: 0.9785 - mean_absolute_error: 0.0063 - val_loss: -0.9738 - val_cosine_similarity: 0.9806 - val_mean_absolute_error: 0.0050 - lr: 5.0000e-05\n",
            "Epoch 119/200\n",
            "297/297 [==============================] - 6s 20ms/step - loss: -0.9712 - cosine_similarity: 0.9785 - mean_absolute_error: 0.0063 - val_loss: -0.9738 - val_cosine_similarity: 0.9806 - val_mean_absolute_error: 0.0050 - lr: 5.0000e-05\n",
            "Epoch 120/200\n",
            "297/297 [==============================] - 6s 20ms/step - loss: -0.9712 - cosine_similarity: 0.9785 - mean_absolute_error: 0.0064 - val_loss: -0.9738 - val_cosine_similarity: 0.9806 - val_mean_absolute_error: 0.0050 - lr: 5.0000e-05\n",
            "Epoch 121/200\n",
            "173/297 [================>.............] - ETA: 2s - loss: -0.9712 - cosine_similarity: 0.9784 - mean_absolute_error: 0.0064"
          ]
        }
      ],
      "source": [
        "ae.fit(\n",
        "    train,\n",
        "    train, \n",
        "    batch_size=64,\n",
        "    validation_data=(test,test),\n",
        "    epochs=200,\n",
        "    shuffle=True,\n",
        "    callbacks=[\n",
        "            tf.keras.callbacks.EarlyStopping(\n",
        "                monitor='cosine_similarity',\n",
        "                patience=10,\n",
        "                restore_best_weights=True,\n",
        "                mode=\"max\"\n",
        "            ),\n",
        "            tf.keras.callbacks.ReduceLROnPlateau(\n",
        "                monitor='val_cosine_similarity',\n",
        "                factor=0.7,\n",
        "                patience=2,\n",
        "                min_lr=5e-5,\n",
        "                mode=\"max\",\n",
        "                min_delta=0.0001,\n",
        "            )\n",
        "        ]\n",
        "    )"
      ]
    },
    {
      "cell_type": "code",
      "execution_count": null,
      "metadata": {
        "id": "Tg3gvuN8mpzC"
      },
      "outputs": [],
      "source": [
        "temp=encoder(dataset)"
      ]
    },
    {
      "cell_type": "code",
      "execution_count": null,
      "metadata": {
        "colab": {
          "base_uri": "https://localhost:8080/"
        },
        "id": "HZTvwE1TLWOG",
        "outputId": "aa30495d-1a9c-4535-bd99-9d6b86031c75"
      },
      "outputs": [
        {
          "data": {
            "text/plain": [
              "TensorShape([23692, 64])"
            ]
          },
          "execution_count": 30,
          "metadata": {},
          "output_type": "execute_result"
        }
      ],
      "source": [
        "temp.shape"
      ]
    },
    {
      "cell_type": "code",
      "execution_count": null,
      "metadata": {
        "id": "MDa2sbTaROWr"
      },
      "outputs": [],
      "source": [
        "temp"
      ]
    },
    {
      "cell_type": "code",
      "execution_count": null,
      "metadata": {
        "colab": {
          "base_uri": "https://localhost:8080/"
        },
        "id": "n-ig2ac3nwSt",
        "outputId": "7b1e3aff-f035-40a2-f991-58bb70faa83e"
      },
      "outputs": [
        {
          "data": {
            "text/plain": [
              "5.268532"
            ]
          },
          "execution_count": 38,
          "metadata": {},
          "output_type": "execute_result"
        }
      ],
      "source": [
        "tf.reduce_sum(temp,axis=1).numpy().max(),tf.reduce_sum(temp,axis=1).numpy().min(),tf.reduce_sum(temp,axis=1).numpy().std()"
      ]
    },
    {
      "cell_type": "code",
      "execution_count": null,
      "metadata": {
        "id": "yb0eE4AX8YsR"
      },
      "outputs": [],
      "source": [
        "np.save('../dataset/processed_data/compressed_features', encoder(dataset))"
      ]
    }
  ],
  "metadata": {
    "colab": {
      "collapsed_sections": [
        "N4VfhKeUsWxY",
        "HJzIzAFy198k",
        "d3nCfuxMKi8X"
      ],
      "name": "Copia di Recsys_VAE.ipynb",
      "provenance": []
    },
    "kernelspec": {
      "display_name": "Python 3.7.11 ('kerasenv')",
      "language": "python",
      "name": "python3"
    },
    "language_info": {
      "name": "python",
      "version": "3.7.11"
    },
    "vscode": {
      "interpreter": {
        "hash": "076f8a6b5b1418db8156a69c89ffd9be81dd0856c64ab85c86cdbdc614e845fe"
      }
    }
  },
  "nbformat": 4,
  "nbformat_minor": 0
}
