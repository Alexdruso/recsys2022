{
 "nbformat": 4,
 "nbformat_minor": 0,
 "metadata": {
  "colab": {
   "name": "Recsys_VAE.ipynb",
   "provenance": []
  },
  "kernelspec": {
   "name": "python3",
   "display_name": "Python 3"
  },
  "language_info": {
   "name": "python"
  }
 },
 "cells": [
  {
   "cell_type": "code",
   "execution_count": 1,
   "metadata": {
    "colab": {
     "base_uri": "https://localhost:8080/"
    },
    "id": "j1Zc9cJ5sPBB",
    "outputId": "8e5f9b13-82ef-4eda-d2c0-75c425af9fae"
   },
   "outputs": [],
   "source": [
    "import pandas as pd\n",
    "import numpy as np\n",
    "import tensorflow as tf\n",
    "from tensorflow.keras import layers\n",
    "import tensorflow_probability as tfp\n",
    "import os\n",
    "from sklearn.model_selection import train_test_split"
   ]
  },
  {
   "cell_type": "code",
   "execution_count": 15,
   "outputs": [
    {
     "ename": "ModuleNotFoundError",
     "evalue": "No module named 'google.colab'",
     "output_type": "error",
     "traceback": [
      "\u001B[0;31m---------------------------------------------------------------------------\u001B[0m",
      "\u001B[0;31mModuleNotFoundError\u001B[0m                       Traceback (most recent call last)",
      "Input \u001B[0;32mIn [15]\u001B[0m, in \u001B[0;36m<module>\u001B[0;34m\u001B[0m\n\u001B[0;32m----> 1\u001B[0m \u001B[38;5;28;01mfrom\u001B[39;00m \u001B[38;5;21;01mgoogle\u001B[39;00m\u001B[38;5;21;01m.\u001B[39;00m\u001B[38;5;21;01mcolab\u001B[39;00m \u001B[38;5;28;01mimport\u001B[39;00m drive\n\u001B[1;32m      2\u001B[0m drive\u001B[38;5;241m.\u001B[39mmount(\u001B[38;5;124m'\u001B[39m\u001B[38;5;124m/gdrive\u001B[39m\u001B[38;5;124m'\u001B[39m)\n\u001B[1;32m      3\u001B[0m get_ipython()\u001B[38;5;241m.\u001B[39mrun_line_magic(\u001B[38;5;124m'\u001B[39m\u001B[38;5;124mcd\u001B[39m\u001B[38;5;124m'\u001B[39m, \u001B[38;5;124m'\u001B[39m\u001B[38;5;124m/gdrive\u001B[39m\u001B[38;5;124m'\u001B[39m)\n",
      "\u001B[0;31mModuleNotFoundError\u001B[0m: No module named 'google.colab'"
     ]
    }
   ],
   "source": [
    "from google.colab import drive\n",
    "drive.mount('/gdrive')\n",
    "%cd /gdrive"
   ],
   "metadata": {
    "collapsed": false,
    "pycharm": {
     "name": "#%%\n"
    }
   }
  },
  {
   "cell_type": "code",
   "execution_count": 2,
   "outputs": [],
   "source": [
    "# Change base path based on GDrive or local run\n",
    "base_path = \"../dataset\"\n",
    "# base_path = \"/gdrive/MyDrive/dressipi_recsys2022_mapped/dataset\"\n",
    "\n",
    "original_data = os.path.join(base_path, 'original_data')\n",
    "processed_data = os.path.join(base_path, 'processed_data')"
   ],
   "metadata": {
    "collapsed": false,
    "pycharm": {
     "name": "#%%\n"
    }
   }
  },
  {
   "cell_type": "markdown",
   "source": [
    "#Prepare dataset"
   ],
   "metadata": {
    "id": "N4VfhKeUsWxY"
   }
  },
  {
   "cell_type": "code",
   "source": [
    "tfd = tfp.distributions\n",
    "tfb = tfp.bijectors\n",
    "tfpl = tfp.layers"
   ],
   "metadata": {
    "id": "owDtEs6MsTc9"
   },
   "execution_count": 3,
   "outputs": []
  },
  {
   "cell_type": "code",
   "source": [
    "items_features = pd.read_csv(os.path.join(processed_data, \"simplified_features.csv\"))\n",
    "items_features.head()"
   ],
   "metadata": {
    "colab": {
     "base_uri": "https://localhost:8080/",
     "height": 206
    },
    "id": "1JyKbD7LtKP-",
    "outputId": "4464887d-fdc2-4da4-c40b-f19ab76f0645"
   },
   "execution_count": 4,
   "outputs": [
    {
     "data": {
      "text/plain": "   item_id  feature_idx\n0    19021            1\n1    19021           23\n2    19021           16\n3    19021          447\n4    19021            2",
      "text/html": "<div>\n<style scoped>\n    .dataframe tbody tr th:only-of-type {\n        vertical-align: middle;\n    }\n\n    .dataframe tbody tr th {\n        vertical-align: top;\n    }\n\n    .dataframe thead th {\n        text-align: right;\n    }\n</style>\n<table border=\"1\" class=\"dataframe\">\n  <thead>\n    <tr style=\"text-align: right;\">\n      <th></th>\n      <th>item_id</th>\n      <th>feature_idx</th>\n    </tr>\n  </thead>\n  <tbody>\n    <tr>\n      <th>0</th>\n      <td>19021</td>\n      <td>1</td>\n    </tr>\n    <tr>\n      <th>1</th>\n      <td>19021</td>\n      <td>23</td>\n    </tr>\n    <tr>\n      <th>2</th>\n      <td>19021</td>\n      <td>16</td>\n    </tr>\n    <tr>\n      <th>3</th>\n      <td>19021</td>\n      <td>447</td>\n    </tr>\n    <tr>\n      <th>4</th>\n      <td>19021</td>\n      <td>2</td>\n    </tr>\n  </tbody>\n</table>\n</div>"
     },
     "execution_count": 4,
     "metadata": {},
     "output_type": "execute_result"
    }
   ]
  },
  {
   "cell_type": "code",
   "source": [
    "dataset = np.zeros(\n",
    "    (items_features['item_id'].max()+1, items_features['feature_idx'].max()+1)\n",
    "    )\n",
    "dataset[(items_features['item_id'], items_features['feature_idx'])] = 1\n",
    "\n",
    "dataset"
   ],
   "metadata": {
    "colab": {
     "base_uri": "https://localhost:8080/"
    },
    "id": "NhWZfcj7z3T4",
    "outputId": "aa304d51-0826-40de-f5c6-514afd328e7c"
   },
   "execution_count": 5,
   "outputs": [
    {
     "data": {
      "text/plain": "array([[0., 0., 0., ..., 0., 0., 0.],\n       [0., 1., 1., ..., 0., 0., 0.],\n       [0., 1., 1., ..., 0., 0., 0.],\n       ...,\n       [0., 1., 1., ..., 0., 0., 0.],\n       [0., 0., 1., ..., 0., 0., 0.],\n       [0., 0., 1., ..., 0., 0., 0.]])"
     },
     "execution_count": 5,
     "metadata": {},
     "output_type": "execute_result"
    }
   ]
  },
  {
   "cell_type": "markdown",
   "source": [
    "#VAE"
   ],
   "metadata": {
    "id": "HJzIzAFy198k"
   }
  },
  {
   "cell_type": "code",
   "source": [
    "def get_prior(num_modes, latent_dimension):\n",
    "    \"\"\"\n",
    "    This function should create an instance of a MixtureSameFamily distribution \n",
    "    according to the above specification. \n",
    "    The function takes the num_modes and latent_dim as arguments, which should \n",
    "    be used to define the distribution.\n",
    "    Your function should then return the distribution instance.\n",
    "    \"\"\"\n",
    "    return tfd.MixtureSameFamily(\n",
    "        mixture_distribution=tfd.Categorical(probs=[1/num_modes for _ in range(num_modes)]),\n",
    "        components_distribution=tfd.MultivariateNormalDiag(\n",
    "            loc=tf.Variable(tf.random.normal(shape=(num_modes, latent_dimension))),\n",
    "            scale_diag=tfp.util.TransformedVariable(\n",
    "                initial_value=tf.ones(\n",
    "                    shape=(num_modes, latent_dimension)\n",
    "                ),\n",
    "                bijector=tfb.Softplus()\n",
    "            )\n",
    "        )\n",
    "    )"
   ],
   "metadata": {
    "id": "iKPlGc5-3ZLy"
   },
   "execution_count": 6,
   "outputs": []
  },
  {
   "cell_type": "code",
   "source": [
    "def get_kl_regularizer(prior_distribution):\n",
    "    \"\"\"\n",
    "    This function should create an instance of the KLDivergenceRegularizer \n",
    "    according to the above specification. \n",
    "    The function takes the prior_distribution, which should be used to define \n",
    "    the distribution.\n",
    "    Your function should then return the KLDivergenceRegularizer instance.\n",
    "    \"\"\"\n",
    "    return tfpl.KLDivergenceRegularizer(\n",
    "        distribution_b=prior_distribution,\n",
    "        weight=1.0,\n",
    "        test_points_fn=lambda q: q.sample(3),\n",
    "        test_points_reduce_axis=None\n",
    "    )"
   ],
   "metadata": {
    "id": "R8t7w3Au3ZXx"
   },
   "execution_count": 7,
   "outputs": []
  },
  {
   "cell_type": "code",
   "source": [
    "latent_dimension = 256\n",
    "starting_dimension = 2**9\n",
    "prior = get_prior(num_modes=2, latent_dimension=latent_dimension)\n",
    "kl_regularizer = get_kl_regularizer(prior)\n",
    "\n",
    "inputs = layers.Input((items_features['feature_idx'].max()+1,))\n",
    "\n",
    "x = inputs \n",
    "dimension = starting_dimension\n",
    "\n",
    "while(dimension != latent_dimension):\n",
    "  x = layers.Dense(units=dimension, activation='relu')(x)\n",
    "  x = layers.BatchNormalization()(x)\n",
    "\n",
    "  dimension = dimension//2\n",
    "\n",
    "x = layers.Dense(units=tfpl.MultivariateNormalTriL.params_size(latent_dimension))(x)\n",
    "outputs = tfpl.MultivariateNormalTriL(latent_dimension, activity_regularizer=kl_regularizer)(x)\n",
    "\n",
    "encoder = tf.keras.Model(inputs=inputs, outputs=outputs, name='encoder')\n",
    "\n",
    "encoder.summary()"
   ],
   "metadata": {
    "colab": {
     "base_uri": "https://localhost:8080/"
    },
    "id": "fZKmdQ-v19FR",
    "outputId": "c2d38955-1d38-4209-96b9-49c911f033fe"
   },
   "execution_count": 8,
   "outputs": [
    {
     "name": "stdout",
     "output_type": "stream",
     "text": [
      "Metal device set to: Apple M1 Max\n"
     ]
    },
    {
     "name": "stderr",
     "output_type": "stream",
     "text": [
      "2022-04-21 22:01:29.642267: I tensorflow/core/common_runtime/pluggable_device/pluggable_device_factory.cc:305] Could not identify NUMA node of platform GPU ID 0, defaulting to 0. Your kernel may not have been built with NUMA support.\n",
      "2022-04-21 22:01:29.642406: I tensorflow/core/common_runtime/pluggable_device/pluggable_device_factory.cc:271] Created TensorFlow device (/job:localhost/replica:0/task:0/device:GPU:0 with 0 MB memory) -> physical PluggableDevice (device: 0, name: METAL, pci bus id: <undefined>)\n",
      "2022-04-21 22:01:29.839013: W tensorflow/python/util/util.cc:368] Sets are not currently considered sequences, but this may change in the future, so consider avoiding using them.\n"
     ]
    },
    {
     "name": "stdout",
     "output_type": "stream",
     "text": [
      "Model: \"encoder\"\n",
      "_________________________________________________________________\n",
      " Layer (type)                Output Shape              Param #   \n",
      "=================================================================\n",
      " input_1 (InputLayer)        [(None, 905)]             0         \n",
      "                                                                 \n",
      " dense (Dense)               (None, 512)               463872    \n",
      "                                                                 \n",
      " batch_normalization (BatchN  (None, 512)              2048      \n",
      " ormalization)                                                   \n",
      "                                                                 \n",
      " dense_1 (Dense)             (None, 33152)             17006976  \n",
      "                                                                 \n",
      " multivariate_normal_tri_l (  ((None, 256),            1024      \n",
      " MultivariateNormalTriL)      (None, 256))                       \n",
      "                                                                 \n",
      "=================================================================\n",
      "Total params: 17,473,920\n",
      "Trainable params: 17,472,896\n",
      "Non-trainable params: 1,024\n",
      "_________________________________________________________________\n"
     ]
    }
   ]
  },
  {
   "cell_type": "code",
   "source": [
    "max_width = 1024\n",
    "ending_dimension = items_features['feature_idx'].max()+1\n",
    "\n",
    "inputs = layers.Input((latent_dimension,))\n",
    "\n",
    "x = inputs \n",
    "dimension = latent_dimension\n",
    "\n",
    "while(dimension <= max_width):\n",
    "  x = layers.Dense(units=dimension, activation='relu')(x)\n",
    "  x = layers.BatchNormalization()(x)\n",
    "\n",
    "  dimension = dimension*2\n",
    "\n",
    "x = layers.Dense(units=tfpl.IndependentBernoulli.params_size(ending_dimension))(x)\n",
    "outputs = tfpl.IndependentBernoulli(ending_dimension)(x)\n",
    "\n",
    "decoder = tf.keras.Model(inputs=inputs, outputs=outputs, name='decoder')\n",
    "\n",
    "decoder.summary()"
   ],
   "metadata": {
    "colab": {
     "base_uri": "https://localhost:8080/"
    },
    "id": "9NHmRW9S4igJ",
    "outputId": "6e750ece-9a5a-42b6-c6ec-86580715afe1"
   },
   "execution_count": 9,
   "outputs": [
    {
     "name": "stdout",
     "output_type": "stream",
     "text": [
      "Model: \"decoder\"\n",
      "_________________________________________________________________\n",
      " Layer (type)                Output Shape              Param #   \n",
      "=================================================================\n",
      " input_2 (InputLayer)        [(None, 256)]             0         \n",
      "                                                                 \n",
      " dense_2 (Dense)             (None, 256)               65792     \n",
      "                                                                 \n",
      " batch_normalization_1 (Batc  (None, 256)              1024      \n",
      " hNormalization)                                                 \n",
      "                                                                 \n",
      " dense_3 (Dense)             (None, 512)               131584    \n",
      "                                                                 \n",
      " batch_normalization_2 (Batc  (None, 512)              2048      \n",
      " hNormalization)                                                 \n",
      "                                                                 \n",
      " dense_4 (Dense)             (None, 1024)              525312    \n",
      "                                                                 \n",
      " batch_normalization_3 (Batc  (None, 1024)             4096      \n",
      " hNormalization)                                                 \n",
      "                                                                 \n",
      " dense_5 (Dense)             (None, 905)               927625    \n",
      "                                                                 \n",
      " independent_bernoulli (Inde  ((None, 905),            0         \n",
      " pendentBernoulli)            (None, 905))                       \n",
      "                                                                 \n",
      "=================================================================\n",
      "Total params: 1,657,481\n",
      "Trainable params: 1,653,897\n",
      "Non-trainable params: 3,584\n",
      "_________________________________________________________________\n"
     ]
    }
   ]
  },
  {
   "cell_type": "code",
   "source": [
    "vae = tf.keras.Model(inputs=encoder.inputs, outputs=decoder(encoder.outputs), name='vae')\n",
    "vae.summary()"
   ],
   "metadata": {
    "colab": {
     "base_uri": "https://localhost:8080/"
    },
    "id": "KVZltSQC6P3n",
    "outputId": "8b9cb1ea-d9bf-4aa9-e9d2-390b2ba53c4f"
   },
   "execution_count": 10,
   "outputs": [
    {
     "name": "stdout",
     "output_type": "stream",
     "text": [
      "Model: \"vae\"\n",
      "_________________________________________________________________\n",
      " Layer (type)                Output Shape              Param #   \n",
      "=================================================================\n",
      " input_1 (InputLayer)        [(None, 905)]             0         \n",
      "                                                                 \n",
      " dense (Dense)               (None, 512)               463872    \n",
      "                                                                 \n",
      " batch_normalization (BatchN  (None, 512)              2048      \n",
      " ormalization)                                                   \n",
      "                                                                 \n",
      " dense_1 (Dense)             (None, 33152)             17006976  \n",
      "                                                                 \n",
      " multivariate_normal_tri_l (  ((None, 256),            1024      \n",
      " MultivariateNormalTriL)      (None, 256))                       \n",
      "                                                                 \n",
      " decoder (Functional)        (None, 905)               1657481   \n",
      "                                                                 \n",
      "=================================================================\n",
      "Total params: 19,131,401\n",
      "Trainable params: 19,126,793\n",
      "Non-trainable params: 4,608\n",
      "_________________________________________________________________\n"
     ]
    }
   ]
  },
  {
   "cell_type": "code",
   "source": [
    "vae.compile(\n",
    "    optimizer='adam', \n",
    "    loss=lambda x_true, x_pred : -tf.reduce_mean(x_pred.log_prob(x_true))\n",
    "    )"
   ],
   "metadata": {
    "id": "SDd6FyYl6nv7"
   },
   "execution_count": 11,
   "outputs": []
  },
  {
   "cell_type": "markdown",
   "source": [
    "#Training"
   ],
   "metadata": {
    "id": "YrLisRiO73WY"
   }
  },
  {
   "cell_type": "code",
   "source": [
    "vae.fit(\n",
    "    dataset,\n",
    "    dataset, \n",
    "    validation_split=0.2, \n",
    "    epochs=100,\n",
    "    callbacks=[\n",
    "               tf.keras.callbacks.EarlyStopping(\n",
    "                  monitor='val_loss',\n",
    "                  patience=5,\n",
    "                  restore_best_weights=True,\n",
    "              )\n",
    "         ]\n",
    "    )"
   ],
   "metadata": {
    "colab": {
     "base_uri": "https://localhost:8080/"
    },
    "id": "k66RodSl71Ya",
    "outputId": "db8f8e34-cb80-4ab3-ee41-4c63fa3fdf2d"
   },
   "execution_count": 12,
   "outputs": [
    {
     "name": "stderr",
     "output_type": "stream",
     "text": [
      "2022-04-21 22:01:33.632197: W tensorflow/core/platform/profile_utils/cpu_utils.cc:128] Failed to get CPU frequency: 0 Hz\n"
     ]
    },
    {
     "name": "stdout",
     "output_type": "stream",
     "text": [
      "Epoch 1/100\n"
     ]
    },
    {
     "name": "stderr",
     "output_type": "stream",
     "text": [
      "2022-04-21 22:01:34.752526: I tensorflow/core/grappler/optimizers/custom_graph_optimizer_registry.cc:112] Plugin optimizer for device_type GPU is enabled.\n"
     ]
    },
    {
     "name": "stdout",
     "output_type": "stream",
     "text": [
      "593/593 [==============================] - ETA: 0s - loss: 126.6715"
     ]
    },
    {
     "name": "stderr",
     "output_type": "stream",
     "text": [
      "2022-04-21 22:02:14.200902: I tensorflow/core/grappler/optimizers/custom_graph_optimizer_registry.cc:112] Plugin optimizer for device_type GPU is enabled.\n"
     ]
    },
    {
     "name": "stdout",
     "output_type": "stream",
     "text": [
      "593/593 [==============================] - 44s 72ms/step - loss: 126.6715 - val_loss: 58.0658\n",
      "Epoch 2/100\n",
      "593/593 [==============================] - 43s 72ms/step - loss: 45.1896 - val_loss: 47.7474\n",
      "Epoch 3/100\n",
      "593/593 [==============================] - 44s 73ms/step - loss: 38.7807 - val_loss: 44.5961\n",
      "Epoch 4/100\n",
      "593/593 [==============================] - 44s 75ms/step - loss: 35.3090 - val_loss: 40.8648\n",
      "Epoch 5/100\n",
      "593/593 [==============================] - 44s 74ms/step - loss: 33.2393 - val_loss: 40.2002\n",
      "Epoch 6/100\n",
      "593/593 [==============================] - 44s 74ms/step - loss: 32.1865 - val_loss: 39.1298\n",
      "Epoch 7/100\n",
      "593/593 [==============================] - 44s 74ms/step - loss: 30.8318 - val_loss: 37.6003\n",
      "Epoch 8/100\n",
      "593/593 [==============================] - 44s 74ms/step - loss: 29.6641 - val_loss: 37.5004\n",
      "Epoch 9/100\n",
      "593/593 [==============================] - 44s 74ms/step - loss: 28.7562 - val_loss: 36.7315\n",
      "Epoch 10/100\n",
      "593/593 [==============================] - 43s 73ms/step - loss: 28.0643 - val_loss: 36.3625\n",
      "Epoch 11/100\n",
      "593/593 [==============================] - 44s 74ms/step - loss: 27.1349 - val_loss: 35.4756\n",
      "Epoch 12/100\n",
      "593/593 [==============================] - 44s 74ms/step - loss: 26.3663 - val_loss: 35.0740\n",
      "Epoch 13/100\n",
      "593/593 [==============================] - 43s 73ms/step - loss: 25.6854 - val_loss: 34.7260\n",
      "Epoch 14/100\n",
      "593/593 [==============================] - 43s 72ms/step - loss: 24.9724 - val_loss: 34.9702\n",
      "Epoch 15/100\n",
      "593/593 [==============================] - 43s 73ms/step - loss: 24.3371 - val_loss: 34.4303\n",
      "Epoch 16/100\n",
      "593/593 [==============================] - 43s 73ms/step - loss: 24.1212 - val_loss: 35.2379\n",
      "Epoch 17/100\n",
      "593/593 [==============================] - 43s 73ms/step - loss: 23.4748 - val_loss: 35.7595\n",
      "Epoch 18/100\n",
      "593/593 [==============================] - 43s 73ms/step - loss: 23.2004 - val_loss: 40.2365\n",
      "Epoch 19/100\n",
      "593/593 [==============================] - 43s 73ms/step - loss: 22.8682 - val_loss: 37.0390\n",
      "Epoch 20/100\n",
      "593/593 [==============================] - 43s 73ms/step - loss: 22.5687 - val_loss: 39.6202\n"
     ]
    },
    {
     "data": {
      "text/plain": "<keras.callbacks.History at 0x17ffb9b20>"
     },
     "execution_count": 12,
     "metadata": {},
     "output_type": "execute_result"
    }
   ]
  },
  {
   "cell_type": "code",
   "source": [
    "np.save(os.path.join(processed_data, \"compressed_features\"), encoder(dataset).mean())"
   ],
   "metadata": {
    "id": "yb0eE4AX8YsR"
   },
   "execution_count": 13,
   "outputs": []
  },
  {
   "cell_type": "code",
   "source": [
    ""
   ],
   "metadata": {
    "id": "Tg3gvuN8mpzC"
   },
   "execution_count": null,
   "outputs": []
  }
 ]
}