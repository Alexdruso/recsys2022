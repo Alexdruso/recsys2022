{
 "cells": [
  {
   "cell_type": "code",
   "execution_count": 1,
   "id": "5c1a0270",
   "metadata": {
    "execution": {
     "iopub.execute_input": "2022-06-12T16:24:15.126036Z",
     "iopub.status.busy": "2022-06-12T16:24:15.125395Z",
     "iopub.status.idle": "2022-06-12T16:24:15.221069Z",
     "shell.execute_reply": "2022-06-12T16:24:15.220353Z",
     "shell.execute_reply.started": "2022-06-12T16:23:07.708388Z"
    },
    "papermill": {
     "duration": 0.132955,
     "end_time": "2022-06-12T16:24:15.221255",
     "exception": false,
     "start_time": "2022-06-12T16:24:15.088300",
     "status": "completed"
    },
    "tags": []
   },
   "outputs": [],
   "source": [
    "import gc\n",
    "import pandas as pd\n",
    "import scipy.sparse as sps"
   ]
  },
  {
   "cell_type": "code",
   "execution_count": 2,
   "id": "470d9b97",
   "metadata": {
    "execution": {
     "iopub.execute_input": "2022-06-12T16:24:15.277876Z",
     "iopub.status.busy": "2022-06-12T16:24:15.277223Z",
     "iopub.status.idle": "2022-06-12T16:24:15.322106Z",
     "shell.execute_reply": "2022-06-12T16:24:15.321497Z",
     "shell.execute_reply.started": "2022-06-12T16:23:07.789243Z"
    },
    "papermill": {
     "duration": 0.074322,
     "end_time": "2022-06-12T16:24:15.322251",
     "exception": false,
     "start_time": "2022-06-12T16:24:15.247929",
     "status": "completed"
    },
    "tags": []
   },
   "outputs": [],
   "source": [
    "valid=sps.load_npz(\"./dressipi_dataset/URM_valid_bought.npz\")\n",
    "bought=valid.indices"
   ]
  },
  {
   "cell_type": "code",
   "execution_count": 3,
   "id": "c9c1a3f3",
   "metadata": {
    "execution": {
     "iopub.execute_input": "2022-06-12T16:24:15.489222Z",
     "iopub.status.busy": "2022-06-12T16:24:15.383684Z",
     "iopub.status.idle": "2022-06-12T16:26:25.853637Z",
     "shell.execute_reply": "2022-06-12T16:26:25.852233Z"
    },
    "papermill": {
     "duration": 130.504903,
     "end_time": "2022-06-12T16:26:25.853973",
     "exception": false,
     "start_time": "2022-06-12T16:24:15.349070",
     "status": "completed"
    },
    "tags": []
   },
   "outputs": [
    {
     "name": "stdout",
     "output_type": "stream",
     "text": [
      "0\n",
      "loading UCF\n",
      "18588455\n",
      "loaded UCF\n",
      "0\n",
      "loading ICBF\n",
      "16931962\n",
      "loaded ICBF\n",
      "0\n",
      "loading Graph\n",
      "9381483\n",
      "loaded Graph\n",
      "0\n",
      "loading ICF\n",
      "20341641\n",
      "loaded ICF\n",
      "0\n",
      "loading TopPop15\n",
      "8161800\n",
      "loaded TopPop15\n"
     ]
    }
   ],
   "source": [
    "dataset=None\n",
    "dataset_max=None\n",
    "#[\"UCF\",\"ICBF\",\"ICF\",\"Graph\",\"TopPop100\",\"TopPop50\",\"TopPop15\"]\n",
    "for file in [\"UCF\",\"ICBF\",\"Graph\",\"ICF\", \"TopPop15\"]:\n",
    "    print(gc.collect())\n",
    "    print(f\"loading {file}\")\n",
    "    df=pd.read_csv(f\"./dressipi_top100_candidates/{file}.csv\")\n",
    "    print(len(df))\n",
    "    print(f\"loaded {file}\")\n",
    "    for col in df:\n",
    "        if \"Max\" in col:\n",
    "            df_max=df[[\"Session_Id\",col]].drop_duplicates()\n",
    "        elif \"Score\" in col:\n",
    "            df_feats=df[[\"Session_Id\",\"Item_ID\",col]]\n",
    "    if dataset is None:\n",
    "        dataset=df_feats\n",
    "        dataset_max=df_max\n",
    "    else:\n",
    "        dataset=dataset.merge(df_feats,on=[\"Session_Id\",\"Item_ID\"],how=\"outer\")\n",
    "        dataset_max=dataset_max.merge(df_max,on=[\"Session_Id\"],how=\"outer\")\n",
    "    del df\n",
    "        \n",
    "\n",
    "#del dataset_max\n",
    "del df_feats\n",
    "del df_max"
   ]
  },
  {
   "cell_type": "code",
   "execution_count": 4,
   "id": "53c26774",
   "metadata": {
    "execution": {
     "iopub.execute_input": "2022-06-12T16:26:25.918309Z",
     "iopub.status.busy": "2022-06-12T16:26:25.917303Z",
     "iopub.status.idle": "2022-06-12T16:26:29.084006Z",
     "shell.execute_reply": "2022-06-12T16:26:29.084695Z"
    },
    "papermill": {
     "duration": 3.200341,
     "end_time": "2022-06-12T16:26:29.084903",
     "exception": false,
     "start_time": "2022-06-12T16:26:25.884562",
     "status": "completed"
    },
    "tags": []
   },
   "outputs": [],
   "source": [
    "import ast\n",
    "submission_df=pd.read_csv(\"./candidate-nn/last_month_candidates.csv\")"
   ]
  },
  {
   "cell_type": "code",
   "execution_count": 5,
   "id": "35684fdf",
   "metadata": {
    "execution": {
     "iopub.execute_input": "2022-06-12T16:26:29.153783Z",
     "iopub.status.busy": "2022-06-12T16:26:29.147133Z",
     "iopub.status.idle": "2022-06-12T16:27:11.595756Z",
     "shell.execute_reply": "2022-06-12T16:27:11.595165Z"
    },
    "papermill": {
     "duration": 42.481654,
     "end_time": "2022-06-12T16:27:11.595925",
     "exception": false,
     "start_time": "2022-06-12T16:26:29.114271",
     "status": "completed"
    },
    "tags": []
   },
   "outputs": [],
   "source": [
    "submission_df[\"score\"]=submission_df[\"score\"].map(ast.literal_eval)\n",
    "submission_df[\"code\"]=submission_df[\"code\"].map(ast.literal_eval)\n",
    "submission_df[\"rank\"]=submission_df[\"rank\"].map(ast.literal_eval)"
   ]
  },
  {
   "cell_type": "code",
   "execution_count": 6,
   "id": "94e4f6e1",
   "metadata": {
    "execution": {
     "iopub.execute_input": "2022-06-12T16:27:11.666348Z",
     "iopub.status.busy": "2022-06-12T16:27:11.664200Z",
     "iopub.status.idle": "2022-06-12T16:27:13.802388Z",
     "shell.execute_reply": "2022-06-12T16:27:13.802958Z"
    },
    "papermill": {
     "duration": 2.172565,
     "end_time": "2022-06-12T16:27:13.803163",
     "exception": false,
     "start_time": "2022-06-12T16:27:11.630598",
     "status": "completed"
    },
    "tags": []
   },
   "outputs": [],
   "source": [
    "submission_df = submission_df.explode(['code','score', 'rank'])\n"
   ]
  },
  {
   "cell_type": "code",
   "execution_count": 7,
   "id": "e0760e73",
   "metadata": {
    "execution": {
     "iopub.execute_input": "2022-06-12T16:27:13.891427Z",
     "iopub.status.busy": "2022-06-12T16:27:13.869474Z",
     "iopub.status.idle": "2022-06-12T16:27:16.161205Z",
     "shell.execute_reply": "2022-06-12T16:27:16.160549Z"
    },
    "papermill": {
     "duration": 2.327731,
     "end_time": "2022-06-12T16:27:16.161380",
     "exception": false,
     "start_time": "2022-06-12T16:27:13.833649",
     "status": "completed"
    },
    "tags": []
   },
   "outputs": [],
   "source": [
    "submission_df[[\"session_id\",\"code\",\"rank\"]]=submission_df[[\"session_id\",\"code\",\"rank\"]].astype(int)"
   ]
  },
  {
   "cell_type": "code",
   "execution_count": 8,
   "id": "36424e47",
   "metadata": {
    "execution": {
     "iopub.execute_input": "2022-06-12T16:27:16.228196Z",
     "iopub.status.busy": "2022-06-12T16:27:16.225407Z",
     "iopub.status.idle": "2022-06-12T16:27:16.230585Z",
     "shell.execute_reply": "2022-06-12T16:27:16.229953Z"
    },
    "papermill": {
     "duration": 0.038802,
     "end_time": "2022-06-12T16:27:16.230729",
     "exception": false,
     "start_time": "2022-06-12T16:27:16.191927",
     "status": "completed"
    },
    "tags": []
   },
   "outputs": [],
   "source": [
    "submission_df.rename(columns={\"code\":\"Item_ID\",\"session_id\":\"Session_Id\"},inplace=True)"
   ]
  },
  {
   "cell_type": "code",
   "execution_count": 9,
   "id": "a0d3e508",
   "metadata": {
    "execution": {
     "iopub.execute_input": "2022-06-12T16:27:16.295363Z",
     "iopub.status.busy": "2022-06-12T16:27:16.294680Z",
     "iopub.status.idle": "2022-06-12T16:27:16.314773Z",
     "shell.execute_reply": "2022-06-12T16:27:16.315328Z"
    },
    "papermill": {
     "duration": 0.053857,
     "end_time": "2022-06-12T16:27:16.315511",
     "exception": false,
     "start_time": "2022-06-12T16:27:16.261654",
     "status": "completed"
    },
    "tags": []
   },
   "outputs": [
    {
     "data": {
      "text/plain": "   Session_Id  Item_ID     score  rank\n0      918382     3731  0.022378     1\n0      918382     2332  0.017789     2\n0      918382     2785  0.012271     3\n0      918382     1189  0.011465     4\n0      918382     4380  0.010622     5",
      "text/html": "<div>\n<style scoped>\n    .dataframe tbody tr th:only-of-type {\n        vertical-align: middle;\n    }\n\n    .dataframe tbody tr th {\n        vertical-align: top;\n    }\n\n    .dataframe thead th {\n        text-align: right;\n    }\n</style>\n<table border=\"1\" class=\"dataframe\">\n  <thead>\n    <tr style=\"text-align: right;\">\n      <th></th>\n      <th>Session_Id</th>\n      <th>Item_ID</th>\n      <th>score</th>\n      <th>rank</th>\n    </tr>\n  </thead>\n  <tbody>\n    <tr>\n      <th>0</th>\n      <td>918382</td>\n      <td>3731</td>\n      <td>0.022378</td>\n      <td>1</td>\n    </tr>\n    <tr>\n      <th>0</th>\n      <td>918382</td>\n      <td>2332</td>\n      <td>0.017789</td>\n      <td>2</td>\n    </tr>\n    <tr>\n      <th>0</th>\n      <td>918382</td>\n      <td>2785</td>\n      <td>0.012271</td>\n      <td>3</td>\n    </tr>\n    <tr>\n      <th>0</th>\n      <td>918382</td>\n      <td>1189</td>\n      <td>0.011465</td>\n      <td>4</td>\n    </tr>\n    <tr>\n      <th>0</th>\n      <td>918382</td>\n      <td>4380</td>\n      <td>0.010622</td>\n      <td>5</td>\n    </tr>\n  </tbody>\n</table>\n</div>"
     },
     "execution_count": 9,
     "metadata": {},
     "output_type": "execute_result"
    }
   ],
   "source": [
    "submission_df.head()"
   ]
  },
  {
   "cell_type": "code",
   "execution_count": 10,
   "id": "ffadc08c",
   "metadata": {
    "execution": {
     "iopub.execute_input": "2022-06-12T16:27:16.510171Z",
     "iopub.status.busy": "2022-06-12T16:27:16.508397Z",
     "iopub.status.idle": "2022-06-12T16:27:54.707349Z",
     "shell.execute_reply": "2022-06-12T16:27:54.707911Z"
    },
    "papermill": {
     "duration": 38.362042,
     "end_time": "2022-06-12T16:27:54.708107",
     "exception": false,
     "start_time": "2022-06-12T16:27:16.346065",
     "status": "completed"
    },
    "tags": []
   },
   "outputs": [],
   "source": [
    "dataset=dataset.merge(submission_df,on=[\"Session_Id\",\"Item_ID\"],how=\"outer\")\n",
    "dataset=dataset.merge(dataset_max,on=[\"Session_Id\"],how=\"left\")\n"
   ]
  },
  {
   "cell_type": "code",
   "execution_count": 11,
   "id": "95bea9fa",
   "metadata": {
    "execution": {
     "iopub.execute_input": "2022-06-12T16:27:54.776784Z",
     "iopub.status.busy": "2022-06-12T16:27:54.774762Z",
     "iopub.status.idle": "2022-06-12T16:27:54.778970Z",
     "shell.execute_reply": "2022-06-12T16:27:54.779521Z"
    },
    "papermill": {
     "duration": 0.039462,
     "end_time": "2022-06-12T16:27:54.779700",
     "exception": false,
     "start_time": "2022-06-12T16:27:54.740238",
     "status": "completed"
    },
    "tags": []
   },
   "outputs": [],
   "source": [
    "del dataset_max\n",
    "del submission_df"
   ]
  },
  {
   "cell_type": "code",
   "execution_count": 12,
   "id": "0fbf9880",
   "metadata": {
    "execution": {
     "iopub.execute_input": "2022-06-12T16:27:54.846310Z",
     "iopub.status.busy": "2022-06-12T16:27:54.845625Z",
     "iopub.status.idle": "2022-06-12T16:27:56.129687Z",
     "shell.execute_reply": "2022-06-12T16:27:56.130199Z"
    },
    "papermill": {
     "duration": 1.319457,
     "end_time": "2022-06-12T16:27:56.130388",
     "exception": false,
     "start_time": "2022-06-12T16:27:54.810931",
     "status": "completed"
    },
    "tags": []
   },
   "outputs": [],
   "source": [
    "import numpy as np\n",
    "sessions=np.unique(dataset[\"Session_Id\"])\n",
    "train=pd.DataFrame()\n",
    "train[\"Session_Id\"]=sessions\n",
    "train[\"Item_ID\"]=bought\n",
    "train[\"target\"]=1"
   ]
  },
  {
   "cell_type": "code",
   "execution_count": 13,
   "id": "db736a30",
   "metadata": {
    "execution": {
     "iopub.execute_input": "2022-06-12T16:27:56.196748Z",
     "iopub.status.busy": "2022-06-12T16:27:56.196134Z",
     "iopub.status.idle": "2022-06-12T16:27:56.313925Z",
     "shell.execute_reply": "2022-06-12T16:27:56.314425Z"
    },
    "papermill": {
     "duration": 0.1524,
     "end_time": "2022-06-12T16:27:56.314597",
     "exception": false,
     "start_time": "2022-06-12T16:27:56.162197",
     "status": "completed"
    },
    "tags": []
   },
   "outputs": [
    {
     "data": {
      "text/plain": "1001"
     },
     "execution_count": 13,
     "metadata": {},
     "output_type": "execute_result"
    }
   ],
   "source": [
    "gc.collect()"
   ]
  },
  {
   "cell_type": "code",
   "execution_count": 14,
   "id": "000e10f7",
   "metadata": {
    "execution": {
     "iopub.execute_input": "2022-06-12T16:27:56.385916Z",
     "iopub.status.busy": "2022-06-12T16:27:56.382626Z",
     "iopub.status.idle": "2022-06-12T16:28:45.008351Z",
     "shell.execute_reply": "2022-06-12T16:28:45.008950Z"
    },
    "papermill": {
     "duration": 48.662432,
     "end_time": "2022-06-12T16:28:45.009147",
     "exception": false,
     "start_time": "2022-06-12T16:27:56.346715",
     "status": "completed"
    },
    "tags": []
   },
   "outputs": [
    {
     "data": {
      "text/plain": "0"
     },
     "execution_count": 14,
     "metadata": {},
     "output_type": "execute_result"
    }
   ],
   "source": [
    "dataset=dataset.merge(train,on=[\"Session_Id\",\"Item_ID\"],how=\"left\")\n",
    "dataset.fillna(0,inplace=True)\n",
    "gc.collect()"
   ]
  },
  {
   "cell_type": "code",
   "execution_count": 15,
   "id": "ca68bf51",
   "metadata": {
    "execution": {
     "iopub.execute_input": "2022-06-12T16:28:45.081634Z",
     "iopub.status.busy": "2022-06-12T16:28:45.080930Z",
     "iopub.status.idle": "2022-06-12T16:28:48.259615Z",
     "shell.execute_reply": "2022-06-12T16:28:48.259084Z"
    },
    "papermill": {
     "duration": 3.218057,
     "end_time": "2022-06-12T16:28:48.259767",
     "exception": false,
     "start_time": "2022-06-12T16:28:45.041710",
     "status": "completed"
    },
    "tags": []
   },
   "outputs": [
    {
     "data": {
      "text/plain": "0"
     },
     "execution_count": 15,
     "metadata": {},
     "output_type": "execute_result"
    }
   ],
   "source": [
    "#dataset.loc[dataset[\"rank\"]==0,\"rank\"]=101\n",
    "dataset[\"rank\"]=dataset[\"rank\"].astype(\"int16\")\n",
    "dataset[\"target\"]=dataset[\"target\"].astype(\"int8\")\n",
    "gc.collect()"
   ]
  },
  {
   "cell_type": "code",
   "execution_count": 16,
   "id": "c434b395",
   "metadata": {
    "execution": {
     "iopub.execute_input": "2022-06-12T16:28:48.349346Z",
     "iopub.status.busy": "2022-06-12T16:28:48.332793Z",
     "iopub.status.idle": "2022-06-12T16:28:48.352373Z",
     "shell.execute_reply": "2022-06-12T16:28:48.352872Z"
    },
    "papermill": {
     "duration": 0.059918,
     "end_time": "2022-06-12T16:28:48.353051",
     "exception": false,
     "start_time": "2022-06-12T16:28:48.293133",
     "status": "completed"
    },
    "tags": []
   },
   "outputs": [
    {
     "data": {
      "text/plain": "          Session_Id  Item_ID  Score_UCF  Score_ICBF  Score_Graph  Score_ICF  \\\n0             918382       78   0.515642    0.000000     0.377850   0.587459   \n1             918382      178   0.281229    0.000000     0.142546   0.412063   \n2             918382      230   0.127506    0.000000     0.055109   0.022295   \n3             918382      242   0.395681    0.775898     0.273503   0.514097   \n4             918382      292   0.200113    0.601746     0.105606   0.458708   \n...              ...      ...        ...         ...          ...        ...   \n43227290      999999     2587   0.000000    0.000000     0.000000   0.000000   \n43227291      999999      302   0.000000    0.000000     0.000000   0.000000   \n43227292      999999      434   0.000000    0.000000     0.000000   0.000000   \n43227293      999999     3077   0.000000    0.000000     0.000000   0.000000   \n43227294      999999     4031   0.000000    0.000000     0.000000   0.000000   \n\n          Score_TopPop15     score  rank  Max_Score_UCF  Max_Score_ICBF  \\\n0               0.000000  0.001514    42      60.744503        3.067216   \n1               0.145596  0.000000     0      60.744503        3.067216   \n2               0.000000  0.000000     0      60.744503        3.067216   \n3               0.175604  0.002653    26      60.744503        3.067216   \n4               0.132815  0.000000     0      60.744503        3.067216   \n...                  ...       ...   ...            ...             ...   \n43227290        0.000000  0.000427    90     111.366875        9.421845   \n43227291        0.000000  0.000415    94     111.366875        9.421845   \n43227292        0.000000  0.000411    95     111.366875        9.421845   \n43227293        0.000000  0.000407    96     111.366875        9.421845   \n43227294        0.000000  0.000405    97     111.366875        9.421845   \n\n          Max_Score_Graph  Max_Score_ICF  Max_Score_TopPop15  target  \n0                1.982604       0.395666              3599.0       0  \n1                1.982604       0.395666              3599.0       0  \n2                1.982604       0.395666              3599.0       0  \n3                1.982604       0.395666              3599.0       0  \n4                1.982604       0.395666              3599.0       0  \n...                   ...            ...                 ...     ...  \n43227290        12.826448       0.786831              3599.0       0  \n43227291        12.826448       0.786831              3599.0       0  \n43227292        12.826448       0.786831              3599.0       0  \n43227293        12.826448       0.786831              3599.0       0  \n43227294        12.826448       0.786831              3599.0       0  \n\n[43227295 rows x 15 columns]",
      "text/html": "<div>\n<style scoped>\n    .dataframe tbody tr th:only-of-type {\n        vertical-align: middle;\n    }\n\n    .dataframe tbody tr th {\n        vertical-align: top;\n    }\n\n    .dataframe thead th {\n        text-align: right;\n    }\n</style>\n<table border=\"1\" class=\"dataframe\">\n  <thead>\n    <tr style=\"text-align: right;\">\n      <th></th>\n      <th>Session_Id</th>\n      <th>Item_ID</th>\n      <th>Score_UCF</th>\n      <th>Score_ICBF</th>\n      <th>Score_Graph</th>\n      <th>Score_ICF</th>\n      <th>Score_TopPop15</th>\n      <th>score</th>\n      <th>rank</th>\n      <th>Max_Score_UCF</th>\n      <th>Max_Score_ICBF</th>\n      <th>Max_Score_Graph</th>\n      <th>Max_Score_ICF</th>\n      <th>Max_Score_TopPop15</th>\n      <th>target</th>\n    </tr>\n  </thead>\n  <tbody>\n    <tr>\n      <th>0</th>\n      <td>918382</td>\n      <td>78</td>\n      <td>0.515642</td>\n      <td>0.000000</td>\n      <td>0.377850</td>\n      <td>0.587459</td>\n      <td>0.000000</td>\n      <td>0.001514</td>\n      <td>42</td>\n      <td>60.744503</td>\n      <td>3.067216</td>\n      <td>1.982604</td>\n      <td>0.395666</td>\n      <td>3599.0</td>\n      <td>0</td>\n    </tr>\n    <tr>\n      <th>1</th>\n      <td>918382</td>\n      <td>178</td>\n      <td>0.281229</td>\n      <td>0.000000</td>\n      <td>0.142546</td>\n      <td>0.412063</td>\n      <td>0.145596</td>\n      <td>0.000000</td>\n      <td>0</td>\n      <td>60.744503</td>\n      <td>3.067216</td>\n      <td>1.982604</td>\n      <td>0.395666</td>\n      <td>3599.0</td>\n      <td>0</td>\n    </tr>\n    <tr>\n      <th>2</th>\n      <td>918382</td>\n      <td>230</td>\n      <td>0.127506</td>\n      <td>0.000000</td>\n      <td>0.055109</td>\n      <td>0.022295</td>\n      <td>0.000000</td>\n      <td>0.000000</td>\n      <td>0</td>\n      <td>60.744503</td>\n      <td>3.067216</td>\n      <td>1.982604</td>\n      <td>0.395666</td>\n      <td>3599.0</td>\n      <td>0</td>\n    </tr>\n    <tr>\n      <th>3</th>\n      <td>918382</td>\n      <td>242</td>\n      <td>0.395681</td>\n      <td>0.775898</td>\n      <td>0.273503</td>\n      <td>0.514097</td>\n      <td>0.175604</td>\n      <td>0.002653</td>\n      <td>26</td>\n      <td>60.744503</td>\n      <td>3.067216</td>\n      <td>1.982604</td>\n      <td>0.395666</td>\n      <td>3599.0</td>\n      <td>0</td>\n    </tr>\n    <tr>\n      <th>4</th>\n      <td>918382</td>\n      <td>292</td>\n      <td>0.200113</td>\n      <td>0.601746</td>\n      <td>0.105606</td>\n      <td>0.458708</td>\n      <td>0.132815</td>\n      <td>0.000000</td>\n      <td>0</td>\n      <td>60.744503</td>\n      <td>3.067216</td>\n      <td>1.982604</td>\n      <td>0.395666</td>\n      <td>3599.0</td>\n      <td>0</td>\n    </tr>\n    <tr>\n      <th>...</th>\n      <td>...</td>\n      <td>...</td>\n      <td>...</td>\n      <td>...</td>\n      <td>...</td>\n      <td>...</td>\n      <td>...</td>\n      <td>...</td>\n      <td>...</td>\n      <td>...</td>\n      <td>...</td>\n      <td>...</td>\n      <td>...</td>\n      <td>...</td>\n      <td>...</td>\n    </tr>\n    <tr>\n      <th>43227290</th>\n      <td>999999</td>\n      <td>2587</td>\n      <td>0.000000</td>\n      <td>0.000000</td>\n      <td>0.000000</td>\n      <td>0.000000</td>\n      <td>0.000000</td>\n      <td>0.000427</td>\n      <td>90</td>\n      <td>111.366875</td>\n      <td>9.421845</td>\n      <td>12.826448</td>\n      <td>0.786831</td>\n      <td>3599.0</td>\n      <td>0</td>\n    </tr>\n    <tr>\n      <th>43227291</th>\n      <td>999999</td>\n      <td>302</td>\n      <td>0.000000</td>\n      <td>0.000000</td>\n      <td>0.000000</td>\n      <td>0.000000</td>\n      <td>0.000000</td>\n      <td>0.000415</td>\n      <td>94</td>\n      <td>111.366875</td>\n      <td>9.421845</td>\n      <td>12.826448</td>\n      <td>0.786831</td>\n      <td>3599.0</td>\n      <td>0</td>\n    </tr>\n    <tr>\n      <th>43227292</th>\n      <td>999999</td>\n      <td>434</td>\n      <td>0.000000</td>\n      <td>0.000000</td>\n      <td>0.000000</td>\n      <td>0.000000</td>\n      <td>0.000000</td>\n      <td>0.000411</td>\n      <td>95</td>\n      <td>111.366875</td>\n      <td>9.421845</td>\n      <td>12.826448</td>\n      <td>0.786831</td>\n      <td>3599.0</td>\n      <td>0</td>\n    </tr>\n    <tr>\n      <th>43227293</th>\n      <td>999999</td>\n      <td>3077</td>\n      <td>0.000000</td>\n      <td>0.000000</td>\n      <td>0.000000</td>\n      <td>0.000000</td>\n      <td>0.000000</td>\n      <td>0.000407</td>\n      <td>96</td>\n      <td>111.366875</td>\n      <td>9.421845</td>\n      <td>12.826448</td>\n      <td>0.786831</td>\n      <td>3599.0</td>\n      <td>0</td>\n    </tr>\n    <tr>\n      <th>43227294</th>\n      <td>999999</td>\n      <td>4031</td>\n      <td>0.000000</td>\n      <td>0.000000</td>\n      <td>0.000000</td>\n      <td>0.000000</td>\n      <td>0.000000</td>\n      <td>0.000405</td>\n      <td>97</td>\n      <td>111.366875</td>\n      <td>9.421845</td>\n      <td>12.826448</td>\n      <td>0.786831</td>\n      <td>3599.0</td>\n      <td>0</td>\n    </tr>\n  </tbody>\n</table>\n<p>43227295 rows × 15 columns</p>\n</div>"
     },
     "execution_count": 16,
     "metadata": {},
     "output_type": "execute_result"
    }
   ],
   "source": [
    "dataset"
   ]
  },
  {
   "cell_type": "code",
   "execution_count": 17,
   "id": "ba65635a",
   "metadata": {
    "execution": {
     "iopub.execute_input": "2022-06-12T16:28:48.423965Z",
     "iopub.status.busy": "2022-06-12T16:28:48.423291Z",
     "iopub.status.idle": "2022-06-12T16:28:55.420590Z",
     "shell.execute_reply": "2022-06-12T16:28:55.419963Z"
    },
    "papermill": {
     "duration": 7.033981,
     "end_time": "2022-06-12T16:28:55.420748",
     "exception": false,
     "start_time": "2022-06-12T16:28:48.386767",
     "status": "completed"
    },
    "tags": []
   },
   "outputs": [],
   "source": [
    "sessions_containing_bought_among_candidates=dataset[[\"Session_Id\",\"target\"]].groupby(\"Session_Id\").agg(sum).reset_index()\n",
    "sessions_containing_bought_among_candidates=sessions_containing_bought_among_candidates.loc[sessions_containing_bought_among_candidates[\"target\"]>0]\n",
    "\n",
    "dataset=dataset[dataset['Session_Id'].isin(sessions_containing_bought_among_candidates[\"Session_Id\"].tolist())]"
   ]
  },
  {
   "cell_type": "code",
   "execution_count": 18,
   "id": "bc5c79cb",
   "metadata": {
    "execution": {
     "iopub.execute_input": "2022-06-12T16:28:55.501716Z",
     "iopub.status.busy": "2022-06-12T16:28:55.501043Z",
     "iopub.status.idle": "2022-06-12T16:28:55.518413Z",
     "shell.execute_reply": "2022-06-12T16:28:55.518965Z"
    },
    "papermill": {
     "duration": 0.062744,
     "end_time": "2022-06-12T16:28:55.519150",
     "exception": false,
     "start_time": "2022-06-12T16:28:55.456406",
     "status": "completed"
    },
    "tags": []
   },
   "outputs": [
    {
     "data": {
      "text/plain": "     Session_Id  Item_ID  Score_UCF  Score_ICBF  Score_Graph  Score_ICF  \\\n209      918383       55   0.054177    0.632362     0.005355   0.018442   \n210      918383      122   0.025767    0.000000     0.000000   0.000000   \n211      918383      189   0.129413    0.000000     0.020602   0.278846   \n212      918383      215   0.036236    0.000000     0.000000   0.000000   \n213      918383      260   0.039900    0.000000     0.003595   0.012055   \n214      918383      320   0.040230    0.000000     0.000000   0.000000   \n215      918383      357   0.040280    0.000000     0.003286   0.012149   \n216      918383      379   0.046153    0.637329     0.004070   0.016121   \n217      918383      421   0.064009    0.604249     0.013832   0.319644   \n218      918383      506   0.032975    0.493767     0.003990   0.017444   \n219      918383      548   0.230510    0.372456     0.044912   0.513687   \n220      918383      554   0.029226    0.000000     0.000000   0.000000   \n221      918383      609   0.052033    0.000000     0.004670   0.012957   \n222      918383      676   0.090545    0.000000     0.019931   0.330578   \n223      918383      786   0.261841    0.243509     0.064066   0.431985   \n224      918383      815   0.083969    0.041857     0.010714   0.174255   \n225      918383      851   0.138455    0.398915     0.021227   0.308970   \n226      918383      933   0.079789    0.484507     0.008408   0.029548   \n227      918383      943   0.030199    0.627671     0.000000   0.014695   \n228      918383      965   0.033015    0.000000     0.000000   0.000000   \n\n     Score_TopPop15     score  rank  Max_Score_UCF  Max_Score_ICBF  \\\n209        0.000000  0.000000     0      594.02826        7.204127   \n210        0.000000  0.000390    90      594.02826        7.204127   \n211        0.334537  0.001349    28      594.02826        7.204127   \n212        0.126980  0.000000     0      594.02826        7.204127   \n213        0.000000  0.000000     0      594.02826        7.204127   \n214        0.150597  0.001628    22      594.02826        7.204127   \n215        0.000000  0.000000     0      594.02826        7.204127   \n216        0.000000  0.000387    92      594.02826        7.204127   \n217        0.000000  0.000000     0      594.02826        7.204127   \n218        0.000000  0.000000     0      594.02826        7.204127   \n219        0.137816  0.000538    67      594.02826        7.204127   \n220        0.359544  0.000000     0      594.02826        7.204127   \n221        0.000000  0.000000     0      594.02826        7.204127   \n222        0.000000  0.000419    83      594.02826        7.204127   \n223        0.258961  0.012669     4      594.02826        7.204127   \n224        0.000000  0.001325    29      594.02826        7.204127   \n225        0.000000  0.001202    32      594.02826        7.204127   \n226        0.000000  0.000000     0      594.02826        7.204127   \n227        0.000000  0.000000     0      594.02826        7.204127   \n228        0.000000  0.000000     0      594.02826        7.204127   \n\n     Max_Score_Graph  Max_Score_ICF  Max_Score_TopPop15  target  \n209         91.79825       1.092114              3599.0       0  \n210         91.79825       1.092114              3599.0       0  \n211         91.79825       1.092114              3599.0       0  \n212         91.79825       1.092114              3599.0       0  \n213         91.79825       1.092114              3599.0       0  \n214         91.79825       1.092114              3599.0       0  \n215         91.79825       1.092114              3599.0       0  \n216         91.79825       1.092114              3599.0       0  \n217         91.79825       1.092114              3599.0       0  \n218         91.79825       1.092114              3599.0       0  \n219         91.79825       1.092114              3599.0       0  \n220         91.79825       1.092114              3599.0       0  \n221         91.79825       1.092114              3599.0       0  \n222         91.79825       1.092114              3599.0       0  \n223         91.79825       1.092114              3599.0       0  \n224         91.79825       1.092114              3599.0       0  \n225         91.79825       1.092114              3599.0       0  \n226         91.79825       1.092114              3599.0       0  \n227         91.79825       1.092114              3599.0       0  \n228         91.79825       1.092114              3599.0       0  ",
      "text/html": "<div>\n<style scoped>\n    .dataframe tbody tr th:only-of-type {\n        vertical-align: middle;\n    }\n\n    .dataframe tbody tr th {\n        vertical-align: top;\n    }\n\n    .dataframe thead th {\n        text-align: right;\n    }\n</style>\n<table border=\"1\" class=\"dataframe\">\n  <thead>\n    <tr style=\"text-align: right;\">\n      <th></th>\n      <th>Session_Id</th>\n      <th>Item_ID</th>\n      <th>Score_UCF</th>\n      <th>Score_ICBF</th>\n      <th>Score_Graph</th>\n      <th>Score_ICF</th>\n      <th>Score_TopPop15</th>\n      <th>score</th>\n      <th>rank</th>\n      <th>Max_Score_UCF</th>\n      <th>Max_Score_ICBF</th>\n      <th>Max_Score_Graph</th>\n      <th>Max_Score_ICF</th>\n      <th>Max_Score_TopPop15</th>\n      <th>target</th>\n    </tr>\n  </thead>\n  <tbody>\n    <tr>\n      <th>209</th>\n      <td>918383</td>\n      <td>55</td>\n      <td>0.054177</td>\n      <td>0.632362</td>\n      <td>0.005355</td>\n      <td>0.018442</td>\n      <td>0.000000</td>\n      <td>0.000000</td>\n      <td>0</td>\n      <td>594.02826</td>\n      <td>7.204127</td>\n      <td>91.79825</td>\n      <td>1.092114</td>\n      <td>3599.0</td>\n      <td>0</td>\n    </tr>\n    <tr>\n      <th>210</th>\n      <td>918383</td>\n      <td>122</td>\n      <td>0.025767</td>\n      <td>0.000000</td>\n      <td>0.000000</td>\n      <td>0.000000</td>\n      <td>0.000000</td>\n      <td>0.000390</td>\n      <td>90</td>\n      <td>594.02826</td>\n      <td>7.204127</td>\n      <td>91.79825</td>\n      <td>1.092114</td>\n      <td>3599.0</td>\n      <td>0</td>\n    </tr>\n    <tr>\n      <th>211</th>\n      <td>918383</td>\n      <td>189</td>\n      <td>0.129413</td>\n      <td>0.000000</td>\n      <td>0.020602</td>\n      <td>0.278846</td>\n      <td>0.334537</td>\n      <td>0.001349</td>\n      <td>28</td>\n      <td>594.02826</td>\n      <td>7.204127</td>\n      <td>91.79825</td>\n      <td>1.092114</td>\n      <td>3599.0</td>\n      <td>0</td>\n    </tr>\n    <tr>\n      <th>212</th>\n      <td>918383</td>\n      <td>215</td>\n      <td>0.036236</td>\n      <td>0.000000</td>\n      <td>0.000000</td>\n      <td>0.000000</td>\n      <td>0.126980</td>\n      <td>0.000000</td>\n      <td>0</td>\n      <td>594.02826</td>\n      <td>7.204127</td>\n      <td>91.79825</td>\n      <td>1.092114</td>\n      <td>3599.0</td>\n      <td>0</td>\n    </tr>\n    <tr>\n      <th>213</th>\n      <td>918383</td>\n      <td>260</td>\n      <td>0.039900</td>\n      <td>0.000000</td>\n      <td>0.003595</td>\n      <td>0.012055</td>\n      <td>0.000000</td>\n      <td>0.000000</td>\n      <td>0</td>\n      <td>594.02826</td>\n      <td>7.204127</td>\n      <td>91.79825</td>\n      <td>1.092114</td>\n      <td>3599.0</td>\n      <td>0</td>\n    </tr>\n    <tr>\n      <th>214</th>\n      <td>918383</td>\n      <td>320</td>\n      <td>0.040230</td>\n      <td>0.000000</td>\n      <td>0.000000</td>\n      <td>0.000000</td>\n      <td>0.150597</td>\n      <td>0.001628</td>\n      <td>22</td>\n      <td>594.02826</td>\n      <td>7.204127</td>\n      <td>91.79825</td>\n      <td>1.092114</td>\n      <td>3599.0</td>\n      <td>0</td>\n    </tr>\n    <tr>\n      <th>215</th>\n      <td>918383</td>\n      <td>357</td>\n      <td>0.040280</td>\n      <td>0.000000</td>\n      <td>0.003286</td>\n      <td>0.012149</td>\n      <td>0.000000</td>\n      <td>0.000000</td>\n      <td>0</td>\n      <td>594.02826</td>\n      <td>7.204127</td>\n      <td>91.79825</td>\n      <td>1.092114</td>\n      <td>3599.0</td>\n      <td>0</td>\n    </tr>\n    <tr>\n      <th>216</th>\n      <td>918383</td>\n      <td>379</td>\n      <td>0.046153</td>\n      <td>0.637329</td>\n      <td>0.004070</td>\n      <td>0.016121</td>\n      <td>0.000000</td>\n      <td>0.000387</td>\n      <td>92</td>\n      <td>594.02826</td>\n      <td>7.204127</td>\n      <td>91.79825</td>\n      <td>1.092114</td>\n      <td>3599.0</td>\n      <td>0</td>\n    </tr>\n    <tr>\n      <th>217</th>\n      <td>918383</td>\n      <td>421</td>\n      <td>0.064009</td>\n      <td>0.604249</td>\n      <td>0.013832</td>\n      <td>0.319644</td>\n      <td>0.000000</td>\n      <td>0.000000</td>\n      <td>0</td>\n      <td>594.02826</td>\n      <td>7.204127</td>\n      <td>91.79825</td>\n      <td>1.092114</td>\n      <td>3599.0</td>\n      <td>0</td>\n    </tr>\n    <tr>\n      <th>218</th>\n      <td>918383</td>\n      <td>506</td>\n      <td>0.032975</td>\n      <td>0.493767</td>\n      <td>0.003990</td>\n      <td>0.017444</td>\n      <td>0.000000</td>\n      <td>0.000000</td>\n      <td>0</td>\n      <td>594.02826</td>\n      <td>7.204127</td>\n      <td>91.79825</td>\n      <td>1.092114</td>\n      <td>3599.0</td>\n      <td>0</td>\n    </tr>\n    <tr>\n      <th>219</th>\n      <td>918383</td>\n      <td>548</td>\n      <td>0.230510</td>\n      <td>0.372456</td>\n      <td>0.044912</td>\n      <td>0.513687</td>\n      <td>0.137816</td>\n      <td>0.000538</td>\n      <td>67</td>\n      <td>594.02826</td>\n      <td>7.204127</td>\n      <td>91.79825</td>\n      <td>1.092114</td>\n      <td>3599.0</td>\n      <td>0</td>\n    </tr>\n    <tr>\n      <th>220</th>\n      <td>918383</td>\n      <td>554</td>\n      <td>0.029226</td>\n      <td>0.000000</td>\n      <td>0.000000</td>\n      <td>0.000000</td>\n      <td>0.359544</td>\n      <td>0.000000</td>\n      <td>0</td>\n      <td>594.02826</td>\n      <td>7.204127</td>\n      <td>91.79825</td>\n      <td>1.092114</td>\n      <td>3599.0</td>\n      <td>0</td>\n    </tr>\n    <tr>\n      <th>221</th>\n      <td>918383</td>\n      <td>609</td>\n      <td>0.052033</td>\n      <td>0.000000</td>\n      <td>0.004670</td>\n      <td>0.012957</td>\n      <td>0.000000</td>\n      <td>0.000000</td>\n      <td>0</td>\n      <td>594.02826</td>\n      <td>7.204127</td>\n      <td>91.79825</td>\n      <td>1.092114</td>\n      <td>3599.0</td>\n      <td>0</td>\n    </tr>\n    <tr>\n      <th>222</th>\n      <td>918383</td>\n      <td>676</td>\n      <td>0.090545</td>\n      <td>0.000000</td>\n      <td>0.019931</td>\n      <td>0.330578</td>\n      <td>0.000000</td>\n      <td>0.000419</td>\n      <td>83</td>\n      <td>594.02826</td>\n      <td>7.204127</td>\n      <td>91.79825</td>\n      <td>1.092114</td>\n      <td>3599.0</td>\n      <td>0</td>\n    </tr>\n    <tr>\n      <th>223</th>\n      <td>918383</td>\n      <td>786</td>\n      <td>0.261841</td>\n      <td>0.243509</td>\n      <td>0.064066</td>\n      <td>0.431985</td>\n      <td>0.258961</td>\n      <td>0.012669</td>\n      <td>4</td>\n      <td>594.02826</td>\n      <td>7.204127</td>\n      <td>91.79825</td>\n      <td>1.092114</td>\n      <td>3599.0</td>\n      <td>0</td>\n    </tr>\n    <tr>\n      <th>224</th>\n      <td>918383</td>\n      <td>815</td>\n      <td>0.083969</td>\n      <td>0.041857</td>\n      <td>0.010714</td>\n      <td>0.174255</td>\n      <td>0.000000</td>\n      <td>0.001325</td>\n      <td>29</td>\n      <td>594.02826</td>\n      <td>7.204127</td>\n      <td>91.79825</td>\n      <td>1.092114</td>\n      <td>3599.0</td>\n      <td>0</td>\n    </tr>\n    <tr>\n      <th>225</th>\n      <td>918383</td>\n      <td>851</td>\n      <td>0.138455</td>\n      <td>0.398915</td>\n      <td>0.021227</td>\n      <td>0.308970</td>\n      <td>0.000000</td>\n      <td>0.001202</td>\n      <td>32</td>\n      <td>594.02826</td>\n      <td>7.204127</td>\n      <td>91.79825</td>\n      <td>1.092114</td>\n      <td>3599.0</td>\n      <td>0</td>\n    </tr>\n    <tr>\n      <th>226</th>\n      <td>918383</td>\n      <td>933</td>\n      <td>0.079789</td>\n      <td>0.484507</td>\n      <td>0.008408</td>\n      <td>0.029548</td>\n      <td>0.000000</td>\n      <td>0.000000</td>\n      <td>0</td>\n      <td>594.02826</td>\n      <td>7.204127</td>\n      <td>91.79825</td>\n      <td>1.092114</td>\n      <td>3599.0</td>\n      <td>0</td>\n    </tr>\n    <tr>\n      <th>227</th>\n      <td>918383</td>\n      <td>943</td>\n      <td>0.030199</td>\n      <td>0.627671</td>\n      <td>0.000000</td>\n      <td>0.014695</td>\n      <td>0.000000</td>\n      <td>0.000000</td>\n      <td>0</td>\n      <td>594.02826</td>\n      <td>7.204127</td>\n      <td>91.79825</td>\n      <td>1.092114</td>\n      <td>3599.0</td>\n      <td>0</td>\n    </tr>\n    <tr>\n      <th>228</th>\n      <td>918383</td>\n      <td>965</td>\n      <td>0.033015</td>\n      <td>0.000000</td>\n      <td>0.000000</td>\n      <td>0.000000</td>\n      <td>0.000000</td>\n      <td>0.000000</td>\n      <td>0</td>\n      <td>594.02826</td>\n      <td>7.204127</td>\n      <td>91.79825</td>\n      <td>1.092114</td>\n      <td>3599.0</td>\n      <td>0</td>\n    </tr>\n  </tbody>\n</table>\n</div>"
     },
     "execution_count": 18,
     "metadata": {},
     "output_type": "execute_result"
    }
   ],
   "source": [
    "dataset.head(20)"
   ]
  },
  {
   "cell_type": "code",
   "execution_count": 19,
   "outputs": [],
   "source": [
    "# dataset_macro_features = pd.read_csv('./macro-feats/train_with_macro_feats.csv',\n",
    "#                                      usecols=['session_id',\n",
    "#                                                 'session_similarity',\n",
    "#                                                 'session_similarity_uniques', 'session_similarity_feats', 'session_similarity_feats_uniques',\n",
    "#                                               'length_of_session_seconds',\n",
    "#                    'avg_time_spent_per_item_seconds',\n",
    "#                    'variance_time_spent_per_item_seconds',\n",
    "#                    'n_seen_items',\n",
    "#                    'n_unique_items',])\n",
    "#\n",
    "# dataset_macro_features.rename(columns={'session_id':'Session_Id'}, inplace=True)"
   ],
   "metadata": {
    "collapsed": false,
    "pycharm": {
     "name": "#%%\n"
    }
   }
  },
  {
   "cell_type": "code",
   "execution_count": 20,
   "outputs": [],
   "source": [
    "# dataset = dataset.merge(dataset_macro_features, on='Session_Id', how='left')"
   ],
   "metadata": {
    "collapsed": false,
    "pycharm": {
     "name": "#%%\n"
    }
   }
  },
  {
   "cell_type": "code",
   "execution_count": 21,
   "outputs": [
    {
     "name": "stderr",
     "output_type": "stream",
     "text": [
      "/var/folders/j4/lrzvgqtj3bz3ynm2xlxsxtc00000gn/T/ipykernel_18861/3542618527.py:1: SettingWithCopyWarning: \n",
      "A value is trying to be set on a copy of a slice from a DataFrame\n",
      "\n",
      "See the caveats in the documentation: https://pandas.pydata.org/pandas-docs/stable/user_guide/indexing.html#returning-a-view-versus-a-copy\n",
      "  dataset.drop('Max_Score_TopPop15', axis=1, inplace=True)\n"
     ]
    }
   ],
   "source": [
    "dataset.drop('Max_Score_TopPop15', axis=1, inplace=True)"
   ],
   "metadata": {
    "collapsed": false,
    "pycharm": {
     "name": "#%%\n"
    }
   }
  },
  {
   "cell_type": "code",
   "execution_count": 22,
   "id": "75da40bf",
   "metadata": {
    "execution": {
     "iopub.execute_input": "2022-06-12T16:28:55.593307Z",
     "iopub.status.busy": "2022-06-12T16:28:55.592622Z",
     "iopub.status.idle": "2022-06-12T16:28:56.693759Z",
     "shell.execute_reply": "2022-06-12T16:28:56.694495Z"
    },
    "papermill": {
     "duration": 1.140311,
     "end_time": "2022-06-12T16:28:56.694676",
     "exception": false,
     "start_time": "2022-06-12T16:28:55.554365",
     "status": "completed"
    },
    "tags": []
   },
   "outputs": [
    {
     "data": {
      "text/plain": "0"
     },
     "execution_count": 22,
     "metadata": {},
     "output_type": "execute_result"
    }
   ],
   "source": [
    "from sklearn.model_selection import train_test_split\n",
    "train,valid=train_test_split(train,test_size=0.2, random_state=1234)\n",
    "gc.collect()\n"
   ]
  },
  {
   "cell_type": "code",
   "execution_count": 23,
   "id": "ea694667",
   "metadata": {
    "execution": {
     "iopub.execute_input": "2022-06-12T16:28:56.770257Z",
     "iopub.status.busy": "2022-06-12T16:28:56.769558Z",
     "iopub.status.idle": "2022-06-12T16:28:56.780834Z",
     "shell.execute_reply": "2022-06-12T16:28:56.781391Z"
    },
    "papermill": {
     "duration": 0.050763,
     "end_time": "2022-06-12T16:28:56.781566",
     "exception": false,
     "start_time": "2022-06-12T16:28:56.730803",
     "status": "completed"
    },
    "tags": []
   },
   "outputs": [],
   "source": [
    "train_sessions=train[\"Session_Id\"].tolist()\n",
    "valid_sessions=valid[\"Session_Id\"].tolist()"
   ]
  },
  {
   "cell_type": "code",
   "execution_count": 24,
   "id": "9104e169",
   "metadata": {
    "execution": {
     "iopub.execute_input": "2022-06-12T16:28:56.862203Z",
     "iopub.status.busy": "2022-06-12T16:28:56.861511Z",
     "iopub.status.idle": "2022-06-12T16:28:59.672793Z",
     "shell.execute_reply": "2022-06-12T16:28:59.672271Z"
    },
    "papermill": {
     "duration": 2.852201,
     "end_time": "2022-06-12T16:28:59.672982",
     "exception": false,
     "start_time": "2022-06-12T16:28:56.820781",
     "status": "completed"
    },
    "tags": []
   },
   "outputs": [
    {
     "data": {
      "text/plain": "0"
     },
     "execution_count": 24,
     "metadata": {},
     "output_type": "execute_result"
    }
   ],
   "source": [
    "train=dataset[dataset[\"Session_Id\"].isin(train_sessions)]\n",
    "gc.collect()\n",
    "valid=dataset[dataset[\"Session_Id\"].isin(valid_sessions)]\n",
    "gc.collect()"
   ]
  },
  {
   "cell_type": "code",
   "execution_count": 25,
   "id": "5c169a19",
   "metadata": {
    "execution": {
     "iopub.execute_input": "2022-06-12T16:28:59.752068Z",
     "iopub.status.busy": "2022-06-12T16:28:59.751110Z",
     "iopub.status.idle": "2022-06-12T16:29:05.034118Z",
     "shell.execute_reply": "2022-06-12T16:29:05.034630Z"
    },
    "papermill": {
     "duration": 5.325393,
     "end_time": "2022-06-12T16:29:05.034826",
     "exception": false,
     "start_time": "2022-06-12T16:28:59.709433",
     "status": "completed"
    },
    "tags": []
   },
   "outputs": [
    {
     "data": {
      "text/plain": "0"
     },
     "execution_count": 25,
     "metadata": {},
     "output_type": "execute_result"
    }
   ],
   "source": [
    "train=train.sort_values(\"Session_Id\")\n",
    "gc.collect()\n",
    "valid=valid.sort_values(\"Session_Id\")\n",
    "gc.collect()"
   ]
  },
  {
   "cell_type": "code",
   "execution_count": 26,
   "id": "1ab7ba82",
   "metadata": {
    "execution": {
     "iopub.execute_input": "2022-06-12T16:29:05.116683Z",
     "iopub.status.busy": "2022-06-12T16:29:05.115661Z",
     "iopub.status.idle": "2022-06-12T16:29:06.211519Z",
     "shell.execute_reply": "2022-06-12T16:29:06.212326Z"
    },
    "papermill": {
     "duration": 1.138184,
     "end_time": "2022-06-12T16:29:06.212524",
     "exception": false,
     "start_time": "2022-06-12T16:29:05.074340",
     "status": "completed"
    },
    "tags": []
   },
   "outputs": [
    {
     "name": "stdout",
     "output_type": "stream",
     "text": [
      "61160.0\n"
     ]
    },
    {
     "data": {
      "text/plain": "0"
     },
     "execution_count": 26,
     "metadata": {},
     "output_type": "execute_result"
    }
   ],
   "source": [
    "qids_train = train[[\"Session_Id\"]].groupby(\"Session_Id\")[\"Session_Id\"].count().to_numpy()\n",
    "print(len(qids_train)/0.8)\n",
    "gc.collect()\n",
    "qids_valid = valid[[\"Session_Id\"]].groupby(\"Session_Id\")[\"Session_Id\"].count().to_numpy()\n",
    "gc.collect()"
   ]
  },
  {
   "cell_type": "code",
   "execution_count": 27,
   "id": "b92d8c18",
   "metadata": {
    "execution": {
     "iopub.execute_input": "2022-06-12T16:29:07.650007Z",
     "iopub.status.busy": "2022-06-12T16:29:07.648451Z",
     "iopub.status.idle": "2022-06-12T16:29:07.653819Z",
     "shell.execute_reply": "2022-06-12T16:29:07.653102Z"
    },
    "papermill": {
     "duration": 1.401023,
     "end_time": "2022-06-12T16:29:07.653968",
     "exception": false,
     "start_time": "2022-06-12T16:29:06.252945",
     "status": "completed"
    },
    "tags": []
   },
   "outputs": [],
   "source": [
    "X_train=train.drop([\"target\",\"Session_Id\",\"Item_ID\"],axis=1)\n",
    "gc.collect()\n",
    "y_train=train[\"target\"]\n",
    "gc.collect()\n",
    "X_valid=valid.drop([\"target\",\"Session_Id\",\"Item_ID\"],axis=1)\n",
    "gc.collect()\n",
    "y_valid=valid[\"target\"]"
   ]
  },
  {
   "cell_type": "code",
   "execution_count": 28,
   "id": "568a8232",
   "metadata": {
    "execution": {
     "iopub.execute_input": "2022-06-12T16:29:07.854983Z",
     "iopub.status.busy": "2022-06-12T16:29:07.853912Z",
     "iopub.status.idle": "2022-06-12T16:29:07.858161Z",
     "shell.execute_reply": "2022-06-12T16:29:07.857607Z"
    },
    "papermill": {
     "duration": 0.164958,
     "end_time": "2022-06-12T16:29:07.858311",
     "exception": false,
     "start_time": "2022-06-12T16:29:07.693353",
     "status": "completed"
    },
    "tags": []
   },
   "outputs": [
    {
     "data": {
      "text/plain": "0"
     },
     "execution_count": 28,
     "metadata": {},
     "output_type": "execute_result"
    }
   ],
   "source": [
    "gc.collect()"
   ]
  },
  {
   "cell_type": "code",
   "execution_count": 29,
   "id": "326f994f",
   "metadata": {
    "execution": {
     "iopub.execute_input": "2022-06-12T16:29:07.941556Z",
     "iopub.status.busy": "2022-06-12T16:29:07.940863Z",
     "iopub.status.idle": "2022-06-12T16:29:08.993336Z",
     "shell.execute_reply": "2022-06-12T16:29:08.993929Z"
    },
    "papermill": {
     "duration": 1.096686,
     "end_time": "2022-06-12T16:29:08.994138",
     "exception": false,
     "start_time": "2022-06-12T16:29:07.897452",
     "status": "completed"
    },
    "tags": []
   },
   "outputs": [],
   "source": [
    "import lightgbm"
   ]
  },
  {
   "cell_type": "code",
   "execution_count": 30,
   "id": "1b77c6ce",
   "metadata": {
    "execution": {
     "iopub.execute_input": "2022-06-12T16:29:09.098835Z",
     "iopub.status.busy": "2022-06-12T16:29:09.097744Z",
     "iopub.status.idle": "2022-06-12T16:29:09.103340Z",
     "shell.execute_reply": "2022-06-12T16:29:09.103970Z"
    },
    "papermill": {
     "duration": 0.053325,
     "end_time": "2022-06-12T16:29:09.104163",
     "exception": false,
     "start_time": "2022-06-12T16:29:09.050838",
     "status": "completed"
    },
    "tags": []
   },
   "outputs": [],
   "source": [
    "model = lightgbm.LGBMRanker(\n",
    "    objective=\"lambdarank\",\n",
    "    #objective=\"rank_xendcg\",\n",
    "    #metric=\"mrr\",\n",
    "    n_estimators=2000,\n",
    "    lambdarank_truncation_level=103,\n",
    "    reg_alpha=1e-4,\n",
    "    learning_rate=0.05,\n",
    "    min_child_samples=600,\n",
    "    subsample=0.6,\n",
    "    subsample_freq=10\n",
    "    \n",
    ")"
   ]
  },
  {
   "cell_type": "code",
   "execution_count": 31,
   "id": "9d9fc453",
   "metadata": {
    "execution": {
     "iopub.execute_input": "2022-06-12T16:29:09.202427Z",
     "iopub.status.busy": "2022-06-12T16:29:09.201346Z",
     "iopub.status.idle": "2022-06-12T16:42:56.518291Z",
     "shell.execute_reply": "2022-06-12T16:42:56.518933Z"
    },
    "papermill": {
     "duration": 827.368881,
     "end_time": "2022-06-12T16:42:56.519254",
     "exception": false,
     "start_time": "2022-06-12T16:29:09.150373",
     "status": "completed"
    },
    "tags": []
   },
   "outputs": [
    {
     "name": "stdout",
     "output_type": "stream",
     "text": [
      "[1]\tvalid_0's map@100: 0.185497\tvalid_0's ndcg@100: 0.29819\n",
      "Training until validation scores don't improve for 50 rounds\n",
      "[2]\tvalid_0's map@100: 0.228473\tvalid_0's ndcg@100: 0.333066\n",
      "[3]\tvalid_0's map@100: 0.232581\tvalid_0's ndcg@100: 0.33708\n",
      "[4]\tvalid_0's map@100: 0.23534\tvalid_0's ndcg@100: 0.33968\n",
      "[5]\tvalid_0's map@100: 0.237105\tvalid_0's ndcg@100: 0.341298\n",
      "[6]\tvalid_0's map@100: 0.237378\tvalid_0's ndcg@100: 0.341431\n",
      "[7]\tvalid_0's map@100: 0.237826\tvalid_0's ndcg@100: 0.342017\n",
      "[8]\tvalid_0's map@100: 0.23763\tvalid_0's ndcg@100: 0.341994\n",
      "[9]\tvalid_0's map@100: 0.237516\tvalid_0's ndcg@100: 0.341783\n",
      "[10]\tvalid_0's map@100: 0.237378\tvalid_0's ndcg@100: 0.341739\n",
      "[11]\tvalid_0's map@100: 0.238738\tvalid_0's ndcg@100: 0.342822\n",
      "[12]\tvalid_0's map@100: 0.238989\tvalid_0's ndcg@100: 0.343132\n",
      "[13]\tvalid_0's map@100: 0.238867\tvalid_0's ndcg@100: 0.342982\n",
      "[14]\tvalid_0's map@100: 0.23905\tvalid_0's ndcg@100: 0.343057\n",
      "[15]\tvalid_0's map@100: 0.239275\tvalid_0's ndcg@100: 0.343232\n",
      "[16]\tvalid_0's map@100: 0.239399\tvalid_0's ndcg@100: 0.343411\n",
      "[17]\tvalid_0's map@100: 0.239686\tvalid_0's ndcg@100: 0.343709\n",
      "[18]\tvalid_0's map@100: 0.240225\tvalid_0's ndcg@100: 0.343975\n",
      "[19]\tvalid_0's map@100: 0.240473\tvalid_0's ndcg@100: 0.34425\n",
      "[20]\tvalid_0's map@100: 0.240284\tvalid_0's ndcg@100: 0.344014\n",
      "[21]\tvalid_0's map@100: 0.24039\tvalid_0's ndcg@100: 0.344301\n",
      "[22]\tvalid_0's map@100: 0.240878\tvalid_0's ndcg@100: 0.344666\n",
      "[23]\tvalid_0's map@100: 0.240962\tvalid_0's ndcg@100: 0.344905\n",
      "[24]\tvalid_0's map@100: 0.240978\tvalid_0's ndcg@100: 0.344962\n",
      "[25]\tvalid_0's map@100: 0.241435\tvalid_0's ndcg@100: 0.345187\n",
      "[26]\tvalid_0's map@100: 0.241746\tvalid_0's ndcg@100: 0.345462\n",
      "[27]\tvalid_0's map@100: 0.241899\tvalid_0's ndcg@100: 0.345527\n",
      "[28]\tvalid_0's map@100: 0.242368\tvalid_0's ndcg@100: 0.345941\n",
      "[29]\tvalid_0's map@100: 0.242882\tvalid_0's ndcg@100: 0.34631\n",
      "[30]\tvalid_0's map@100: 0.243202\tvalid_0's ndcg@100: 0.346587\n",
      "[31]\tvalid_0's map@100: 0.243017\tvalid_0's ndcg@100: 0.34641\n",
      "[32]\tvalid_0's map@100: 0.242768\tvalid_0's ndcg@100: 0.3463\n",
      "[33]\tvalid_0's map@100: 0.242859\tvalid_0's ndcg@100: 0.346396\n",
      "[34]\tvalid_0's map@100: 0.242959\tvalid_0's ndcg@100: 0.346499\n",
      "[35]\tvalid_0's map@100: 0.243005\tvalid_0's ndcg@100: 0.346549\n",
      "[36]\tvalid_0's map@100: 0.243235\tvalid_0's ndcg@100: 0.346834\n",
      "[37]\tvalid_0's map@100: 0.243611\tvalid_0's ndcg@100: 0.347175\n",
      "[38]\tvalid_0's map@100: 0.243591\tvalid_0's ndcg@100: 0.347169\n",
      "[39]\tvalid_0's map@100: 0.243618\tvalid_0's ndcg@100: 0.347241\n",
      "[40]\tvalid_0's map@100: 0.243476\tvalid_0's ndcg@100: 0.347212\n",
      "[41]\tvalid_0's map@100: 0.24361\tvalid_0's ndcg@100: 0.347264\n",
      "[42]\tvalid_0's map@100: 0.243238\tvalid_0's ndcg@100: 0.34693\n",
      "[43]\tvalid_0's map@100: 0.243401\tvalid_0's ndcg@100: 0.347033\n",
      "[44]\tvalid_0's map@100: 0.243596\tvalid_0's ndcg@100: 0.347158\n",
      "[45]\tvalid_0's map@100: 0.243513\tvalid_0's ndcg@100: 0.34715\n",
      "[46]\tvalid_0's map@100: 0.24338\tvalid_0's ndcg@100: 0.347051\n",
      "[47]\tvalid_0's map@100: 0.244025\tvalid_0's ndcg@100: 0.347539\n",
      "[48]\tvalid_0's map@100: 0.243914\tvalid_0's ndcg@100: 0.347439\n",
      "[49]\tvalid_0's map@100: 0.244377\tvalid_0's ndcg@100: 0.347832\n",
      "[50]\tvalid_0's map@100: 0.244172\tvalid_0's ndcg@100: 0.347637\n",
      "[51]\tvalid_0's map@100: 0.244385\tvalid_0's ndcg@100: 0.347881\n",
      "[52]\tvalid_0's map@100: 0.244373\tvalid_0's ndcg@100: 0.347936\n",
      "[53]\tvalid_0's map@100: 0.244832\tvalid_0's ndcg@100: 0.348341\n",
      "[54]\tvalid_0's map@100: 0.244894\tvalid_0's ndcg@100: 0.348392\n",
      "[55]\tvalid_0's map@100: 0.2449\tvalid_0's ndcg@100: 0.348415\n",
      "[56]\tvalid_0's map@100: 0.245228\tvalid_0's ndcg@100: 0.348664\n",
      "[57]\tvalid_0's map@100: 0.245203\tvalid_0's ndcg@100: 0.348664\n",
      "[58]\tvalid_0's map@100: 0.245124\tvalid_0's ndcg@100: 0.348693\n",
      "[59]\tvalid_0's map@100: 0.245247\tvalid_0's ndcg@100: 0.348842\n",
      "[60]\tvalid_0's map@100: 0.245461\tvalid_0's ndcg@100: 0.349038\n",
      "[61]\tvalid_0's map@100: 0.245792\tvalid_0's ndcg@100: 0.349255\n",
      "[62]\tvalid_0's map@100: 0.246076\tvalid_0's ndcg@100: 0.349509\n",
      "[63]\tvalid_0's map@100: 0.246113\tvalid_0's ndcg@100: 0.349609\n",
      "[64]\tvalid_0's map@100: 0.246078\tvalid_0's ndcg@100: 0.349612\n",
      "[65]\tvalid_0's map@100: 0.245898\tvalid_0's ndcg@100: 0.349457\n",
      "[66]\tvalid_0's map@100: 0.245957\tvalid_0's ndcg@100: 0.349529\n",
      "[67]\tvalid_0's map@100: 0.246058\tvalid_0's ndcg@100: 0.349648\n",
      "[68]\tvalid_0's map@100: 0.246052\tvalid_0's ndcg@100: 0.349684\n",
      "[69]\tvalid_0's map@100: 0.246163\tvalid_0's ndcg@100: 0.349778\n",
      "[70]\tvalid_0's map@100: 0.24647\tvalid_0's ndcg@100: 0.350014\n",
      "[71]\tvalid_0's map@100: 0.246493\tvalid_0's ndcg@100: 0.35004\n",
      "[72]\tvalid_0's map@100: 0.246376\tvalid_0's ndcg@100: 0.349964\n",
      "[73]\tvalid_0's map@100: 0.246307\tvalid_0's ndcg@100: 0.349892\n",
      "[74]\tvalid_0's map@100: 0.2463\tvalid_0's ndcg@100: 0.349966\n",
      "[75]\tvalid_0's map@100: 0.246593\tvalid_0's ndcg@100: 0.350131\n",
      "[76]\tvalid_0's map@100: 0.246734\tvalid_0's ndcg@100: 0.350329\n",
      "[77]\tvalid_0's map@100: 0.246543\tvalid_0's ndcg@100: 0.350224\n",
      "[78]\tvalid_0's map@100: 0.246632\tvalid_0's ndcg@100: 0.350226\n",
      "[79]\tvalid_0's map@100: 0.24681\tvalid_0's ndcg@100: 0.350356\n",
      "[80]\tvalid_0's map@100: 0.246954\tvalid_0's ndcg@100: 0.350481\n",
      "[81]\tvalid_0's map@100: 0.247078\tvalid_0's ndcg@100: 0.3506\n",
      "[82]\tvalid_0's map@100: 0.247107\tvalid_0's ndcg@100: 0.350616\n",
      "[83]\tvalid_0's map@100: 0.247523\tvalid_0's ndcg@100: 0.350923\n",
      "[84]\tvalid_0's map@100: 0.247624\tvalid_0's ndcg@100: 0.351058\n",
      "[85]\tvalid_0's map@100: 0.247853\tvalid_0's ndcg@100: 0.35119\n",
      "[86]\tvalid_0's map@100: 0.248001\tvalid_0's ndcg@100: 0.351325\n",
      "[87]\tvalid_0's map@100: 0.248584\tvalid_0's ndcg@100: 0.351785\n",
      "[88]\tvalid_0's map@100: 0.248725\tvalid_0's ndcg@100: 0.351865\n",
      "[89]\tvalid_0's map@100: 0.248984\tvalid_0's ndcg@100: 0.352058\n",
      "[90]\tvalid_0's map@100: 0.249142\tvalid_0's ndcg@100: 0.352206\n",
      "[91]\tvalid_0's map@100: 0.249235\tvalid_0's ndcg@100: 0.352344\n",
      "[92]\tvalid_0's map@100: 0.249261\tvalid_0's ndcg@100: 0.352308\n",
      "[93]\tvalid_0's map@100: 0.249065\tvalid_0's ndcg@100: 0.352151\n",
      "[94]\tvalid_0's map@100: 0.249362\tvalid_0's ndcg@100: 0.35237\n",
      "[95]\tvalid_0's map@100: 0.249452\tvalid_0's ndcg@100: 0.352517\n",
      "[96]\tvalid_0's map@100: 0.249402\tvalid_0's ndcg@100: 0.352519\n",
      "[97]\tvalid_0's map@100: 0.249686\tvalid_0's ndcg@100: 0.352701\n",
      "[98]\tvalid_0's map@100: 0.249618\tvalid_0's ndcg@100: 0.352733\n",
      "[99]\tvalid_0's map@100: 0.249756\tvalid_0's ndcg@100: 0.352894\n",
      "[100]\tvalid_0's map@100: 0.249617\tvalid_0's ndcg@100: 0.352801\n",
      "[101]\tvalid_0's map@100: 0.249558\tvalid_0's ndcg@100: 0.352777\n",
      "[102]\tvalid_0's map@100: 0.249628\tvalid_0's ndcg@100: 0.35288\n",
      "[103]\tvalid_0's map@100: 0.2499\tvalid_0's ndcg@100: 0.353075\n",
      "[104]\tvalid_0's map@100: 0.249753\tvalid_0's ndcg@100: 0.352949\n",
      "[105]\tvalid_0's map@100: 0.249762\tvalid_0's ndcg@100: 0.352966\n",
      "[106]\tvalid_0's map@100: 0.249854\tvalid_0's ndcg@100: 0.353078\n",
      "[107]\tvalid_0's map@100: 0.24985\tvalid_0's ndcg@100: 0.353114\n",
      "[108]\tvalid_0's map@100: 0.249738\tvalid_0's ndcg@100: 0.353011\n",
      "[109]\tvalid_0's map@100: 0.249879\tvalid_0's ndcg@100: 0.35315\n",
      "[110]\tvalid_0's map@100: 0.249999\tvalid_0's ndcg@100: 0.353237\n",
      "[111]\tvalid_0's map@100: 0.250121\tvalid_0's ndcg@100: 0.353432\n",
      "[112]\tvalid_0's map@100: 0.250276\tvalid_0's ndcg@100: 0.353573\n",
      "[113]\tvalid_0's map@100: 0.250488\tvalid_0's ndcg@100: 0.353788\n",
      "[114]\tvalid_0's map@100: 0.25078\tvalid_0's ndcg@100: 0.354075\n",
      "[115]\tvalid_0's map@100: 0.250747\tvalid_0's ndcg@100: 0.354044\n",
      "[116]\tvalid_0's map@100: 0.250784\tvalid_0's ndcg@100: 0.35401\n",
      "[117]\tvalid_0's map@100: 0.250793\tvalid_0's ndcg@100: 0.354001\n",
      "[118]\tvalid_0's map@100: 0.250802\tvalid_0's ndcg@100: 0.353997\n",
      "[119]\tvalid_0's map@100: 0.250931\tvalid_0's ndcg@100: 0.354069\n",
      "[120]\tvalid_0's map@100: 0.251023\tvalid_0's ndcg@100: 0.354164\n",
      "[121]\tvalid_0's map@100: 0.251049\tvalid_0's ndcg@100: 0.354231\n",
      "[122]\tvalid_0's map@100: 0.250964\tvalid_0's ndcg@100: 0.354136\n",
      "[123]\tvalid_0's map@100: 0.251304\tvalid_0's ndcg@100: 0.354425\n",
      "[124]\tvalid_0's map@100: 0.251389\tvalid_0's ndcg@100: 0.354474\n",
      "[125]\tvalid_0's map@100: 0.251318\tvalid_0's ndcg@100: 0.354435\n",
      "[126]\tvalid_0's map@100: 0.251203\tvalid_0's ndcg@100: 0.35437\n",
      "[127]\tvalid_0's map@100: 0.251191\tvalid_0's ndcg@100: 0.35432\n",
      "[128]\tvalid_0's map@100: 0.25121\tvalid_0's ndcg@100: 0.354353\n",
      "[129]\tvalid_0's map@100: 0.251153\tvalid_0's ndcg@100: 0.354304\n",
      "[130]\tvalid_0's map@100: 0.251429\tvalid_0's ndcg@100: 0.354534\n",
      "[131]\tvalid_0's map@100: 0.251516\tvalid_0's ndcg@100: 0.354598\n",
      "[132]\tvalid_0's map@100: 0.251344\tvalid_0's ndcg@100: 0.354504\n",
      "[133]\tvalid_0's map@100: 0.251343\tvalid_0's ndcg@100: 0.354606\n",
      "[134]\tvalid_0's map@100: 0.251385\tvalid_0's ndcg@100: 0.354685\n",
      "[135]\tvalid_0's map@100: 0.251438\tvalid_0's ndcg@100: 0.354765\n",
      "[136]\tvalid_0's map@100: 0.251375\tvalid_0's ndcg@100: 0.354782\n",
      "[137]\tvalid_0's map@100: 0.251412\tvalid_0's ndcg@100: 0.354838\n",
      "[138]\tvalid_0's map@100: 0.25189\tvalid_0's ndcg@100: 0.355215\n",
      "[139]\tvalid_0's map@100: 0.251786\tvalid_0's ndcg@100: 0.355218\n",
      "[140]\tvalid_0's map@100: 0.251962\tvalid_0's ndcg@100: 0.355328\n",
      "[141]\tvalid_0's map@100: 0.252193\tvalid_0's ndcg@100: 0.355464\n",
      "[142]\tvalid_0's map@100: 0.252222\tvalid_0's ndcg@100: 0.355526\n",
      "[143]\tvalid_0's map@100: 0.252333\tvalid_0's ndcg@100: 0.355679\n",
      "[144]\tvalid_0's map@100: 0.252612\tvalid_0's ndcg@100: 0.355856\n",
      "[145]\tvalid_0's map@100: 0.252666\tvalid_0's ndcg@100: 0.355834\n",
      "[146]\tvalid_0's map@100: 0.252538\tvalid_0's ndcg@100: 0.355727\n",
      "[147]\tvalid_0's map@100: 0.25274\tvalid_0's ndcg@100: 0.355893\n",
      "[148]\tvalid_0's map@100: 0.2528\tvalid_0's ndcg@100: 0.355936\n",
      "[149]\tvalid_0's map@100: 0.252962\tvalid_0's ndcg@100: 0.356079\n",
      "[150]\tvalid_0's map@100: 0.253003\tvalid_0's ndcg@100: 0.356146\n",
      "[151]\tvalid_0's map@100: 0.253031\tvalid_0's ndcg@100: 0.356207\n",
      "[152]\tvalid_0's map@100: 0.253265\tvalid_0's ndcg@100: 0.356413\n",
      "[153]\tvalid_0's map@100: 0.253563\tvalid_0's ndcg@100: 0.356626\n",
      "[154]\tvalid_0's map@100: 0.253493\tvalid_0's ndcg@100: 0.35657\n",
      "[155]\tvalid_0's map@100: 0.253686\tvalid_0's ndcg@100: 0.356713\n",
      "[156]\tvalid_0's map@100: 0.253839\tvalid_0's ndcg@100: 0.356837\n",
      "[157]\tvalid_0's map@100: 0.253861\tvalid_0's ndcg@100: 0.356872\n",
      "[158]\tvalid_0's map@100: 0.253911\tvalid_0's ndcg@100: 0.3569\n",
      "[159]\tvalid_0's map@100: 0.253968\tvalid_0's ndcg@100: 0.356935\n",
      "[160]\tvalid_0's map@100: 0.253937\tvalid_0's ndcg@100: 0.356916\n",
      "[161]\tvalid_0's map@100: 0.253875\tvalid_0's ndcg@100: 0.356865\n",
      "[162]\tvalid_0's map@100: 0.253887\tvalid_0's ndcg@100: 0.356912\n",
      "[163]\tvalid_0's map@100: 0.253913\tvalid_0's ndcg@100: 0.356969\n",
      "[164]\tvalid_0's map@100: 0.253708\tvalid_0's ndcg@100: 0.356816\n",
      "[165]\tvalid_0's map@100: 0.253808\tvalid_0's ndcg@100: 0.356934\n",
      "[166]\tvalid_0's map@100: 0.253832\tvalid_0's ndcg@100: 0.356983\n",
      "[167]\tvalid_0's map@100: 0.25386\tvalid_0's ndcg@100: 0.357001\n",
      "[168]\tvalid_0's map@100: 0.253948\tvalid_0's ndcg@100: 0.357055\n",
      "[169]\tvalid_0's map@100: 0.253855\tvalid_0's ndcg@100: 0.357017\n",
      "[170]\tvalid_0's map@100: 0.253811\tvalid_0's ndcg@100: 0.357021\n",
      "[171]\tvalid_0's map@100: 0.253894\tvalid_0's ndcg@100: 0.35712\n",
      "[172]\tvalid_0's map@100: 0.25388\tvalid_0's ndcg@100: 0.357078\n",
      "[173]\tvalid_0's map@100: 0.253745\tvalid_0's ndcg@100: 0.357001\n",
      "[174]\tvalid_0's map@100: 0.253807\tvalid_0's ndcg@100: 0.357059\n",
      "[175]\tvalid_0's map@100: 0.253914\tvalid_0's ndcg@100: 0.357157\n",
      "[176]\tvalid_0's map@100: 0.253906\tvalid_0's ndcg@100: 0.357112\n",
      "[177]\tvalid_0's map@100: 0.254012\tvalid_0's ndcg@100: 0.357212\n",
      "[178]\tvalid_0's map@100: 0.254004\tvalid_0's ndcg@100: 0.35724\n",
      "[179]\tvalid_0's map@100: 0.254043\tvalid_0's ndcg@100: 0.357283\n",
      "[180]\tvalid_0's map@100: 0.253997\tvalid_0's ndcg@100: 0.357249\n",
      "[181]\tvalid_0's map@100: 0.253963\tvalid_0's ndcg@100: 0.357289\n",
      "[182]\tvalid_0's map@100: 0.253924\tvalid_0's ndcg@100: 0.357248\n",
      "[183]\tvalid_0's map@100: 0.253858\tvalid_0's ndcg@100: 0.35719\n",
      "[184]\tvalid_0's map@100: 0.253957\tvalid_0's ndcg@100: 0.357243\n",
      "[185]\tvalid_0's map@100: 0.253955\tvalid_0's ndcg@100: 0.357231\n",
      "[186]\tvalid_0's map@100: 0.253951\tvalid_0's ndcg@100: 0.357215\n",
      "[187]\tvalid_0's map@100: 0.254139\tvalid_0's ndcg@100: 0.357366\n",
      "[188]\tvalid_0's map@100: 0.254207\tvalid_0's ndcg@100: 0.357411\n",
      "[189]\tvalid_0's map@100: 0.254216\tvalid_0's ndcg@100: 0.357468\n",
      "[190]\tvalid_0's map@100: 0.254131\tvalid_0's ndcg@100: 0.357404\n",
      "[191]\tvalid_0's map@100: 0.254112\tvalid_0's ndcg@100: 0.357414\n",
      "[192]\tvalid_0's map@100: 0.254166\tvalid_0's ndcg@100: 0.357469\n",
      "[193]\tvalid_0's map@100: 0.254175\tvalid_0's ndcg@100: 0.357481\n",
      "[194]\tvalid_0's map@100: 0.254185\tvalid_0's ndcg@100: 0.357551\n",
      "[195]\tvalid_0's map@100: 0.254366\tvalid_0's ndcg@100: 0.357679\n",
      "[196]\tvalid_0's map@100: 0.254284\tvalid_0's ndcg@100: 0.357675\n",
      "[197]\tvalid_0's map@100: 0.254189\tvalid_0's ndcg@100: 0.357569\n",
      "[198]\tvalid_0's map@100: 0.254198\tvalid_0's ndcg@100: 0.357576\n",
      "[199]\tvalid_0's map@100: 0.254114\tvalid_0's ndcg@100: 0.357503\n",
      "[200]\tvalid_0's map@100: 0.254202\tvalid_0's ndcg@100: 0.357585\n",
      "[201]\tvalid_0's map@100: 0.254279\tvalid_0's ndcg@100: 0.357646\n",
      "[202]\tvalid_0's map@100: 0.254268\tvalid_0's ndcg@100: 0.357638\n",
      "[203]\tvalid_0's map@100: 0.254291\tvalid_0's ndcg@100: 0.357661\n",
      "[204]\tvalid_0's map@100: 0.254302\tvalid_0's ndcg@100: 0.357672\n",
      "[205]\tvalid_0's map@100: 0.25431\tvalid_0's ndcg@100: 0.357686\n",
      "[206]\tvalid_0's map@100: 0.254243\tvalid_0's ndcg@100: 0.357641\n",
      "[207]\tvalid_0's map@100: 0.254256\tvalid_0's ndcg@100: 0.357668\n",
      "[208]\tvalid_0's map@100: 0.254245\tvalid_0's ndcg@100: 0.357671\n",
      "[209]\tvalid_0's map@100: 0.25435\tvalid_0's ndcg@100: 0.357759\n",
      "[210]\tvalid_0's map@100: 0.254349\tvalid_0's ndcg@100: 0.357764\n",
      "[211]\tvalid_0's map@100: 0.254297\tvalid_0's ndcg@100: 0.357719\n",
      "[212]\tvalid_0's map@100: 0.254163\tvalid_0's ndcg@100: 0.357646\n",
      "[213]\tvalid_0's map@100: 0.254553\tvalid_0's ndcg@100: 0.357911\n",
      "[214]\tvalid_0's map@100: 0.25452\tvalid_0's ndcg@100: 0.357892\n",
      "[215]\tvalid_0's map@100: 0.254618\tvalid_0's ndcg@100: 0.357974\n",
      "[216]\tvalid_0's map@100: 0.254708\tvalid_0's ndcg@100: 0.358095\n",
      "[217]\tvalid_0's map@100: 0.25455\tvalid_0's ndcg@100: 0.357976\n",
      "[218]\tvalid_0's map@100: 0.254559\tvalid_0's ndcg@100: 0.357982\n",
      "[219]\tvalid_0's map@100: 0.25458\tvalid_0's ndcg@100: 0.358032\n",
      "[220]\tvalid_0's map@100: 0.254589\tvalid_0's ndcg@100: 0.358055\n",
      "[221]\tvalid_0's map@100: 0.254551\tvalid_0's ndcg@100: 0.35804\n",
      "[222]\tvalid_0's map@100: 0.254653\tvalid_0's ndcg@100: 0.358113\n",
      "[223]\tvalid_0's map@100: 0.254715\tvalid_0's ndcg@100: 0.358168\n",
      "[224]\tvalid_0's map@100: 0.254758\tvalid_0's ndcg@100: 0.358199\n",
      "[225]\tvalid_0's map@100: 0.254713\tvalid_0's ndcg@100: 0.358166\n",
      "[226]\tvalid_0's map@100: 0.254482\tvalid_0's ndcg@100: 0.357988\n",
      "[227]\tvalid_0's map@100: 0.254509\tvalid_0's ndcg@100: 0.35801\n",
      "[228]\tvalid_0's map@100: 0.254571\tvalid_0's ndcg@100: 0.358105\n",
      "[229]\tvalid_0's map@100: 0.254569\tvalid_0's ndcg@100: 0.358095\n",
      "[230]\tvalid_0's map@100: 0.254664\tvalid_0's ndcg@100: 0.358165\n",
      "[231]\tvalid_0's map@100: 0.254718\tvalid_0's ndcg@100: 0.358186\n",
      "[232]\tvalid_0's map@100: 0.254686\tvalid_0's ndcg@100: 0.358156\n",
      "[233]\tvalid_0's map@100: 0.254719\tvalid_0's ndcg@100: 0.358155\n",
      "[234]\tvalid_0's map@100: 0.254698\tvalid_0's ndcg@100: 0.358126\n",
      "[235]\tvalid_0's map@100: 0.254823\tvalid_0's ndcg@100: 0.358208\n",
      "[236]\tvalid_0's map@100: 0.254832\tvalid_0's ndcg@100: 0.358256\n",
      "[237]\tvalid_0's map@100: 0.25481\tvalid_0's ndcg@100: 0.358183\n",
      "[238]\tvalid_0's map@100: 0.254967\tvalid_0's ndcg@100: 0.358293\n",
      "[239]\tvalid_0's map@100: 0.254934\tvalid_0's ndcg@100: 0.358291\n",
      "[240]\tvalid_0's map@100: 0.254963\tvalid_0's ndcg@100: 0.358327\n",
      "[241]\tvalid_0's map@100: 0.254983\tvalid_0's ndcg@100: 0.358327\n",
      "[242]\tvalid_0's map@100: 0.255133\tvalid_0's ndcg@100: 0.358458\n",
      "[243]\tvalid_0's map@100: 0.255081\tvalid_0's ndcg@100: 0.358524\n",
      "[244]\tvalid_0's map@100: 0.255084\tvalid_0's ndcg@100: 0.358537\n",
      "[245]\tvalid_0's map@100: 0.254995\tvalid_0's ndcg@100: 0.358483\n",
      "[246]\tvalid_0's map@100: 0.25514\tvalid_0's ndcg@100: 0.358597\n",
      "[247]\tvalid_0's map@100: 0.255174\tvalid_0's ndcg@100: 0.358624\n",
      "[248]\tvalid_0's map@100: 0.255199\tvalid_0's ndcg@100: 0.358663\n",
      "[249]\tvalid_0's map@100: 0.255243\tvalid_0's ndcg@100: 0.358735\n",
      "[250]\tvalid_0's map@100: 0.255234\tvalid_0's ndcg@100: 0.358725\n",
      "[251]\tvalid_0's map@100: 0.255333\tvalid_0's ndcg@100: 0.358814\n",
      "[252]\tvalid_0's map@100: 0.255436\tvalid_0's ndcg@100: 0.358899\n",
      "[253]\tvalid_0's map@100: 0.255482\tvalid_0's ndcg@100: 0.358948\n",
      "[254]\tvalid_0's map@100: 0.255479\tvalid_0's ndcg@100: 0.358961\n",
      "[255]\tvalid_0's map@100: 0.255478\tvalid_0's ndcg@100: 0.358927\n",
      "[256]\tvalid_0's map@100: 0.255419\tvalid_0's ndcg@100: 0.358894\n",
      "[257]\tvalid_0's map@100: 0.25544\tvalid_0's ndcg@100: 0.358883\n",
      "[258]\tvalid_0's map@100: 0.255363\tvalid_0's ndcg@100: 0.358797\n",
      "[259]\tvalid_0's map@100: 0.255363\tvalid_0's ndcg@100: 0.358846\n",
      "[260]\tvalid_0's map@100: 0.255383\tvalid_0's ndcg@100: 0.35884\n",
      "[261]\tvalid_0's map@100: 0.255451\tvalid_0's ndcg@100: 0.358887\n",
      "[262]\tvalid_0's map@100: 0.255559\tvalid_0's ndcg@100: 0.359002\n",
      "[263]\tvalid_0's map@100: 0.255527\tvalid_0's ndcg@100: 0.358991\n",
      "[264]\tvalid_0's map@100: 0.255534\tvalid_0's ndcg@100: 0.358999\n",
      "[265]\tvalid_0's map@100: 0.255591\tvalid_0's ndcg@100: 0.359036\n",
      "[266]\tvalid_0's map@100: 0.255683\tvalid_0's ndcg@100: 0.359145\n",
      "[267]\tvalid_0's map@100: 0.255756\tvalid_0's ndcg@100: 0.359194\n",
      "[268]\tvalid_0's map@100: 0.255812\tvalid_0's ndcg@100: 0.359273\n",
      "[269]\tvalid_0's map@100: 0.255897\tvalid_0's ndcg@100: 0.359321\n",
      "[270]\tvalid_0's map@100: 0.255947\tvalid_0's ndcg@100: 0.359353\n",
      "[271]\tvalid_0's map@100: 0.255952\tvalid_0's ndcg@100: 0.359366\n",
      "[272]\tvalid_0's map@100: 0.255951\tvalid_0's ndcg@100: 0.359342\n",
      "[273]\tvalid_0's map@100: 0.255982\tvalid_0's ndcg@100: 0.359377\n",
      "[274]\tvalid_0's map@100: 0.256024\tvalid_0's ndcg@100: 0.359431\n",
      "[275]\tvalid_0's map@100: 0.255955\tvalid_0's ndcg@100: 0.359393\n",
      "[276]\tvalid_0's map@100: 0.25601\tvalid_0's ndcg@100: 0.359447\n",
      "[277]\tvalid_0's map@100: 0.256079\tvalid_0's ndcg@100: 0.359508\n",
      "[278]\tvalid_0's map@100: 0.256098\tvalid_0's ndcg@100: 0.35956\n",
      "[279]\tvalid_0's map@100: 0.256085\tvalid_0's ndcg@100: 0.359528\n",
      "[280]\tvalid_0's map@100: 0.256069\tvalid_0's ndcg@100: 0.359507\n",
      "[281]\tvalid_0's map@100: 0.256139\tvalid_0's ndcg@100: 0.35957\n",
      "[282]\tvalid_0's map@100: 0.256214\tvalid_0's ndcg@100: 0.359617\n",
      "[283]\tvalid_0's map@100: 0.256301\tvalid_0's ndcg@100: 0.359675\n",
      "[284]\tvalid_0's map@100: 0.25634\tvalid_0's ndcg@100: 0.359712\n",
      "[285]\tvalid_0's map@100: 0.256358\tvalid_0's ndcg@100: 0.359726\n",
      "[286]\tvalid_0's map@100: 0.256327\tvalid_0's ndcg@100: 0.359708\n",
      "[287]\tvalid_0's map@100: 0.256205\tvalid_0's ndcg@100: 0.359665\n",
      "[288]\tvalid_0's map@100: 0.256449\tvalid_0's ndcg@100: 0.359838\n",
      "[289]\tvalid_0's map@100: 0.256505\tvalid_0's ndcg@100: 0.359887\n",
      "[290]\tvalid_0's map@100: 0.25642\tvalid_0's ndcg@100: 0.359825\n",
      "[291]\tvalid_0's map@100: 0.256451\tvalid_0's ndcg@100: 0.359835\n",
      "[292]\tvalid_0's map@100: 0.256452\tvalid_0's ndcg@100: 0.359904\n",
      "[293]\tvalid_0's map@100: 0.256456\tvalid_0's ndcg@100: 0.359946\n",
      "[294]\tvalid_0's map@100: 0.2565\tvalid_0's ndcg@100: 0.360001\n",
      "[295]\tvalid_0's map@100: 0.256465\tvalid_0's ndcg@100: 0.359916\n",
      "[296]\tvalid_0's map@100: 0.256509\tvalid_0's ndcg@100: 0.359955\n",
      "[297]\tvalid_0's map@100: 0.2565\tvalid_0's ndcg@100: 0.35989\n",
      "[298]\tvalid_0's map@100: 0.256559\tvalid_0's ndcg@100: 0.359926\n",
      "[299]\tvalid_0's map@100: 0.256563\tvalid_0's ndcg@100: 0.359941\n",
      "[300]\tvalid_0's map@100: 0.256557\tvalid_0's ndcg@100: 0.359938\n",
      "[301]\tvalid_0's map@100: 0.256563\tvalid_0's ndcg@100: 0.359944\n",
      "[302]\tvalid_0's map@100: 0.256573\tvalid_0's ndcg@100: 0.359955\n",
      "[303]\tvalid_0's map@100: 0.256584\tvalid_0's ndcg@100: 0.359929\n",
      "[304]\tvalid_0's map@100: 0.256581\tvalid_0's ndcg@100: 0.359964\n",
      "[305]\tvalid_0's map@100: 0.256589\tvalid_0's ndcg@100: 0.359981\n",
      "[306]\tvalid_0's map@100: 0.256574\tvalid_0's ndcg@100: 0.359969\n",
      "[307]\tvalid_0's map@100: 0.256577\tvalid_0's ndcg@100: 0.359973\n",
      "[308]\tvalid_0's map@100: 0.256581\tvalid_0's ndcg@100: 0.359976\n",
      "[309]\tvalid_0's map@100: 0.256581\tvalid_0's ndcg@100: 0.359975\n",
      "[310]\tvalid_0's map@100: 0.256601\tvalid_0's ndcg@100: 0.359916\n",
      "[311]\tvalid_0's map@100: 0.256737\tvalid_0's ndcg@100: 0.36007\n",
      "[312]\tvalid_0's map@100: 0.25683\tvalid_0's ndcg@100: 0.360148\n",
      "[313]\tvalid_0's map@100: 0.256988\tvalid_0's ndcg@100: 0.360271\n",
      "[314]\tvalid_0's map@100: 0.256967\tvalid_0's ndcg@100: 0.360253\n",
      "[315]\tvalid_0's map@100: 0.256977\tvalid_0's ndcg@100: 0.360248\n",
      "[316]\tvalid_0's map@100: 0.257108\tvalid_0's ndcg@100: 0.360347\n",
      "[317]\tvalid_0's map@100: 0.257107\tvalid_0's ndcg@100: 0.360371\n",
      "[318]\tvalid_0's map@100: 0.257134\tvalid_0's ndcg@100: 0.360373\n",
      "[319]\tvalid_0's map@100: 0.257252\tvalid_0's ndcg@100: 0.360495\n",
      "[320]\tvalid_0's map@100: 0.257466\tvalid_0's ndcg@100: 0.36067\n",
      "[321]\tvalid_0's map@100: 0.25744\tvalid_0's ndcg@100: 0.360639\n",
      "[322]\tvalid_0's map@100: 0.257445\tvalid_0's ndcg@100: 0.360667\n",
      "[323]\tvalid_0's map@100: 0.257432\tvalid_0's ndcg@100: 0.360656\n",
      "[324]\tvalid_0's map@100: 0.257438\tvalid_0's ndcg@100: 0.360658\n",
      "[325]\tvalid_0's map@100: 0.25744\tvalid_0's ndcg@100: 0.36066\n",
      "[326]\tvalid_0's map@100: 0.257421\tvalid_0's ndcg@100: 0.360657\n",
      "[327]\tvalid_0's map@100: 0.25742\tvalid_0's ndcg@100: 0.360635\n",
      "[328]\tvalid_0's map@100: 0.257418\tvalid_0's ndcg@100: 0.360619\n",
      "[329]\tvalid_0's map@100: 0.257426\tvalid_0's ndcg@100: 0.360615\n",
      "[330]\tvalid_0's map@100: 0.257414\tvalid_0's ndcg@100: 0.36058\n",
      "[331]\tvalid_0's map@100: 0.257403\tvalid_0's ndcg@100: 0.360621\n",
      "[332]\tvalid_0's map@100: 0.257344\tvalid_0's ndcg@100: 0.360577\n",
      "[333]\tvalid_0's map@100: 0.257315\tvalid_0's ndcg@100: 0.360511\n",
      "[334]\tvalid_0's map@100: 0.257243\tvalid_0's ndcg@100: 0.360471\n",
      "[335]\tvalid_0's map@100: 0.257268\tvalid_0's ndcg@100: 0.360526\n",
      "[336]\tvalid_0's map@100: 0.257333\tvalid_0's ndcg@100: 0.360538\n",
      "[337]\tvalid_0's map@100: 0.257241\tvalid_0's ndcg@100: 0.360483\n",
      "[338]\tvalid_0's map@100: 0.257366\tvalid_0's ndcg@100: 0.360586\n",
      "[339]\tvalid_0's map@100: 0.257344\tvalid_0's ndcg@100: 0.360571\n",
      "[340]\tvalid_0's map@100: 0.257359\tvalid_0's ndcg@100: 0.360631\n",
      "[341]\tvalid_0's map@100: 0.257363\tvalid_0's ndcg@100: 0.360682\n",
      "[342]\tvalid_0's map@100: 0.257468\tvalid_0's ndcg@100: 0.360771\n",
      "[343]\tvalid_0's map@100: 0.257409\tvalid_0's ndcg@100: 0.360734\n",
      "[344]\tvalid_0's map@100: 0.257408\tvalid_0's ndcg@100: 0.360698\n",
      "[345]\tvalid_0's map@100: 0.257527\tvalid_0's ndcg@100: 0.360783\n",
      "[346]\tvalid_0's map@100: 0.257517\tvalid_0's ndcg@100: 0.360772\n",
      "[347]\tvalid_0's map@100: 0.257521\tvalid_0's ndcg@100: 0.360771\n",
      "[348]\tvalid_0's map@100: 0.257538\tvalid_0's ndcg@100: 0.360808\n",
      "[349]\tvalid_0's map@100: 0.257529\tvalid_0's ndcg@100: 0.360755\n",
      "[350]\tvalid_0's map@100: 0.25752\tvalid_0's ndcg@100: 0.360757\n",
      "[351]\tvalid_0's map@100: 0.257532\tvalid_0's ndcg@100: 0.360754\n",
      "[352]\tvalid_0's map@100: 0.25754\tvalid_0's ndcg@100: 0.360799\n",
      "[353]\tvalid_0's map@100: 0.257537\tvalid_0's ndcg@100: 0.360784\n",
      "[354]\tvalid_0's map@100: 0.257473\tvalid_0's ndcg@100: 0.36075\n",
      "[355]\tvalid_0's map@100: 0.257399\tvalid_0's ndcg@100: 0.360704\n",
      "[356]\tvalid_0's map@100: 0.257536\tvalid_0's ndcg@100: 0.360808\n",
      "[357]\tvalid_0's map@100: 0.257745\tvalid_0's ndcg@100: 0.36098\n",
      "[358]\tvalid_0's map@100: 0.257768\tvalid_0's ndcg@100: 0.360995\n",
      "[359]\tvalid_0's map@100: 0.257705\tvalid_0's ndcg@100: 0.360942\n",
      "[360]\tvalid_0's map@100: 0.257711\tvalid_0's ndcg@100: 0.360912\n",
      "[361]\tvalid_0's map@100: 0.257712\tvalid_0's ndcg@100: 0.360938\n",
      "[362]\tvalid_0's map@100: 0.257721\tvalid_0's ndcg@100: 0.360935\n",
      "[363]\tvalid_0's map@100: 0.257742\tvalid_0's ndcg@100: 0.360992\n",
      "[364]\tvalid_0's map@100: 0.25784\tvalid_0's ndcg@100: 0.361082\n",
      "[365]\tvalid_0's map@100: 0.257826\tvalid_0's ndcg@100: 0.361025\n",
      "[366]\tvalid_0's map@100: 0.257823\tvalid_0's ndcg@100: 0.360998\n",
      "[367]\tvalid_0's map@100: 0.257869\tvalid_0's ndcg@100: 0.361045\n",
      "[368]\tvalid_0's map@100: 0.257865\tvalid_0's ndcg@100: 0.361043\n",
      "[369]\tvalid_0's map@100: 0.257913\tvalid_0's ndcg@100: 0.361058\n",
      "[370]\tvalid_0's map@100: 0.2579\tvalid_0's ndcg@100: 0.36107\n",
      "[371]\tvalid_0's map@100: 0.25793\tvalid_0's ndcg@100: 0.361137\n",
      "[372]\tvalid_0's map@100: 0.257801\tvalid_0's ndcg@100: 0.361044\n",
      "[373]\tvalid_0's map@100: 0.257886\tvalid_0's ndcg@100: 0.361059\n",
      "[374]\tvalid_0's map@100: 0.257882\tvalid_0's ndcg@100: 0.361069\n",
      "[375]\tvalid_0's map@100: 0.257909\tvalid_0's ndcg@100: 0.361134\n",
      "[376]\tvalid_0's map@100: 0.258069\tvalid_0's ndcg@100: 0.36122\n",
      "[377]\tvalid_0's map@100: 0.258034\tvalid_0's ndcg@100: 0.361195\n",
      "[378]\tvalid_0's map@100: 0.258061\tvalid_0's ndcg@100: 0.361263\n",
      "[379]\tvalid_0's map@100: 0.25812\tvalid_0's ndcg@100: 0.361343\n",
      "[380]\tvalid_0's map@100: 0.258078\tvalid_0's ndcg@100: 0.361268\n",
      "[381]\tvalid_0's map@100: 0.258096\tvalid_0's ndcg@100: 0.361268\n",
      "[382]\tvalid_0's map@100: 0.257937\tvalid_0's ndcg@100: 0.361157\n",
      "[383]\tvalid_0's map@100: 0.258065\tvalid_0's ndcg@100: 0.361235\n",
      "[384]\tvalid_0's map@100: 0.258182\tvalid_0's ndcg@100: 0.361282\n",
      "[385]\tvalid_0's map@100: 0.258231\tvalid_0's ndcg@100: 0.361354\n",
      "[386]\tvalid_0's map@100: 0.25823\tvalid_0's ndcg@100: 0.361391\n",
      "[387]\tvalid_0's map@100: 0.258314\tvalid_0's ndcg@100: 0.361464\n",
      "[388]\tvalid_0's map@100: 0.258302\tvalid_0's ndcg@100: 0.361477\n",
      "[389]\tvalid_0's map@100: 0.258277\tvalid_0's ndcg@100: 0.361473\n",
      "[390]\tvalid_0's map@100: 0.258273\tvalid_0's ndcg@100: 0.361437\n",
      "[391]\tvalid_0's map@100: 0.258303\tvalid_0's ndcg@100: 0.361454\n",
      "[392]\tvalid_0's map@100: 0.258342\tvalid_0's ndcg@100: 0.361484\n",
      "[393]\tvalid_0's map@100: 0.258247\tvalid_0's ndcg@100: 0.361405\n",
      "[394]\tvalid_0's map@100: 0.258348\tvalid_0's ndcg@100: 0.361509\n",
      "[395]\tvalid_0's map@100: 0.258345\tvalid_0's ndcg@100: 0.361527\n",
      "[396]\tvalid_0's map@100: 0.258341\tvalid_0's ndcg@100: 0.361523\n",
      "[397]\tvalid_0's map@100: 0.258355\tvalid_0's ndcg@100: 0.361483\n",
      "[398]\tvalid_0's map@100: 0.258431\tvalid_0's ndcg@100: 0.361541\n",
      "[399]\tvalid_0's map@100: 0.258495\tvalid_0's ndcg@100: 0.361584\n",
      "[400]\tvalid_0's map@100: 0.258492\tvalid_0's ndcg@100: 0.361586\n",
      "[401]\tvalid_0's map@100: 0.258588\tvalid_0's ndcg@100: 0.361638\n",
      "[402]\tvalid_0's map@100: 0.258602\tvalid_0's ndcg@100: 0.361641\n",
      "[403]\tvalid_0's map@100: 0.258634\tvalid_0's ndcg@100: 0.361677\n",
      "[404]\tvalid_0's map@100: 0.258514\tvalid_0's ndcg@100: 0.361593\n",
      "[405]\tvalid_0's map@100: 0.258477\tvalid_0's ndcg@100: 0.361569\n",
      "[406]\tvalid_0's map@100: 0.258467\tvalid_0's ndcg@100: 0.361573\n",
      "[407]\tvalid_0's map@100: 0.258472\tvalid_0's ndcg@100: 0.361589\n",
      "[408]\tvalid_0's map@100: 0.258461\tvalid_0's ndcg@100: 0.36158\n",
      "[409]\tvalid_0's map@100: 0.258494\tvalid_0's ndcg@100: 0.361607\n",
      "[410]\tvalid_0's map@100: 0.258506\tvalid_0's ndcg@100: 0.361629\n",
      "[411]\tvalid_0's map@100: 0.2585\tvalid_0's ndcg@100: 0.361625\n",
      "[412]\tvalid_0's map@100: 0.258458\tvalid_0's ndcg@100: 0.361615\n",
      "[413]\tvalid_0's map@100: 0.258536\tvalid_0's ndcg@100: 0.361676\n",
      "[414]\tvalid_0's map@100: 0.258728\tvalid_0's ndcg@100: 0.361813\n",
      "[415]\tvalid_0's map@100: 0.259038\tvalid_0's ndcg@100: 0.362039\n",
      "[416]\tvalid_0's map@100: 0.259009\tvalid_0's ndcg@100: 0.362029\n",
      "[417]\tvalid_0's map@100: 0.258878\tvalid_0's ndcg@100: 0.361932\n",
      "[418]\tvalid_0's map@100: 0.258836\tvalid_0's ndcg@100: 0.361888\n",
      "[419]\tvalid_0's map@100: 0.258828\tvalid_0's ndcg@100: 0.361884\n",
      "[420]\tvalid_0's map@100: 0.258895\tvalid_0's ndcg@100: 0.361949\n",
      "[421]\tvalid_0's map@100: 0.258909\tvalid_0's ndcg@100: 0.361971\n",
      "[422]\tvalid_0's map@100: 0.258911\tvalid_0's ndcg@100: 0.361986\n",
      "[423]\tvalid_0's map@100: 0.258906\tvalid_0's ndcg@100: 0.361995\n",
      "[424]\tvalid_0's map@100: 0.25891\tvalid_0's ndcg@100: 0.362008\n",
      "[425]\tvalid_0's map@100: 0.258923\tvalid_0's ndcg@100: 0.361995\n",
      "[426]\tvalid_0's map@100: 0.258925\tvalid_0's ndcg@100: 0.361998\n",
      "[427]\tvalid_0's map@100: 0.258936\tvalid_0's ndcg@100: 0.362028\n",
      "[428]\tvalid_0's map@100: 0.258893\tvalid_0's ndcg@100: 0.361962\n",
      "[429]\tvalid_0's map@100: 0.258891\tvalid_0's ndcg@100: 0.361961\n",
      "[430]\tvalid_0's map@100: 0.258893\tvalid_0's ndcg@100: 0.361952\n",
      "[431]\tvalid_0's map@100: 0.258743\tvalid_0's ndcg@100: 0.36179\n",
      "[432]\tvalid_0's map@100: 0.258878\tvalid_0's ndcg@100: 0.361863\n",
      "[433]\tvalid_0's map@100: 0.258885\tvalid_0's ndcg@100: 0.361892\n",
      "[434]\tvalid_0's map@100: 0.25896\tvalid_0's ndcg@100: 0.361947\n",
      "[435]\tvalid_0's map@100: 0.258959\tvalid_0's ndcg@100: 0.361917\n",
      "[436]\tvalid_0's map@100: 0.258957\tvalid_0's ndcg@100: 0.361889\n",
      "[437]\tvalid_0's map@100: 0.258955\tvalid_0's ndcg@100: 0.361902\n",
      "[438]\tvalid_0's map@100: 0.258951\tvalid_0's ndcg@100: 0.361909\n",
      "[439]\tvalid_0's map@100: 0.258948\tvalid_0's ndcg@100: 0.361915\n",
      "[440]\tvalid_0's map@100: 0.259009\tvalid_0's ndcg@100: 0.361908\n",
      "[441]\tvalid_0's map@100: 0.259012\tvalid_0's ndcg@100: 0.361935\n",
      "[442]\tvalid_0's map@100: 0.259024\tvalid_0's ndcg@100: 0.361967\n",
      "[443]\tvalid_0's map@100: 0.259021\tvalid_0's ndcg@100: 0.36199\n",
      "[444]\tvalid_0's map@100: 0.259057\tvalid_0's ndcg@100: 0.361983\n",
      "[445]\tvalid_0's map@100: 0.259087\tvalid_0's ndcg@100: 0.361996\n",
      "[446]\tvalid_0's map@100: 0.259097\tvalid_0's ndcg@100: 0.362015\n",
      "[447]\tvalid_0's map@100: 0.25905\tvalid_0's ndcg@100: 0.362015\n",
      "[448]\tvalid_0's map@100: 0.259049\tvalid_0's ndcg@100: 0.362013\n",
      "[449]\tvalid_0's map@100: 0.259045\tvalid_0's ndcg@100: 0.362026\n",
      "[450]\tvalid_0's map@100: 0.259056\tvalid_0's ndcg@100: 0.362037\n",
      "[451]\tvalid_0's map@100: 0.259021\tvalid_0's ndcg@100: 0.362024\n",
      "[452]\tvalid_0's map@100: 0.259124\tvalid_0's ndcg@100: 0.362086\n",
      "[453]\tvalid_0's map@100: 0.259126\tvalid_0's ndcg@100: 0.362133\n",
      "[454]\tvalid_0's map@100: 0.259139\tvalid_0's ndcg@100: 0.362133\n",
      "[455]\tvalid_0's map@100: 0.259111\tvalid_0's ndcg@100: 0.362076\n",
      "[456]\tvalid_0's map@100: 0.25908\tvalid_0's ndcg@100: 0.362054\n",
      "[457]\tvalid_0's map@100: 0.259099\tvalid_0's ndcg@100: 0.362104\n",
      "[458]\tvalid_0's map@100: 0.259057\tvalid_0's ndcg@100: 0.362082\n",
      "[459]\tvalid_0's map@100: 0.259027\tvalid_0's ndcg@100: 0.36206\n",
      "[460]\tvalid_0's map@100: 0.259075\tvalid_0's ndcg@100: 0.362085\n",
      "[461]\tvalid_0's map@100: 0.259087\tvalid_0's ndcg@100: 0.362083\n",
      "[462]\tvalid_0's map@100: 0.259238\tvalid_0's ndcg@100: 0.3622\n",
      "[463]\tvalid_0's map@100: 0.259239\tvalid_0's ndcg@100: 0.362212\n",
      "[464]\tvalid_0's map@100: 0.259207\tvalid_0's ndcg@100: 0.362211\n",
      "[465]\tvalid_0's map@100: 0.259184\tvalid_0's ndcg@100: 0.362204\n",
      "[466]\tvalid_0's map@100: 0.259193\tvalid_0's ndcg@100: 0.362179\n",
      "[467]\tvalid_0's map@100: 0.259105\tvalid_0's ndcg@100: 0.362114\n",
      "[468]\tvalid_0's map@100: 0.259089\tvalid_0's ndcg@100: 0.362124\n",
      "[469]\tvalid_0's map@100: 0.259045\tvalid_0's ndcg@100: 0.362066\n",
      "[470]\tvalid_0's map@100: 0.259053\tvalid_0's ndcg@100: 0.362062\n",
      "[471]\tvalid_0's map@100: 0.258969\tvalid_0's ndcg@100: 0.361983\n",
      "[472]\tvalid_0's map@100: 0.259008\tvalid_0's ndcg@100: 0.36201\n",
      "[473]\tvalid_0's map@100: 0.259112\tvalid_0's ndcg@100: 0.362084\n",
      "[474]\tvalid_0's map@100: 0.259115\tvalid_0's ndcg@100: 0.362076\n",
      "[475]\tvalid_0's map@100: 0.259121\tvalid_0's ndcg@100: 0.362081\n",
      "[476]\tvalid_0's map@100: 0.259169\tvalid_0's ndcg@100: 0.362121\n",
      "[477]\tvalid_0's map@100: 0.259181\tvalid_0's ndcg@100: 0.362187\n",
      "[478]\tvalid_0's map@100: 0.2592\tvalid_0's ndcg@100: 0.362169\n",
      "[479]\tvalid_0's map@100: 0.259215\tvalid_0's ndcg@100: 0.362172\n",
      "[480]\tvalid_0's map@100: 0.259185\tvalid_0's ndcg@100: 0.362153\n",
      "[481]\tvalid_0's map@100: 0.259222\tvalid_0's ndcg@100: 0.362207\n",
      "[482]\tvalid_0's map@100: 0.259233\tvalid_0's ndcg@100: 0.36223\n",
      "[483]\tvalid_0's map@100: 0.259238\tvalid_0's ndcg@100: 0.36222\n",
      "[484]\tvalid_0's map@100: 0.259225\tvalid_0's ndcg@100: 0.362197\n",
      "[485]\tvalid_0's map@100: 0.259258\tvalid_0's ndcg@100: 0.3622\n",
      "[486]\tvalid_0's map@100: 0.259225\tvalid_0's ndcg@100: 0.362172\n",
      "[487]\tvalid_0's map@100: 0.259187\tvalid_0's ndcg@100: 0.362157\n",
      "[488]\tvalid_0's map@100: 0.259181\tvalid_0's ndcg@100: 0.36214\n",
      "[489]\tvalid_0's map@100: 0.259176\tvalid_0's ndcg@100: 0.362135\n",
      "[490]\tvalid_0's map@100: 0.259165\tvalid_0's ndcg@100: 0.362115\n",
      "[491]\tvalid_0's map@100: 0.259178\tvalid_0's ndcg@100: 0.362112\n",
      "[492]\tvalid_0's map@100: 0.259201\tvalid_0's ndcg@100: 0.36214\n",
      "[493]\tvalid_0's map@100: 0.259199\tvalid_0's ndcg@100: 0.362152\n",
      "[494]\tvalid_0's map@100: 0.259237\tvalid_0's ndcg@100: 0.36218\n",
      "[495]\tvalid_0's map@100: 0.259154\tvalid_0's ndcg@100: 0.362116\n",
      "[496]\tvalid_0's map@100: 0.259084\tvalid_0's ndcg@100: 0.362044\n",
      "[497]\tvalid_0's map@100: 0.259093\tvalid_0's ndcg@100: 0.362052\n",
      "[498]\tvalid_0's map@100: 0.259092\tvalid_0's ndcg@100: 0.362037\n",
      "[499]\tvalid_0's map@100: 0.259099\tvalid_0's ndcg@100: 0.362033\n",
      "[500]\tvalid_0's map@100: 0.259106\tvalid_0's ndcg@100: 0.362018\n",
      "[501]\tvalid_0's map@100: 0.25908\tvalid_0's ndcg@100: 0.361983\n",
      "[502]\tvalid_0's map@100: 0.259055\tvalid_0's ndcg@100: 0.36198\n",
      "[503]\tvalid_0's map@100: 0.25905\tvalid_0's ndcg@100: 0.361998\n",
      "[504]\tvalid_0's map@100: 0.25905\tvalid_0's ndcg@100: 0.361964\n",
      "[505]\tvalid_0's map@100: 0.259034\tvalid_0's ndcg@100: 0.361974\n",
      "[506]\tvalid_0's map@100: 0.25905\tvalid_0's ndcg@100: 0.362027\n",
      "[507]\tvalid_0's map@100: 0.259092\tvalid_0's ndcg@100: 0.362057\n",
      "[508]\tvalid_0's map@100: 0.259134\tvalid_0's ndcg@100: 0.362075\n",
      "[509]\tvalid_0's map@100: 0.25934\tvalid_0's ndcg@100: 0.362203\n",
      "[510]\tvalid_0's map@100: 0.25934\tvalid_0's ndcg@100: 0.362225\n",
      "[511]\tvalid_0's map@100: 0.259388\tvalid_0's ndcg@100: 0.362274\n",
      "[512]\tvalid_0's map@100: 0.259373\tvalid_0's ndcg@100: 0.362256\n",
      "[513]\tvalid_0's map@100: 0.259418\tvalid_0's ndcg@100: 0.362313\n",
      "[514]\tvalid_0's map@100: 0.25941\tvalid_0's ndcg@100: 0.36231\n",
      "[515]\tvalid_0's map@100: 0.259428\tvalid_0's ndcg@100: 0.362315\n",
      "[516]\tvalid_0's map@100: 0.259343\tvalid_0's ndcg@100: 0.362255\n",
      "[517]\tvalid_0's map@100: 0.259375\tvalid_0's ndcg@100: 0.362281\n",
      "[518]\tvalid_0's map@100: 0.259334\tvalid_0's ndcg@100: 0.362259\n",
      "[519]\tvalid_0's map@100: 0.259342\tvalid_0's ndcg@100: 0.362292\n",
      "[520]\tvalid_0's map@100: 0.259411\tvalid_0's ndcg@100: 0.362346\n",
      "[521]\tvalid_0's map@100: 0.259412\tvalid_0's ndcg@100: 0.362336\n",
      "[522]\tvalid_0's map@100: 0.259401\tvalid_0's ndcg@100: 0.362359\n",
      "[523]\tvalid_0's map@100: 0.259297\tvalid_0's ndcg@100: 0.362231\n",
      "[524]\tvalid_0's map@100: 0.259291\tvalid_0's ndcg@100: 0.362213\n",
      "[525]\tvalid_0's map@100: 0.259296\tvalid_0's ndcg@100: 0.362218\n",
      "[526]\tvalid_0's map@100: 0.259177\tvalid_0's ndcg@100: 0.362103\n",
      "[527]\tvalid_0's map@100: 0.259125\tvalid_0's ndcg@100: 0.362077\n",
      "[528]\tvalid_0's map@100: 0.259124\tvalid_0's ndcg@100: 0.362067\n",
      "[529]\tvalid_0's map@100: 0.259265\tvalid_0's ndcg@100: 0.362197\n",
      "[530]\tvalid_0's map@100: 0.259309\tvalid_0's ndcg@100: 0.362219\n",
      "[531]\tvalid_0's map@100: 0.259341\tvalid_0's ndcg@100: 0.362189\n",
      "[532]\tvalid_0's map@100: 0.259166\tvalid_0's ndcg@100: 0.362078\n",
      "[533]\tvalid_0's map@100: 0.259209\tvalid_0's ndcg@100: 0.36214\n",
      "[534]\tvalid_0's map@100: 0.259189\tvalid_0's ndcg@100: 0.362152\n",
      "[535]\tvalid_0's map@100: 0.259209\tvalid_0's ndcg@100: 0.362171\n",
      "[536]\tvalid_0's map@100: 0.25929\tvalid_0's ndcg@100: 0.362245\n",
      "[537]\tvalid_0's map@100: 0.259342\tvalid_0's ndcg@100: 0.36225\n",
      "[538]\tvalid_0's map@100: 0.259346\tvalid_0's ndcg@100: 0.362254\n",
      "[539]\tvalid_0's map@100: 0.259349\tvalid_0's ndcg@100: 0.362257\n",
      "[540]\tvalid_0's map@100: 0.25938\tvalid_0's ndcg@100: 0.362332\n",
      "[541]\tvalid_0's map@100: 0.259395\tvalid_0's ndcg@100: 0.362357\n",
      "[542]\tvalid_0's map@100: 0.259401\tvalid_0's ndcg@100: 0.362385\n",
      "[543]\tvalid_0's map@100: 0.259425\tvalid_0's ndcg@100: 0.362432\n",
      "[544]\tvalid_0's map@100: 0.259423\tvalid_0's ndcg@100: 0.362383\n",
      "[545]\tvalid_0's map@100: 0.259471\tvalid_0's ndcg@100: 0.362383\n",
      "[546]\tvalid_0's map@100: 0.259473\tvalid_0's ndcg@100: 0.362385\n",
      "[547]\tvalid_0's map@100: 0.259463\tvalid_0's ndcg@100: 0.362361\n",
      "[548]\tvalid_0's map@100: 0.259479\tvalid_0's ndcg@100: 0.362372\n",
      "[549]\tvalid_0's map@100: 0.259471\tvalid_0's ndcg@100: 0.362341\n",
      "[550]\tvalid_0's map@100: 0.259475\tvalid_0's ndcg@100: 0.362381\n",
      "[551]\tvalid_0's map@100: 0.259428\tvalid_0's ndcg@100: 0.362409\n",
      "[552]\tvalid_0's map@100: 0.259428\tvalid_0's ndcg@100: 0.362406\n",
      "[553]\tvalid_0's map@100: 0.259445\tvalid_0's ndcg@100: 0.36243\n",
      "[554]\tvalid_0's map@100: 0.259451\tvalid_0's ndcg@100: 0.362392\n",
      "[555]\tvalid_0's map@100: 0.259418\tvalid_0's ndcg@100: 0.36233\n",
      "[556]\tvalid_0's map@100: 0.259392\tvalid_0's ndcg@100: 0.362346\n",
      "[557]\tvalid_0's map@100: 0.259375\tvalid_0's ndcg@100: 0.36231\n",
      "[558]\tvalid_0's map@100: 0.259376\tvalid_0's ndcg@100: 0.362298\n",
      "[559]\tvalid_0's map@100: 0.259377\tvalid_0's ndcg@100: 0.362299\n",
      "[560]\tvalid_0's map@100: 0.259374\tvalid_0's ndcg@100: 0.362282\n",
      "[561]\tvalid_0's map@100: 0.259386\tvalid_0's ndcg@100: 0.362296\n",
      "[562]\tvalid_0's map@100: 0.259393\tvalid_0's ndcg@100: 0.362313\n",
      "[563]\tvalid_0's map@100: 0.25938\tvalid_0's ndcg@100: 0.362268\n",
      "[564]\tvalid_0's map@100: 0.259348\tvalid_0's ndcg@100: 0.362277\n",
      "[565]\tvalid_0's map@100: 0.259346\tvalid_0's ndcg@100: 0.362287\n",
      "[566]\tvalid_0's map@100: 0.259345\tvalid_0's ndcg@100: 0.362287\n",
      "[567]\tvalid_0's map@100: 0.259321\tvalid_0's ndcg@100: 0.36226\n",
      "[568]\tvalid_0's map@100: 0.259346\tvalid_0's ndcg@100: 0.362257\n",
      "[569]\tvalid_0's map@100: 0.259328\tvalid_0's ndcg@100: 0.362243\n",
      "[570]\tvalid_0's map@100: 0.25937\tvalid_0's ndcg@100: 0.362287\n",
      "[571]\tvalid_0's map@100: 0.259286\tvalid_0's ndcg@100: 0.362227\n",
      "[572]\tvalid_0's map@100: 0.259353\tvalid_0's ndcg@100: 0.362257\n",
      "[573]\tvalid_0's map@100: 0.259388\tvalid_0's ndcg@100: 0.362274\n",
      "[574]\tvalid_0's map@100: 0.259447\tvalid_0's ndcg@100: 0.362325\n",
      "[575]\tvalid_0's map@100: 0.259452\tvalid_0's ndcg@100: 0.362377\n",
      "[576]\tvalid_0's map@100: 0.259516\tvalid_0's ndcg@100: 0.362429\n",
      "[577]\tvalid_0's map@100: 0.259546\tvalid_0's ndcg@100: 0.362474\n",
      "[578]\tvalid_0's map@100: 0.259504\tvalid_0's ndcg@100: 0.362359\n",
      "[579]\tvalid_0's map@100: 0.259534\tvalid_0's ndcg@100: 0.362369\n",
      "[580]\tvalid_0's map@100: 0.25943\tvalid_0's ndcg@100: 0.3623\n",
      "[581]\tvalid_0's map@100: 0.259418\tvalid_0's ndcg@100: 0.362302\n",
      "[582]\tvalid_0's map@100: 0.259398\tvalid_0's ndcg@100: 0.36229\n",
      "[583]\tvalid_0's map@100: 0.259502\tvalid_0's ndcg@100: 0.362377\n",
      "[584]\tvalid_0's map@100: 0.259501\tvalid_0's ndcg@100: 0.36239\n",
      "[585]\tvalid_0's map@100: 0.25951\tvalid_0's ndcg@100: 0.36241\n",
      "[586]\tvalid_0's map@100: 0.259517\tvalid_0's ndcg@100: 0.362441\n",
      "[587]\tvalid_0's map@100: 0.259506\tvalid_0's ndcg@100: 0.362467\n",
      "[588]\tvalid_0's map@100: 0.25953\tvalid_0's ndcg@100: 0.362499\n",
      "[589]\tvalid_0's map@100: 0.259626\tvalid_0's ndcg@100: 0.362571\n",
      "[590]\tvalid_0's map@100: 0.259705\tvalid_0's ndcg@100: 0.362629\n",
      "[591]\tvalid_0's map@100: 0.259654\tvalid_0's ndcg@100: 0.362569\n",
      "[592]\tvalid_0's map@100: 0.259991\tvalid_0's ndcg@100: 0.362814\n",
      "[593]\tvalid_0's map@100: 0.260044\tvalid_0's ndcg@100: 0.36287\n",
      "[594]\tvalid_0's map@100: 0.259999\tvalid_0's ndcg@100: 0.362871\n",
      "[595]\tvalid_0's map@100: 0.260139\tvalid_0's ndcg@100: 0.363001\n",
      "[596]\tvalid_0's map@100: 0.260133\tvalid_0's ndcg@100: 0.36295\n",
      "[597]\tvalid_0's map@100: 0.260228\tvalid_0's ndcg@100: 0.363034\n",
      "[598]\tvalid_0's map@100: 0.260258\tvalid_0's ndcg@100: 0.36308\n",
      "[599]\tvalid_0's map@100: 0.260268\tvalid_0's ndcg@100: 0.363088\n",
      "[600]\tvalid_0's map@100: 0.26035\tvalid_0's ndcg@100: 0.363162\n",
      "[601]\tvalid_0's map@100: 0.260353\tvalid_0's ndcg@100: 0.363167\n",
      "[602]\tvalid_0's map@100: 0.260352\tvalid_0's ndcg@100: 0.363131\n",
      "[603]\tvalid_0's map@100: 0.260372\tvalid_0's ndcg@100: 0.363185\n",
      "[604]\tvalid_0's map@100: 0.260372\tvalid_0's ndcg@100: 0.363192\n",
      "[605]\tvalid_0's map@100: 0.260411\tvalid_0's ndcg@100: 0.363222\n",
      "[606]\tvalid_0's map@100: 0.260398\tvalid_0's ndcg@100: 0.363213\n",
      "[607]\tvalid_0's map@100: 0.260358\tvalid_0's ndcg@100: 0.36315\n",
      "[608]\tvalid_0's map@100: 0.260357\tvalid_0's ndcg@100: 0.363162\n",
      "[609]\tvalid_0's map@100: 0.260354\tvalid_0's ndcg@100: 0.363194\n",
      "[610]\tvalid_0's map@100: 0.260336\tvalid_0's ndcg@100: 0.363178\n",
      "[611]\tvalid_0's map@100: 0.260333\tvalid_0's ndcg@100: 0.363173\n",
      "[612]\tvalid_0's map@100: 0.260321\tvalid_0's ndcg@100: 0.363152\n",
      "[613]\tvalid_0's map@100: 0.260324\tvalid_0's ndcg@100: 0.363142\n",
      "[614]\tvalid_0's map@100: 0.260321\tvalid_0's ndcg@100: 0.363104\n",
      "[615]\tvalid_0's map@100: 0.260327\tvalid_0's ndcg@100: 0.363144\n",
      "[616]\tvalid_0's map@100: 0.260327\tvalid_0's ndcg@100: 0.363154\n",
      "[617]\tvalid_0's map@100: 0.260377\tvalid_0's ndcg@100: 0.36318\n",
      "[618]\tvalid_0's map@100: 0.260345\tvalid_0's ndcg@100: 0.363133\n",
      "[619]\tvalid_0's map@100: 0.260365\tvalid_0's ndcg@100: 0.363126\n",
      "[620]\tvalid_0's map@100: 0.260294\tvalid_0's ndcg@100: 0.363061\n",
      "[621]\tvalid_0's map@100: 0.260306\tvalid_0's ndcg@100: 0.363072\n",
      "[622]\tvalid_0's map@100: 0.26023\tvalid_0's ndcg@100: 0.363051\n",
      "[623]\tvalid_0's map@100: 0.260268\tvalid_0's ndcg@100: 0.363077\n",
      "[624]\tvalid_0's map@100: 0.260266\tvalid_0's ndcg@100: 0.363085\n",
      "[625]\tvalid_0's map@100: 0.260352\tvalid_0's ndcg@100: 0.36315\n",
      "[626]\tvalid_0's map@100: 0.260357\tvalid_0's ndcg@100: 0.363143\n",
      "[627]\tvalid_0's map@100: 0.26039\tvalid_0's ndcg@100: 0.363166\n",
      "[628]\tvalid_0's map@100: 0.260418\tvalid_0's ndcg@100: 0.363201\n",
      "[629]\tvalid_0's map@100: 0.260491\tvalid_0's ndcg@100: 0.363258\n",
      "[630]\tvalid_0's map@100: 0.260543\tvalid_0's ndcg@100: 0.363296\n",
      "[631]\tvalid_0's map@100: 0.26055\tvalid_0's ndcg@100: 0.363292\n",
      "[632]\tvalid_0's map@100: 0.260583\tvalid_0's ndcg@100: 0.363343\n",
      "[633]\tvalid_0's map@100: 0.260593\tvalid_0's ndcg@100: 0.363352\n",
      "[634]\tvalid_0's map@100: 0.260595\tvalid_0's ndcg@100: 0.363388\n",
      "[635]\tvalid_0's map@100: 0.260606\tvalid_0's ndcg@100: 0.363374\n",
      "[636]\tvalid_0's map@100: 0.260544\tvalid_0's ndcg@100: 0.363323\n",
      "[637]\tvalid_0's map@100: 0.260456\tvalid_0's ndcg@100: 0.363236\n",
      "[638]\tvalid_0's map@100: 0.26045\tvalid_0's ndcg@100: 0.363206\n",
      "[639]\tvalid_0's map@100: 0.260526\tvalid_0's ndcg@100: 0.36324\n",
      "[640]\tvalid_0's map@100: 0.260512\tvalid_0's ndcg@100: 0.363253\n",
      "[641]\tvalid_0's map@100: 0.260397\tvalid_0's ndcg@100: 0.363163\n",
      "[642]\tvalid_0's map@100: 0.260315\tvalid_0's ndcg@100: 0.363077\n",
      "[643]\tvalid_0's map@100: 0.260345\tvalid_0's ndcg@100: 0.363111\n",
      "[644]\tvalid_0's map@100: 0.260368\tvalid_0's ndcg@100: 0.363097\n",
      "[645]\tvalid_0's map@100: 0.260363\tvalid_0's ndcg@100: 0.363083\n",
      "[646]\tvalid_0's map@100: 0.260247\tvalid_0's ndcg@100: 0.36299\n",
      "[647]\tvalid_0's map@100: 0.26028\tvalid_0's ndcg@100: 0.362992\n",
      "[648]\tvalid_0's map@100: 0.260223\tvalid_0's ndcg@100: 0.362971\n",
      "[649]\tvalid_0's map@100: 0.260179\tvalid_0's ndcg@100: 0.362941\n",
      "[650]\tvalid_0's map@100: 0.260259\tvalid_0's ndcg@100: 0.363013\n",
      "[651]\tvalid_0's map@100: 0.260258\tvalid_0's ndcg@100: 0.362988\n",
      "[652]\tvalid_0's map@100: 0.26026\tvalid_0's ndcg@100: 0.362992\n",
      "[653]\tvalid_0's map@100: 0.26026\tvalid_0's ndcg@100: 0.36298\n",
      "[654]\tvalid_0's map@100: 0.260285\tvalid_0's ndcg@100: 0.363011\n",
      "[655]\tvalid_0's map@100: 0.260288\tvalid_0's ndcg@100: 0.363039\n",
      "[656]\tvalid_0's map@100: 0.260286\tvalid_0's ndcg@100: 0.363036\n",
      "[657]\tvalid_0's map@100: 0.26029\tvalid_0's ndcg@100: 0.363048\n",
      "[658]\tvalid_0's map@100: 0.260279\tvalid_0's ndcg@100: 0.363027\n",
      "[659]\tvalid_0's map@100: 0.260274\tvalid_0's ndcg@100: 0.362998\n",
      "[660]\tvalid_0's map@100: 0.260286\tvalid_0's ndcg@100: 0.36301\n",
      "[661]\tvalid_0's map@100: 0.260282\tvalid_0's ndcg@100: 0.362998\n",
      "[662]\tvalid_0's map@100: 0.260367\tvalid_0's ndcg@100: 0.363049\n",
      "[663]\tvalid_0's map@100: 0.260353\tvalid_0's ndcg@100: 0.363049\n",
      "[664]\tvalid_0's map@100: 0.260277\tvalid_0's ndcg@100: 0.363005\n",
      "[665]\tvalid_0's map@100: 0.260357\tvalid_0's ndcg@100: 0.363076\n",
      "[666]\tvalid_0's map@100: 0.260366\tvalid_0's ndcg@100: 0.363093\n",
      "[667]\tvalid_0's map@100: 0.260332\tvalid_0's ndcg@100: 0.363077\n",
      "[668]\tvalid_0's map@100: 0.260341\tvalid_0's ndcg@100: 0.363074\n",
      "[669]\tvalid_0's map@100: 0.260404\tvalid_0's ndcg@100: 0.363113\n",
      "[670]\tvalid_0's map@100: 0.260365\tvalid_0's ndcg@100: 0.363085\n",
      "[671]\tvalid_0's map@100: 0.260287\tvalid_0's ndcg@100: 0.363041\n",
      "[672]\tvalid_0's map@100: 0.260393\tvalid_0's ndcg@100: 0.363179\n",
      "[673]\tvalid_0's map@100: 0.260526\tvalid_0's ndcg@100: 0.363302\n",
      "[674]\tvalid_0's map@100: 0.260534\tvalid_0's ndcg@100: 0.363309\n",
      "[675]\tvalid_0's map@100: 0.260491\tvalid_0's ndcg@100: 0.363277\n",
      "[676]\tvalid_0's map@100: 0.260509\tvalid_0's ndcg@100: 0.36329\n",
      "[677]\tvalid_0's map@100: 0.260548\tvalid_0's ndcg@100: 0.363319\n",
      "[678]\tvalid_0's map@100: 0.260583\tvalid_0's ndcg@100: 0.36333\n",
      "[679]\tvalid_0's map@100: 0.260592\tvalid_0's ndcg@100: 0.363338\n",
      "[680]\tvalid_0's map@100: 0.260637\tvalid_0's ndcg@100: 0.363371\n",
      "[681]\tvalid_0's map@100: 0.260654\tvalid_0's ndcg@100: 0.363383\n",
      "[682]\tvalid_0's map@100: 0.260555\tvalid_0's ndcg@100: 0.363306\n",
      "[683]\tvalid_0's map@100: 0.26051\tvalid_0's ndcg@100: 0.363263\n",
      "[684]\tvalid_0's map@100: 0.260426\tvalid_0's ndcg@100: 0.363216\n",
      "[685]\tvalid_0's map@100: 0.260289\tvalid_0's ndcg@100: 0.363104\n",
      "[686]\tvalid_0's map@100: 0.260391\tvalid_0's ndcg@100: 0.363202\n",
      "[687]\tvalid_0's map@100: 0.260449\tvalid_0's ndcg@100: 0.36325\n",
      "[688]\tvalid_0's map@100: 0.260492\tvalid_0's ndcg@100: 0.363266\n",
      "[689]\tvalid_0's map@100: 0.260406\tvalid_0's ndcg@100: 0.363191\n",
      "[690]\tvalid_0's map@100: 0.260509\tvalid_0's ndcg@100: 0.363255\n",
      "[691]\tvalid_0's map@100: 0.260669\tvalid_0's ndcg@100: 0.363387\n",
      "[692]\tvalid_0's map@100: 0.260663\tvalid_0's ndcg@100: 0.36337\n",
      "[693]\tvalid_0's map@100: 0.260616\tvalid_0's ndcg@100: 0.363344\n",
      "[694]\tvalid_0's map@100: 0.260688\tvalid_0's ndcg@100: 0.363374\n",
      "[695]\tvalid_0's map@100: 0.260758\tvalid_0's ndcg@100: 0.363424\n",
      "[696]\tvalid_0's map@100: 0.260829\tvalid_0's ndcg@100: 0.363478\n",
      "[697]\tvalid_0's map@100: 0.260843\tvalid_0's ndcg@100: 0.363502\n",
      "[698]\tvalid_0's map@100: 0.260882\tvalid_0's ndcg@100: 0.363495\n",
      "[699]\tvalid_0's map@100: 0.260891\tvalid_0's ndcg@100: 0.363466\n",
      "[700]\tvalid_0's map@100: 0.260914\tvalid_0's ndcg@100: 0.363484\n",
      "[701]\tvalid_0's map@100: 0.260871\tvalid_0's ndcg@100: 0.363476\n",
      "[702]\tvalid_0's map@100: 0.260886\tvalid_0's ndcg@100: 0.363502\n",
      "[703]\tvalid_0's map@100: 0.260903\tvalid_0's ndcg@100: 0.363494\n",
      "[704]\tvalid_0's map@100: 0.260875\tvalid_0's ndcg@100: 0.363474\n",
      "[705]\tvalid_0's map@100: 0.260855\tvalid_0's ndcg@100: 0.36347\n",
      "[706]\tvalid_0's map@100: 0.260861\tvalid_0's ndcg@100: 0.363477\n",
      "[707]\tvalid_0's map@100: 0.260852\tvalid_0's ndcg@100: 0.36348\n",
      "[708]\tvalid_0's map@100: 0.260881\tvalid_0's ndcg@100: 0.363521\n",
      "[709]\tvalid_0's map@100: 0.260873\tvalid_0's ndcg@100: 0.363527\n",
      "[710]\tvalid_0's map@100: 0.260886\tvalid_0's ndcg@100: 0.363526\n",
      "[711]\tvalid_0's map@100: 0.26087\tvalid_0's ndcg@100: 0.363514\n",
      "[712]\tvalid_0's map@100: 0.260856\tvalid_0's ndcg@100: 0.363501\n",
      "[713]\tvalid_0's map@100: 0.26084\tvalid_0's ndcg@100: 0.363474\n",
      "[714]\tvalid_0's map@100: 0.260856\tvalid_0's ndcg@100: 0.363525\n",
      "[715]\tvalid_0's map@100: 0.260849\tvalid_0's ndcg@100: 0.36352\n",
      "[716]\tvalid_0's map@100: 0.260844\tvalid_0's ndcg@100: 0.363517\n",
      "[717]\tvalid_0's map@100: 0.260837\tvalid_0's ndcg@100: 0.363521\n",
      "[718]\tvalid_0's map@100: 0.260817\tvalid_0's ndcg@100: 0.36352\n",
      "[719]\tvalid_0's map@100: 0.260826\tvalid_0's ndcg@100: 0.363525\n",
      "[720]\tvalid_0's map@100: 0.260828\tvalid_0's ndcg@100: 0.363528\n",
      "[721]\tvalid_0's map@100: 0.260801\tvalid_0's ndcg@100: 0.363495\n",
      "[722]\tvalid_0's map@100: 0.26085\tvalid_0's ndcg@100: 0.363562\n",
      "[723]\tvalid_0's map@100: 0.260808\tvalid_0's ndcg@100: 0.363529\n",
      "[724]\tvalid_0's map@100: 0.260705\tvalid_0's ndcg@100: 0.36344\n",
      "[725]\tvalid_0's map@100: 0.260631\tvalid_0's ndcg@100: 0.363395\n",
      "[726]\tvalid_0's map@100: 0.2607\tvalid_0's ndcg@100: 0.36343\n",
      "[727]\tvalid_0's map@100: 0.260718\tvalid_0's ndcg@100: 0.36347\n",
      "[728]\tvalid_0's map@100: 0.260732\tvalid_0's ndcg@100: 0.36347\n",
      "[729]\tvalid_0's map@100: 0.260743\tvalid_0's ndcg@100: 0.363479\n",
      "[730]\tvalid_0's map@100: 0.260718\tvalid_0's ndcg@100: 0.363473\n",
      "[731]\tvalid_0's map@100: 0.260729\tvalid_0's ndcg@100: 0.363485\n",
      "[732]\tvalid_0's map@100: 0.260724\tvalid_0's ndcg@100: 0.363531\n",
      "[733]\tvalid_0's map@100: 0.260724\tvalid_0's ndcg@100: 0.363497\n",
      "[734]\tvalid_0's map@100: 0.260701\tvalid_0's ndcg@100: 0.36351\n",
      "[735]\tvalid_0's map@100: 0.260692\tvalid_0's ndcg@100: 0.363492\n",
      "[736]\tvalid_0's map@100: 0.260692\tvalid_0's ndcg@100: 0.363445\n",
      "[737]\tvalid_0's map@100: 0.260645\tvalid_0's ndcg@100: 0.363421\n",
      "[738]\tvalid_0's map@100: 0.260653\tvalid_0's ndcg@100: 0.36344\n",
      "[739]\tvalid_0's map@100: 0.260747\tvalid_0's ndcg@100: 0.363489\n",
      "[740]\tvalid_0's map@100: 0.260698\tvalid_0's ndcg@100: 0.363463\n",
      "[741]\tvalid_0's map@100: 0.260691\tvalid_0's ndcg@100: 0.363466\n",
      "[742]\tvalid_0's map@100: 0.260697\tvalid_0's ndcg@100: 0.363447\n",
      "[743]\tvalid_0's map@100: 0.260691\tvalid_0's ndcg@100: 0.363439\n",
      "[744]\tvalid_0's map@100: 0.260698\tvalid_0's ndcg@100: 0.363436\n",
      "[745]\tvalid_0's map@100: 0.2607\tvalid_0's ndcg@100: 0.363428\n",
      "[746]\tvalid_0's map@100: 0.260665\tvalid_0's ndcg@100: 0.36338\n",
      "[747]\tvalid_0's map@100: 0.260677\tvalid_0's ndcg@100: 0.363412\n",
      "[748]\tvalid_0's map@100: 0.260663\tvalid_0's ndcg@100: 0.363399\n",
      "[749]\tvalid_0's map@100: 0.260672\tvalid_0's ndcg@100: 0.363375\n",
      "[750]\tvalid_0's map@100: 0.260677\tvalid_0's ndcg@100: 0.363341\n",
      "Early stopping, best iteration is:\n",
      "[700]\tvalid_0's map@100: 0.260914\tvalid_0's ndcg@100: 0.363484\n",
      "Evaluated only: map@100\n"
     ]
    }
   ],
   "source": [
    "ranker=model.fit(\n",
    "    X=X_train,\n",
    "    y=y_train,\n",
    "    group=qids_train,\n",
    "    eval_set=[(X_valid, y_valid)],\n",
    "    eval_group=[qids_valid],\n",
    "    eval_at=(100),\n",
    "    callbacks=[lightgbm.log_evaluation(),lightgbm.early_stopping(50,first_metric_only=True)],\n",
    "    #verbose=10,\n",
    "    eval_metric=[\"map\",\"ndcg\"]\n",
    ")\n"
   ]
  },
  {
   "cell_type": "code",
   "execution_count": 32,
   "id": "8726dd2e",
   "metadata": {
    "execution": {
     "iopub.execute_input": "2022-06-12T16:42:56.780356Z",
     "iopub.status.busy": "2022-06-12T16:42:56.779492Z",
     "iopub.status.idle": "2022-06-12T16:42:56.784007Z",
     "shell.execute_reply": "2022-06-12T16:42:56.783264Z"
    },
    "papermill": {
     "duration": 0.141916,
     "end_time": "2022-06-12T16:42:56.784213",
     "exception": false,
     "start_time": "2022-06-12T16:42:56.642297",
     "status": "completed"
    },
    "tags": []
   },
   "outputs": [
    {
     "name": "stdout",
     "output_type": "stream",
     "text": [
      "48928\n"
     ]
    }
   ],
   "source": [
    "print(len(qids_train))"
   ]
  },
  {
   "cell_type": "code",
   "execution_count": 33,
   "id": "5062efbc",
   "metadata": {
    "execution": {
     "iopub.execute_input": "2022-06-12T16:42:57.046659Z",
     "iopub.status.busy": "2022-06-12T16:42:57.045932Z",
     "iopub.status.idle": "2022-06-12T16:42:57.886048Z",
     "shell.execute_reply": "2022-06-12T16:42:57.884692Z"
    },
    "papermill": {
     "duration": 0.974595,
     "end_time": "2022-06-12T16:42:57.886545",
     "exception": false,
     "start_time": "2022-06-12T16:42:56.911950",
     "status": "completed"
    },
    "tags": []
   },
   "outputs": [
    {
     "data": {
      "text/plain": "<Figure size 1440x720 with 1 Axes>",
      "image/png": "[encoded data removed]"
     },
     "metadata": {
      "needs_background": "light"
     },
     "output_type": "display_data"
    },
    {
     "data": {
      "text/plain": "<Figure size 432x288 with 0 Axes>"
     },
     "metadata": {},
     "output_type": "display_data"
    }
   ],
   "source": [
    "import matplotlib.pyplot as plt\n",
    "import seaborn as sns\n",
    "import warnings\n",
    "warnings.simplefilter(action='ignore', category=FutureWarning)\n",
    "\n",
    "# sorted(zip(clf.feature_importances_, X.columns), reverse=True)\n",
    "feature_imp = pd.DataFrame(sorted(zip(ranker.feature_importances_,X_train.columns)), columns=['Value','Feature'])\n",
    "\n",
    "plt.figure(figsize=(20, 10))\n",
    "sns.barplot(x=\"Value\", y=\"Feature\", data=feature_imp.sort_values(by=\"Value\", ascending=False))\n",
    "plt.title('LightGBM Features')\n",
    "plt.tight_layout()\n",
    "plt.show()\n",
    "plt.savefig('lgbm_importances-01.png')"
   ]
  },
  {
   "cell_type": "code",
   "execution_count": 34,
   "id": "e662942c",
   "metadata": {
    "execution": {
     "iopub.execute_input": "2022-06-12T16:42:58.453378Z",
     "iopub.status.busy": "2022-06-12T16:42:58.451556Z",
     "iopub.status.idle": "2022-06-12T16:42:58.514955Z",
     "shell.execute_reply": "2022-06-12T16:42:58.518637Z"
    },
    "papermill": {
     "duration": 0.369722,
     "end_time": "2022-06-12T16:42:58.519362",
     "exception": false,
     "start_time": "2022-06-12T16:42:58.149640",
     "status": "completed"
    },
    "tags": []
   },
   "outputs": [
    {
     "data": {
      "text/plain": "<lightgbm.basic.Booster at 0x14389a610>"
     },
     "execution_count": 34,
     "metadata": {},
     "output_type": "execute_result"
    }
   ],
   "source": [
    "ranker.booster_.save_model('mode.txt')"
   ]
  },
  {
   "cell_type": "code",
   "execution_count": 34,
   "outputs": [],
   "source": [],
   "metadata": {
    "collapsed": false,
    "pycharm": {
     "name": "#%%\n"
    }
   }
  }
 ],
 "metadata": {
  "kernelspec": {
   "display_name": "Python 3",
   "language": "python",
   "name": "python3"
  },
  "language_info": {
   "codemirror_mode": {
    "name": "ipython",
    "version": 3
   },
   "file_extension": ".py",
   "mimetype": "text/x-python",
   "name": "python",
   "nbconvert_exporter": "python",
   "pygments_lexer": "ipython3",
   "version": "3.7.12"
  },
  "papermill": {
   "default_parameters": {},
   "duration": 1137.20113,
   "end_time": "2022-06-12T16:43:01.444276",
   "environment_variables": {},
   "exception": null,
   "input_path": "__notebook__.ipynb",
   "output_path": "__notebook__.ipynb",
   "parameters": {},
   "start_time": "2022-06-12T16:24:04.243146",
   "version": "2.3.3"
  }
 },
 "nbformat": 4,
 "nbformat_minor": 5
}