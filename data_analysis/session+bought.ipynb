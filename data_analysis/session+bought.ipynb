{
 "cells": [
  {
   "cell_type": "code",
   "execution_count": 1,
   "metadata": {},
   "outputs": [],
   "source": [
    "import pandas as pd\n",
    "import numpy as np\n",
    "import matplotlib.pyplot as plt\n",
    "import seaborn as sns\n",
    "plt.style.use('dark_background')"
   ]
  },
  {
   "cell_type": "markdown",
   "metadata": {},
   "source": [
    "# Prepare dataset"
   ]
  },
  {
   "cell_type": "code",
   "execution_count": 2,
   "metadata": {},
   "outputs": [],
   "source": [
    "train_sessions = pd.read_csv(\n",
    "    'train_sessions.csv',\n",
    "    parse_dates=['date'], \n",
    "    infer_datetime_format=True\n",
    "    )\n",
    "train_bought= pd.read_csv(\n",
    "    'train_purchases.csv',\n",
    "    parse_dates=['date'], \n",
    "    infer_datetime_format=True\n",
    "    )\n",
    "train_sessions =pd.concat([train_sessions,train_bought])"
   ]
  },
  {
   "cell_type": "code",
   "execution_count": 3,
   "metadata": {},
   "outputs": [],
   "source": [
    "test_sessions = pd.read_csv(\n",
    "    'test_final_sessions.csv',\n",
    "    parse_dates=['date'], \n",
    "    infer_datetime_format=True\n",
    "    )\n",
    "test_sessions_lb = pd.read_csv(\n",
    "    'test_leaderboard_sessions.csv',\n",
    "    parse_dates=['date'], \n",
    "    infer_datetime_format=True\n",
    "    )\n",
    "test_sessions=pd.concat([test_sessions,test_sessions_lb])"
   ]
  },
  {
   "cell_type": "code",
   "execution_count": 4,
   "metadata": {},
   "outputs": [
    {
     "data": {
      "text/html": [
       "<div>\n",
       "<style scoped>\n",
       "    .dataframe tbody tr th:only-of-type {\n",
       "        vertical-align: middle;\n",
       "    }\n",
       "\n",
       "    .dataframe tbody tr th {\n",
       "        vertical-align: top;\n",
       "    }\n",
       "\n",
       "    .dataframe thead th {\n",
       "        text-align: right;\n",
       "    }\n",
       "</style>\n",
       "<table border=\"1\" class=\"dataframe\">\n",
       "  <thead>\n",
       "    <tr style=\"text-align: right;\">\n",
       "      <th></th>\n",
       "      <th>session_id</th>\n",
       "      <th>item_id</th>\n",
       "    </tr>\n",
       "  </thead>\n",
       "  <tbody>\n",
       "    <tr>\n",
       "      <th>0</th>\n",
       "      <td>3</td>\n",
       "      <td>[9769, 9769, 12492]</td>\n",
       "    </tr>\n",
       "    <tr>\n",
       "      <th>1</th>\n",
       "      <td>13</td>\n",
       "      <td>[12783, 3299]</td>\n",
       "    </tr>\n",
       "    <tr>\n",
       "      <th>2</th>\n",
       "      <td>18</td>\n",
       "      <td>[14116, 6166, 6924, 17411]</td>\n",
       "    </tr>\n",
       "    <tr>\n",
       "      <th>3</th>\n",
       "      <td>19</td>\n",
       "      <td>[4546, 8092, 17752, 14975, 9083, 9079, 7096, 8...</td>\n",
       "    </tr>\n",
       "    <tr>\n",
       "      <th>4</th>\n",
       "      <td>24</td>\n",
       "      <td>[6381, 10784, 6381, 23669, 5215, 2842, 10162, ...</td>\n",
       "    </tr>\n",
       "    <tr>\n",
       "      <th>...</th>\n",
       "      <td>...</td>\n",
       "      <td>...</td>\n",
       "    </tr>\n",
       "    <tr>\n",
       "      <th>999995</th>\n",
       "      <td>4439986</td>\n",
       "      <td>[2464, 3424, 2381, 4167, 4902, 2204, 554]</td>\n",
       "    </tr>\n",
       "    <tr>\n",
       "      <th>999996</th>\n",
       "      <td>4439990</td>\n",
       "      <td>[5648, 15997, 1425, 3037, 5523, 6925, 13664, 6...</td>\n",
       "    </tr>\n",
       "    <tr>\n",
       "      <th>999997</th>\n",
       "      <td>4439994</td>\n",
       "      <td>[4493, 3836]</td>\n",
       "    </tr>\n",
       "    <tr>\n",
       "      <th>999998</th>\n",
       "      <td>4439999</td>\n",
       "      <td>[11487, 9163, 5607, 6006, 7907, 1539, 12884, 1...</td>\n",
       "    </tr>\n",
       "    <tr>\n",
       "      <th>999999</th>\n",
       "      <td>4440001</td>\n",
       "      <td>[4478, 9976, 18411, 14719, 13967, 3630, 4478, ...</td>\n",
       "    </tr>\n",
       "  </tbody>\n",
       "</table>\n",
       "<p>1000000 rows × 2 columns</p>\n",
       "</div>"
      ],
      "text/plain": [
       "        session_id                                            item_id\n",
       "0                3                                [9769, 9769, 12492]\n",
       "1               13                                      [12783, 3299]\n",
       "2               18                         [14116, 6166, 6924, 17411]\n",
       "3               19  [4546, 8092, 17752, 14975, 9083, 9079, 7096, 8...\n",
       "4               24  [6381, 10784, 6381, 23669, 5215, 2842, 10162, ...\n",
       "...            ...                                                ...\n",
       "999995     4439986          [2464, 3424, 2381, 4167, 4902, 2204, 554]\n",
       "999996     4439990  [5648, 15997, 1425, 3037, 5523, 6925, 13664, 6...\n",
       "999997     4439994                                       [4493, 3836]\n",
       "999998     4439999  [11487, 9163, 5607, 6006, 7907, 1539, 12884, 1...\n",
       "999999     4440001  [4478, 9976, 18411, 14719, 13967, 3630, 4478, ...\n",
       "\n",
       "[1000000 rows x 2 columns]"
      ]
     },
     "execution_count": 4,
     "metadata": {},
     "output_type": "execute_result"
    }
   ],
   "source": [
    "session_list = train_sessions[['session_id', 'item_id']].groupby(['session_id']).agg(tuple).applymap(list).reset_index()\n",
    "session_date = train_sessions[['session_id', 'date']].groupby(['session_id']).agg(['min','max',\"mean\"]).reset_index()\n",
    "\n",
    "session_list.rename({\"item_id\":\"session\"})"
   ]
  },
  {
   "cell_type": "code",
   "execution_count": 5,
   "metadata": {},
   "outputs": [],
   "source": [
    "session_date.columns = session_date.columns.droplevel()\n",
    "session_date.columns = [\"session_id\",\"min\",\"max\",\"mean\"]\n",
    "#remove min from mean to get average time distance between clicks\n"
   ]
  },
  {
   "cell_type": "code",
   "execution_count": 96,
   "metadata": {},
   "outputs": [],
   "source": [
    "session=session_date.merge(session_list,how=\"left\",on=\"session_id\")"
   ]
  },
  {
   "cell_type": "code",
   "execution_count": 97,
   "metadata": {},
   "outputs": [],
   "source": [
    "session[\"length_all\"]=session[\"item_id\"].apply(lambda x: len(x))\n",
    "session[\"length_unique\"]=session[\"item_id\"].apply(lambda x: len(set(x)))\n",
    "session[\"repeated_count\"] = session[\"length_all\"] -session[\"length_unique\"]\n",
    "session[\"mean\"] = (session_date[\"max\"]-session_date[\"min\"])/session[\"length_all\"]\n",
    "session[\"month\"] =session[\"min\"].dt.month\n",
    "session[\"year\"] =session[\"min\"].dt.year\n",
    "session[\"day_of_week\"] = session[\"min\"].dt.dayofweek\n",
    "session[\"hour_start\"] = session[\"min\"].dt.hour\n",
    "session[\"hour_end\"]  = session[\"max\"].dt.hour\n",
    "session[\"length\"] = session[\"max\"]-session[\"min\"]"
   ]
  },
  {
   "cell_type": "code",
   "execution_count": 98,
   "metadata": {},
   "outputs": [],
   "source": [
    "session[\"mean_minutes\"]=(session[\"mean\"].dt.total_seconds()/60).astype(int)\n",
    "session[\"length_hours\"]=(session[\"length\"].dt.total_seconds()/3600).astype(int)\n",
    "session[\"length_minutes\"]=(session[\"length\"].dt.total_seconds()/60).astype(int)\n"
   ]
  },
  {
   "cell_type": "code",
   "execution_count": 9,
   "metadata": {},
   "outputs": [
    {
     "data": {
      "text/html": [
       "<div>\n",
       "<style scoped>\n",
       "    .dataframe tbody tr th:only-of-type {\n",
       "        vertical-align: middle;\n",
       "    }\n",
       "\n",
       "    .dataframe tbody tr th {\n",
       "        vertical-align: top;\n",
       "    }\n",
       "\n",
       "    .dataframe thead th {\n",
       "        text-align: right;\n",
       "    }\n",
       "</style>\n",
       "<table border=\"1\" class=\"dataframe\">\n",
       "  <thead>\n",
       "    <tr style=\"text-align: right;\">\n",
       "      <th></th>\n",
       "      <th>session_id</th>\n",
       "      <th>min</th>\n",
       "      <th>max</th>\n",
       "      <th>mean</th>\n",
       "      <th>item_id</th>\n",
       "      <th>length_all</th>\n",
       "      <th>length_unique</th>\n",
       "      <th>repeated_count</th>\n",
       "      <th>month</th>\n",
       "      <th>year</th>\n",
       "      <th>day_of_week</th>\n",
       "      <th>hour_start</th>\n",
       "      <th>hour_end</th>\n",
       "      <th>length</th>\n",
       "      <th>mean_minutes</th>\n",
       "      <th>length_hours</th>\n",
       "      <th>length_minutes</th>\n",
       "    </tr>\n",
       "  </thead>\n",
       "  <tbody>\n",
       "    <tr>\n",
       "      <th>0</th>\n",
       "      <td>3</td>\n",
       "      <td>2020-12-18 21:19:48.093</td>\n",
       "      <td>2020-12-18 21:26:47.986</td>\n",
       "      <td>0 days 00:02:19.964333333</td>\n",
       "      <td>[9769, 9769, 12492]</td>\n",
       "      <td>3</td>\n",
       "      <td>2</td>\n",
       "      <td>1</td>\n",
       "      <td>12</td>\n",
       "      <td>2020</td>\n",
       "      <td>4</td>\n",
       "      <td>21</td>\n",
       "      <td>21</td>\n",
       "      <td>0 days 00:06:59.893000</td>\n",
       "      <td>2</td>\n",
       "      <td>0</td>\n",
       "      <td>6</td>\n",
       "    </tr>\n",
       "    <tr>\n",
       "      <th>1</th>\n",
       "      <td>13</td>\n",
       "      <td>2020-03-13 19:35:27.136</td>\n",
       "      <td>2020-03-13 19:36:15.507</td>\n",
       "      <td>0 days 00:00:24.185500</td>\n",
       "      <td>[12783, 3299]</td>\n",
       "      <td>2</td>\n",
       "      <td>2</td>\n",
       "      <td>0</td>\n",
       "      <td>3</td>\n",
       "      <td>2020</td>\n",
       "      <td>4</td>\n",
       "      <td>19</td>\n",
       "      <td>19</td>\n",
       "      <td>0 days 00:00:48.371000</td>\n",
       "      <td>0</td>\n",
       "      <td>0</td>\n",
       "      <td>0</td>\n",
       "    </tr>\n",
       "    <tr>\n",
       "      <th>2</th>\n",
       "      <td>18</td>\n",
       "      <td>2020-08-26 19:15:47.232</td>\n",
       "      <td>2020-08-26 19:20:32.049</td>\n",
       "      <td>0 days 00:01:11.204250</td>\n",
       "      <td>[14116, 6166, 6924, 17411]</td>\n",
       "      <td>4</td>\n",
       "      <td>4</td>\n",
       "      <td>0</td>\n",
       "      <td>8</td>\n",
       "      <td>2020</td>\n",
       "      <td>2</td>\n",
       "      <td>19</td>\n",
       "      <td>19</td>\n",
       "      <td>0 days 00:04:44.817000</td>\n",
       "      <td>1</td>\n",
       "      <td>0</td>\n",
       "      <td>4</td>\n",
       "    </tr>\n",
       "    <tr>\n",
       "      <th>3</th>\n",
       "      <td>19</td>\n",
       "      <td>2020-11-02 16:30:36.378</td>\n",
       "      <td>2020-11-02 17:16:45.920</td>\n",
       "      <td>0 days 00:02:33.863444444</td>\n",
       "      <td>[4546, 8092, 17752, 14975, 9083, 9079, 7096, 8...</td>\n",
       "      <td>18</td>\n",
       "      <td>18</td>\n",
       "      <td>0</td>\n",
       "      <td>11</td>\n",
       "      <td>2020</td>\n",
       "      <td>0</td>\n",
       "      <td>16</td>\n",
       "      <td>17</td>\n",
       "      <td>0 days 00:46:09.542000</td>\n",
       "      <td>2</td>\n",
       "      <td>0</td>\n",
       "      <td>46</td>\n",
       "    </tr>\n",
       "    <tr>\n",
       "      <th>4</th>\n",
       "      <td>24</td>\n",
       "      <td>2020-02-26 17:22:48.903</td>\n",
       "      <td>2020-02-26 18:27:44.114</td>\n",
       "      <td>0 days 00:06:29.521100</td>\n",
       "      <td>[6381, 10784, 6381, 23669, 5215, 2842, 10162, ...</td>\n",
       "      <td>10</td>\n",
       "      <td>9</td>\n",
       "      <td>1</td>\n",
       "      <td>2</td>\n",
       "      <td>2020</td>\n",
       "      <td>2</td>\n",
       "      <td>17</td>\n",
       "      <td>18</td>\n",
       "      <td>0 days 01:04:55.211000</td>\n",
       "      <td>6</td>\n",
       "      <td>1</td>\n",
       "      <td>64</td>\n",
       "    </tr>\n",
       "  </tbody>\n",
       "</table>\n",
       "</div>"
      ],
      "text/plain": [
       "   session_id                     min                     max  \\\n",
       "0           3 2020-12-18 21:19:48.093 2020-12-18 21:26:47.986   \n",
       "1          13 2020-03-13 19:35:27.136 2020-03-13 19:36:15.507   \n",
       "2          18 2020-08-26 19:15:47.232 2020-08-26 19:20:32.049   \n",
       "3          19 2020-11-02 16:30:36.378 2020-11-02 17:16:45.920   \n",
       "4          24 2020-02-26 17:22:48.903 2020-02-26 18:27:44.114   \n",
       "\n",
       "                       mean  \\\n",
       "0 0 days 00:02:19.964333333   \n",
       "1    0 days 00:00:24.185500   \n",
       "2    0 days 00:01:11.204250   \n",
       "3 0 days 00:02:33.863444444   \n",
       "4    0 days 00:06:29.521100   \n",
       "\n",
       "                                             item_id  length_all  \\\n",
       "0                                [9769, 9769, 12492]           3   \n",
       "1                                      [12783, 3299]           2   \n",
       "2                         [14116, 6166, 6924, 17411]           4   \n",
       "3  [4546, 8092, 17752, 14975, 9083, 9079, 7096, 8...          18   \n",
       "4  [6381, 10784, 6381, 23669, 5215, 2842, 10162, ...          10   \n",
       "\n",
       "   length_unique  repeated_count  month  year  day_of_week  hour_start  \\\n",
       "0              2               1     12  2020            4          21   \n",
       "1              2               0      3  2020            4          19   \n",
       "2              4               0      8  2020            2          19   \n",
       "3             18               0     11  2020            0          16   \n",
       "4              9               1      2  2020            2          17   \n",
       "\n",
       "   hour_end                 length  mean_minutes  length_hours  length_minutes  \n",
       "0        21 0 days 00:06:59.893000             2             0               6  \n",
       "1        19 0 days 00:00:48.371000             0             0               0  \n",
       "2        19 0 days 00:04:44.817000             1             0               4  \n",
       "3        17 0 days 00:46:09.542000             2             0              46  \n",
       "4        18 0 days 01:04:55.211000             6             1              64  "
      ]
     },
     "execution_count": 9,
     "metadata": {},
     "output_type": "execute_result"
    }
   ],
   "source": [
    "session.head()"
   ]
  },
  {
   "cell_type": "markdown",
   "metadata": {},
   "source": [
    "# Important Datetimes"
   ]
  },
  {
   "cell_type": "code",
   "execution_count": 10,
   "metadata": {},
   "outputs": [
    {
     "data": {
      "text/plain": [
       "Timestamp('2020-01-01 00:00:01.359000')"
      ]
     },
     "execution_count": 10,
     "metadata": {},
     "output_type": "execute_result"
    }
   ],
   "source": [
    "session[\"min\"].min()"
   ]
  },
  {
   "cell_type": "code",
   "execution_count": 11,
   "metadata": {},
   "outputs": [
    {
     "data": {
      "text/plain": [
       "Timestamp('2021-05-31 23:41:09.230000')"
      ]
     },
     "execution_count": 11,
     "metadata": {},
     "output_type": "execute_result"
    }
   ],
   "source": [
    "session[\"min\"].max()"
   ]
  },
  {
   "cell_type": "markdown",
   "metadata": {},
   "source": [
    "Split validation as last month ?  get sessions up to 2021-04-31 ? "
   ]
  },
  {
   "cell_type": "markdown",
   "metadata": {},
   "source": [
    "# Datetime distributions"
   ]
  },
  {
   "cell_type": "markdown",
   "metadata": {},
   "source": [
    "## Hour of day Distribution"
   ]
  },
  {
   "cell_type": "code",
   "execution_count": 12,
   "metadata": {},
   "outputs": [
    {
     "data": {
      "image/png": "[encoded data removed]",
      "text/plain": [
       "<Figure size 864x288 with 1 Axes>"
      ]
     },
     "metadata": {},
     "output_type": "display_data"
    }
   ],
   "source": [
    "fig, axs = plt.subplots(figsize=(12, 4))\n",
    "temp=session.groupby(session[\"hour_start\"]).count()[[\"session_id\"]]\n",
    "\n",
    "plt.bar(temp.index,temp[\"session_id\"])\n",
    "plt.xticks(np.arange(min(temp.index), max(temp.index)+1, 1.0))\n",
    "plt.show()"
   ]
  },
  {
   "cell_type": "code",
   "execution_count": 13,
   "metadata": {},
   "outputs": [
    {
     "data": {
      "image/png": "[encoded data removed]",
      "text/plain": [
       "<Figure size 864x288 with 1 Axes>"
      ]
     },
     "metadata": {},
     "output_type": "display_data"
    }
   ],
   "source": [
    "fig, axs = plt.subplots(figsize=(12, 4))\n",
    "temp=session.groupby(session[\"hour_end\"]).count()[[\"session_id\"]]\n",
    "\n",
    "plt.bar(temp.index,temp[\"session_id\"])\n",
    "plt.xticks(np.arange(min(temp.index), max(temp.index)+1, 1.0))\n",
    "plt.show()"
   ]
  },
  {
   "cell_type": "markdown",
   "metadata": {},
   "source": [
    "## Weekday distribution"
   ]
  },
  {
   "cell_type": "code",
   "execution_count": 14,
   "metadata": {},
   "outputs": [
    {
     "data": {
      "image/png": "[encoded data removed]",
      "text/plain": [
       "<Figure size 864x288 with 1 Axes>"
      ]
     },
     "metadata": {},
     "output_type": "display_data"
    }
   ],
   "source": [
    "fig, axs = plt.subplots(figsize=(12, 4))\n",
    "temp=session.groupby(session[\"day_of_week\"]).count()[[\"session_id\"]]\n",
    "\n",
    "plt.bar(temp.index,temp[\"session_id\"])\n",
    "plt.xticks(np.arange(min(temp.index), max(temp.index)+1, 1.0))\n",
    "plt.show()"
   ]
  },
  {
   "cell_type": "markdown",
   "metadata": {},
   "source": [
    "## Month Distribution\n"
   ]
  },
  {
   "cell_type": "code",
   "execution_count": 15,
   "metadata": {},
   "outputs": [
    {
     "data": {
      "image/png": "[encoded data removed]",
      "text/plain": [
       "<Figure size 864x288 with 1 Axes>"
      ]
     },
     "metadata": {},
     "output_type": "display_data"
    }
   ],
   "source": [
    "fig, axs = plt.subplots(figsize=(12, 4))\n",
    "temp=session.groupby(session[\"month\"]).count()[[\"session_id\"]]\n",
    "\n",
    "plt.bar(temp.index,temp[\"session_id\"])\n",
    "plt.xticks(np.arange(min(temp.index), max(temp.index)+1, 1.0))\n",
    "plt.show()"
   ]
  },
  {
   "cell_type": "markdown",
   "metadata": {},
   "source": [
    "## Distinguishing between two years"
   ]
  },
  {
   "cell_type": "code",
   "execution_count": 16,
   "metadata": {},
   "outputs": [
    {
     "data": {
      "image/png": "[encoded data removed]",
      "text/plain": [
       "<Figure size 864x288 with 1 Axes>"
      ]
     },
     "metadata": {},
     "output_type": "display_data"
    }
   ],
   "source": [
    "fig, axs = plt.subplots(figsize=(12, 4))\n",
    "temp=session.groupby([session[\"month\"],session[\"year\"]]).count()[[\"session_id\"]].reset_index(level=[0,1])\n",
    "temp[\"month_year\"]=temp[\"month\"]+(temp[\"year\"]-2020)*12\n",
    "plt.bar(temp[\"month_year\"],temp[\"session_id\"])\n",
    "plt.xticks(np.arange(min(temp[\"month_year\"]), max(temp[\"month_year\"])+1, 1.0))\n",
    "plt.show()"
   ]
  },
  {
   "cell_type": "markdown",
   "metadata": {},
   "source": [
    "## Average click distance"
   ]
  },
  {
   "cell_type": "code",
   "execution_count": 17,
   "metadata": {},
   "outputs": [
    {
     "data": {
      "image/png": "[encoded data removed]",
      "text/plain": [
       "<Figure size 2160x288 with 1 Axes>"
      ]
     },
     "metadata": {},
     "output_type": "display_data"
    }
   ],
   "source": [
    "fig, axs = plt.subplots(figsize=(30, 4))\n",
    "temp=session.groupby((session[\"mean_minutes\"]/20).astype(int)).count()[[\"session_id\"]]\n",
    "\n",
    "plt.bar(temp.index,(temp[\"session_id\"]))\n",
    "plt.xticks(np.arange(min(temp.index), max(temp.index)+1, 1.0))\n",
    "plt.show()"
   ]
  },
  {
   "cell_type": "code",
   "execution_count": 18,
   "metadata": {},
   "outputs": [
    {
     "data": {
      "image/png": "[encoded data removed]",
      "text/plain": [
       "<Figure size 2160x288 with 1 Axes>"
      ]
     },
     "metadata": {},
     "output_type": "display_data"
    }
   ],
   "source": [
    "fig, axs = plt.subplots(figsize=(30, 4))\n",
    "temp=session.groupby((session[\"mean_minutes\"]/20).astype(int)).count()[[\"session_id\"]]\n",
    "\n",
    "plt.bar(temp.index,np.log10(temp[\"session_id\"]))\n",
    "plt.xticks(np.arange(min(temp.index), max(temp.index)+1, 1.0))\n",
    "plt.show()"
   ]
  },
  {
   "cell_type": "code",
   "execution_count": 19,
   "metadata": {},
   "outputs": [
    {
     "data": {
      "image/png": "[encoded data removed]",
      "text/plain": [
       "<Figure size 2160x288 with 1 Axes>"
      ]
     },
     "metadata": {},
     "output_type": "display_data"
    }
   ],
   "source": [
    "fig, axs = plt.subplots(figsize=(30, 4))\n",
    "temp=session.groupby((session[\"length_hours\"]).astype(int)).count()[[\"session_id\"]]\n",
    "\n",
    "plt.bar(temp.index,(temp[\"session_id\"]))\n",
    "plt.xticks(np.arange(min(temp.index), max(temp.index)+1, 1.0))\n",
    "plt.show()"
   ]
  },
  {
   "cell_type": "code",
   "execution_count": 20,
   "metadata": {},
   "outputs": [
    {
     "data": {
      "image/png": "[encoded data removed]",
      "text/plain": [
       "<Figure size 2160x288 with 1 Axes>"
      ]
     },
     "metadata": {},
     "output_type": "display_data"
    }
   ],
   "source": [
    "fig, axs = plt.subplots(figsize=(30, 4))\n",
    "temp=session.groupby((session[\"length_hours\"]).astype(int)).count()[[\"session_id\"]]\n",
    "\n",
    "plt.bar(temp.index,np.log10(temp[\"session_id\"]))\n",
    "plt.xticks(np.arange(min(temp.index), max(temp.index)+1, 1.0))\n",
    "plt.show()"
   ]
  },
  {
   "cell_type": "markdown",
   "metadata": {},
   "source": [
    "# Distribution of lengths"
   ]
  },
  {
   "cell_type": "code",
   "execution_count": 21,
   "metadata": {},
   "outputs": [
    {
     "data": {
      "image/png": "[encoded data removed]",
      "text/plain": [
       "<Figure size 2160x288 with 1 Axes>"
      ]
     },
     "metadata": {},
     "output_type": "display_data"
    }
   ],
   "source": [
    "fig, axs = plt.subplots(figsize=(30, 4))\n",
    "temp=session.groupby(session[\"length_all\"]).count()[[\"session_id\"]]\n",
    "\n",
    "plt.bar(temp.index,temp[\"session_id\"])\n",
    "plt.xticks(np.arange(min(temp.index), max(temp.index)+1, 1.0))\n",
    "plt.show()"
   ]
  },
  {
   "cell_type": "code",
   "execution_count": 22,
   "metadata": {},
   "outputs": [
    {
     "data": {
      "image/png": "[encoded data removed]",
      "text/plain": [
       "<Figure size 2160x288 with 1 Axes>"
      ]
     },
     "metadata": {},
     "output_type": "display_data"
    }
   ],
   "source": [
    "fig, axs = plt.subplots(figsize=(30, 4))\n",
    "temp=session.groupby(session[\"length_unique\"]).count()[[\"session_id\"]]\n",
    "\n",
    "plt.bar(temp.index,temp[\"session_id\"])\n",
    "plt.xticks(np.arange(min(temp.index), max(temp.index)+1, 1.0))\n",
    "plt.show()"
   ]
  },
  {
   "cell_type": "code",
   "execution_count": 23,
   "metadata": {},
   "outputs": [
    {
     "data": {
      "image/png": "[encoded data removed]",
      "text/plain": [
       "<Figure size 2160x288 with 1 Axes>"
      ]
     },
     "metadata": {},
     "output_type": "display_data"
    }
   ],
   "source": [
    "fig, axs = plt.subplots(figsize=(30, 4))\n",
    "temp=session.groupby(session[\"repeated_count\"]).count()[[\"session_id\"]]\n",
    "\n",
    "plt.bar(temp.index,temp[\"session_id\"])\n",
    "plt.xticks(np.arange(min(temp.index), max(temp.index)+1, 1.0))\n",
    "plt.show()"
   ]
  },
  {
   "cell_type": "code",
   "execution_count": 24,
   "metadata": {},
   "outputs": [
    {
     "data": {
      "image/png": "[encoded data removed]",
      "text/plain": [
       "<Figure size 2160x288 with 1 Axes>"
      ]
     },
     "metadata": {},
     "output_type": "display_data"
    }
   ],
   "source": [
    "fig, axs = plt.subplots(figsize=(30, 4))\n",
    "temp=session.groupby(session[\"length_all\"]).count()[[\"session_id\"]]\n",
    "\n",
    "plt.bar(temp.index,np.log10(temp[\"session_id\"]))\n",
    "plt.xticks(np.arange(min(temp.index), max(temp.index)+1, 1.0))\n",
    "plt.show()"
   ]
  },
  {
   "cell_type": "code",
   "execution_count": 25,
   "metadata": {},
   "outputs": [
    {
     "data": {
      "image/png": "[encoded data removed]",
      "text/plain": [
       "<Figure size 2160x288 with 1 Axes>"
      ]
     },
     "metadata": {},
     "output_type": "display_data"
    }
   ],
   "source": [
    "fig, axs = plt.subplots(figsize=(30, 4))\n",
    "temp=session.groupby(session[\"length_unique\"]).count()[[\"session_id\"]]\n",
    "\n",
    "plt.bar(temp.index,np.log10(temp[\"session_id\"]))\n",
    "plt.xticks(np.arange(min(temp.index), max(temp.index)+1, 1.0))\n",
    "plt.show()"
   ]
  },
  {
   "cell_type": "code",
   "execution_count": 26,
   "metadata": {},
   "outputs": [
    {
     "data": {
      "image/png": "[encoded data removed]",
      "text/plain": [
       "<Figure size 2160x288 with 1 Axes>"
      ]
     },
     "metadata": {},
     "output_type": "display_data"
    }
   ],
   "source": [
    "fig, axs = plt.subplots(figsize=(30, 4))\n",
    "temp=session.groupby(session[\"repeated_count\"]).count()[[\"session_id\"]]\n",
    "\n",
    "plt.bar(temp.index,np.log10(temp[\"session_id\"]))\n",
    "plt.xticks(np.arange(min(temp.index), max(temp.index)+1, 1.0))\n",
    "plt.show()"
   ]
  },
  {
   "cell_type": "markdown",
   "metadata": {},
   "source": [
    "# Popularity in session"
   ]
  },
  {
   "cell_type": "markdown",
   "metadata": {},
   "source": [
    "## Frequency of item_ids"
   ]
  },
  {
   "cell_type": "code",
   "execution_count": 27,
   "metadata": {},
   "outputs": [],
   "source": [
    "train_sessions[\"value\"]=1\n",
    "test_sessions[\"value\"]=1"
   ]
  },
  {
   "cell_type": "code",
   "execution_count": 28,
   "metadata": {},
   "outputs": [],
   "source": [
    "items=train_sessions.groupby(\"item_id\")[\"value\"].count().reset_index()"
   ]
  },
  {
   "cell_type": "code",
   "execution_count": 29,
   "metadata": {},
   "outputs": [],
   "source": [
    "items=items.sort_values(by=\"value\",ascending=False)"
   ]
  },
  {
   "cell_type": "code",
   "execution_count": 30,
   "metadata": {},
   "outputs": [],
   "source": [
    "items[\"log_value\"]=np.log(items[\"value\"])"
   ]
  },
  {
   "cell_type": "code",
   "execution_count": 31,
   "metadata": {},
   "outputs": [
    {
     "data": {
      "image/png": "[encoded data removed]",
      "text/plain": [
       "<Figure size 2160x288 with 1 Axes>"
      ]
     },
     "metadata": {},
     "output_type": "display_data"
    }
   ],
   "source": [
    "hist=items.hist(column=\"value\",bins=100,figsize=(30, 4))"
   ]
  },
  {
   "cell_type": "code",
   "execution_count": 32,
   "metadata": {},
   "outputs": [
    {
     "data": {
      "image/png": "[encoded data removed]",
      "text/plain": [
       "<Figure size 2160x288 with 1 Axes>"
      ]
     },
     "metadata": {},
     "output_type": "display_data"
    }
   ],
   "source": [
    "hist=items[10000:].hist(column=\"value\",bins=100,figsize=(30, 4))"
   ]
  },
  {
   "cell_type": "code",
   "execution_count": 33,
   "metadata": {},
   "outputs": [
    {
     "data": {
      "image/png": "[encoded data removed]",
      "text/plain": [
       "<Figure size 2160x288 with 1 Axes>"
      ]
     },
     "metadata": {},
     "output_type": "display_data"
    }
   ],
   "source": [
    "hist=items.hist(column=\"log_value\",bins=100,figsize=(30, 4))"
   ]
  },
  {
   "cell_type": "markdown",
   "metadata": {},
   "source": [
    "## TopPop Analisis"
   ]
  },
  {
   "cell_type": "code",
   "execution_count": 34,
   "metadata": {},
   "outputs": [],
   "source": [
    "top_pop_general=items[\"item_id\"][:100].values.tolist()"
   ]
  },
  {
   "cell_type": "code",
   "execution_count": 35,
   "metadata": {},
   "outputs": [
    {
     "name": "stdout",
     "output_type": "stream",
     "text": [
      "1468, 4741, 6135, 3526, 9262, 323, 3037, 3229, 2115, 1449, 3676, 6925, 16491, 1659, 5960, 786, 1227, 3531, 3833, 554, 3746, 4810, 4411, 1393, 4714, 3060, 4878, 2734, 3306, 4870, 540, 1609, 2180, 200, 2549, 190, 772, 4935, 6006, 3586, 11075, 4213, 2577, 2466, 1869, 4631, 3400, 3867, 917, 4796, 4645, 4026, 6345, 270, 4007, 3004, 2694, 9661, 2233, 3362, 2842, 11761, 8828, 3844, 3886, 2674, 18733, 4158, 407, 3656, 3318, 10479, 2149, 2954, 11658, 1458, 2780, 2546, 17081, 1584, 2530, 10738, 4503, 3155, 1725, 1285, 2638, 1336, 4846, 2320, 5215, 4057, 13765, 4036, 7597, 3095, 2302, 15531, 3783, 421, \n"
     ]
    }
   ],
   "source": [
    "for item in top_pop_general:\n",
    "    print(str(item)+\",\",end=\" \")\n",
    "print()\n"
   ]
  },
  {
   "cell_type": "code",
   "execution_count": 36,
   "metadata": {},
   "outputs": [],
   "source": [
    "train_sessions[\"month\"] =train_sessions[\"date\"].dt.month\n",
    "train_sessions[\"year\"] =train_sessions[\"date\"].dt.year"
   ]
  },
  {
   "cell_type": "code",
   "execution_count": 37,
   "metadata": {},
   "outputs": [],
   "source": [
    "monthly_ds=train_sessions.groupby([\"month\",\"year\",\"item_id\"])[\"value\"].count().reset_index()"
   ]
  },
  {
   "cell_type": "code",
   "execution_count": 38,
   "metadata": {},
   "outputs": [
    {
     "data": {
      "text/html": [
       "<div>\n",
       "<style scoped>\n",
       "    .dataframe tbody tr th:only-of-type {\n",
       "        vertical-align: middle;\n",
       "    }\n",
       "\n",
       "    .dataframe tbody tr th {\n",
       "        vertical-align: top;\n",
       "    }\n",
       "\n",
       "    .dataframe thead th {\n",
       "        text-align: right;\n",
       "    }\n",
       "</style>\n",
       "<table border=\"1\" class=\"dataframe\">\n",
       "  <thead>\n",
       "    <tr style=\"text-align: right;\">\n",
       "      <th></th>\n",
       "      <th>month</th>\n",
       "      <th>year</th>\n",
       "      <th>item_id</th>\n",
       "      <th>value</th>\n",
       "    </tr>\n",
       "  </thead>\n",
       "  <tbody>\n",
       "    <tr>\n",
       "      <th>0</th>\n",
       "      <td>1</td>\n",
       "      <td>2020</td>\n",
       "      <td>30</td>\n",
       "      <td>27</td>\n",
       "    </tr>\n",
       "    <tr>\n",
       "      <th>1</th>\n",
       "      <td>1</td>\n",
       "      <td>2020</td>\n",
       "      <td>34</td>\n",
       "      <td>1</td>\n",
       "    </tr>\n",
       "    <tr>\n",
       "      <th>2</th>\n",
       "      <td>1</td>\n",
       "      <td>2020</td>\n",
       "      <td>62</td>\n",
       "      <td>4</td>\n",
       "    </tr>\n",
       "    <tr>\n",
       "      <th>3</th>\n",
       "      <td>1</td>\n",
       "      <td>2020</td>\n",
       "      <td>108</td>\n",
       "      <td>6</td>\n",
       "    </tr>\n",
       "    <tr>\n",
       "      <th>4</th>\n",
       "      <td>1</td>\n",
       "      <td>2020</td>\n",
       "      <td>186</td>\n",
       "      <td>80</td>\n",
       "    </tr>\n",
       "    <tr>\n",
       "      <th>...</th>\n",
       "      <td>...</td>\n",
       "      <td>...</td>\n",
       "      <td>...</td>\n",
       "      <td>...</td>\n",
       "    </tr>\n",
       "    <tr>\n",
       "      <th>124354</th>\n",
       "      <td>12</td>\n",
       "      <td>2020</td>\n",
       "      <td>23591</td>\n",
       "      <td>1</td>\n",
       "    </tr>\n",
       "    <tr>\n",
       "      <th>124355</th>\n",
       "      <td>12</td>\n",
       "      <td>2020</td>\n",
       "      <td>23595</td>\n",
       "      <td>1</td>\n",
       "    </tr>\n",
       "    <tr>\n",
       "      <th>124356</th>\n",
       "      <td>12</td>\n",
       "      <td>2020</td>\n",
       "      <td>23635</td>\n",
       "      <td>5</td>\n",
       "    </tr>\n",
       "    <tr>\n",
       "      <th>124357</th>\n",
       "      <td>12</td>\n",
       "      <td>2020</td>\n",
       "      <td>23655</td>\n",
       "      <td>1</td>\n",
       "    </tr>\n",
       "    <tr>\n",
       "      <th>124358</th>\n",
       "      <td>12</td>\n",
       "      <td>2020</td>\n",
       "      <td>23664</td>\n",
       "      <td>1</td>\n",
       "    </tr>\n",
       "  </tbody>\n",
       "</table>\n",
       "<p>124359 rows × 4 columns</p>\n",
       "</div>"
      ],
      "text/plain": [
       "        month  year  item_id  value\n",
       "0           1  2020       30     27\n",
       "1           1  2020       34      1\n",
       "2           1  2020       62      4\n",
       "3           1  2020      108      6\n",
       "4           1  2020      186     80\n",
       "...       ...   ...      ...    ...\n",
       "124354     12  2020    23591      1\n",
       "124355     12  2020    23595      1\n",
       "124356     12  2020    23635      5\n",
       "124357     12  2020    23655      1\n",
       "124358     12  2020    23664      1\n",
       "\n",
       "[124359 rows x 4 columns]"
      ]
     },
     "execution_count": 38,
     "metadata": {},
     "output_type": "execute_result"
    }
   ],
   "source": [
    "monthly_ds"
   ]
  },
  {
   "cell_type": "code",
   "execution_count": 39,
   "metadata": {},
   "outputs": [],
   "source": [
    "top_pops={}\n",
    "top_pops[\"general\"]=top_pop_general"
   ]
  },
  {
   "cell_type": "code",
   "execution_count": 40,
   "metadata": {},
   "outputs": [],
   "source": [
    "for year in range(2):\n",
    "    year=year+2020\n",
    "    for month in range(12):\n",
    "        month+=1\n",
    "        if year==2021 and month>5:\n",
    "            break\n",
    "        \n",
    "        ds=monthly_ds[monthly_ds[\"month\"]==month]\n",
    "        ds=ds[ds[\"year\"]==year]\n",
    "        ds=ds.sort_values(by=\"value\",ascending=False)\n",
    "        top_pops[f\"{month}/{year}\"]=ds[\"item_id\"][:100].values.tolist()"
   ]
  },
  {
   "cell_type": "code",
   "execution_count": 41,
   "metadata": {},
   "outputs": [],
   "source": [
    "seen=[]\n",
    "heatmap=np.zeros((len(top_pops.keys()),len(top_pops.keys())))\n",
    "for x,i in enumerate(top_pops.keys()):\n",
    "    for y,j in enumerate(top_pops.keys()):\n",
    "        seen.append(i)\n",
    "        if j not in seen:\n",
    "            count=0\n",
    "            for item in top_pops[i]:\n",
    "                if item in top_pops[j]:\n",
    "                    count+=1\n",
    "            #print(f\"items_in_common between {i} and {j}: {count}\")\n",
    "            heatmap[x,y]=count\n",
    "            heatmap[y,x]=count"
   ]
  },
  {
   "cell_type": "code",
   "execution_count": 42,
   "metadata": {},
   "outputs": [
    {
     "data": {
      "text/plain": [
       "dict_keys(['general', '1/2020', '2/2020', '3/2020', '4/2020', '5/2020', '6/2020', '7/2020', '8/2020', '9/2020', '10/2020', '11/2020', '12/2020', '1/2021', '2/2021', '3/2021', '4/2021', '5/2021'])"
      ]
     },
     "execution_count": 42,
     "metadata": {},
     "output_type": "execute_result"
    }
   ],
   "source": [
    "top_pops.keys()"
   ]
  },
  {
   "cell_type": "code",
   "execution_count": 43,
   "metadata": {},
   "outputs": [
    {
     "data": {
      "image/png": "[encoded data removed]",
      "text/plain": [
       "<Figure size 720x720 with 2 Axes>"
      ]
     },
     "metadata": {},
     "output_type": "display_data"
    }
   ],
   "source": [
    "#0 is overall top_popular_list\n",
    "#other numbers are the index of the month starting from january 2020 up to may 2021\n",
    "#We can see that general top pop is close to november 2020 -> this can be due to the fact that is the month with most sessions\n",
    "f, ax = plt.subplots(figsize=(10, 10))\n",
    "ax = sns.heatmap(heatmap, square=True)"
   ]
  },
  {
   "cell_type": "markdown",
   "metadata": {},
   "source": [
    "## Added test set to heatmap"
   ]
  },
  {
   "cell_type": "code",
   "execution_count": 44,
   "metadata": {},
   "outputs": [],
   "source": [
    "items_test=test_sessions.groupby(\"item_id\")[\"value\"].count().reset_index()\n",
    "items_test=items_test.sort_values(by=\"value\",ascending=False)\n",
    "top_pop_test=items_test[\"item_id\"][:100].values.tolist()"
   ]
  },
  {
   "cell_type": "code",
   "execution_count": 45,
   "metadata": {},
   "outputs": [],
   "source": [
    "heatmap_test=np.zeros((len(top_pops.keys())+1,len(top_pops.keys())+1))"
   ]
  },
  {
   "cell_type": "code",
   "execution_count": 46,
   "metadata": {},
   "outputs": [],
   "source": [
    "heatmap_test[:-1,:-1]=heatmap"
   ]
  },
  {
   "cell_type": "code",
   "execution_count": 47,
   "metadata": {},
   "outputs": [],
   "source": [
    "for x,i in enumerate(top_pops.keys()):\n",
    "    count=0\n",
    "    for item in top_pops[i]:\n",
    "        if item in top_pop_test:\n",
    "            count+=1\n",
    "    heatmap_test[-1,x] = count\n",
    "    heatmap_test[x,-1] = count"
   ]
  },
  {
   "cell_type": "code",
   "execution_count": 48,
   "metadata": {},
   "outputs": [
    {
     "data": {
      "image/png": "[encoded data removed]",
      "text/plain": [
       "<Figure size 720x720 with 2 Axes>"
      ]
     },
     "metadata": {},
     "output_type": "display_data"
    }
   ],
   "source": [
    "#last row/column are test set interaction top_pop\n",
    "f, ax = plt.subplots(figsize=(10, 10))\n",
    "ax = sns.heatmap(heatmap_test, square=True)"
   ]
  },
  {
   "cell_type": "markdown",
   "metadata": {},
   "source": [
    "# Popularity in session removing duplicates from sessions"
   ]
  },
  {
   "cell_type": "markdown",
   "metadata": {},
   "source": [
    "## Frequency of item_ids"
   ]
  },
  {
   "cell_type": "code",
   "execution_count": 49,
   "metadata": {},
   "outputs": [
    {
     "name": "stderr",
     "output_type": "stream",
     "text": [
      "C:\\ProgramData\\Anaconda3\\lib\\site-packages\\pandas\\util\\_decorators.py:311: SettingWithCopyWarning: \n",
      "A value is trying to be set on a copy of a slice from a DataFrame\n",
      "\n",
      "See the caveats in the documentation: https://pandas.pydata.org/pandas-docs/stable/user_guide/indexing.html#returning-a-view-versus-a-copy\n",
      "  return func(*args, **kwargs)\n"
     ]
    }
   ],
   "source": [
    "train_sessions[\"value\"]=1\n",
    "test_sessions[\"value\"]=1\n",
    "train_sessions_no_duplicates=train_sessions[[\"item_id\",\"session_id\",\"value\"]]\n",
    "test_sessions_no_duplicates=test_sessions[[\"item_id\",\"session_id\",\"value\"]]\n",
    "train_sessions_no_duplicates.drop_duplicates(inplace=True)\n",
    "test_sessions_no_duplicates.drop_duplicates(inplace=True)"
   ]
  },
  {
   "cell_type": "code",
   "execution_count": 50,
   "metadata": {},
   "outputs": [],
   "source": [
    "items=train_sessions_no_duplicates.groupby(\"item_id\")[\"value\"].count().reset_index()"
   ]
  },
  {
   "cell_type": "code",
   "execution_count": 51,
   "metadata": {},
   "outputs": [],
   "source": [
    "items=items.sort_values(by=\"value\",ascending=False)"
   ]
  },
  {
   "cell_type": "code",
   "execution_count": 52,
   "metadata": {},
   "outputs": [],
   "source": [
    "items[\"log_value\"]=np.log(items[\"value\"])"
   ]
  },
  {
   "cell_type": "code",
   "execution_count": 53,
   "metadata": {},
   "outputs": [
    {
     "data": {
      "image/png": "[encoded data removed]",
      "text/plain": [
       "<Figure size 2160x288 with 1 Axes>"
      ]
     },
     "metadata": {},
     "output_type": "display_data"
    }
   ],
   "source": [
    "hist=items.hist(column=\"value\",bins=100,figsize=(30, 4))"
   ]
  },
  {
   "cell_type": "code",
   "execution_count": 54,
   "metadata": {},
   "outputs": [
    {
     "data": {
      "image/png": "[encoded data removed]",
      "text/plain": [
       "<Figure size 2160x288 with 1 Axes>"
      ]
     },
     "metadata": {},
     "output_type": "display_data"
    }
   ],
   "source": [
    "hist=items[10000:].hist(column=\"value\",bins=100,figsize=(30, 4))"
   ]
  },
  {
   "cell_type": "code",
   "execution_count": 55,
   "metadata": {},
   "outputs": [
    {
     "data": {
      "image/png": "[encoded data removed]",
      "text/plain": [
       "<Figure size 2160x288 with 1 Axes>"
      ]
     },
     "metadata": {},
     "output_type": "display_data"
    }
   ],
   "source": [
    "hist=items.hist(column=\"log_value\",bins=100,figsize=(30, 4))"
   ]
  },
  {
   "cell_type": "markdown",
   "metadata": {},
   "source": [
    "## TopPop Analisis"
   ]
  },
  {
   "cell_type": "code",
   "execution_count": 92,
   "metadata": {},
   "outputs": [],
   "source": [
    "top_pop_general=items[\"item_id\"][:100].values.tolist()"
   ]
  },
  {
   "cell_type": "code",
   "execution_count": 57,
   "metadata": {},
   "outputs": [
    {
     "name": "stdout",
     "output_type": "stream",
     "text": [
      "1468, 4741, 6135, 3526, 9262, 323, 3229, 3037, 2115, 3676, 1449, 6925, 16491, 1659, 786, 5960, 1227, 3531, 4810, 3746, 1393, 4411, 554, 4714, 3833, 2734, 3060, 4878, 1609, 4870, 540, 3306, 2180, 4935, 2549, 200, 190, 6006, 4213, 772, 11075, 1869, 2577, 2466, 3867, 4631, 3586, 917, 4796, 4645, 3400, 3362, 4026, 6345, 2233, 9661, 270, 3844, 4007, 11761, 2842, 4158, 2149, 3004, 11658, 8828, 2674, 2694, 18733, 2954, 3318, 17081, 2780, 3886, 10479, 407, 1584, 3656, 2546, 1285, 4503, 5215, 1725, 2530, 3155, 2320, 10738, 1336, 4036, 2638, 6785, 3783, 7597, 4057, 3095, 421, 1458, 18191, 15531, 232, \n"
     ]
    }
   ],
   "source": [
    "for item in top_pop_general:\n",
    "    print(str(item)+\",\",end=\" \")\n",
    "print()\n"
   ]
  },
  {
   "cell_type": "code",
   "execution_count": 58,
   "metadata": {},
   "outputs": [],
   "source": [
    "train_sessions[\"month\"] =train_sessions[\"date\"].dt.month\n",
    "train_sessions[\"year\"] =train_sessions[\"date\"].dt.year"
   ]
  },
  {
   "cell_type": "code",
   "execution_count": 59,
   "metadata": {},
   "outputs": [],
   "source": [
    "monthly_ds=train_sessions.groupby([\"month\",\"year\",\"item_id\"])[\"value\"].count().reset_index()"
   ]
  },
  {
   "cell_type": "code",
   "execution_count": 60,
   "metadata": {},
   "outputs": [
    {
     "data": {
      "text/html": [
       "<div>\n",
       "<style scoped>\n",
       "    .dataframe tbody tr th:only-of-type {\n",
       "        vertical-align: middle;\n",
       "    }\n",
       "\n",
       "    .dataframe tbody tr th {\n",
       "        vertical-align: top;\n",
       "    }\n",
       "\n",
       "    .dataframe thead th {\n",
       "        text-align: right;\n",
       "    }\n",
       "</style>\n",
       "<table border=\"1\" class=\"dataframe\">\n",
       "  <thead>\n",
       "    <tr style=\"text-align: right;\">\n",
       "      <th></th>\n",
       "      <th>month</th>\n",
       "      <th>year</th>\n",
       "      <th>item_id</th>\n",
       "      <th>value</th>\n",
       "    </tr>\n",
       "  </thead>\n",
       "  <tbody>\n",
       "    <tr>\n",
       "      <th>0</th>\n",
       "      <td>1</td>\n",
       "      <td>2020</td>\n",
       "      <td>30</td>\n",
       "      <td>27</td>\n",
       "    </tr>\n",
       "    <tr>\n",
       "      <th>1</th>\n",
       "      <td>1</td>\n",
       "      <td>2020</td>\n",
       "      <td>34</td>\n",
       "      <td>1</td>\n",
       "    </tr>\n",
       "    <tr>\n",
       "      <th>2</th>\n",
       "      <td>1</td>\n",
       "      <td>2020</td>\n",
       "      <td>62</td>\n",
       "      <td>4</td>\n",
       "    </tr>\n",
       "    <tr>\n",
       "      <th>3</th>\n",
       "      <td>1</td>\n",
       "      <td>2020</td>\n",
       "      <td>108</td>\n",
       "      <td>6</td>\n",
       "    </tr>\n",
       "    <tr>\n",
       "      <th>4</th>\n",
       "      <td>1</td>\n",
       "      <td>2020</td>\n",
       "      <td>186</td>\n",
       "      <td>80</td>\n",
       "    </tr>\n",
       "    <tr>\n",
       "      <th>...</th>\n",
       "      <td>...</td>\n",
       "      <td>...</td>\n",
       "      <td>...</td>\n",
       "      <td>...</td>\n",
       "    </tr>\n",
       "    <tr>\n",
       "      <th>124354</th>\n",
       "      <td>12</td>\n",
       "      <td>2020</td>\n",
       "      <td>23591</td>\n",
       "      <td>1</td>\n",
       "    </tr>\n",
       "    <tr>\n",
       "      <th>124355</th>\n",
       "      <td>12</td>\n",
       "      <td>2020</td>\n",
       "      <td>23595</td>\n",
       "      <td>1</td>\n",
       "    </tr>\n",
       "    <tr>\n",
       "      <th>124356</th>\n",
       "      <td>12</td>\n",
       "      <td>2020</td>\n",
       "      <td>23635</td>\n",
       "      <td>5</td>\n",
       "    </tr>\n",
       "    <tr>\n",
       "      <th>124357</th>\n",
       "      <td>12</td>\n",
       "      <td>2020</td>\n",
       "      <td>23655</td>\n",
       "      <td>1</td>\n",
       "    </tr>\n",
       "    <tr>\n",
       "      <th>124358</th>\n",
       "      <td>12</td>\n",
       "      <td>2020</td>\n",
       "      <td>23664</td>\n",
       "      <td>1</td>\n",
       "    </tr>\n",
       "  </tbody>\n",
       "</table>\n",
       "<p>124359 rows × 4 columns</p>\n",
       "</div>"
      ],
      "text/plain": [
       "        month  year  item_id  value\n",
       "0           1  2020       30     27\n",
       "1           1  2020       34      1\n",
       "2           1  2020       62      4\n",
       "3           1  2020      108      6\n",
       "4           1  2020      186     80\n",
       "...       ...   ...      ...    ...\n",
       "124354     12  2020    23591      1\n",
       "124355     12  2020    23595      1\n",
       "124356     12  2020    23635      5\n",
       "124357     12  2020    23655      1\n",
       "124358     12  2020    23664      1\n",
       "\n",
       "[124359 rows x 4 columns]"
      ]
     },
     "execution_count": 60,
     "metadata": {},
     "output_type": "execute_result"
    }
   ],
   "source": [
    "monthly_ds"
   ]
  },
  {
   "cell_type": "code",
   "execution_count": 61,
   "metadata": {},
   "outputs": [],
   "source": [
    "top_pops={}\n",
    "top_pops[\"general\"]=top_pop_general"
   ]
  },
  {
   "cell_type": "code",
   "execution_count": 62,
   "metadata": {},
   "outputs": [],
   "source": [
    "for year in range(2):\n",
    "    year=year+2020\n",
    "    for month in range(12):\n",
    "        month+=1\n",
    "        if year==2021 and month>5:\n",
    "            break\n",
    "        \n",
    "        ds=monthly_ds[monthly_ds[\"month\"]==month]\n",
    "        ds=ds[ds[\"year\"]==year]\n",
    "        ds=ds.sort_values(by=\"value\",ascending=False)\n",
    "        top_pops[f\"{month}/{year}\"]=ds[\"item_id\"][:100].values.tolist()"
   ]
  },
  {
   "cell_type": "code",
   "execution_count": 63,
   "metadata": {},
   "outputs": [],
   "source": [
    "seen=[]\n",
    "heatmap=np.zeros((len(top_pops.keys()),len(top_pops.keys())))\n",
    "for x,i in enumerate(top_pops.keys()):\n",
    "    for y,j in enumerate(top_pops.keys()):\n",
    "        seen.append(i)\n",
    "        if j not in seen:\n",
    "            count=0\n",
    "            for item in top_pops[i]:\n",
    "                if item in top_pops[j]:\n",
    "                    count+=1\n",
    "            #print(f\"items_in_common between {i} and {j}: {count}\")\n",
    "            heatmap[x,y]=count\n",
    "            heatmap[y,x]=count"
   ]
  },
  {
   "cell_type": "code",
   "execution_count": 64,
   "metadata": {},
   "outputs": [
    {
     "data": {
      "text/plain": [
       "dict_keys(['general', '1/2020', '2/2020', '3/2020', '4/2020', '5/2020', '6/2020', '7/2020', '8/2020', '9/2020', '10/2020', '11/2020', '12/2020', '1/2021', '2/2021', '3/2021', '4/2021', '5/2021'])"
      ]
     },
     "execution_count": 64,
     "metadata": {},
     "output_type": "execute_result"
    }
   ],
   "source": [
    "top_pops.keys()"
   ]
  },
  {
   "cell_type": "code",
   "execution_count": 65,
   "metadata": {},
   "outputs": [
    {
     "data": {
      "image/png": "[encoded data removed]",
      "text/plain": [
       "<Figure size 720x720 with 2 Axes>"
      ]
     },
     "metadata": {},
     "output_type": "display_data"
    }
   ],
   "source": [
    "#0 is overall top_popular_list\n",
    "#other numbers are the index of the month starting from january 2020 up to may 2021\n",
    "#We can see that general top pop is close to november 2020 -> this can be due to the fact that is the month with most sessions\n",
    "f, ax = plt.subplots(figsize=(10, 10))\n",
    "ax = sns.heatmap(heatmap, square=True)"
   ]
  },
  {
   "cell_type": "markdown",
   "metadata": {},
   "source": [
    "## Added test set to heatmap"
   ]
  },
  {
   "cell_type": "code",
   "execution_count": 66,
   "metadata": {},
   "outputs": [],
   "source": [
    "items_test=test_sessions_no_duplicates.groupby(\"item_id\")[\"value\"].count().reset_index()\n",
    "items_test=items_test.sort_values(by=\"value\",ascending=False)\n",
    "top_pop_test=items_test[\"item_id\"][:100].values.tolist()"
   ]
  },
  {
   "cell_type": "code",
   "execution_count": 67,
   "metadata": {},
   "outputs": [],
   "source": [
    "heatmap_test=np.zeros((len(top_pops.keys())+1,len(top_pops.keys())+1))"
   ]
  },
  {
   "cell_type": "code",
   "execution_count": 68,
   "metadata": {},
   "outputs": [],
   "source": [
    "heatmap_test[:-1,:-1]=heatmap"
   ]
  },
  {
   "cell_type": "code",
   "execution_count": 69,
   "metadata": {},
   "outputs": [],
   "source": [
    "for x,i in enumerate(top_pops.keys()):\n",
    "    count=0\n",
    "    for item in top_pops[i]:\n",
    "        if item in top_pop_test:\n",
    "            count+=1\n",
    "    heatmap_test[-1,x] = count\n",
    "    heatmap_test[x,-1] = count"
   ]
  },
  {
   "cell_type": "code",
   "execution_count": 70,
   "metadata": {},
   "outputs": [
    {
     "data": {
      "image/png": "[encoded data removed]",
      "text/plain": [
       "<Figure size 720x720 with 2 Axes>"
      ]
     },
     "metadata": {},
     "output_type": "display_data"
    }
   ],
   "source": [
    "#last row/column are test set interaction top_pop\n",
    "f, ax = plt.subplots(figsize=(10, 10))\n",
    "ax = sns.heatmap(heatmap_test, square=True)"
   ]
  },
  {
   "cell_type": "markdown",
   "metadata": {},
   "source": [
    "# Some additional analysis"
   ]
  },
  {
   "cell_type": "code",
   "execution_count": 100,
   "metadata": {},
   "outputs": [],
   "source": [
    "strange_sessions=session[session[\"repeated_count\"]>60][\"item_id\"].values"
   ]
  },
  {
   "cell_type": "code",
   "execution_count": 101,
   "metadata": {},
   "outputs": [],
   "source": [
    "res={}\n",
    "for i,s in enumerate(strange_sessions):\n",
    "    res[f\"{i}\"]={}\n",
    "    for item in s:\n",
    "        if f\"{item}\" in res[f\"{i}\"]:\n",
    "            res[f\"{i}\"][f\"{item}\"]+=1\n",
    "        else:\n",
    "            res[f\"{i}\"][f\"{item}\"]=1"
   ]
  },
  {
   "cell_type": "code",
   "execution_count": 102,
   "metadata": {},
   "outputs": [
    {
     "data": {
      "text/plain": [
       "{'3377': 38,\n",
       " '2535': 2,\n",
       " '3134': 26,\n",
       " '1135': 2,\n",
       " '2168': 1,\n",
       " '4077': 2,\n",
       " '2578': 1,\n",
       " '3197': 1,\n",
       " '3583': 1,\n",
       " '1922': 1,\n",
       " '3094': 2,\n",
       " '4571': 2,\n",
       " '4376': 1,\n",
       " '4587': 1,\n",
       " '4787': 1}"
      ]
     },
     "execution_count": 102,
     "metadata": {},
     "output_type": "execute_result"
    }
   ],
   "source": [
    "res[\"0\"]"
   ]
  },
  {
   "cell_type": "code",
   "execution_count": 105,
   "metadata": {},
   "outputs": [
    {
     "data": {
      "text/html": [
       "<div>\n",
       "<style scoped>\n",
       "    .dataframe tbody tr th:only-of-type {\n",
       "        vertical-align: middle;\n",
       "    }\n",
       "\n",
       "    .dataframe tbody tr th {\n",
       "        vertical-align: top;\n",
       "    }\n",
       "\n",
       "    .dataframe thead th {\n",
       "        text-align: right;\n",
       "    }\n",
       "</style>\n",
       "<table border=\"1\" class=\"dataframe\">\n",
       "  <thead>\n",
       "    <tr style=\"text-align: right;\">\n",
       "      <th></th>\n",
       "      <th>session_id</th>\n",
       "      <th>min</th>\n",
       "      <th>max</th>\n",
       "      <th>mean</th>\n",
       "      <th>item_id</th>\n",
       "      <th>length_all</th>\n",
       "      <th>length_unique</th>\n",
       "      <th>repeated_count</th>\n",
       "      <th>month</th>\n",
       "      <th>year</th>\n",
       "      <th>day_of_week</th>\n",
       "      <th>hour_start</th>\n",
       "      <th>hour_end</th>\n",
       "      <th>length</th>\n",
       "      <th>mean_minutes</th>\n",
       "      <th>length_hours</th>\n",
       "      <th>length_minutes</th>\n",
       "    </tr>\n",
       "  </thead>\n",
       "  <tbody>\n",
       "    <tr>\n",
       "      <th>12190</th>\n",
       "      <td>54433</td>\n",
       "      <td>2020-06-18 01:07:58.123</td>\n",
       "      <td>2020-06-18 12:07:24.241</td>\n",
       "      <td>0 days 00:06:31.743742574</td>\n",
       "      <td>[6300, 18038, 12002, 6190, 18854, 4411, 247, 4...</td>\n",
       "      <td>101</td>\n",
       "      <td>46</td>\n",
       "      <td>55</td>\n",
       "      <td>6</td>\n",
       "      <td>2020</td>\n",
       "      <td>3</td>\n",
       "      <td>1</td>\n",
       "      <td>12</td>\n",
       "      <td>0 days 10:59:26.118000</td>\n",
       "      <td>6</td>\n",
       "      <td>10</td>\n",
       "      <td>659</td>\n",
       "    </tr>\n",
       "    <tr>\n",
       "      <th>68427</th>\n",
       "      <td>305141</td>\n",
       "      <td>2021-05-15 17:09:00.693</td>\n",
       "      <td>2021-05-15 20:37:09.621</td>\n",
       "      <td>0 days 00:02:03.652752475</td>\n",
       "      <td>[4411, 423, 4749, 887, 772, 4209, 2802, 4846, ...</td>\n",
       "      <td>101</td>\n",
       "      <td>57</td>\n",
       "      <td>44</td>\n",
       "      <td>5</td>\n",
       "      <td>2021</td>\n",
       "      <td>5</td>\n",
       "      <td>17</td>\n",
       "      <td>20</td>\n",
       "      <td>0 days 03:28:08.928000</td>\n",
       "      <td>2</td>\n",
       "      <td>3</td>\n",
       "      <td>208</td>\n",
       "    </tr>\n",
       "    <tr>\n",
       "      <th>204926</th>\n",
       "      <td>913190</td>\n",
       "      <td>2020-11-15 12:11:51.420</td>\n",
       "      <td>2020-11-15 18:43:32.957</td>\n",
       "      <td>0 days 00:03:52.688485148</td>\n",
       "      <td>[18061, 14456, 5416, 17495, 10653, 16591, 1427...</td>\n",
       "      <td>101</td>\n",
       "      <td>91</td>\n",
       "      <td>10</td>\n",
       "      <td>11</td>\n",
       "      <td>2020</td>\n",
       "      <td>6</td>\n",
       "      <td>12</td>\n",
       "      <td>18</td>\n",
       "      <td>0 days 06:31:41.537000</td>\n",
       "      <td>3</td>\n",
       "      <td>6</td>\n",
       "      <td>391</td>\n",
       "    </tr>\n",
       "    <tr>\n",
       "      <th>690587</th>\n",
       "      <td>3067101</td>\n",
       "      <td>2020-02-20 07:16:12.776</td>\n",
       "      <td>2020-02-20 09:03:33.555</td>\n",
       "      <td>0 days 00:01:03.770089108</td>\n",
       "      <td>[10003, 5922, 15520, 7258, 22831, 15387, 8747,...</td>\n",
       "      <td>101</td>\n",
       "      <td>82</td>\n",
       "      <td>19</td>\n",
       "      <td>2</td>\n",
       "      <td>2020</td>\n",
       "      <td>3</td>\n",
       "      <td>7</td>\n",
       "      <td>9</td>\n",
       "      <td>0 days 01:47:20.779000</td>\n",
       "      <td>1</td>\n",
       "      <td>1</td>\n",
       "      <td>107</td>\n",
       "    </tr>\n",
       "    <tr>\n",
       "      <th>836726</th>\n",
       "      <td>3715268</td>\n",
       "      <td>2020-12-17 14:02:29.557</td>\n",
       "      <td>2020-12-17 22:18:16.860</td>\n",
       "      <td>0 days 00:04:54.527752475</td>\n",
       "      <td>[11699, 1285, 216, 4773, 3499, 4773, 17561, 24...</td>\n",
       "      <td>101</td>\n",
       "      <td>82</td>\n",
       "      <td>19</td>\n",
       "      <td>12</td>\n",
       "      <td>2020</td>\n",
       "      <td>3</td>\n",
       "      <td>14</td>\n",
       "      <td>22</td>\n",
       "      <td>0 days 08:15:47.303000</td>\n",
       "      <td>4</td>\n",
       "      <td>8</td>\n",
       "      <td>495</td>\n",
       "    </tr>\n",
       "    <tr>\n",
       "      <th>867524</th>\n",
       "      <td>3852385</td>\n",
       "      <td>2020-11-23 07:28:13.833</td>\n",
       "      <td>2020-11-23 17:15:28.775</td>\n",
       "      <td>0 days 00:05:48.860811881</td>\n",
       "      <td>[693, 10551, 16084, 4821, 13355, 12666, 3264, ...</td>\n",
       "      <td>101</td>\n",
       "      <td>91</td>\n",
       "      <td>10</td>\n",
       "      <td>11</td>\n",
       "      <td>2020</td>\n",
       "      <td>0</td>\n",
       "      <td>7</td>\n",
       "      <td>17</td>\n",
       "      <td>0 days 09:47:14.942000</td>\n",
       "      <td>5</td>\n",
       "      <td>9</td>\n",
       "      <td>587</td>\n",
       "    </tr>\n",
       "  </tbody>\n",
       "</table>\n",
       "</div>"
      ],
      "text/plain": [
       "        session_id                     min                     max  \\\n",
       "12190        54433 2020-06-18 01:07:58.123 2020-06-18 12:07:24.241   \n",
       "68427       305141 2021-05-15 17:09:00.693 2021-05-15 20:37:09.621   \n",
       "204926      913190 2020-11-15 12:11:51.420 2020-11-15 18:43:32.957   \n",
       "690587     3067101 2020-02-20 07:16:12.776 2020-02-20 09:03:33.555   \n",
       "836726     3715268 2020-12-17 14:02:29.557 2020-12-17 22:18:16.860   \n",
       "867524     3852385 2020-11-23 07:28:13.833 2020-11-23 17:15:28.775   \n",
       "\n",
       "                            mean  \\\n",
       "12190  0 days 00:06:31.743742574   \n",
       "68427  0 days 00:02:03.652752475   \n",
       "204926 0 days 00:03:52.688485148   \n",
       "690587 0 days 00:01:03.770089108   \n",
       "836726 0 days 00:04:54.527752475   \n",
       "867524 0 days 00:05:48.860811881   \n",
       "\n",
       "                                                  item_id  length_all  \\\n",
       "12190   [6300, 18038, 12002, 6190, 18854, 4411, 247, 4...         101   \n",
       "68427   [4411, 423, 4749, 887, 772, 4209, 2802, 4846, ...         101   \n",
       "204926  [18061, 14456, 5416, 17495, 10653, 16591, 1427...         101   \n",
       "690587  [10003, 5922, 15520, 7258, 22831, 15387, 8747,...         101   \n",
       "836726  [11699, 1285, 216, 4773, 3499, 4773, 17561, 24...         101   \n",
       "867524  [693, 10551, 16084, 4821, 13355, 12666, 3264, ...         101   \n",
       "\n",
       "        length_unique  repeated_count  month  year  day_of_week  hour_start  \\\n",
       "12190              46              55      6  2020            3           1   \n",
       "68427              57              44      5  2021            5          17   \n",
       "204926             91              10     11  2020            6          12   \n",
       "690587             82              19      2  2020            3           7   \n",
       "836726             82              19     12  2020            3          14   \n",
       "867524             91              10     11  2020            0           7   \n",
       "\n",
       "        hour_end                 length  mean_minutes  length_hours  \\\n",
       "12190         12 0 days 10:59:26.118000             6            10   \n",
       "68427         20 0 days 03:28:08.928000             2             3   \n",
       "204926        18 0 days 06:31:41.537000             3             6   \n",
       "690587         9 0 days 01:47:20.779000             1             1   \n",
       "836726        22 0 days 08:15:47.303000             4             8   \n",
       "867524        17 0 days 09:47:14.942000             5             9   \n",
       "\n",
       "        length_minutes  \n",
       "12190              659  \n",
       "68427              208  \n",
       "204926             391  \n",
       "690587             107  \n",
       "836726             495  \n",
       "867524             587  "
      ]
     },
     "execution_count": 105,
     "metadata": {},
     "output_type": "execute_result"
    }
   ],
   "source": [
    "session[session[\"length_all\"]>100]"
   ]
  }
 ],
 "metadata": {
  "interpreter": {
   "hash": "02d8ec3f8e7f7180e83d6b474b1f8ec8bc642d072d5264d1d634933e8e66bacf"
  },
  "kernelspec": {
   "display_name": "Python 3.7.11 ('mujoco_env')",
   "language": "python",
   "name": "python3"
  },
  "language_info": {
   "codemirror_mode": {
    "name": "ipython",
    "version": 3
   },
   "file_extension": ".py",
   "mimetype": "text/x-python",
   "name": "python",
   "nbconvert_exporter": "python",
   "pygments_lexer": "ipython3",
   "version": "3.9.7"
  },
  "orig_nbformat": 4
 },
 "nbformat": 4,
 "nbformat_minor": 2
}
