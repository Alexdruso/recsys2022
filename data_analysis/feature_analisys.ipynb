{
 "cells": [
  {
   "cell_type": "code",
   "execution_count": 111,
   "metadata": {},
   "outputs": [],
   "source": [
    "import pandas as pd\n",
    "import os"
   ]
  },
  {
   "cell_type": "code",
   "execution_count": 88,
   "outputs": [],
   "source": [
    "base_path = '../dataset'\n",
    "\n",
    "original_data = os.path.join(base_path, 'original_data')\n",
    "processed_data = os.path.join(base_path, 'processed_data')"
   ],
   "metadata": {
    "collapsed": false,
    "pycharm": {
     "name": "#%%\n"
    }
   }
  },
  {
   "cell_type": "code",
   "execution_count": 89,
   "metadata": {},
   "outputs": [],
   "source": [
    "features=pd.read_csv(os.path.join(processed_data, \"item_features_mapped.csv\"))"
   ]
  },
  {
   "cell_type": "code",
   "execution_count": 90,
   "metadata": {},
   "outputs": [],
   "source": [
    "features[\"value\"]=1"
   ]
  },
  {
   "cell_type": "code",
   "execution_count": 91,
   "metadata": {},
   "outputs": [
    {
     "data": {
      "text/plain": "471751"
     },
     "execution_count": 91,
     "metadata": {},
     "output_type": "execute_result"
    }
   ],
   "source": [
    "len(features)"
   ]
  },
  {
   "cell_type": "code",
   "execution_count": 92,
   "metadata": {},
   "outputs": [
    {
     "data": {
      "text/plain": "   item_id  feature_category_id  feature_value_id  value\n0    19021                   56               365      1\n1    19021                   62               801      1\n2    19021                   68               351      1\n3    19021                   33               802      1\n4    19021                   72                75      1",
      "text/html": "<div>\n<style scoped>\n    .dataframe tbody tr th:only-of-type {\n        vertical-align: middle;\n    }\n\n    .dataframe tbody tr th {\n        vertical-align: top;\n    }\n\n    .dataframe thead th {\n        text-align: right;\n    }\n</style>\n<table border=\"1\" class=\"dataframe\">\n  <thead>\n    <tr style=\"text-align: right;\">\n      <th></th>\n      <th>item_id</th>\n      <th>feature_category_id</th>\n      <th>feature_value_id</th>\n      <th>value</th>\n    </tr>\n  </thead>\n  <tbody>\n    <tr>\n      <th>0</th>\n      <td>19021</td>\n      <td>56</td>\n      <td>365</td>\n      <td>1</td>\n    </tr>\n    <tr>\n      <th>1</th>\n      <td>19021</td>\n      <td>62</td>\n      <td>801</td>\n      <td>1</td>\n    </tr>\n    <tr>\n      <th>2</th>\n      <td>19021</td>\n      <td>68</td>\n      <td>351</td>\n      <td>1</td>\n    </tr>\n    <tr>\n      <th>3</th>\n      <td>19021</td>\n      <td>33</td>\n      <td>802</td>\n      <td>1</td>\n    </tr>\n    <tr>\n      <th>4</th>\n      <td>19021</td>\n      <td>72</td>\n      <td>75</td>\n      <td>1</td>\n    </tr>\n  </tbody>\n</table>\n</div>"
     },
     "execution_count": 92,
     "metadata": {},
     "output_type": "execute_result"
    }
   ],
   "source": [
    "features.head()"
   ]
  },
  {
   "cell_type": "code",
   "execution_count": 93,
   "metadata": {},
   "outputs": [
    {
     "name": "stdout",
     "output_type": "stream",
     "text": [
      "min: 1   max: 73\n",
      "length: 73\n"
     ]
    }
   ],
   "source": [
    "feat_categories=features[\"feature_category_id\"].unique()\n",
    "print(\"min:\",min(feat_categories),\"  max:\",max(feat_categories))\n",
    "print(\"length:\", len(feat_categories))"
   ]
  },
  {
   "cell_type": "code",
   "execution_count": 94,
   "metadata": {},
   "outputs": [
    {
     "name": "stdout",
     "output_type": "stream",
     "text": [
      "min: 1   max: 905\n",
      "length: 890\n"
     ]
    }
   ],
   "source": [
    "feat_values=features[\"feature_value_id\"].unique()\n",
    "print(\"min:\",min(feat_values),\"  max:\",max(feat_values))\n",
    "print(\"length:\", len(feat_values))"
   ]
  },
  {
   "cell_type": "code",
   "execution_count": 95,
   "metadata": {},
   "outputs": [
    {
     "data": {
      "text/plain": "feature_category_id\n1       941\n2      2253\n3      9311\n4     14954\n5      9488\n      ...  \n69    20450\n70      807\n71      671\n72    20499\n73    13339\nName: value, Length: 73, dtype: int64"
     },
     "execution_count": 95,
     "metadata": {},
     "output_type": "execute_result"
    }
   ],
   "source": [
    "feat_category_count=features.groupby(\"feature_category_id\")['value'].count()\n",
    "feat_category_count # In how many items the feature is present"
   ]
  },
  {
   "cell_type": "code",
   "execution_count": 96,
   "metadata": {},
   "outputs": [
    {
     "name": "stdout",
     "output_type": "stream",
     "text": [
      "min: 1   max: 23691\n",
      "length: 73\n"
     ]
    }
   ],
   "source": [
    "print(\"min:\",min(feat_category_count),\"  max:\",max(feat_category_count))\n",
    "print(\"length:\", len(feat_category_count))"
   ]
  },
  {
   "cell_type": "code",
   "execution_count": 97,
   "metadata": {},
   "outputs": [
    {
     "data": {
      "text/plain": "feature_category_id\n9     137\n13    137\n27      1\n54    341\nName: value, dtype: int64"
     },
     "execution_count": 97,
     "metadata": {},
     "output_type": "execute_result"
    }
   ],
   "source": [
    "feat_category_count[feat_category_count<500] #features that appears in less than 500 items"
   ]
  },
  {
   "cell_type": "code",
   "execution_count": 98,
   "metadata": {},
   "outputs": [
    {
     "data": {
      "text/plain": "feature_category_id\n7     20416\n47    23691\n50    23077\n56    23691\n61    22512\n68    23038\n69    20450\n72    20499\nName: value, dtype: int64"
     },
     "execution_count": 98,
     "metadata": {},
     "output_type": "execute_result"
    }
   ],
   "source": [
    "feat_category_count[feat_category_count>20000] # features that appears in more than 20000 items"
   ]
  },
  {
   "cell_type": "code",
   "execution_count": 99,
   "metadata": {},
   "outputs": [
    {
     "data": {
      "text/plain": "     feature_category_id  feature_value_id  value\n0                      1                60      1\n1                      1               143     10\n2                      1               358      2\n3                      1               461    924\n4                      1               517      2\n..                   ...               ...    ...\n899                   72               751     55\n900                   72               829    405\n901                   72               883     65\n902                   73                91   2381\n903                   73               544  10958\n\n[904 rows x 3 columns]",
      "text/html": "<div>\n<style scoped>\n    .dataframe tbody tr th:only-of-type {\n        vertical-align: middle;\n    }\n\n    .dataframe tbody tr th {\n        vertical-align: top;\n    }\n\n    .dataframe thead th {\n        text-align: right;\n    }\n</style>\n<table border=\"1\" class=\"dataframe\">\n  <thead>\n    <tr style=\"text-align: right;\">\n      <th></th>\n      <th>feature_category_id</th>\n      <th>feature_value_id</th>\n      <th>value</th>\n    </tr>\n  </thead>\n  <tbody>\n    <tr>\n      <th>0</th>\n      <td>1</td>\n      <td>60</td>\n      <td>1</td>\n    </tr>\n    <tr>\n      <th>1</th>\n      <td>1</td>\n      <td>143</td>\n      <td>10</td>\n    </tr>\n    <tr>\n      <th>2</th>\n      <td>1</td>\n      <td>358</td>\n      <td>2</td>\n    </tr>\n    <tr>\n      <th>3</th>\n      <td>1</td>\n      <td>461</td>\n      <td>924</td>\n    </tr>\n    <tr>\n      <th>4</th>\n      <td>1</td>\n      <td>517</td>\n      <td>2</td>\n    </tr>\n    <tr>\n      <th>...</th>\n      <td>...</td>\n      <td>...</td>\n      <td>...</td>\n    </tr>\n    <tr>\n      <th>899</th>\n      <td>72</td>\n      <td>751</td>\n      <td>55</td>\n    </tr>\n    <tr>\n      <th>900</th>\n      <td>72</td>\n      <td>829</td>\n      <td>405</td>\n    </tr>\n    <tr>\n      <th>901</th>\n      <td>72</td>\n      <td>883</td>\n      <td>65</td>\n    </tr>\n    <tr>\n      <th>902</th>\n      <td>73</td>\n      <td>91</td>\n      <td>2381</td>\n    </tr>\n    <tr>\n      <th>903</th>\n      <td>73</td>\n      <td>544</td>\n      <td>10958</td>\n    </tr>\n  </tbody>\n</table>\n<p>904 rows × 3 columns</p>\n</div>"
     },
     "execution_count": 99,
     "metadata": {},
     "output_type": "execute_result"
    }
   ],
   "source": [
    "feats=features.groupby([\"feature_category_id\",\"feature_value_id\"])[\"value\"].count().reset_index()\n",
    "feats # For the given feature category, how many items have the value specified in feature_value_id?"
   ]
  },
  {
   "cell_type": "code",
   "execution_count": 100,
   "metadata": {},
   "outputs": [
    {
     "data": {
      "text/plain": "     feature_category_id  feature_value_id  value\n637                   56               365  19472\n878                   72                75  12582\n716                   61               706  12353\n190                   17               378  11939\n743                   63               861  11651",
      "text/html": "<div>\n<style scoped>\n    .dataframe tbody tr th:only-of-type {\n        vertical-align: middle;\n    }\n\n    .dataframe tbody tr th {\n        vertical-align: top;\n    }\n\n    .dataframe thead th {\n        text-align: right;\n    }\n</style>\n<table border=\"1\" class=\"dataframe\">\n  <thead>\n    <tr style=\"text-align: right;\">\n      <th></th>\n      <th>feature_category_id</th>\n      <th>feature_value_id</th>\n      <th>value</th>\n    </tr>\n  </thead>\n  <tbody>\n    <tr>\n      <th>637</th>\n      <td>56</td>\n      <td>365</td>\n      <td>19472</td>\n    </tr>\n    <tr>\n      <th>878</th>\n      <td>72</td>\n      <td>75</td>\n      <td>12582</td>\n    </tr>\n    <tr>\n      <th>716</th>\n      <td>61</td>\n      <td>706</td>\n      <td>12353</td>\n    </tr>\n    <tr>\n      <th>190</th>\n      <td>17</td>\n      <td>378</td>\n      <td>11939</td>\n    </tr>\n    <tr>\n      <th>743</th>\n      <td>63</td>\n      <td>861</td>\n      <td>11651</td>\n    </tr>\n  </tbody>\n</table>\n</div>"
     },
     "execution_count": 100,
     "metadata": {},
     "output_type": "execute_result"
    }
   ],
   "source": [
    "feats=feats.sort_values(by=\"value\",ascending=False)\n",
    "feats\n",
    "feats.head()"
   ]
  },
  {
   "cell_type": "code",
   "execution_count": 101,
   "metadata": {},
   "outputs": [
    {
     "data": {
      "text/plain": "     feature_category_id  feature_value_id  value\n338                   30               641      1\n351                   30               827      1\n362                   31               306      1\n375                   33               530      1\n0                      1                60      1",
      "text/html": "<div>\n<style scoped>\n    .dataframe tbody tr th:only-of-type {\n        vertical-align: middle;\n    }\n\n    .dataframe tbody tr th {\n        vertical-align: top;\n    }\n\n    .dataframe thead th {\n        text-align: right;\n    }\n</style>\n<table border=\"1\" class=\"dataframe\">\n  <thead>\n    <tr style=\"text-align: right;\">\n      <th></th>\n      <th>feature_category_id</th>\n      <th>feature_value_id</th>\n      <th>value</th>\n    </tr>\n  </thead>\n  <tbody>\n    <tr>\n      <th>338</th>\n      <td>30</td>\n      <td>641</td>\n      <td>1</td>\n    </tr>\n    <tr>\n      <th>351</th>\n      <td>30</td>\n      <td>827</td>\n      <td>1</td>\n    </tr>\n    <tr>\n      <th>362</th>\n      <td>31</td>\n      <td>306</td>\n      <td>1</td>\n    </tr>\n    <tr>\n      <th>375</th>\n      <td>33</td>\n      <td>530</td>\n      <td>1</td>\n    </tr>\n    <tr>\n      <th>0</th>\n      <td>1</td>\n      <td>60</td>\n      <td>1</td>\n    </tr>\n  </tbody>\n</table>\n</div>"
     },
     "execution_count": 101,
     "metadata": {},
     "output_type": "execute_result"
    }
   ],
   "source": [
    "feats.tail()"
   ]
  },
  {
   "cell_type": "code",
   "execution_count": 102,
   "metadata": {},
   "outputs": [],
   "source": [
    "feats=feats.reset_index()\n",
    "feats[\"feature_idx\"]=feats.index+1"
   ]
  },
  {
   "cell_type": "code",
   "execution_count": 103,
   "metadata": {},
   "outputs": [
    {
     "data": {
      "text/plain": "     index  feature_category_id  feature_value_id  value  feature_idx\n0      637                   56               365  19472            1\n1      878                   72                75  12582            2\n2      716                   61               706  12353            3\n3      190                   17               378  11939            4\n4      743                   63               861  11651            5\n..     ...                  ...               ...    ...          ...\n899    338                   30               641      1          900\n900    351                   30               827      1          901\n901    362                   31               306      1          902\n902    375                   33               530      1          903\n903      0                    1                60      1          904\n\n[904 rows x 5 columns]",
      "text/html": "<div>\n<style scoped>\n    .dataframe tbody tr th:only-of-type {\n        vertical-align: middle;\n    }\n\n    .dataframe tbody tr th {\n        vertical-align: top;\n    }\n\n    .dataframe thead th {\n        text-align: right;\n    }\n</style>\n<table border=\"1\" class=\"dataframe\">\n  <thead>\n    <tr style=\"text-align: right;\">\n      <th></th>\n      <th>index</th>\n      <th>feature_category_id</th>\n      <th>feature_value_id</th>\n      <th>value</th>\n      <th>feature_idx</th>\n    </tr>\n  </thead>\n  <tbody>\n    <tr>\n      <th>0</th>\n      <td>637</td>\n      <td>56</td>\n      <td>365</td>\n      <td>19472</td>\n      <td>1</td>\n    </tr>\n    <tr>\n      <th>1</th>\n      <td>878</td>\n      <td>72</td>\n      <td>75</td>\n      <td>12582</td>\n      <td>2</td>\n    </tr>\n    <tr>\n      <th>2</th>\n      <td>716</td>\n      <td>61</td>\n      <td>706</td>\n      <td>12353</td>\n      <td>3</td>\n    </tr>\n    <tr>\n      <th>3</th>\n      <td>190</td>\n      <td>17</td>\n      <td>378</td>\n      <td>11939</td>\n      <td>4</td>\n    </tr>\n    <tr>\n      <th>4</th>\n      <td>743</td>\n      <td>63</td>\n      <td>861</td>\n      <td>11651</td>\n      <td>5</td>\n    </tr>\n    <tr>\n      <th>...</th>\n      <td>...</td>\n      <td>...</td>\n      <td>...</td>\n      <td>...</td>\n      <td>...</td>\n    </tr>\n    <tr>\n      <th>899</th>\n      <td>338</td>\n      <td>30</td>\n      <td>641</td>\n      <td>1</td>\n      <td>900</td>\n    </tr>\n    <tr>\n      <th>900</th>\n      <td>351</td>\n      <td>30</td>\n      <td>827</td>\n      <td>1</td>\n      <td>901</td>\n    </tr>\n    <tr>\n      <th>901</th>\n      <td>362</td>\n      <td>31</td>\n      <td>306</td>\n      <td>1</td>\n      <td>902</td>\n    </tr>\n    <tr>\n      <th>902</th>\n      <td>375</td>\n      <td>33</td>\n      <td>530</td>\n      <td>1</td>\n      <td>903</td>\n    </tr>\n    <tr>\n      <th>903</th>\n      <td>0</td>\n      <td>1</td>\n      <td>60</td>\n      <td>1</td>\n      <td>904</td>\n    </tr>\n  </tbody>\n</table>\n<p>904 rows × 5 columns</p>\n</div>"
     },
     "execution_count": 103,
     "metadata": {},
     "output_type": "execute_result"
    }
   ],
   "source": [
    "feats"
   ]
  },
  {
   "cell_type": "code",
   "execution_count": 104,
   "metadata": {},
   "outputs": [],
   "source": [
    "feats[[\"feature_category_id\",\"feature_value_id\",\"feature_idx\"]].to_csv(os.path.join(processed_data,\"feature_mapped.csv\"), index=False)"
   ]
  },
  {
   "cell_type": "code",
   "execution_count": 105,
   "outputs": [
    {
     "data": {
      "text/plain": "     index  feature_category_id  feature_value_id  value  feature_idx\n0      637                   56               365  19472            1\n1      878                   72                75  12582            2\n2      716                   61               706  12353            3\n3      190                   17               378  11939            4\n4      743                   63               861  11651            5\n..     ...                  ...               ...    ...          ...\n899    338                   30               641      1          900\n900    351                   30               827      1          901\n901    362                   31               306      1          902\n902    375                   33               530      1          903\n903      0                    1                60      1          904\n\n[904 rows x 5 columns]",
      "text/html": "<div>\n<style scoped>\n    .dataframe tbody tr th:only-of-type {\n        vertical-align: middle;\n    }\n\n    .dataframe tbody tr th {\n        vertical-align: top;\n    }\n\n    .dataframe thead th {\n        text-align: right;\n    }\n</style>\n<table border=\"1\" class=\"dataframe\">\n  <thead>\n    <tr style=\"text-align: right;\">\n      <th></th>\n      <th>index</th>\n      <th>feature_category_id</th>\n      <th>feature_value_id</th>\n      <th>value</th>\n      <th>feature_idx</th>\n    </tr>\n  </thead>\n  <tbody>\n    <tr>\n      <th>0</th>\n      <td>637</td>\n      <td>56</td>\n      <td>365</td>\n      <td>19472</td>\n      <td>1</td>\n    </tr>\n    <tr>\n      <th>1</th>\n      <td>878</td>\n      <td>72</td>\n      <td>75</td>\n      <td>12582</td>\n      <td>2</td>\n    </tr>\n    <tr>\n      <th>2</th>\n      <td>716</td>\n      <td>61</td>\n      <td>706</td>\n      <td>12353</td>\n      <td>3</td>\n    </tr>\n    <tr>\n      <th>3</th>\n      <td>190</td>\n      <td>17</td>\n      <td>378</td>\n      <td>11939</td>\n      <td>4</td>\n    </tr>\n    <tr>\n      <th>4</th>\n      <td>743</td>\n      <td>63</td>\n      <td>861</td>\n      <td>11651</td>\n      <td>5</td>\n    </tr>\n    <tr>\n      <th>...</th>\n      <td>...</td>\n      <td>...</td>\n      <td>...</td>\n      <td>...</td>\n      <td>...</td>\n    </tr>\n    <tr>\n      <th>899</th>\n      <td>338</td>\n      <td>30</td>\n      <td>641</td>\n      <td>1</td>\n      <td>900</td>\n    </tr>\n    <tr>\n      <th>900</th>\n      <td>351</td>\n      <td>30</td>\n      <td>827</td>\n      <td>1</td>\n      <td>901</td>\n    </tr>\n    <tr>\n      <th>901</th>\n      <td>362</td>\n      <td>31</td>\n      <td>306</td>\n      <td>1</td>\n      <td>902</td>\n    </tr>\n    <tr>\n      <th>902</th>\n      <td>375</td>\n      <td>33</td>\n      <td>530</td>\n      <td>1</td>\n      <td>903</td>\n    </tr>\n    <tr>\n      <th>903</th>\n      <td>0</td>\n      <td>1</td>\n      <td>60</td>\n      <td>1</td>\n      <td>904</td>\n    </tr>\n  </tbody>\n</table>\n<p>904 rows × 5 columns</p>\n</div>"
     },
     "execution_count": 105,
     "metadata": {},
     "output_type": "execute_result"
    }
   ],
   "source": [
    "feats"
   ],
   "metadata": {
    "collapsed": false,
    "pycharm": {
     "name": "#%%\n"
    }
   }
  },
  {
   "cell_type": "code",
   "execution_count": 106,
   "outputs": [],
   "source": [
    "feats = feats[[\"feature_category_id\",\"feature_value_id\",\"feature_idx\"]]"
   ],
   "metadata": {
    "collapsed": false,
    "pycharm": {
     "name": "#%%\n"
    }
   }
  },
  {
   "cell_type": "code",
   "execution_count": 107,
   "metadata": {},
   "outputs": [],
   "source": [
    "features_mapped=features.merge(feats,how=\"left\",on=[\"feature_category_id\",\"feature_value_id\"])"
   ]
  },
  {
   "cell_type": "code",
   "execution_count": 108,
   "metadata": {},
   "outputs": [],
   "source": [
    "features_mapped=features_mapped[[\"item_id\",\"feature_idx\"]]"
   ]
  },
  {
   "cell_type": "code",
   "execution_count": 109,
   "metadata": {},
   "outputs": [
    {
     "data": {
      "text/plain": "        item_id  feature_idx\n0         19021            1\n1         19021           23\n2         19021           16\n3         19021          447\n4         19021            2\n...         ...          ...\n471746    19020           16\n471747    19020          363\n471748    19020           75\n471749    19020           46\n471750    19020           17\n\n[471751 rows x 2 columns]",
      "text/html": "<div>\n<style scoped>\n    .dataframe tbody tr th:only-of-type {\n        vertical-align: middle;\n    }\n\n    .dataframe tbody tr th {\n        vertical-align: top;\n    }\n\n    .dataframe thead th {\n        text-align: right;\n    }\n</style>\n<table border=\"1\" class=\"dataframe\">\n  <thead>\n    <tr style=\"text-align: right;\">\n      <th></th>\n      <th>item_id</th>\n      <th>feature_idx</th>\n    </tr>\n  </thead>\n  <tbody>\n    <tr>\n      <th>0</th>\n      <td>19021</td>\n      <td>1</td>\n    </tr>\n    <tr>\n      <th>1</th>\n      <td>19021</td>\n      <td>23</td>\n    </tr>\n    <tr>\n      <th>2</th>\n      <td>19021</td>\n      <td>16</td>\n    </tr>\n    <tr>\n      <th>3</th>\n      <td>19021</td>\n      <td>447</td>\n    </tr>\n    <tr>\n      <th>4</th>\n      <td>19021</td>\n      <td>2</td>\n    </tr>\n    <tr>\n      <th>...</th>\n      <td>...</td>\n      <td>...</td>\n    </tr>\n    <tr>\n      <th>471746</th>\n      <td>19020</td>\n      <td>16</td>\n    </tr>\n    <tr>\n      <th>471747</th>\n      <td>19020</td>\n      <td>363</td>\n    </tr>\n    <tr>\n      <th>471748</th>\n      <td>19020</td>\n      <td>75</td>\n    </tr>\n    <tr>\n      <th>471749</th>\n      <td>19020</td>\n      <td>46</td>\n    </tr>\n    <tr>\n      <th>471750</th>\n      <td>19020</td>\n      <td>17</td>\n    </tr>\n  </tbody>\n</table>\n<p>471751 rows × 2 columns</p>\n</div>"
     },
     "execution_count": 109,
     "metadata": {},
     "output_type": "execute_result"
    }
   ],
   "source": [
    "features_mapped"
   ]
  },
  {
   "cell_type": "code",
   "execution_count": 110,
   "metadata": {
    "pycharm": {
     "name": "#%%\n"
    }
   },
   "outputs": [],
   "source": [
    "features_mapped.to_csv(os.path.join(processed_data,\"simplified_features.csv\"),index=False)"
   ]
  }
 ],
 "metadata": {
  "interpreter": {
   "hash": "b3ba2566441a7c06988d0923437866b63cedc61552a5af99d1f4fb67d367b25f"
  },
  "kernelspec": {
   "display_name": "Python 3.9.7 ('base')",
   "language": "python",
   "name": "python3"
  },
  "language_info": {
   "codemirror_mode": {
    "name": "ipython",
    "version": 3
   },
   "file_extension": ".py",
   "mimetype": "text/x-python",
   "name": "python",
   "nbconvert_exporter": "python",
   "pygments_lexer": "ipython3",
   "version": "3.9.7"
  },
  "orig_nbformat": 4
 },
 "nbformat": 4,
 "nbformat_minor": 2
}