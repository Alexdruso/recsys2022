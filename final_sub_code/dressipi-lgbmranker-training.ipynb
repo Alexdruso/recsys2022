{
 "cells": [
  {
   "cell_type": "code",
   "execution_count": 1,
   "id": "5c1a0270",
   "metadata": {
    "execution": {
     "iopub.execute_input": "2022-06-12T16:24:15.126036Z",
     "iopub.status.busy": "2022-06-12T16:24:15.125395Z",
     "iopub.status.idle": "2022-06-12T16:24:15.221069Z",
     "shell.execute_reply": "2022-06-12T16:24:15.220353Z",
     "shell.execute_reply.started": "2022-06-12T16:23:07.708388Z"
    },
    "papermill": {
     "duration": 0.132955,
     "end_time": "2022-06-12T16:24:15.221255",
     "exception": false,
     "start_time": "2022-06-12T16:24:15.088300",
     "status": "completed"
    },
    "tags": []
   },
   "outputs": [],
   "source": [
    "import gc\n",
    "import pandas as pd\n",
    "import scipy.sparse as sps"
   ]
  },
  {
   "cell_type": "code",
   "execution_count": 2,
   "id": "470d9b97",
   "metadata": {
    "execution": {
     "iopub.execute_input": "2022-06-12T16:24:15.277876Z",
     "iopub.status.busy": "2022-06-12T16:24:15.277223Z",
     "iopub.status.idle": "2022-06-12T16:24:15.322106Z",
     "shell.execute_reply": "2022-06-12T16:24:15.321497Z",
     "shell.execute_reply.started": "2022-06-12T16:23:07.789243Z"
    },
    "papermill": {
     "duration": 0.074322,
     "end_time": "2022-06-12T16:24:15.322251",
     "exception": false,
     "start_time": "2022-06-12T16:24:15.247929",
     "status": "completed"
    },
    "tags": []
   },
   "outputs": [],
   "source": [
    "valid=sps.load_npz(\"./dressipi_dataset/URM_valid_bought.npz\")\n",
    "bought=valid.indices"
   ]
  },
  {
   "cell_type": "code",
   "execution_count": 3,
   "id": "c9c1a3f3",
   "metadata": {
    "execution": {
     "iopub.execute_input": "2022-06-12T16:24:15.489222Z",
     "iopub.status.busy": "2022-06-12T16:24:15.383684Z",
     "iopub.status.idle": "2022-06-12T16:26:25.853637Z",
     "shell.execute_reply": "2022-06-12T16:26:25.852233Z"
    },
    "papermill": {
     "duration": 130.504903,
     "end_time": "2022-06-12T16:26:25.853973",
     "exception": false,
     "start_time": "2022-06-12T16:24:15.349070",
     "status": "completed"
    },
    "tags": []
   },
   "outputs": [
    {
     "name": "stdout",
     "output_type": "stream",
     "text": [
      "0\n",
      "loading UCF\n",
      "18588455\n",
      "loaded UCF\n",
      "0\n",
      "loading ICBF\n",
      "16931962\n",
      "loaded ICBF\n",
      "0\n",
      "loading Graph\n",
      "9381483\n",
      "loaded Graph\n",
      "0\n",
      "loading ICF\n",
      "20341641\n",
      "loaded ICF\n"
     ]
    }
   ],
   "source": [
    "dataset=None\n",
    "dataset_max=None\n",
    "#[\"UCF\",\"ICBF\",\"ICF\",\"Graph\",\"TopPop100\",\"TopPop50\",\"TopPop15\"]\n",
    "for file in [\"UCF\",\"ICBF\",\"Graph\",\"ICF\"]:\n",
    "    print(gc.collect())\n",
    "    print(f\"loading {file}\")\n",
    "    df=pd.read_csv(f\"./dressipi_top100_candidates/{file}.csv\")\n",
    "    print(len(df))\n",
    "    print(f\"loaded {file}\")\n",
    "    for col in df:\n",
    "        if \"Max\" in col:\n",
    "            df_max=df[[\"Session_Id\",col]].drop_duplicates()\n",
    "        elif \"Score\" in col:\n",
    "            df_feats=df[[\"Session_Id\",\"Item_ID\",col]]\n",
    "    if dataset is None:\n",
    "        dataset=df_feats\n",
    "        dataset_max=df_max\n",
    "    else:\n",
    "        dataset=dataset.merge(df_feats,on=[\"Session_Id\",\"Item_ID\"],how=\"outer\")\n",
    "        dataset_max=dataset_max.merge(df_max,on=[\"Session_Id\"],how=\"outer\")\n",
    "    del df\n",
    "        \n",
    "\n",
    "#del dataset_max\n",
    "del df_feats\n",
    "del df_max"
   ]
  },
  {
   "cell_type": "code",
   "execution_count": 4,
   "id": "53c26774",
   "metadata": {
    "execution": {
     "iopub.execute_input": "2022-06-12T16:26:25.918309Z",
     "iopub.status.busy": "2022-06-12T16:26:25.917303Z",
     "iopub.status.idle": "2022-06-12T16:26:29.084006Z",
     "shell.execute_reply": "2022-06-12T16:26:29.084695Z"
    },
    "papermill": {
     "duration": 3.200341,
     "end_time": "2022-06-12T16:26:29.084903",
     "exception": false,
     "start_time": "2022-06-12T16:26:25.884562",
     "status": "completed"
    },
    "tags": []
   },
   "outputs": [],
   "source": [
    "import ast\n",
    "submission_df=pd.read_csv(\"./candidate-nn/last_month_candidates.csv\")\n",
    "submission_df[\"score\"]=submission_df[\"score\"].map(ast.literal_eval)\n",
    "submission_df[\"code\"]=submission_df[\"code\"].map(ast.literal_eval)\n",
    "submission_df[\"rank\"]=submission_df[\"rank\"].map(ast.literal_eval)\n",
    "submission_df = submission_df.explode(['code','score', 'rank'])\n",
    "submission_df[[\"session_id\",\"code\",\"rank\"]]=submission_df[[\"session_id\",\"code\",\"rank\"]].astype(int)\n",
    "submission_df.rename(columns={\"code\":\"Item_ID\",\"session_id\":\"Session_Id\",\"rank\":\"rank_gru\",\"score\":\"score_gru\"},inplace=True)"
   ]
  },
  {
   "cell_type": "code",
   "execution_count": 5,
   "id": "a0d3e508",
   "metadata": {
    "execution": {
     "iopub.execute_input": "2022-06-12T16:27:16.295363Z",
     "iopub.status.busy": "2022-06-12T16:27:16.294680Z",
     "iopub.status.idle": "2022-06-12T16:27:16.314773Z",
     "shell.execute_reply": "2022-06-12T16:27:16.315328Z"
    },
    "papermill": {
     "duration": 0.053857,
     "end_time": "2022-06-12T16:27:16.315511",
     "exception": false,
     "start_time": "2022-06-12T16:27:16.261654",
     "status": "completed"
    },
    "tags": []
   },
   "outputs": [
    {
     "data": {
      "text/plain": "   Session_Id  Item_ID score_gru  rank_gru\n0      918382     3731  0.022378         1\n0      918382     2332  0.017789         2\n0      918382     2785  0.012271         3\n0      918382     1189  0.011465         4\n0      918382     4380  0.010622         5",
      "text/html": "<div>\n<style scoped>\n    .dataframe tbody tr th:only-of-type {\n        vertical-align: middle;\n    }\n\n    .dataframe tbody tr th {\n        vertical-align: top;\n    }\n\n    .dataframe thead th {\n        text-align: right;\n    }\n</style>\n<table border=\"1\" class=\"dataframe\">\n  <thead>\n    <tr style=\"text-align: right;\">\n      <th></th>\n      <th>Session_Id</th>\n      <th>Item_ID</th>\n      <th>score_gru</th>\n      <th>rank_gru</th>\n    </tr>\n  </thead>\n  <tbody>\n    <tr>\n      <th>0</th>\n      <td>918382</td>\n      <td>3731</td>\n      <td>0.022378</td>\n      <td>1</td>\n    </tr>\n    <tr>\n      <th>0</th>\n      <td>918382</td>\n      <td>2332</td>\n      <td>0.017789</td>\n      <td>2</td>\n    </tr>\n    <tr>\n      <th>0</th>\n      <td>918382</td>\n      <td>2785</td>\n      <td>0.012271</td>\n      <td>3</td>\n    </tr>\n    <tr>\n      <th>0</th>\n      <td>918382</td>\n      <td>1189</td>\n      <td>0.011465</td>\n      <td>4</td>\n    </tr>\n    <tr>\n      <th>0</th>\n      <td>918382</td>\n      <td>4380</td>\n      <td>0.010622</td>\n      <td>5</td>\n    </tr>\n  </tbody>\n</table>\n</div>"
     },
     "execution_count": 5,
     "metadata": {},
     "output_type": "execute_result"
    }
   ],
   "source": [
    "submission_df.head()"
   ]
  },
  {
   "cell_type": "code",
   "execution_count": 6,
   "id": "b7cb790d",
   "metadata": {},
   "outputs": [],
   "source": [
    "import ast\n",
    "submission_df_tr=pd.read_csv(\"./candidate-transformer/last_month_candidates_transformer.csv\")\n",
    "submission_df_tr[\"score\"]=submission_df_tr[\"score\"].map(ast.literal_eval)\n",
    "submission_df_tr[\"code\"]=submission_df_tr[\"code\"].map(ast.literal_eval)\n",
    "submission_df_tr[\"rank\"]=submission_df_tr[\"rank\"].map(ast.literal_eval)\n",
    "submission_df_tr = submission_df_tr.explode(['code','score', 'rank'])\n",
    "submission_df_tr[[\"session_id\",\"code\",\"rank\"]]=submission_df_tr[[\"session_id\",\"code\",\"rank\"]].astype(int)\n",
    "submission_df_tr.rename(columns={\"code\":\"Item_ID\",\"session_id\":\"Session_Id\",\"rank\":\"rank_transformer\",\"score\":\"score_transformer\"},inplace=True)"
   ]
  },
  {
   "cell_type": "code",
   "execution_count": 7,
   "outputs": [],
   "source": [
    "import ast\n",
    "submission_df_LSTM=pd.read_csv(\"candidate-lstm/last_month_candidates_lstm_bidirectional.csv\")\n",
    "submission_df_LSTM[\"score\"]=submission_df_LSTM[\"score\"].map(ast.literal_eval)\n",
    "submission_df_LSTM[\"code\"]=submission_df_LSTM[\"code\"].map(ast.literal_eval)\n",
    "submission_df_LSTM[\"rank\"]=submission_df_LSTM[\"rank\"].map(ast.literal_eval)\n",
    "submission_df_LSTM = submission_df_LSTM.explode(['code','score', 'rank'])\n",
    "submission_df_LSTM[[\"session_id\",\"code\",\"rank\"]]=submission_df_LSTM[[\"session_id\",\"code\",\"rank\"]].astype(int)\n",
    "submission_df_LSTM.rename(columns={\"code\":\"Item_ID\",\"session_id\":\"Session_Id\",\"rank\":\"rank_LSTM\",\"score\":\"score_LSTM\"},inplace=True)"
   ],
   "metadata": {
    "collapsed": false,
    "pycharm": {
     "name": "#%%\n"
    }
   }
  },
  {
   "cell_type": "code",
   "execution_count": 8,
   "id": "bf8cf06f",
   "metadata": {},
   "outputs": [
    {
     "data": {
      "text/plain": "   Session_Id  Item_ID score_transformer  rank_transformer\n0      918382     3678          0.091941                 1\n0      918382     2865          0.054434                 2\n0      918382     3731           0.03273                 3\n0      918382      513          0.019041                 4\n0      918382     2785          0.018662                 5",
      "text/html": "<div>\n<style scoped>\n    .dataframe tbody tr th:only-of-type {\n        vertical-align: middle;\n    }\n\n    .dataframe tbody tr th {\n        vertical-align: top;\n    }\n\n    .dataframe thead th {\n        text-align: right;\n    }\n</style>\n<table border=\"1\" class=\"dataframe\">\n  <thead>\n    <tr style=\"text-align: right;\">\n      <th></th>\n      <th>Session_Id</th>\n      <th>Item_ID</th>\n      <th>score_transformer</th>\n      <th>rank_transformer</th>\n    </tr>\n  </thead>\n  <tbody>\n    <tr>\n      <th>0</th>\n      <td>918382</td>\n      <td>3678</td>\n      <td>0.091941</td>\n      <td>1</td>\n    </tr>\n    <tr>\n      <th>0</th>\n      <td>918382</td>\n      <td>2865</td>\n      <td>0.054434</td>\n      <td>2</td>\n    </tr>\n    <tr>\n      <th>0</th>\n      <td>918382</td>\n      <td>3731</td>\n      <td>0.03273</td>\n      <td>3</td>\n    </tr>\n    <tr>\n      <th>0</th>\n      <td>918382</td>\n      <td>513</td>\n      <td>0.019041</td>\n      <td>4</td>\n    </tr>\n    <tr>\n      <th>0</th>\n      <td>918382</td>\n      <td>2785</td>\n      <td>0.018662</td>\n      <td>5</td>\n    </tr>\n  </tbody>\n</table>\n</div>"
     },
     "execution_count": 8,
     "metadata": {},
     "output_type": "execute_result"
    }
   ],
   "source": [
    "submission_df_tr.head()"
   ]
  },
  {
   "cell_type": "code",
   "execution_count": 9,
   "id": "ffadc08c",
   "metadata": {
    "execution": {
     "iopub.execute_input": "2022-06-12T16:27:16.510171Z",
     "iopub.status.busy": "2022-06-12T16:27:16.508397Z",
     "iopub.status.idle": "2022-06-12T16:27:54.707349Z",
     "shell.execute_reply": "2022-06-12T16:27:54.707911Z"
    },
    "papermill": {
     "duration": 38.362042,
     "end_time": "2022-06-12T16:27:54.708107",
     "exception": false,
     "start_time": "2022-06-12T16:27:16.346065",
     "status": "completed"
    },
    "tags": []
   },
   "outputs": [],
   "source": [
    "dataset=dataset.merge(submission_df,on=[\"Session_Id\",\"Item_ID\"],how=\"outer\")\n",
    "dataset=dataset.merge(submission_df_tr,on=[\"Session_Id\",\"Item_ID\"],how=\"outer\")\n",
    "dataset=dataset.merge(submission_df_LSTM,on=[\"Session_Id\",\"Item_ID\"],how=\"outer\")\n",
    "\n",
    "dataset=dataset.merge(dataset_max,on=[\"Session_Id\"],how=\"left\")\n"
   ]
  },
  {
   "cell_type": "code",
   "execution_count": 10,
   "id": "95bea9fa",
   "metadata": {
    "execution": {
     "iopub.execute_input": "2022-06-12T16:27:54.776784Z",
     "iopub.status.busy": "2022-06-12T16:27:54.774762Z",
     "iopub.status.idle": "2022-06-12T16:27:54.778970Z",
     "shell.execute_reply": "2022-06-12T16:27:54.779521Z"
    },
    "papermill": {
     "duration": 0.039462,
     "end_time": "2022-06-12T16:27:54.779700",
     "exception": false,
     "start_time": "2022-06-12T16:27:54.740238",
     "status": "completed"
    },
    "tags": []
   },
   "outputs": [],
   "source": [
    "del dataset_max\n",
    "del submission_df\n",
    "del submission_df_tr"
   ]
  },
  {
   "cell_type": "code",
   "execution_count": 11,
   "id": "0fbf9880",
   "metadata": {
    "execution": {
     "iopub.execute_input": "2022-06-12T16:27:54.846310Z",
     "iopub.status.busy": "2022-06-12T16:27:54.845625Z",
     "iopub.status.idle": "2022-06-12T16:27:56.129687Z",
     "shell.execute_reply": "2022-06-12T16:27:56.130199Z"
    },
    "papermill": {
     "duration": 1.319457,
     "end_time": "2022-06-12T16:27:56.130388",
     "exception": false,
     "start_time": "2022-06-12T16:27:54.810931",
     "status": "completed"
    },
    "tags": []
   },
   "outputs": [],
   "source": [
    "import numpy as np\n",
    "sessions=np.unique(dataset[\"Session_Id\"])\n",
    "train=pd.DataFrame()\n",
    "train[\"Session_Id\"]=sessions\n",
    "train[\"Item_ID\"]=bought\n",
    "train[\"target\"]=1"
   ]
  },
  {
   "cell_type": "code",
   "execution_count": 12,
   "id": "db736a30",
   "metadata": {
    "execution": {
     "iopub.execute_input": "2022-06-12T16:27:56.196748Z",
     "iopub.status.busy": "2022-06-12T16:27:56.196134Z",
     "iopub.status.idle": "2022-06-12T16:27:56.313925Z",
     "shell.execute_reply": "2022-06-12T16:27:56.314425Z"
    },
    "papermill": {
     "duration": 0.1524,
     "end_time": "2022-06-12T16:27:56.314597",
     "exception": false,
     "start_time": "2022-06-12T16:27:56.162197",
     "status": "completed"
    },
    "tags": []
   },
   "outputs": [
    {
     "data": {
      "text/plain": "2761"
     },
     "execution_count": 12,
     "metadata": {},
     "output_type": "execute_result"
    }
   ],
   "source": [
    "gc.collect()"
   ]
  },
  {
   "cell_type": "code",
   "execution_count": 13,
   "id": "000e10f7",
   "metadata": {
    "execution": {
     "iopub.execute_input": "2022-06-12T16:27:56.385916Z",
     "iopub.status.busy": "2022-06-12T16:27:56.382626Z",
     "iopub.status.idle": "2022-06-12T16:28:45.008351Z",
     "shell.execute_reply": "2022-06-12T16:28:45.008950Z"
    },
    "papermill": {
     "duration": 48.662432,
     "end_time": "2022-06-12T16:28:45.009147",
     "exception": false,
     "start_time": "2022-06-12T16:27:56.346715",
     "status": "completed"
    },
    "tags": []
   },
   "outputs": [
    {
     "data": {
      "text/plain": "0"
     },
     "execution_count": 13,
     "metadata": {},
     "output_type": "execute_result"
    }
   ],
   "source": [
    "dataset=dataset.merge(train,on=[\"Session_Id\",\"Item_ID\"],how=\"left\")\n",
    "dataset.fillna(0,inplace=True)\n",
    "gc.collect()"
   ]
  },
  {
   "cell_type": "code",
   "execution_count": 14,
   "id": "ca68bf51",
   "metadata": {
    "execution": {
     "iopub.execute_input": "2022-06-12T16:28:45.081634Z",
     "iopub.status.busy": "2022-06-12T16:28:45.080930Z",
     "iopub.status.idle": "2022-06-12T16:28:48.259615Z",
     "shell.execute_reply": "2022-06-12T16:28:48.259084Z"
    },
    "papermill": {
     "duration": 3.218057,
     "end_time": "2022-06-12T16:28:48.259767",
     "exception": false,
     "start_time": "2022-06-12T16:28:45.041710",
     "status": "completed"
    },
    "tags": []
   },
   "outputs": [
    {
     "data": {
      "text/plain": "0"
     },
     "execution_count": 14,
     "metadata": {},
     "output_type": "execute_result"
    }
   ],
   "source": [
    "dataset[\"target\"]=dataset[\"target\"].astype(\"int8\")\n",
    "gc.collect()"
   ]
  },
  {
   "cell_type": "code",
   "execution_count": 15,
   "id": "c434b395",
   "metadata": {
    "execution": {
     "iopub.execute_input": "2022-06-12T16:28:48.349346Z",
     "iopub.status.busy": "2022-06-12T16:28:48.332793Z",
     "iopub.status.idle": "2022-06-12T16:28:48.352373Z",
     "shell.execute_reply": "2022-06-12T16:28:48.352872Z"
    },
    "papermill": {
     "duration": 0.059918,
     "end_time": "2022-06-12T16:28:48.353051",
     "exception": false,
     "start_time": "2022-06-12T16:28:48.293133",
     "status": "completed"
    },
    "tags": []
   },
   "outputs": [
    {
     "data": {
      "text/plain": "          Session_Id  Item_ID  Score_UCF  Score_ICBF  Score_Graph  Score_ICF  \\\n0             918382       78   0.515642    0.000000     0.377850   0.587459   \n1             918382      178   0.281229    0.000000     0.142546   0.412063   \n2             918382      230   0.127506    0.000000     0.055109   0.022295   \n3             918382      242   0.395681    0.775898     0.273503   0.514097   \n4             918382      292   0.200113    0.601746     0.105606   0.458708   \n...              ...      ...        ...         ...          ...        ...   \n42815990      999999     2316   0.000000    0.000000     0.000000   0.000000   \n42815991      999999     3252   0.000000    0.000000     0.000000   0.000000   \n42815992      999999     2019   0.000000    0.000000     0.000000   0.000000   \n42815993      999999     3133   0.000000    0.000000     0.000000   0.000000   \n42815994      999999     1080   0.000000    0.000000     0.000000   0.000000   \n\n          score_gru  rank_gru  score_transformer  rank_transformer  \\\n0          0.001514      42.0           0.001956              79.0   \n1          0.000000       0.0           0.000000               0.0   \n2          0.000000       0.0           0.000000               0.0   \n3          0.002653      26.0           0.009070              12.0   \n4          0.000000       0.0           0.000000               0.0   \n...             ...       ...                ...               ...   \n42815990   0.000000       0.0           0.000000               0.0   \n42815991   0.000000       0.0           0.000000               0.0   \n42815992   0.000000       0.0           0.000000               0.0   \n42815993   0.000000       0.0           0.000000               0.0   \n42815994   0.000000       0.0           0.000000               0.0   \n\n          score_LSTM  rank_LSTM  Max_Score_UCF  Max_Score_ICBF  \\\n0           0.001662       81.0      60.744503        3.067216   \n1           0.000000        0.0      60.744503        3.067216   \n2           0.000000        0.0      60.744503        3.067216   \n3           0.003761       33.0      60.744503        3.067216   \n4           0.000000        0.0      60.744503        3.067216   \n...              ...        ...            ...             ...   \n42815990    0.001413       89.0     111.366875        9.421845   \n42815991    0.001411       90.0     111.366875        9.421845   \n42815992    0.001351       97.0     111.366875        9.421845   \n42815993    0.001344       98.0     111.366875        9.421845   \n42815994    0.001301       99.0     111.366875        9.421845   \n\n          Max_Score_Graph  Max_Score_ICF  target  \n0                1.982604       0.395666       0  \n1                1.982604       0.395666       0  \n2                1.982604       0.395666       0  \n3                1.982604       0.395666       0  \n4                1.982604       0.395666       0  \n...                   ...            ...     ...  \n42815990        12.826448       0.786831       0  \n42815991        12.826448       0.786831       0  \n42815992        12.826448       0.786831       0  \n42815993        12.826448       0.786831       0  \n42815994        12.826448       0.786831       0  \n\n[42815995 rows x 17 columns]",
      "text/html": "<div>\n<style scoped>\n    .dataframe tbody tr th:only-of-type {\n        vertical-align: middle;\n    }\n\n    .dataframe tbody tr th {\n        vertical-align: top;\n    }\n\n    .dataframe thead th {\n        text-align: right;\n    }\n</style>\n<table border=\"1\" class=\"dataframe\">\n  <thead>\n    <tr style=\"text-align: right;\">\n      <th></th>\n      <th>Session_Id</th>\n      <th>Item_ID</th>\n      <th>Score_UCF</th>\n      <th>Score_ICBF</th>\n      <th>Score_Graph</th>\n      <th>Score_ICF</th>\n      <th>score_gru</th>\n      <th>rank_gru</th>\n      <th>score_transformer</th>\n      <th>rank_transformer</th>\n      <th>score_LSTM</th>\n      <th>rank_LSTM</th>\n      <th>Max_Score_UCF</th>\n      <th>Max_Score_ICBF</th>\n      <th>Max_Score_Graph</th>\n      <th>Max_Score_ICF</th>\n      <th>target</th>\n    </tr>\n  </thead>\n  <tbody>\n    <tr>\n      <th>0</th>\n      <td>918382</td>\n      <td>78</td>\n      <td>0.515642</td>\n      <td>0.000000</td>\n      <td>0.377850</td>\n      <td>0.587459</td>\n      <td>0.001514</td>\n      <td>42.0</td>\n      <td>0.001956</td>\n      <td>79.0</td>\n      <td>0.001662</td>\n      <td>81.0</td>\n      <td>60.744503</td>\n      <td>3.067216</td>\n      <td>1.982604</td>\n      <td>0.395666</td>\n      <td>0</td>\n    </tr>\n    <tr>\n      <th>1</th>\n      <td>918382</td>\n      <td>178</td>\n      <td>0.281229</td>\n      <td>0.000000</td>\n      <td>0.142546</td>\n      <td>0.412063</td>\n      <td>0.000000</td>\n      <td>0.0</td>\n      <td>0.000000</td>\n      <td>0.0</td>\n      <td>0.000000</td>\n      <td>0.0</td>\n      <td>60.744503</td>\n      <td>3.067216</td>\n      <td>1.982604</td>\n      <td>0.395666</td>\n      <td>0</td>\n    </tr>\n    <tr>\n      <th>2</th>\n      <td>918382</td>\n      <td>230</td>\n      <td>0.127506</td>\n      <td>0.000000</td>\n      <td>0.055109</td>\n      <td>0.022295</td>\n      <td>0.000000</td>\n      <td>0.0</td>\n      <td>0.000000</td>\n      <td>0.0</td>\n      <td>0.000000</td>\n      <td>0.0</td>\n      <td>60.744503</td>\n      <td>3.067216</td>\n      <td>1.982604</td>\n      <td>0.395666</td>\n      <td>0</td>\n    </tr>\n    <tr>\n      <th>3</th>\n      <td>918382</td>\n      <td>242</td>\n      <td>0.395681</td>\n      <td>0.775898</td>\n      <td>0.273503</td>\n      <td>0.514097</td>\n      <td>0.002653</td>\n      <td>26.0</td>\n      <td>0.009070</td>\n      <td>12.0</td>\n      <td>0.003761</td>\n      <td>33.0</td>\n      <td>60.744503</td>\n      <td>3.067216</td>\n      <td>1.982604</td>\n      <td>0.395666</td>\n      <td>0</td>\n    </tr>\n    <tr>\n      <th>4</th>\n      <td>918382</td>\n      <td>292</td>\n      <td>0.200113</td>\n      <td>0.601746</td>\n      <td>0.105606</td>\n      <td>0.458708</td>\n      <td>0.000000</td>\n      <td>0.0</td>\n      <td>0.000000</td>\n      <td>0.0</td>\n      <td>0.000000</td>\n      <td>0.0</td>\n      <td>60.744503</td>\n      <td>3.067216</td>\n      <td>1.982604</td>\n      <td>0.395666</td>\n      <td>0</td>\n    </tr>\n    <tr>\n      <th>...</th>\n      <td>...</td>\n      <td>...</td>\n      <td>...</td>\n      <td>...</td>\n      <td>...</td>\n      <td>...</td>\n      <td>...</td>\n      <td>...</td>\n      <td>...</td>\n      <td>...</td>\n      <td>...</td>\n      <td>...</td>\n      <td>...</td>\n      <td>...</td>\n      <td>...</td>\n      <td>...</td>\n      <td>...</td>\n    </tr>\n    <tr>\n      <th>42815990</th>\n      <td>999999</td>\n      <td>2316</td>\n      <td>0.000000</td>\n      <td>0.000000</td>\n      <td>0.000000</td>\n      <td>0.000000</td>\n      <td>0.000000</td>\n      <td>0.0</td>\n      <td>0.000000</td>\n      <td>0.0</td>\n      <td>0.001413</td>\n      <td>89.0</td>\n      <td>111.366875</td>\n      <td>9.421845</td>\n      <td>12.826448</td>\n      <td>0.786831</td>\n      <td>0</td>\n    </tr>\n    <tr>\n      <th>42815991</th>\n      <td>999999</td>\n      <td>3252</td>\n      <td>0.000000</td>\n      <td>0.000000</td>\n      <td>0.000000</td>\n      <td>0.000000</td>\n      <td>0.000000</td>\n      <td>0.0</td>\n      <td>0.000000</td>\n      <td>0.0</td>\n      <td>0.001411</td>\n      <td>90.0</td>\n      <td>111.366875</td>\n      <td>9.421845</td>\n      <td>12.826448</td>\n      <td>0.786831</td>\n      <td>0</td>\n    </tr>\n    <tr>\n      <th>42815992</th>\n      <td>999999</td>\n      <td>2019</td>\n      <td>0.000000</td>\n      <td>0.000000</td>\n      <td>0.000000</td>\n      <td>0.000000</td>\n      <td>0.000000</td>\n      <td>0.0</td>\n      <td>0.000000</td>\n      <td>0.0</td>\n      <td>0.001351</td>\n      <td>97.0</td>\n      <td>111.366875</td>\n      <td>9.421845</td>\n      <td>12.826448</td>\n      <td>0.786831</td>\n      <td>0</td>\n    </tr>\n    <tr>\n      <th>42815993</th>\n      <td>999999</td>\n      <td>3133</td>\n      <td>0.000000</td>\n      <td>0.000000</td>\n      <td>0.000000</td>\n      <td>0.000000</td>\n      <td>0.000000</td>\n      <td>0.0</td>\n      <td>0.000000</td>\n      <td>0.0</td>\n      <td>0.001344</td>\n      <td>98.0</td>\n      <td>111.366875</td>\n      <td>9.421845</td>\n      <td>12.826448</td>\n      <td>0.786831</td>\n      <td>0</td>\n    </tr>\n    <tr>\n      <th>42815994</th>\n      <td>999999</td>\n      <td>1080</td>\n      <td>0.000000</td>\n      <td>0.000000</td>\n      <td>0.000000</td>\n      <td>0.000000</td>\n      <td>0.000000</td>\n      <td>0.0</td>\n      <td>0.000000</td>\n      <td>0.0</td>\n      <td>0.001301</td>\n      <td>99.0</td>\n      <td>111.366875</td>\n      <td>9.421845</td>\n      <td>12.826448</td>\n      <td>0.786831</td>\n      <td>0</td>\n    </tr>\n  </tbody>\n</table>\n<p>42815995 rows × 17 columns</p>\n</div>"
     },
     "execution_count": 15,
     "metadata": {},
     "output_type": "execute_result"
    }
   ],
   "source": [
    "dataset"
   ]
  },
  {
   "cell_type": "code",
   "execution_count": 16,
   "id": "ba65635a",
   "metadata": {
    "execution": {
     "iopub.execute_input": "2022-06-12T16:28:48.423965Z",
     "iopub.status.busy": "2022-06-12T16:28:48.423291Z",
     "iopub.status.idle": "2022-06-12T16:28:55.420590Z",
     "shell.execute_reply": "2022-06-12T16:28:55.419963Z"
    },
    "papermill": {
     "duration": 7.033981,
     "end_time": "2022-06-12T16:28:55.420748",
     "exception": false,
     "start_time": "2022-06-12T16:28:48.386767",
     "status": "completed"
    },
    "tags": []
   },
   "outputs": [],
   "source": [
    "sessions_containing_bought_among_candidates=dataset[[\"Session_Id\",\"target\"]].groupby(\"Session_Id\").agg(sum).reset_index()\n",
    "sessions_containing_bought_among_candidates=sessions_containing_bought_among_candidates.loc[sessions_containing_bought_among_candidates[\"target\"]>0]\n",
    "\n",
    "dataset=dataset[dataset['Session_Id'].isin(sessions_containing_bought_among_candidates[\"Session_Id\"].tolist())]"
   ]
  },
  {
   "cell_type": "code",
   "execution_count": 17,
   "id": "bc5c79cb",
   "metadata": {
    "execution": {
     "iopub.execute_input": "2022-06-12T16:28:55.501716Z",
     "iopub.status.busy": "2022-06-12T16:28:55.501043Z",
     "iopub.status.idle": "2022-06-12T16:28:55.518413Z",
     "shell.execute_reply": "2022-06-12T16:28:55.518965Z"
    },
    "papermill": {
     "duration": 0.062744,
     "end_time": "2022-06-12T16:28:55.519150",
     "exception": false,
     "start_time": "2022-06-12T16:28:55.456406",
     "status": "completed"
    },
    "tags": []
   },
   "outputs": [
    {
     "data": {
      "text/plain": "     Session_Id  Item_ID  Score_UCF  Score_ICBF  Score_Graph  Score_ICF  \\\n209      918383       55   0.054177    0.632362     0.005355   0.018442   \n210      918383      122   0.025767    0.000000     0.000000   0.000000   \n211      918383      189   0.129413    0.000000     0.020602   0.278846   \n212      918383      215   0.036236    0.000000     0.000000   0.000000   \n213      918383      260   0.039900    0.000000     0.003595   0.012055   \n214      918383      320   0.040230    0.000000     0.000000   0.000000   \n215      918383      357   0.040280    0.000000     0.003286   0.012149   \n216      918383      379   0.046153    0.637329     0.004070   0.016121   \n217      918383      421   0.064009    0.604249     0.013832   0.319644   \n218      918383      506   0.032975    0.493767     0.003990   0.017444   \n219      918383      548   0.230510    0.372456     0.044912   0.513687   \n220      918383      554   0.029226    0.000000     0.000000   0.000000   \n221      918383      609   0.052033    0.000000     0.004670   0.012957   \n222      918383      676   0.090545    0.000000     0.019931   0.330578   \n223      918383      786   0.261841    0.243509     0.064066   0.431985   \n224      918383      815   0.083969    0.041857     0.010714   0.174255   \n225      918383      851   0.138455    0.398915     0.021227   0.308970   \n226      918383      933   0.079789    0.484507     0.008408   0.029548   \n227      918383      943   0.030199    0.627671     0.000000   0.014695   \n228      918383      965   0.033015    0.000000     0.000000   0.000000   \n\n     score_gru  rank_gru  score_transformer  rank_transformer  score_LSTM  \\\n209   0.000000       0.0           0.000000               0.0    0.001609   \n210   0.000390      90.0           0.000000               0.0    0.000000   \n211   0.001349      28.0           0.003134              35.0    0.000850   \n212   0.000000       0.0           0.000000               0.0    0.000000   \n213   0.000000       0.0           0.000000               0.0    0.000000   \n214   0.001628      22.0           0.004717              25.0    0.003327   \n215   0.000000       0.0           0.000000               0.0    0.000638   \n216   0.000387      92.0           0.000000               0.0    0.001490   \n217   0.000000       0.0           0.000823              97.0    0.000000   \n218   0.000000       0.0           0.001294              69.0    0.000000   \n219   0.000538      67.0           0.001740              53.0    0.004943   \n220   0.000000       0.0           0.000000               0.0    0.000000   \n221   0.000000       0.0           0.000000               0.0    0.000000   \n222   0.000419      83.0           0.000000               0.0    0.000000   \n223   0.012669       4.0           0.028049               6.0    0.015311   \n224   0.001325      29.0           0.007857              16.0    0.002839   \n225   0.001202      32.0           0.010638              14.0    0.003288   \n226   0.000000       0.0           0.000000               0.0    0.000000   \n227   0.000000       0.0           0.000000               0.0    0.000000   \n228   0.000000       0.0           0.000000               0.0    0.000000   \n\n     rank_LSTM  Max_Score_UCF  Max_Score_ICBF  Max_Score_Graph  Max_Score_ICF  \\\n209       47.0      594.02826        7.204127         91.79825       1.092114   \n210        0.0      594.02826        7.204127         91.79825       1.092114   \n211       77.0      594.02826        7.204127         91.79825       1.092114   \n212        0.0      594.02826        7.204127         91.79825       1.092114   \n213        0.0      594.02826        7.204127         91.79825       1.092114   \n214       28.0      594.02826        7.204127         91.79825       1.092114   \n215       97.0      594.02826        7.204127         91.79825       1.092114   \n216       52.0      594.02826        7.204127         91.79825       1.092114   \n217        0.0      594.02826        7.204127         91.79825       1.092114   \n218        0.0      594.02826        7.204127         91.79825       1.092114   \n219       19.0      594.02826        7.204127         91.79825       1.092114   \n220        0.0      594.02826        7.204127         91.79825       1.092114   \n221        0.0      594.02826        7.204127         91.79825       1.092114   \n222        0.0      594.02826        7.204127         91.79825       1.092114   \n223        8.0      594.02826        7.204127         91.79825       1.092114   \n224       31.0      594.02826        7.204127         91.79825       1.092114   \n225       29.0      594.02826        7.204127         91.79825       1.092114   \n226        0.0      594.02826        7.204127         91.79825       1.092114   \n227        0.0      594.02826        7.204127         91.79825       1.092114   \n228        0.0      594.02826        7.204127         91.79825       1.092114   \n\n     target  \n209       0  \n210       0  \n211       0  \n212       0  \n213       0  \n214       0  \n215       0  \n216       0  \n217       0  \n218       0  \n219       0  \n220       0  \n221       0  \n222       0  \n223       0  \n224       0  \n225       0  \n226       0  \n227       0  \n228       0  ",
      "text/html": "<div>\n<style scoped>\n    .dataframe tbody tr th:only-of-type {\n        vertical-align: middle;\n    }\n\n    .dataframe tbody tr th {\n        vertical-align: top;\n    }\n\n    .dataframe thead th {\n        text-align: right;\n    }\n</style>\n<table border=\"1\" class=\"dataframe\">\n  <thead>\n    <tr style=\"text-align: right;\">\n      <th></th>\n      <th>Session_Id</th>\n      <th>Item_ID</th>\n      <th>Score_UCF</th>\n      <th>Score_ICBF</th>\n      <th>Score_Graph</th>\n      <th>Score_ICF</th>\n      <th>score_gru</th>\n      <th>rank_gru</th>\n      <th>score_transformer</th>\n      <th>rank_transformer</th>\n      <th>score_LSTM</th>\n      <th>rank_LSTM</th>\n      <th>Max_Score_UCF</th>\n      <th>Max_Score_ICBF</th>\n      <th>Max_Score_Graph</th>\n      <th>Max_Score_ICF</th>\n      <th>target</th>\n    </tr>\n  </thead>\n  <tbody>\n    <tr>\n      <th>209</th>\n      <td>918383</td>\n      <td>55</td>\n      <td>0.054177</td>\n      <td>0.632362</td>\n      <td>0.005355</td>\n      <td>0.018442</td>\n      <td>0.000000</td>\n      <td>0.0</td>\n      <td>0.000000</td>\n      <td>0.0</td>\n      <td>0.001609</td>\n      <td>47.0</td>\n      <td>594.02826</td>\n      <td>7.204127</td>\n      <td>91.79825</td>\n      <td>1.092114</td>\n      <td>0</td>\n    </tr>\n    <tr>\n      <th>210</th>\n      <td>918383</td>\n      <td>122</td>\n      <td>0.025767</td>\n      <td>0.000000</td>\n      <td>0.000000</td>\n      <td>0.000000</td>\n      <td>0.000390</td>\n      <td>90.0</td>\n      <td>0.000000</td>\n      <td>0.0</td>\n      <td>0.000000</td>\n      <td>0.0</td>\n      <td>594.02826</td>\n      <td>7.204127</td>\n      <td>91.79825</td>\n      <td>1.092114</td>\n      <td>0</td>\n    </tr>\n    <tr>\n      <th>211</th>\n      <td>918383</td>\n      <td>189</td>\n      <td>0.129413</td>\n      <td>0.000000</td>\n      <td>0.020602</td>\n      <td>0.278846</td>\n      <td>0.001349</td>\n      <td>28.0</td>\n      <td>0.003134</td>\n      <td>35.0</td>\n      <td>0.000850</td>\n      <td>77.0</td>\n      <td>594.02826</td>\n      <td>7.204127</td>\n      <td>91.79825</td>\n      <td>1.092114</td>\n      <td>0</td>\n    </tr>\n    <tr>\n      <th>212</th>\n      <td>918383</td>\n      <td>215</td>\n      <td>0.036236</td>\n      <td>0.000000</td>\n      <td>0.000000</td>\n      <td>0.000000</td>\n      <td>0.000000</td>\n      <td>0.0</td>\n      <td>0.000000</td>\n      <td>0.0</td>\n      <td>0.000000</td>\n      <td>0.0</td>\n      <td>594.02826</td>\n      <td>7.204127</td>\n      <td>91.79825</td>\n      <td>1.092114</td>\n      <td>0</td>\n    </tr>\n    <tr>\n      <th>213</th>\n      <td>918383</td>\n      <td>260</td>\n      <td>0.039900</td>\n      <td>0.000000</td>\n      <td>0.003595</td>\n      <td>0.012055</td>\n      <td>0.000000</td>\n      <td>0.0</td>\n      <td>0.000000</td>\n      <td>0.0</td>\n      <td>0.000000</td>\n      <td>0.0</td>\n      <td>594.02826</td>\n      <td>7.204127</td>\n      <td>91.79825</td>\n      <td>1.092114</td>\n      <td>0</td>\n    </tr>\n    <tr>\n      <th>214</th>\n      <td>918383</td>\n      <td>320</td>\n      <td>0.040230</td>\n      <td>0.000000</td>\n      <td>0.000000</td>\n      <td>0.000000</td>\n      <td>0.001628</td>\n      <td>22.0</td>\n      <td>0.004717</td>\n      <td>25.0</td>\n      <td>0.003327</td>\n      <td>28.0</td>\n      <td>594.02826</td>\n      <td>7.204127</td>\n      <td>91.79825</td>\n      <td>1.092114</td>\n      <td>0</td>\n    </tr>\n    <tr>\n      <th>215</th>\n      <td>918383</td>\n      <td>357</td>\n      <td>0.040280</td>\n      <td>0.000000</td>\n      <td>0.003286</td>\n      <td>0.012149</td>\n      <td>0.000000</td>\n      <td>0.0</td>\n      <td>0.000000</td>\n      <td>0.0</td>\n      <td>0.000638</td>\n      <td>97.0</td>\n      <td>594.02826</td>\n      <td>7.204127</td>\n      <td>91.79825</td>\n      <td>1.092114</td>\n      <td>0</td>\n    </tr>\n    <tr>\n      <th>216</th>\n      <td>918383</td>\n      <td>379</td>\n      <td>0.046153</td>\n      <td>0.637329</td>\n      <td>0.004070</td>\n      <td>0.016121</td>\n      <td>0.000387</td>\n      <td>92.0</td>\n      <td>0.000000</td>\n      <td>0.0</td>\n      <td>0.001490</td>\n      <td>52.0</td>\n      <td>594.02826</td>\n      <td>7.204127</td>\n      <td>91.79825</td>\n      <td>1.092114</td>\n      <td>0</td>\n    </tr>\n    <tr>\n      <th>217</th>\n      <td>918383</td>\n      <td>421</td>\n      <td>0.064009</td>\n      <td>0.604249</td>\n      <td>0.013832</td>\n      <td>0.319644</td>\n      <td>0.000000</td>\n      <td>0.0</td>\n      <td>0.000823</td>\n      <td>97.0</td>\n      <td>0.000000</td>\n      <td>0.0</td>\n      <td>594.02826</td>\n      <td>7.204127</td>\n      <td>91.79825</td>\n      <td>1.092114</td>\n      <td>0</td>\n    </tr>\n    <tr>\n      <th>218</th>\n      <td>918383</td>\n      <td>506</td>\n      <td>0.032975</td>\n      <td>0.493767</td>\n      <td>0.003990</td>\n      <td>0.017444</td>\n      <td>0.000000</td>\n      <td>0.0</td>\n      <td>0.001294</td>\n      <td>69.0</td>\n      <td>0.000000</td>\n      <td>0.0</td>\n      <td>594.02826</td>\n      <td>7.204127</td>\n      <td>91.79825</td>\n      <td>1.092114</td>\n      <td>0</td>\n    </tr>\n    <tr>\n      <th>219</th>\n      <td>918383</td>\n      <td>548</td>\n      <td>0.230510</td>\n      <td>0.372456</td>\n      <td>0.044912</td>\n      <td>0.513687</td>\n      <td>0.000538</td>\n      <td>67.0</td>\n      <td>0.001740</td>\n      <td>53.0</td>\n      <td>0.004943</td>\n      <td>19.0</td>\n      <td>594.02826</td>\n      <td>7.204127</td>\n      <td>91.79825</td>\n      <td>1.092114</td>\n      <td>0</td>\n    </tr>\n    <tr>\n      <th>220</th>\n      <td>918383</td>\n      <td>554</td>\n      <td>0.029226</td>\n      <td>0.000000</td>\n      <td>0.000000</td>\n      <td>0.000000</td>\n      <td>0.000000</td>\n      <td>0.0</td>\n      <td>0.000000</td>\n      <td>0.0</td>\n      <td>0.000000</td>\n      <td>0.0</td>\n      <td>594.02826</td>\n      <td>7.204127</td>\n      <td>91.79825</td>\n      <td>1.092114</td>\n      <td>0</td>\n    </tr>\n    <tr>\n      <th>221</th>\n      <td>918383</td>\n      <td>609</td>\n      <td>0.052033</td>\n      <td>0.000000</td>\n      <td>0.004670</td>\n      <td>0.012957</td>\n      <td>0.000000</td>\n      <td>0.0</td>\n      <td>0.000000</td>\n      <td>0.0</td>\n      <td>0.000000</td>\n      <td>0.0</td>\n      <td>594.02826</td>\n      <td>7.204127</td>\n      <td>91.79825</td>\n      <td>1.092114</td>\n      <td>0</td>\n    </tr>\n    <tr>\n      <th>222</th>\n      <td>918383</td>\n      <td>676</td>\n      <td>0.090545</td>\n      <td>0.000000</td>\n      <td>0.019931</td>\n      <td>0.330578</td>\n      <td>0.000419</td>\n      <td>83.0</td>\n      <td>0.000000</td>\n      <td>0.0</td>\n      <td>0.000000</td>\n      <td>0.0</td>\n      <td>594.02826</td>\n      <td>7.204127</td>\n      <td>91.79825</td>\n      <td>1.092114</td>\n      <td>0</td>\n    </tr>\n    <tr>\n      <th>223</th>\n      <td>918383</td>\n      <td>786</td>\n      <td>0.261841</td>\n      <td>0.243509</td>\n      <td>0.064066</td>\n      <td>0.431985</td>\n      <td>0.012669</td>\n      <td>4.0</td>\n      <td>0.028049</td>\n      <td>6.0</td>\n      <td>0.015311</td>\n      <td>8.0</td>\n      <td>594.02826</td>\n      <td>7.204127</td>\n      <td>91.79825</td>\n      <td>1.092114</td>\n      <td>0</td>\n    </tr>\n    <tr>\n      <th>224</th>\n      <td>918383</td>\n      <td>815</td>\n      <td>0.083969</td>\n      <td>0.041857</td>\n      <td>0.010714</td>\n      <td>0.174255</td>\n      <td>0.001325</td>\n      <td>29.0</td>\n      <td>0.007857</td>\n      <td>16.0</td>\n      <td>0.002839</td>\n      <td>31.0</td>\n      <td>594.02826</td>\n      <td>7.204127</td>\n      <td>91.79825</td>\n      <td>1.092114</td>\n      <td>0</td>\n    </tr>\n    <tr>\n      <th>225</th>\n      <td>918383</td>\n      <td>851</td>\n      <td>0.138455</td>\n      <td>0.398915</td>\n      <td>0.021227</td>\n      <td>0.308970</td>\n      <td>0.001202</td>\n      <td>32.0</td>\n      <td>0.010638</td>\n      <td>14.0</td>\n      <td>0.003288</td>\n      <td>29.0</td>\n      <td>594.02826</td>\n      <td>7.204127</td>\n      <td>91.79825</td>\n      <td>1.092114</td>\n      <td>0</td>\n    </tr>\n    <tr>\n      <th>226</th>\n      <td>918383</td>\n      <td>933</td>\n      <td>0.079789</td>\n      <td>0.484507</td>\n      <td>0.008408</td>\n      <td>0.029548</td>\n      <td>0.000000</td>\n      <td>0.0</td>\n      <td>0.000000</td>\n      <td>0.0</td>\n      <td>0.000000</td>\n      <td>0.0</td>\n      <td>594.02826</td>\n      <td>7.204127</td>\n      <td>91.79825</td>\n      <td>1.092114</td>\n      <td>0</td>\n    </tr>\n    <tr>\n      <th>227</th>\n      <td>918383</td>\n      <td>943</td>\n      <td>0.030199</td>\n      <td>0.627671</td>\n      <td>0.000000</td>\n      <td>0.014695</td>\n      <td>0.000000</td>\n      <td>0.0</td>\n      <td>0.000000</td>\n      <td>0.0</td>\n      <td>0.000000</td>\n      <td>0.0</td>\n      <td>594.02826</td>\n      <td>7.204127</td>\n      <td>91.79825</td>\n      <td>1.092114</td>\n      <td>0</td>\n    </tr>\n    <tr>\n      <th>228</th>\n      <td>918383</td>\n      <td>965</td>\n      <td>0.033015</td>\n      <td>0.000000</td>\n      <td>0.000000</td>\n      <td>0.000000</td>\n      <td>0.000000</td>\n      <td>0.0</td>\n      <td>0.000000</td>\n      <td>0.0</td>\n      <td>0.000000</td>\n      <td>0.0</td>\n      <td>594.02826</td>\n      <td>7.204127</td>\n      <td>91.79825</td>\n      <td>1.092114</td>\n      <td>0</td>\n    </tr>\n  </tbody>\n</table>\n</div>"
     },
     "execution_count": 17,
     "metadata": {},
     "output_type": "execute_result"
    }
   ],
   "source": [
    "dataset.head(20)"
   ]
  },
  {
   "cell_type": "code",
   "execution_count": 18,
   "metadata": {
    "collapsed": false,
    "pycharm": {
     "name": "#%%\n"
    }
   },
   "outputs": [],
   "source": [
    "# dataset_macro_features = pd.read_csv('./macro-feats/train_with_macro_feats.csv',\n",
    "#                                      usecols=['session_id',\n",
    "#                                                 'session_similarity',\n",
    "#                                                 'session_similarity_uniques', 'session_similarity_feats', 'session_similarity_feats_uniques',\n",
    "#                                               'length_of_session_seconds',\n",
    "#                    'avg_time_spent_per_item_seconds',\n",
    "#                    'variance_time_spent_per_item_seconds',\n",
    "#                    'n_seen_items',\n",
    "#                    'n_unique_items',])\n",
    "#\n",
    "# dataset_macro_features.rename(columns={'session_id':'Session_Id'}, inplace=True)\n",
    "# dataset = dataset.merge(dataset_macro_features, on='Session_Id', how='left')"
   ]
  },
  {
   "cell_type": "code",
   "execution_count": 19,
   "metadata": {
    "collapsed": false,
    "pycharm": {
     "name": "#%%\n"
    }
   },
   "outputs": [
    {
     "name": "stderr",
     "output_type": "stream",
     "text": [
      "/var/folders/j4/lrzvgqtj3bz3ynm2xlxsxtc00000gn/T/ipykernel_20922/2867263171.py:1: SettingWithCopyWarning: \n",
      "A value is trying to be set on a copy of a slice from a DataFrame\n",
      "\n",
      "See the caveats in the documentation: https://pandas.pydata.org/pandas-docs/stable/user_guide/indexing.html#returning-a-view-versus-a-copy\n",
      "  dataset.drop(columns = ['rank_LSTM', 'rank_gru', 'rank_transformer'], axis=1, inplace=True)\n"
     ]
    }
   ],
   "source": [
    "dataset.drop(columns = ['rank_LSTM', 'rank_gru', 'rank_transformer'], axis=1, inplace=True)"
   ]
  },
  {
   "cell_type": "code",
   "execution_count": 20,
   "id": "75da40bf",
   "metadata": {
    "execution": {
     "iopub.execute_input": "2022-06-12T16:28:55.593307Z",
     "iopub.status.busy": "2022-06-12T16:28:55.592622Z",
     "iopub.status.idle": "2022-06-12T16:28:56.693759Z",
     "shell.execute_reply": "2022-06-12T16:28:56.694495Z"
    },
    "papermill": {
     "duration": 1.140311,
     "end_time": "2022-06-12T16:28:56.694676",
     "exception": false,
     "start_time": "2022-06-12T16:28:55.554365",
     "status": "completed"
    },
    "tags": []
   },
   "outputs": [
    {
     "data": {
      "text/plain": "0"
     },
     "execution_count": 20,
     "metadata": {},
     "output_type": "execute_result"
    }
   ],
   "source": [
    "from sklearn.model_selection import train_test_split\n",
    "train,valid=train_test_split(train,test_size=0.2, random_state=1234)\n",
    "gc.collect()\n"
   ]
  },
  {
   "cell_type": "code",
   "execution_count": 21,
   "id": "ea694667",
   "metadata": {
    "execution": {
     "iopub.execute_input": "2022-06-12T16:28:56.770257Z",
     "iopub.status.busy": "2022-06-12T16:28:56.769558Z",
     "iopub.status.idle": "2022-06-12T16:28:56.780834Z",
     "shell.execute_reply": "2022-06-12T16:28:56.781391Z"
    },
    "papermill": {
     "duration": 0.050763,
     "end_time": "2022-06-12T16:28:56.781566",
     "exception": false,
     "start_time": "2022-06-12T16:28:56.730803",
     "status": "completed"
    },
    "tags": []
   },
   "outputs": [],
   "source": [
    "train_sessions=train[\"Session_Id\"].tolist()\n",
    "valid_sessions=valid[\"Session_Id\"].tolist()"
   ]
  },
  {
   "cell_type": "code",
   "execution_count": 22,
   "id": "9104e169",
   "metadata": {
    "execution": {
     "iopub.execute_input": "2022-06-12T16:28:56.862203Z",
     "iopub.status.busy": "2022-06-12T16:28:56.861511Z",
     "iopub.status.idle": "2022-06-12T16:28:59.672793Z",
     "shell.execute_reply": "2022-06-12T16:28:59.672271Z"
    },
    "papermill": {
     "duration": 2.852201,
     "end_time": "2022-06-12T16:28:59.672982",
     "exception": false,
     "start_time": "2022-06-12T16:28:56.820781",
     "status": "completed"
    },
    "tags": []
   },
   "outputs": [
    {
     "data": {
      "text/plain": "0"
     },
     "execution_count": 22,
     "metadata": {},
     "output_type": "execute_result"
    }
   ],
   "source": [
    "train=dataset[dataset[\"Session_Id\"].isin(train_sessions)]\n",
    "gc.collect()\n",
    "valid=dataset[dataset[\"Session_Id\"].isin(valid_sessions)]\n",
    "gc.collect()"
   ]
  },
  {
   "cell_type": "code",
   "execution_count": 23,
   "id": "5c169a19",
   "metadata": {
    "execution": {
     "iopub.execute_input": "2022-06-12T16:28:59.752068Z",
     "iopub.status.busy": "2022-06-12T16:28:59.751110Z",
     "iopub.status.idle": "2022-06-12T16:29:05.034118Z",
     "shell.execute_reply": "2022-06-12T16:29:05.034630Z"
    },
    "papermill": {
     "duration": 5.325393,
     "end_time": "2022-06-12T16:29:05.034826",
     "exception": false,
     "start_time": "2022-06-12T16:28:59.709433",
     "status": "completed"
    },
    "tags": []
   },
   "outputs": [
    {
     "data": {
      "text/plain": "0"
     },
     "execution_count": 23,
     "metadata": {},
     "output_type": "execute_result"
    }
   ],
   "source": [
    "train=train.sort_values(\"Session_Id\")\n",
    "gc.collect()\n",
    "valid=valid.sort_values(\"Session_Id\")\n",
    "gc.collect()"
   ]
  },
  {
   "cell_type": "code",
   "execution_count": 24,
   "id": "1ab7ba82",
   "metadata": {
    "execution": {
     "iopub.execute_input": "2022-06-12T16:29:05.116683Z",
     "iopub.status.busy": "2022-06-12T16:29:05.115661Z",
     "iopub.status.idle": "2022-06-12T16:29:06.211519Z",
     "shell.execute_reply": "2022-06-12T16:29:06.212326Z"
    },
    "papermill": {
     "duration": 1.138184,
     "end_time": "2022-06-12T16:29:06.212524",
     "exception": false,
     "start_time": "2022-06-12T16:29:05.074340",
     "status": "completed"
    },
    "tags": []
   },
   "outputs": [
    {
     "name": "stdout",
     "output_type": "stream",
     "text": [
      "61483.75\n"
     ]
    },
    {
     "data": {
      "text/plain": "0"
     },
     "execution_count": 24,
     "metadata": {},
     "output_type": "execute_result"
    }
   ],
   "source": [
    "qids_train = train[[\"Session_Id\"]].groupby(\"Session_Id\")[\"Session_Id\"].count().to_numpy()\n",
    "print(len(qids_train)/0.8)\n",
    "gc.collect()\n",
    "qids_valid = valid[[\"Session_Id\"]].groupby(\"Session_Id\")[\"Session_Id\"].count().to_numpy()\n",
    "gc.collect()"
   ]
  },
  {
   "cell_type": "code",
   "execution_count": 25,
   "id": "b92d8c18",
   "metadata": {
    "execution": {
     "iopub.execute_input": "2022-06-12T16:29:07.650007Z",
     "iopub.status.busy": "2022-06-12T16:29:07.648451Z",
     "iopub.status.idle": "2022-06-12T16:29:07.653819Z",
     "shell.execute_reply": "2022-06-12T16:29:07.653102Z"
    },
    "papermill": {
     "duration": 1.401023,
     "end_time": "2022-06-12T16:29:07.653968",
     "exception": false,
     "start_time": "2022-06-12T16:29:06.252945",
     "status": "completed"
    },
    "tags": []
   },
   "outputs": [],
   "source": [
    "X_train=train.drop([\"target\",\"Session_Id\",\"Item_ID\"],axis=1)\n",
    "gc.collect()\n",
    "y_train=train[\"target\"]\n",
    "gc.collect()\n",
    "X_valid=valid.drop([\"target\",\"Session_Id\",\"Item_ID\"],axis=1)\n",
    "gc.collect()\n",
    "y_valid=valid[\"target\"]"
   ]
  },
  {
   "cell_type": "code",
   "execution_count": 26,
   "id": "568a8232",
   "metadata": {
    "execution": {
     "iopub.execute_input": "2022-06-12T16:29:07.854983Z",
     "iopub.status.busy": "2022-06-12T16:29:07.853912Z",
     "iopub.status.idle": "2022-06-12T16:29:07.858161Z",
     "shell.execute_reply": "2022-06-12T16:29:07.857607Z"
    },
    "papermill": {
     "duration": 0.164958,
     "end_time": "2022-06-12T16:29:07.858311",
     "exception": false,
     "start_time": "2022-06-12T16:29:07.693353",
     "status": "completed"
    },
    "tags": []
   },
   "outputs": [
    {
     "data": {
      "text/plain": "0"
     },
     "execution_count": 26,
     "metadata": {},
     "output_type": "execute_result"
    }
   ],
   "source": [
    "gc.collect()"
   ]
  },
  {
   "cell_type": "code",
   "execution_count": 27,
   "id": "326f994f",
   "metadata": {
    "execution": {
     "iopub.execute_input": "2022-06-12T16:29:07.941556Z",
     "iopub.status.busy": "2022-06-12T16:29:07.940863Z",
     "iopub.status.idle": "2022-06-12T16:29:08.993336Z",
     "shell.execute_reply": "2022-06-12T16:29:08.993929Z"
    },
    "papermill": {
     "duration": 1.096686,
     "end_time": "2022-06-12T16:29:08.994138",
     "exception": false,
     "start_time": "2022-06-12T16:29:07.897452",
     "status": "completed"
    },
    "tags": []
   },
   "outputs": [],
   "source": [
    "import lightgbm"
   ]
  },
  {
   "cell_type": "code",
   "execution_count": 28,
   "id": "1b77c6ce",
   "metadata": {
    "execution": {
     "iopub.execute_input": "2022-06-12T16:29:09.098835Z",
     "iopub.status.busy": "2022-06-12T16:29:09.097744Z",
     "iopub.status.idle": "2022-06-12T16:29:09.103340Z",
     "shell.execute_reply": "2022-06-12T16:29:09.103970Z"
    },
    "papermill": {
     "duration": 0.053325,
     "end_time": "2022-06-12T16:29:09.104163",
     "exception": false,
     "start_time": "2022-06-12T16:29:09.050838",
     "status": "completed"
    },
    "tags": []
   },
   "outputs": [],
   "source": [
    "model = lightgbm.LGBMRanker(\n",
    "    objective=\"lambdarank\",\n",
    "    #objective=\"rank_xendcg\",\n",
    "    #metric=\"mrr\",\n",
    "    n_estimators=2000,\n",
    "    lambdarank_truncation_level=103,\n",
    "    reg_alpha=1e-4,\n",
    "    learning_rate=0.05,\n",
    "    min_child_samples=600,\n",
    "    subsample=0.6,\n",
    "    subsample_freq=10\n",
    "    \n",
    ")"
   ]
  },
  {
   "cell_type": "code",
   "execution_count": 29,
   "id": "9d9fc453",
   "metadata": {
    "execution": {
     "iopub.execute_input": "2022-06-12T16:29:09.202427Z",
     "iopub.status.busy": "2022-06-12T16:29:09.201346Z",
     "iopub.status.idle": "2022-06-12T16:42:56.518291Z",
     "shell.execute_reply": "2022-06-12T16:42:56.518933Z"
    },
    "papermill": {
     "duration": 827.368881,
     "end_time": "2022-06-12T16:42:56.519254",
     "exception": false,
     "start_time": "2022-06-12T16:29:09.150373",
     "status": "completed"
    },
    "tags": []
   },
   "outputs": [
    {
     "name": "stdout",
     "output_type": "stream",
     "text": [
      "[1]\tvalid_0's map@100: 0.149395\tvalid_0's ndcg@100: 0.269112\n",
      "Training until validation scores don't improve for 50 rounds\n",
      "[2]\tvalid_0's map@100: 0.225528\tvalid_0's ndcg@100: 0.331132\n",
      "[3]\tvalid_0's map@100: 0.232471\tvalid_0's ndcg@100: 0.337168\n",
      "[4]\tvalid_0's map@100: 0.23577\tvalid_0's ndcg@100: 0.340209\n",
      "[5]\tvalid_0's map@100: 0.236357\tvalid_0's ndcg@100: 0.340897\n",
      "[6]\tvalid_0's map@100: 0.237519\tvalid_0's ndcg@100: 0.341778\n",
      "[7]\tvalid_0's map@100: 0.238205\tvalid_0's ndcg@100: 0.342421\n",
      "[8]\tvalid_0's map@100: 0.239207\tvalid_0's ndcg@100: 0.343224\n",
      "[9]\tvalid_0's map@100: 0.239787\tvalid_0's ndcg@100: 0.343669\n",
      "[10]\tvalid_0's map@100: 0.240006\tvalid_0's ndcg@100: 0.343883\n",
      "[11]\tvalid_0's map@100: 0.240443\tvalid_0's ndcg@100: 0.344161\n",
      "[12]\tvalid_0's map@100: 0.240018\tvalid_0's ndcg@100: 0.343927\n",
      "[13]\tvalid_0's map@100: 0.240105\tvalid_0's ndcg@100: 0.344092\n",
      "[14]\tvalid_0's map@100: 0.240167\tvalid_0's ndcg@100: 0.344185\n",
      "[15]\tvalid_0's map@100: 0.240361\tvalid_0's ndcg@100: 0.344437\n",
      "[16]\tvalid_0's map@100: 0.240394\tvalid_0's ndcg@100: 0.344381\n",
      "[17]\tvalid_0's map@100: 0.241093\tvalid_0's ndcg@100: 0.345036\n",
      "[18]\tvalid_0's map@100: 0.241591\tvalid_0's ndcg@100: 0.345478\n",
      "[19]\tvalid_0's map@100: 0.241988\tvalid_0's ndcg@100: 0.345855\n",
      "[20]\tvalid_0's map@100: 0.241776\tvalid_0's ndcg@100: 0.345783\n",
      "[21]\tvalid_0's map@100: 0.242216\tvalid_0's ndcg@100: 0.346239\n",
      "[22]\tvalid_0's map@100: 0.24254\tvalid_0's ndcg@100: 0.346467\n",
      "[23]\tvalid_0's map@100: 0.242396\tvalid_0's ndcg@100: 0.346426\n",
      "[24]\tvalid_0's map@100: 0.24286\tvalid_0's ndcg@100: 0.3467\n",
      "[25]\tvalid_0's map@100: 0.243197\tvalid_0's ndcg@100: 0.347005\n",
      "[26]\tvalid_0's map@100: 0.242941\tvalid_0's ndcg@100: 0.346821\n",
      "[27]\tvalid_0's map@100: 0.243218\tvalid_0's ndcg@100: 0.347038\n",
      "[28]\tvalid_0's map@100: 0.24339\tvalid_0's ndcg@100: 0.347099\n",
      "[29]\tvalid_0's map@100: 0.243549\tvalid_0's ndcg@100: 0.347263\n",
      "[30]\tvalid_0's map@100: 0.243332\tvalid_0's ndcg@100: 0.347169\n",
      "[31]\tvalid_0's map@100: 0.242989\tvalid_0's ndcg@100: 0.346957\n",
      "[32]\tvalid_0's map@100: 0.242992\tvalid_0's ndcg@100: 0.34693\n",
      "[33]\tvalid_0's map@100: 0.243074\tvalid_0's ndcg@100: 0.347102\n",
      "[34]\tvalid_0's map@100: 0.24333\tvalid_0's ndcg@100: 0.347253\n",
      "[35]\tvalid_0's map@100: 0.243511\tvalid_0's ndcg@100: 0.34741\n",
      "[36]\tvalid_0's map@100: 0.243485\tvalid_0's ndcg@100: 0.347396\n",
      "[37]\tvalid_0's map@100: 0.243588\tvalid_0's ndcg@100: 0.34747\n",
      "[38]\tvalid_0's map@100: 0.244036\tvalid_0's ndcg@100: 0.347939\n",
      "[39]\tvalid_0's map@100: 0.2442\tvalid_0's ndcg@100: 0.34808\n",
      "[40]\tvalid_0's map@100: 0.244344\tvalid_0's ndcg@100: 0.348189\n",
      "[41]\tvalid_0's map@100: 0.244196\tvalid_0's ndcg@100: 0.348112\n",
      "[42]\tvalid_0's map@100: 0.244244\tvalid_0's ndcg@100: 0.348085\n",
      "[43]\tvalid_0's map@100: 0.244353\tvalid_0's ndcg@100: 0.348194\n",
      "[44]\tvalid_0's map@100: 0.244524\tvalid_0's ndcg@100: 0.348393\n",
      "[45]\tvalid_0's map@100: 0.245099\tvalid_0's ndcg@100: 0.348906\n",
      "[46]\tvalid_0's map@100: 0.244982\tvalid_0's ndcg@100: 0.34889\n",
      "[47]\tvalid_0's map@100: 0.245182\tvalid_0's ndcg@100: 0.348999\n",
      "[48]\tvalid_0's map@100: 0.24532\tvalid_0's ndcg@100: 0.349081\n",
      "[49]\tvalid_0's map@100: 0.245462\tvalid_0's ndcg@100: 0.349203\n",
      "[50]\tvalid_0's map@100: 0.245825\tvalid_0's ndcg@100: 0.349492\n",
      "[51]\tvalid_0's map@100: 0.245921\tvalid_0's ndcg@100: 0.349564\n",
      "[52]\tvalid_0's map@100: 0.246177\tvalid_0's ndcg@100: 0.3498\n",
      "[53]\tvalid_0's map@100: 0.246044\tvalid_0's ndcg@100: 0.349699\n",
      "[54]\tvalid_0's map@100: 0.246052\tvalid_0's ndcg@100: 0.34984\n",
      "[55]\tvalid_0's map@100: 0.246213\tvalid_0's ndcg@100: 0.349985\n",
      "[56]\tvalid_0's map@100: 0.246063\tvalid_0's ndcg@100: 0.349888\n",
      "[57]\tvalid_0's map@100: 0.246019\tvalid_0's ndcg@100: 0.349803\n",
      "[58]\tvalid_0's map@100: 0.245959\tvalid_0's ndcg@100: 0.349754\n",
      "[59]\tvalid_0's map@100: 0.246317\tvalid_0's ndcg@100: 0.350063\n",
      "[60]\tvalid_0's map@100: 0.246153\tvalid_0's ndcg@100: 0.349958\n",
      "[61]\tvalid_0's map@100: 0.246173\tvalid_0's ndcg@100: 0.349972\n",
      "[62]\tvalid_0's map@100: 0.246302\tvalid_0's ndcg@100: 0.350068\n",
      "[63]\tvalid_0's map@100: 0.246323\tvalid_0's ndcg@100: 0.350109\n",
      "[64]\tvalid_0's map@100: 0.246286\tvalid_0's ndcg@100: 0.350116\n",
      "[65]\tvalid_0's map@100: 0.246336\tvalid_0's ndcg@100: 0.35014\n",
      "[66]\tvalid_0's map@100: 0.246324\tvalid_0's ndcg@100: 0.350141\n",
      "[67]\tvalid_0's map@100: 0.246479\tvalid_0's ndcg@100: 0.350304\n",
      "[68]\tvalid_0's map@100: 0.246907\tvalid_0's ndcg@100: 0.350625\n",
      "[69]\tvalid_0's map@100: 0.246676\tvalid_0's ndcg@100: 0.350414\n",
      "[70]\tvalid_0's map@100: 0.246981\tvalid_0's ndcg@100: 0.350766\n",
      "[71]\tvalid_0's map@100: 0.247192\tvalid_0's ndcg@100: 0.350956\n",
      "[72]\tvalid_0's map@100: 0.247317\tvalid_0's ndcg@100: 0.351079\n",
      "[73]\tvalid_0's map@100: 0.247288\tvalid_0's ndcg@100: 0.351078\n",
      "[74]\tvalid_0's map@100: 0.247659\tvalid_0's ndcg@100: 0.351349\n",
      "[75]\tvalid_0's map@100: 0.247587\tvalid_0's ndcg@100: 0.351266\n",
      "[76]\tvalid_0's map@100: 0.247818\tvalid_0's ndcg@100: 0.351483\n",
      "[77]\tvalid_0's map@100: 0.247904\tvalid_0's ndcg@100: 0.351597\n",
      "[78]\tvalid_0's map@100: 0.247856\tvalid_0's ndcg@100: 0.35149\n",
      "[79]\tvalid_0's map@100: 0.247817\tvalid_0's ndcg@100: 0.35153\n",
      "[80]\tvalid_0's map@100: 0.247818\tvalid_0's ndcg@100: 0.351519\n",
      "[81]\tvalid_0's map@100: 0.247774\tvalid_0's ndcg@100: 0.351445\n",
      "[82]\tvalid_0's map@100: 0.247899\tvalid_0's ndcg@100: 0.351601\n",
      "[83]\tvalid_0's map@100: 0.247866\tvalid_0's ndcg@100: 0.351583\n",
      "[84]\tvalid_0's map@100: 0.247886\tvalid_0's ndcg@100: 0.351633\n",
      "[85]\tvalid_0's map@100: 0.248082\tvalid_0's ndcg@100: 0.351794\n",
      "[86]\tvalid_0's map@100: 0.248007\tvalid_0's ndcg@100: 0.351727\n",
      "[87]\tvalid_0's map@100: 0.248114\tvalid_0's ndcg@100: 0.351797\n",
      "[88]\tvalid_0's map@100: 0.247985\tvalid_0's ndcg@100: 0.351779\n",
      "[89]\tvalid_0's map@100: 0.24816\tvalid_0's ndcg@100: 0.351899\n",
      "[90]\tvalid_0's map@100: 0.248588\tvalid_0's ndcg@100: 0.352234\n",
      "[91]\tvalid_0's map@100: 0.248566\tvalid_0's ndcg@100: 0.352245\n",
      "[92]\tvalid_0's map@100: 0.248566\tvalid_0's ndcg@100: 0.352262\n",
      "[93]\tvalid_0's map@100: 0.248595\tvalid_0's ndcg@100: 0.352287\n",
      "[94]\tvalid_0's map@100: 0.248934\tvalid_0's ndcg@100: 0.352521\n",
      "[95]\tvalid_0's map@100: 0.248827\tvalid_0's ndcg@100: 0.35244\n",
      "[96]\tvalid_0's map@100: 0.249216\tvalid_0's ndcg@100: 0.352717\n",
      "[97]\tvalid_0's map@100: 0.249181\tvalid_0's ndcg@100: 0.352772\n",
      "[98]\tvalid_0's map@100: 0.249133\tvalid_0's ndcg@100: 0.352757\n",
      "[99]\tvalid_0's map@100: 0.249014\tvalid_0's ndcg@100: 0.352669\n",
      "[100]\tvalid_0's map@100: 0.248899\tvalid_0's ndcg@100: 0.352574\n",
      "[101]\tvalid_0's map@100: 0.248936\tvalid_0's ndcg@100: 0.352663\n",
      "[102]\tvalid_0's map@100: 0.248893\tvalid_0's ndcg@100: 0.352553\n",
      "[103]\tvalid_0's map@100: 0.248755\tvalid_0's ndcg@100: 0.352475\n",
      "[104]\tvalid_0's map@100: 0.248882\tvalid_0's ndcg@100: 0.35266\n",
      "[105]\tvalid_0's map@100: 0.248768\tvalid_0's ndcg@100: 0.352574\n",
      "[106]\tvalid_0's map@100: 0.248847\tvalid_0's ndcg@100: 0.352632\n",
      "[107]\tvalid_0's map@100: 0.248976\tvalid_0's ndcg@100: 0.352747\n",
      "[108]\tvalid_0's map@100: 0.249009\tvalid_0's ndcg@100: 0.352772\n",
      "[109]\tvalid_0's map@100: 0.248987\tvalid_0's ndcg@100: 0.352758\n",
      "[110]\tvalid_0's map@100: 0.249172\tvalid_0's ndcg@100: 0.35287\n",
      "[111]\tvalid_0's map@100: 0.249398\tvalid_0's ndcg@100: 0.353004\n",
      "[112]\tvalid_0's map@100: 0.249537\tvalid_0's ndcg@100: 0.353151\n",
      "[113]\tvalid_0's map@100: 0.249274\tvalid_0's ndcg@100: 0.352982\n",
      "[114]\tvalid_0's map@100: 0.24947\tvalid_0's ndcg@100: 0.353146\n",
      "[115]\tvalid_0's map@100: 0.249663\tvalid_0's ndcg@100: 0.353292\n",
      "[116]\tvalid_0's map@100: 0.249675\tvalid_0's ndcg@100: 0.353258\n",
      "[117]\tvalid_0's map@100: 0.249949\tvalid_0's ndcg@100: 0.353467\n",
      "[118]\tvalid_0's map@100: 0.250052\tvalid_0's ndcg@100: 0.353576\n",
      "[119]\tvalid_0's map@100: 0.249903\tvalid_0's ndcg@100: 0.353465\n",
      "[120]\tvalid_0's map@100: 0.249885\tvalid_0's ndcg@100: 0.353487\n",
      "[121]\tvalid_0's map@100: 0.249843\tvalid_0's ndcg@100: 0.353423\n",
      "[122]\tvalid_0's map@100: 0.249932\tvalid_0's ndcg@100: 0.353489\n",
      "[123]\tvalid_0's map@100: 0.250055\tvalid_0's ndcg@100: 0.353602\n",
      "[124]\tvalid_0's map@100: 0.250175\tvalid_0's ndcg@100: 0.353726\n",
      "[125]\tvalid_0's map@100: 0.250192\tvalid_0's ndcg@100: 0.353723\n",
      "[126]\tvalid_0's map@100: 0.250074\tvalid_0's ndcg@100: 0.353649\n",
      "[127]\tvalid_0's map@100: 0.250074\tvalid_0's ndcg@100: 0.353686\n",
      "[128]\tvalid_0's map@100: 0.250193\tvalid_0's ndcg@100: 0.353884\n",
      "[129]\tvalid_0's map@100: 0.250273\tvalid_0's ndcg@100: 0.353941\n",
      "[130]\tvalid_0's map@100: 0.250291\tvalid_0's ndcg@100: 0.353941\n",
      "[131]\tvalid_0's map@100: 0.250481\tvalid_0's ndcg@100: 0.354113\n",
      "[132]\tvalid_0's map@100: 0.25038\tvalid_0's ndcg@100: 0.354041\n",
      "[133]\tvalid_0's map@100: 0.250361\tvalid_0's ndcg@100: 0.354043\n",
      "[134]\tvalid_0's map@100: 0.250381\tvalid_0's ndcg@100: 0.354075\n",
      "[135]\tvalid_0's map@100: 0.250239\tvalid_0's ndcg@100: 0.353948\n",
      "[136]\tvalid_0's map@100: 0.250441\tvalid_0's ndcg@100: 0.354134\n",
      "[137]\tvalid_0's map@100: 0.250481\tvalid_0's ndcg@100: 0.354156\n",
      "[138]\tvalid_0's map@100: 0.250582\tvalid_0's ndcg@100: 0.354229\n",
      "[139]\tvalid_0's map@100: 0.250346\tvalid_0's ndcg@100: 0.35403\n",
      "[140]\tvalid_0's map@100: 0.250342\tvalid_0's ndcg@100: 0.354038\n",
      "[141]\tvalid_0's map@100: 0.250441\tvalid_0's ndcg@100: 0.354164\n",
      "[142]\tvalid_0's map@100: 0.250673\tvalid_0's ndcg@100: 0.354329\n",
      "[143]\tvalid_0's map@100: 0.25066\tvalid_0's ndcg@100: 0.354377\n",
      "[144]\tvalid_0's map@100: 0.250861\tvalid_0's ndcg@100: 0.354527\n",
      "[145]\tvalid_0's map@100: 0.251136\tvalid_0's ndcg@100: 0.354737\n",
      "[146]\tvalid_0's map@100: 0.251253\tvalid_0's ndcg@100: 0.35489\n",
      "[147]\tvalid_0's map@100: 0.25134\tvalid_0's ndcg@100: 0.354885\n",
      "[148]\tvalid_0's map@100: 0.251291\tvalid_0's ndcg@100: 0.354848\n",
      "[149]\tvalid_0's map@100: 0.251312\tvalid_0's ndcg@100: 0.354848\n",
      "[150]\tvalid_0's map@100: 0.251408\tvalid_0's ndcg@100: 0.354939\n",
      "[151]\tvalid_0's map@100: 0.251367\tvalid_0's ndcg@100: 0.354949\n",
      "[152]\tvalid_0's map@100: 0.25134\tvalid_0's ndcg@100: 0.354898\n",
      "[153]\tvalid_0's map@100: 0.251227\tvalid_0's ndcg@100: 0.354797\n",
      "[154]\tvalid_0's map@100: 0.25108\tvalid_0's ndcg@100: 0.354665\n",
      "[155]\tvalid_0's map@100: 0.251128\tvalid_0's ndcg@100: 0.354733\n",
      "[156]\tvalid_0's map@100: 0.251092\tvalid_0's ndcg@100: 0.354741\n",
      "[157]\tvalid_0's map@100: 0.251071\tvalid_0's ndcg@100: 0.354721\n",
      "[158]\tvalid_0's map@100: 0.251172\tvalid_0's ndcg@100: 0.354794\n",
      "[159]\tvalid_0's map@100: 0.251044\tvalid_0's ndcg@100: 0.35469\n",
      "[160]\tvalid_0's map@100: 0.25116\tvalid_0's ndcg@100: 0.354801\n",
      "[161]\tvalid_0's map@100: 0.25119\tvalid_0's ndcg@100: 0.354802\n",
      "[162]\tvalid_0's map@100: 0.251307\tvalid_0's ndcg@100: 0.354905\n",
      "[163]\tvalid_0's map@100: 0.251248\tvalid_0's ndcg@100: 0.354859\n",
      "[164]\tvalid_0's map@100: 0.251461\tvalid_0's ndcg@100: 0.355035\n",
      "[165]\tvalid_0's map@100: 0.251387\tvalid_0's ndcg@100: 0.354996\n",
      "[166]\tvalid_0's map@100: 0.251355\tvalid_0's ndcg@100: 0.354952\n",
      "[167]\tvalid_0's map@100: 0.251471\tvalid_0's ndcg@100: 0.355049\n",
      "[168]\tvalid_0's map@100: 0.251461\tvalid_0's ndcg@100: 0.35502\n",
      "[169]\tvalid_0's map@100: 0.251559\tvalid_0's ndcg@100: 0.355137\n",
      "[170]\tvalid_0's map@100: 0.25187\tvalid_0's ndcg@100: 0.355374\n",
      "[171]\tvalid_0's map@100: 0.251833\tvalid_0's ndcg@100: 0.355354\n",
      "[172]\tvalid_0's map@100: 0.251807\tvalid_0's ndcg@100: 0.355358\n",
      "[173]\tvalid_0's map@100: 0.251793\tvalid_0's ndcg@100: 0.355379\n",
      "[174]\tvalid_0's map@100: 0.251775\tvalid_0's ndcg@100: 0.355384\n",
      "[175]\tvalid_0's map@100: 0.251747\tvalid_0's ndcg@100: 0.355356\n",
      "[176]\tvalid_0's map@100: 0.251713\tvalid_0's ndcg@100: 0.355333\n",
      "[177]\tvalid_0's map@100: 0.251779\tvalid_0's ndcg@100: 0.355408\n",
      "[178]\tvalid_0's map@100: 0.251833\tvalid_0's ndcg@100: 0.355398\n",
      "[179]\tvalid_0's map@100: 0.251819\tvalid_0's ndcg@100: 0.35542\n",
      "[180]\tvalid_0's map@100: 0.251737\tvalid_0's ndcg@100: 0.355396\n",
      "[181]\tvalid_0's map@100: 0.251681\tvalid_0's ndcg@100: 0.355379\n",
      "[182]\tvalid_0's map@100: 0.251597\tvalid_0's ndcg@100: 0.355308\n",
      "[183]\tvalid_0's map@100: 0.251636\tvalid_0's ndcg@100: 0.355352\n",
      "[184]\tvalid_0's map@100: 0.25184\tvalid_0's ndcg@100: 0.355518\n",
      "[185]\tvalid_0's map@100: 0.251679\tvalid_0's ndcg@100: 0.355419\n",
      "[186]\tvalid_0's map@100: 0.251762\tvalid_0's ndcg@100: 0.355497\n",
      "[187]\tvalid_0's map@100: 0.251664\tvalid_0's ndcg@100: 0.355417\n",
      "[188]\tvalid_0's map@100: 0.251693\tvalid_0's ndcg@100: 0.355383\n",
      "[189]\tvalid_0's map@100: 0.251661\tvalid_0's ndcg@100: 0.355381\n",
      "[190]\tvalid_0's map@100: 0.251684\tvalid_0's ndcg@100: 0.355411\n",
      "[191]\tvalid_0's map@100: 0.251848\tvalid_0's ndcg@100: 0.355545\n",
      "[192]\tvalid_0's map@100: 0.251995\tvalid_0's ndcg@100: 0.355656\n",
      "[193]\tvalid_0's map@100: 0.252035\tvalid_0's ndcg@100: 0.355697\n",
      "[194]\tvalid_0's map@100: 0.252241\tvalid_0's ndcg@100: 0.355874\n",
      "[195]\tvalid_0's map@100: 0.252328\tvalid_0's ndcg@100: 0.355918\n",
      "[196]\tvalid_0's map@100: 0.252494\tvalid_0's ndcg@100: 0.35604\n",
      "[197]\tvalid_0's map@100: 0.252386\tvalid_0's ndcg@100: 0.355984\n",
      "[198]\tvalid_0's map@100: 0.252411\tvalid_0's ndcg@100: 0.355979\n",
      "[199]\tvalid_0's map@100: 0.252295\tvalid_0's ndcg@100: 0.355896\n",
      "[200]\tvalid_0's map@100: 0.252623\tvalid_0's ndcg@100: 0.356153\n",
      "[201]\tvalid_0's map@100: 0.252667\tvalid_0's ndcg@100: 0.356217\n",
      "[202]\tvalid_0's map@100: 0.252715\tvalid_0's ndcg@100: 0.356241\n",
      "[203]\tvalid_0's map@100: 0.252705\tvalid_0's ndcg@100: 0.356198\n",
      "[204]\tvalid_0's map@100: 0.252699\tvalid_0's ndcg@100: 0.356192\n",
      "[205]\tvalid_0's map@100: 0.252684\tvalid_0's ndcg@100: 0.356172\n",
      "[206]\tvalid_0's map@100: 0.252654\tvalid_0's ndcg@100: 0.356114\n",
      "[207]\tvalid_0's map@100: 0.252988\tvalid_0's ndcg@100: 0.356361\n",
      "[208]\tvalid_0's map@100: 0.25299\tvalid_0's ndcg@100: 0.356349\n",
      "[209]\tvalid_0's map@100: 0.252906\tvalid_0's ndcg@100: 0.356284\n",
      "[210]\tvalid_0's map@100: 0.252752\tvalid_0's ndcg@100: 0.356172\n",
      "[211]\tvalid_0's map@100: 0.252866\tvalid_0's ndcg@100: 0.356247\n",
      "[212]\tvalid_0's map@100: 0.252841\tvalid_0's ndcg@100: 0.356271\n",
      "[213]\tvalid_0's map@100: 0.252873\tvalid_0's ndcg@100: 0.356274\n",
      "[214]\tvalid_0's map@100: 0.252866\tvalid_0's ndcg@100: 0.356264\n",
      "[215]\tvalid_0's map@100: 0.252919\tvalid_0's ndcg@100: 0.356314\n",
      "[216]\tvalid_0's map@100: 0.252932\tvalid_0's ndcg@100: 0.356326\n",
      "[217]\tvalid_0's map@100: 0.253028\tvalid_0's ndcg@100: 0.356405\n",
      "[218]\tvalid_0's map@100: 0.252964\tvalid_0's ndcg@100: 0.356361\n",
      "[219]\tvalid_0's map@100: 0.253056\tvalid_0's ndcg@100: 0.356446\n",
      "[220]\tvalid_0's map@100: 0.253145\tvalid_0's ndcg@100: 0.356506\n",
      "[221]\tvalid_0's map@100: 0.253392\tvalid_0's ndcg@100: 0.356687\n",
      "[222]\tvalid_0's map@100: 0.25348\tvalid_0's ndcg@100: 0.356782\n",
      "[223]\tvalid_0's map@100: 0.253577\tvalid_0's ndcg@100: 0.356824\n",
      "[224]\tvalid_0's map@100: 0.253572\tvalid_0's ndcg@100: 0.356799\n",
      "[225]\tvalid_0's map@100: 0.253661\tvalid_0's ndcg@100: 0.356863\n",
      "[226]\tvalid_0's map@100: 0.253842\tvalid_0's ndcg@100: 0.356963\n",
      "[227]\tvalid_0's map@100: 0.253786\tvalid_0's ndcg@100: 0.356926\n",
      "[228]\tvalid_0's map@100: 0.253733\tvalid_0's ndcg@100: 0.356872\n",
      "[229]\tvalid_0's map@100: 0.25367\tvalid_0's ndcg@100: 0.356805\n",
      "[230]\tvalid_0's map@100: 0.253572\tvalid_0's ndcg@100: 0.356709\n",
      "[231]\tvalid_0's map@100: 0.253655\tvalid_0's ndcg@100: 0.356773\n",
      "[232]\tvalid_0's map@100: 0.253798\tvalid_0's ndcg@100: 0.356873\n",
      "[233]\tvalid_0's map@100: 0.253724\tvalid_0's ndcg@100: 0.356813\n",
      "[234]\tvalid_0's map@100: 0.253791\tvalid_0's ndcg@100: 0.356879\n",
      "[235]\tvalid_0's map@100: 0.253992\tvalid_0's ndcg@100: 0.357061\n",
      "[236]\tvalid_0's map@100: 0.254011\tvalid_0's ndcg@100: 0.357048\n",
      "[237]\tvalid_0's map@100: 0.253983\tvalid_0's ndcg@100: 0.357036\n",
      "[238]\tvalid_0's map@100: 0.253959\tvalid_0's ndcg@100: 0.356973\n",
      "[239]\tvalid_0's map@100: 0.254035\tvalid_0's ndcg@100: 0.357042\n",
      "[240]\tvalid_0's map@100: 0.254067\tvalid_0's ndcg@100: 0.357022\n",
      "[241]\tvalid_0's map@100: 0.254021\tvalid_0's ndcg@100: 0.357027\n",
      "[242]\tvalid_0's map@100: 0.254083\tvalid_0's ndcg@100: 0.357042\n",
      "[243]\tvalid_0's map@100: 0.25407\tvalid_0's ndcg@100: 0.357025\n",
      "[244]\tvalid_0's map@100: 0.254088\tvalid_0's ndcg@100: 0.357017\n",
      "[245]\tvalid_0's map@100: 0.254069\tvalid_0's ndcg@100: 0.357003\n",
      "[246]\tvalid_0's map@100: 0.254096\tvalid_0's ndcg@100: 0.35707\n",
      "[247]\tvalid_0's map@100: 0.254072\tvalid_0's ndcg@100: 0.357041\n",
      "[248]\tvalid_0's map@100: 0.254084\tvalid_0's ndcg@100: 0.357051\n",
      "[249]\tvalid_0's map@100: 0.254079\tvalid_0's ndcg@100: 0.357027\n",
      "[250]\tvalid_0's map@100: 0.254215\tvalid_0's ndcg@100: 0.357145\n",
      "[251]\tvalid_0's map@100: 0.254148\tvalid_0's ndcg@100: 0.357165\n",
      "[252]\tvalid_0's map@100: 0.254099\tvalid_0's ndcg@100: 0.357137\n",
      "[253]\tvalid_0's map@100: 0.254173\tvalid_0's ndcg@100: 0.357198\n",
      "[254]\tvalid_0's map@100: 0.254043\tvalid_0's ndcg@100: 0.3571\n",
      "[255]\tvalid_0's map@100: 0.254045\tvalid_0's ndcg@100: 0.357161\n",
      "[256]\tvalid_0's map@100: 0.254109\tvalid_0's ndcg@100: 0.357208\n",
      "[257]\tvalid_0's map@100: 0.254196\tvalid_0's ndcg@100: 0.357271\n",
      "[258]\tvalid_0's map@100: 0.254267\tvalid_0's ndcg@100: 0.357327\n",
      "[259]\tvalid_0's map@100: 0.254261\tvalid_0's ndcg@100: 0.357325\n",
      "[260]\tvalid_0's map@100: 0.254378\tvalid_0's ndcg@100: 0.357394\n",
      "[261]\tvalid_0's map@100: 0.254409\tvalid_0's ndcg@100: 0.357437\n",
      "[262]\tvalid_0's map@100: 0.254443\tvalid_0's ndcg@100: 0.357464\n",
      "[263]\tvalid_0's map@100: 0.254543\tvalid_0's ndcg@100: 0.357539\n",
      "[264]\tvalid_0's map@100: 0.254363\tvalid_0's ndcg@100: 0.357391\n",
      "[265]\tvalid_0's map@100: 0.254288\tvalid_0's ndcg@100: 0.357348\n",
      "[266]\tvalid_0's map@100: 0.254277\tvalid_0's ndcg@100: 0.357306\n",
      "[267]\tvalid_0's map@100: 0.254144\tvalid_0's ndcg@100: 0.357206\n",
      "[268]\tvalid_0's map@100: 0.254184\tvalid_0's ndcg@100: 0.357238\n",
      "[269]\tvalid_0's map@100: 0.254242\tvalid_0's ndcg@100: 0.357294\n",
      "[270]\tvalid_0's map@100: 0.254229\tvalid_0's ndcg@100: 0.357287\n",
      "[271]\tvalid_0's map@100: 0.254189\tvalid_0's ndcg@100: 0.357283\n",
      "[272]\tvalid_0's map@100: 0.2541\tvalid_0's ndcg@100: 0.35722\n",
      "[273]\tvalid_0's map@100: 0.254081\tvalid_0's ndcg@100: 0.357198\n",
      "[274]\tvalid_0's map@100: 0.254113\tvalid_0's ndcg@100: 0.357225\n",
      "[275]\tvalid_0's map@100: 0.254066\tvalid_0's ndcg@100: 0.357192\n",
      "[276]\tvalid_0's map@100: 0.25403\tvalid_0's ndcg@100: 0.357159\n",
      "[277]\tvalid_0's map@100: 0.254081\tvalid_0's ndcg@100: 0.357209\n",
      "[278]\tvalid_0's map@100: 0.254114\tvalid_0's ndcg@100: 0.357232\n",
      "[279]\tvalid_0's map@100: 0.25408\tvalid_0's ndcg@100: 0.357207\n",
      "[280]\tvalid_0's map@100: 0.254184\tvalid_0's ndcg@100: 0.357285\n",
      "[281]\tvalid_0's map@100: 0.254097\tvalid_0's ndcg@100: 0.357218\n",
      "[282]\tvalid_0's map@100: 0.254201\tvalid_0's ndcg@100: 0.357296\n",
      "[283]\tvalid_0's map@100: 0.254224\tvalid_0's ndcg@100: 0.357333\n",
      "[284]\tvalid_0's map@100: 0.25418\tvalid_0's ndcg@100: 0.357296\n",
      "[285]\tvalid_0's map@100: 0.254187\tvalid_0's ndcg@100: 0.357268\n",
      "[286]\tvalid_0's map@100: 0.254097\tvalid_0's ndcg@100: 0.357236\n",
      "[287]\tvalid_0's map@100: 0.25418\tvalid_0's ndcg@100: 0.357333\n",
      "[288]\tvalid_0's map@100: 0.254231\tvalid_0's ndcg@100: 0.357376\n",
      "[289]\tvalid_0's map@100: 0.254156\tvalid_0's ndcg@100: 0.357329\n",
      "[290]\tvalid_0's map@100: 0.254144\tvalid_0's ndcg@100: 0.357341\n",
      "[291]\tvalid_0's map@100: 0.254102\tvalid_0's ndcg@100: 0.357298\n",
      "[292]\tvalid_0's map@100: 0.254101\tvalid_0's ndcg@100: 0.357297\n",
      "[293]\tvalid_0's map@100: 0.254101\tvalid_0's ndcg@100: 0.357296\n",
      "[294]\tvalid_0's map@100: 0.254141\tvalid_0's ndcg@100: 0.357313\n",
      "[295]\tvalid_0's map@100: 0.254045\tvalid_0's ndcg@100: 0.357239\n",
      "[296]\tvalid_0's map@100: 0.254075\tvalid_0's ndcg@100: 0.357251\n",
      "[297]\tvalid_0's map@100: 0.254079\tvalid_0's ndcg@100: 0.357243\n",
      "[298]\tvalid_0's map@100: 0.254058\tvalid_0's ndcg@100: 0.357225\n",
      "[299]\tvalid_0's map@100: 0.25404\tvalid_0's ndcg@100: 0.357196\n",
      "[300]\tvalid_0's map@100: 0.254021\tvalid_0's ndcg@100: 0.357179\n",
      "[301]\tvalid_0's map@100: 0.254063\tvalid_0's ndcg@100: 0.357226\n",
      "[302]\tvalid_0's map@100: 0.254194\tvalid_0's ndcg@100: 0.357336\n",
      "[303]\tvalid_0's map@100: 0.254141\tvalid_0's ndcg@100: 0.357299\n",
      "[304]\tvalid_0's map@100: 0.254076\tvalid_0's ndcg@100: 0.357288\n",
      "[305]\tvalid_0's map@100: 0.253986\tvalid_0's ndcg@100: 0.357216\n",
      "[306]\tvalid_0's map@100: 0.254034\tvalid_0's ndcg@100: 0.357278\n",
      "[307]\tvalid_0's map@100: 0.254094\tvalid_0's ndcg@100: 0.35734\n",
      "[308]\tvalid_0's map@100: 0.254197\tvalid_0's ndcg@100: 0.357421\n",
      "[309]\tvalid_0's map@100: 0.254246\tvalid_0's ndcg@100: 0.357458\n",
      "[310]\tvalid_0's map@100: 0.254324\tvalid_0's ndcg@100: 0.357521\n",
      "[311]\tvalid_0's map@100: 0.254329\tvalid_0's ndcg@100: 0.357514\n",
      "[312]\tvalid_0's map@100: 0.254253\tvalid_0's ndcg@100: 0.357469\n",
      "[313]\tvalid_0's map@100: 0.254197\tvalid_0's ndcg@100: 0.357435\n",
      "Early stopping, best iteration is:\n",
      "[263]\tvalid_0's map@100: 0.254543\tvalid_0's ndcg@100: 0.357539\n",
      "Evaluated only: map@100\n"
     ]
    }
   ],
   "source": [
    "ranker=model.fit(\n",
    "    X=X_train,\n",
    "    y=y_train,\n",
    "    group=qids_train,\n",
    "    eval_set=[(X_valid, y_valid)],\n",
    "    eval_group=[qids_valid],\n",
    "    eval_at=(100),\n",
    "    callbacks=[lightgbm.log_evaluation(),lightgbm.early_stopping(50,first_metric_only=True)],\n",
    "    #verbose=10,\n",
    "    eval_metric=[\"map\",\"ndcg\"]\n",
    ")\n"
   ]
  },
  {
   "cell_type": "code",
   "execution_count": 30,
   "id": "8726dd2e",
   "metadata": {
    "execution": {
     "iopub.execute_input": "2022-06-12T16:42:56.780356Z",
     "iopub.status.busy": "2022-06-12T16:42:56.779492Z",
     "iopub.status.idle": "2022-06-12T16:42:56.784007Z",
     "shell.execute_reply": "2022-06-12T16:42:56.783264Z"
    },
    "papermill": {
     "duration": 0.141916,
     "end_time": "2022-06-12T16:42:56.784213",
     "exception": false,
     "start_time": "2022-06-12T16:42:56.642297",
     "status": "completed"
    },
    "tags": []
   },
   "outputs": [
    {
     "name": "stdout",
     "output_type": "stream",
     "text": [
      "49187\n"
     ]
    }
   ],
   "source": [
    "print(len(qids_train))"
   ]
  },
  {
   "cell_type": "code",
   "execution_count": 31,
   "id": "5062efbc",
   "metadata": {
    "execution": {
     "iopub.execute_input": "2022-06-12T16:42:57.046659Z",
     "iopub.status.busy": "2022-06-12T16:42:57.045932Z",
     "iopub.status.idle": "2022-06-12T16:42:57.886048Z",
     "shell.execute_reply": "2022-06-12T16:42:57.884692Z"
    },
    "papermill": {
     "duration": 0.974595,
     "end_time": "2022-06-12T16:42:57.886545",
     "exception": false,
     "start_time": "2022-06-12T16:42:56.911950",
     "status": "completed"
    },
    "tags": []
   },
   "outputs": [
    {
     "data": {
      "text/plain": "<Figure size 1440x720 with 1 Axes>",
      "image/png": "[encoded data removed]"
     },
     "metadata": {
      "needs_background": "light"
     },
     "output_type": "display_data"
    },
    {
     "data": {
      "text/plain": "<Figure size 432x288 with 0 Axes>"
     },
     "metadata": {},
     "output_type": "display_data"
    }
   ],
   "source": [
    "import matplotlib.pyplot as plt\n",
    "import seaborn as sns\n",
    "import warnings\n",
    "warnings.simplefilter(action='ignore', category=FutureWarning)\n",
    "\n",
    "# sorted(zip(clf.feature_importances_, X.columns), reverse=True)\n",
    "feature_imp = pd.DataFrame(sorted(zip(ranker.feature_importances_,X_train.columns)), columns=['Value','Feature'])\n",
    "\n",
    "plt.figure(figsize=(20, 10))\n",
    "sns.barplot(x=\"Value\", y=\"Feature\", data=feature_imp.sort_values(by=\"Value\", ascending=False))\n",
    "plt.title('LightGBM Features')\n",
    "plt.tight_layout()\n",
    "plt.show()\n",
    "plt.savefig('lgbm_importances-01.png')"
   ]
  },
  {
   "cell_type": "code",
   "execution_count": 32,
   "id": "e662942c",
   "metadata": {
    "execution": {
     "iopub.execute_input": "2022-06-12T16:42:58.453378Z",
     "iopub.status.busy": "2022-06-12T16:42:58.451556Z",
     "iopub.status.idle": "2022-06-12T16:42:58.514955Z",
     "shell.execute_reply": "2022-06-12T16:42:58.518637Z"
    },
    "papermill": {
     "duration": 0.369722,
     "end_time": "2022-06-12T16:42:58.519362",
     "exception": false,
     "start_time": "2022-06-12T16:42:58.149640",
     "status": "completed"
    },
    "tags": []
   },
   "outputs": [
    {
     "data": {
      "text/plain": "<lightgbm.basic.Booster at 0x309360520>"
     },
     "execution_count": 32,
     "metadata": {},
     "output_type": "execute_result"
    }
   ],
   "source": [
    "ranker.booster_.save_model('ranker_NN_transformer_LSTM_no_ranks.txt')"
   ]
  },
  {
   "cell_type": "code",
   "execution_count": 32,
   "metadata": {
    "collapsed": false,
    "pycharm": {
     "name": "#%%\n"
    }
   },
   "outputs": [],
   "source": []
  }
 ],
 "metadata": {
  "kernelspec": {
   "display_name": "Python 3",
   "language": "python",
   "name": "python3"
  },
  "language_info": {
   "codemirror_mode": {
    "name": "ipython",
    "version": 3
   },
   "file_extension": ".py",
   "mimetype": "text/x-python",
   "name": "python",
   "nbconvert_exporter": "python",
   "pygments_lexer": "ipython3",
   "version": "3.7.12"
  },
  "papermill": {
   "default_parameters": {},
   "duration": 1137.20113,
   "end_time": "2022-06-12T16:43:01.444276",
   "environment_variables": {},
   "exception": null,
   "input_path": "__notebook__.ipynb",
   "output_path": "__notebook__.ipynb",
   "parameters": {},
   "start_time": "2022-06-12T16:24:04.243146",
   "version": "2.3.3"
  }
 },
 "nbformat": 4,
 "nbformat_minor": 5
}