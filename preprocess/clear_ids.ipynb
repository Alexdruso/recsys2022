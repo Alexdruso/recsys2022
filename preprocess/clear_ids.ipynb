{
 "cells": [
  {
   "cell_type": "code",
   "execution_count": 1,
   "metadata": {},
   "outputs": [],
   "source": [
    "import pandas as pd\n",
    "import numpy as np\n",
    "import os.path\n",
    "from datetime import datetime\n",
    "base_path = '../dataset'\n",
    "\n",
    "original_data = os.path.join(base_path, 'original_data')\n",
    "processed_data = os.path.join(base_path, 'processed_data')"
   ]
  },
  {
   "cell_type": "code",
   "execution_count": 2,
   "metadata": {},
   "outputs": [
    {
     "data": {
      "text/plain": [
       "array([[ 4],\n",
       "       [ 8],\n",
       "       [ 9],\n",
       "       [19],\n",
       "       [20]], dtype=int64)"
      ]
     },
     "execution_count": 2,
     "metadata": {},
     "output_type": "execute_result"
    }
   ],
   "source": [
    "candidate_items=pd.read_csv(os.path.join(original_data, \"candidate_items.csv\"),usecols=[\"item_id\"]).drop_duplicates().sort_values(by=\"item_id\").to_numpy()\n",
    "candidate_items[:5]"
   ]
  },
  {
   "cell_type": "code",
   "execution_count": 3,
   "metadata": {},
   "outputs": [
    {
     "data": {
      "text/plain": [
       "array([[2],\n",
       "       [3],\n",
       "       [4],\n",
       "       [8],\n",
       "       [9]], dtype=int64)"
      ]
     },
     "execution_count": 3,
     "metadata": {},
     "output_type": "execute_result"
    }
   ],
   "source": [
    "train_sessions_items=pd.read_csv(os.path.join(original_data,\"train_sessions.csv\"),usecols=[\"item_id\"]).drop_duplicates().sort_values(by=\"item_id\").to_numpy()\n",
    "train_sessions_items[:5]"
   ]
  },
  {
   "cell_type": "code",
   "execution_count": 4,
   "metadata": {},
   "outputs": [
    {
     "data": {
      "text/plain": [
       "array([[3],\n",
       "       [4],\n",
       "       [7],\n",
       "       [8],\n",
       "       [9]], dtype=int64)"
      ]
     },
     "execution_count": 4,
     "metadata": {},
     "output_type": "execute_result"
    }
   ],
   "source": [
    "train_purchases_items=pd.read_csv(os.path.join(original_data,\"train_purchases.csv\"),usecols=[\"item_id\"]).drop_duplicates().sort_values(by=\"item_id\").to_numpy()\n",
    "train_purchases_items[:5]"
   ]
  },
  {
   "cell_type": "code",
   "execution_count": 5,
   "metadata": {},
   "outputs": [
    {
     "data": {
      "text/plain": [
       "array([[ 3],\n",
       "       [ 4],\n",
       "       [ 8],\n",
       "       [ 9],\n",
       "       [19]], dtype=int64)"
      ]
     },
     "execution_count": 5,
     "metadata": {},
     "output_type": "execute_result"
    }
   ],
   "source": [
    "test_sessions_items=pd.read_csv(os.path.join(original_data,\"test_final_sessions.csv\"),usecols=[\"item_id\"]).drop_duplicates().sort_values(by=\"item_id\").to_numpy()\n",
    "test_sessions_items[:5]"
   ]
  },
  {
   "cell_type": "code",
   "execution_count": 6,
   "metadata": {},
   "outputs": [
    {
     "data": {
      "text/plain": [
       "array([[ 4],\n",
       "       [ 8],\n",
       "       [ 9],\n",
       "       [19],\n",
       "       [20]], dtype=int64)"
      ]
     },
     "execution_count": 6,
     "metadata": {},
     "output_type": "execute_result"
    }
   ],
   "source": [
    "test_sessions_leaderboard_items=pd.read_csv(os.path.join(original_data,\"test_leaderboard_sessions.csv\"),usecols=[\"item_id\"]).drop_duplicates().sort_values(by=\"item_id\").to_numpy()\n",
    "test_sessions_leaderboard_items[:5]"
   ]
  },
  {
   "cell_type": "code",
   "execution_count": 7,
   "metadata": {
    "collapsed": false,
    "pycharm": {
     "name": "#%%\n"
    }
   },
   "outputs": [],
   "source": [
    "total_test_items = np.concatenate((test_sessions_leaderboard_items, test_sessions_items))"
   ]
  },
  {
   "cell_type": "code",
   "execution_count": 8,
   "metadata": {},
   "outputs": [
    {
     "data": {
      "text/plain": [
       "array([  313,   366,   575,  1152,  1364,  1883,  2497,  2523,  2677,\n",
       "        2694,  3185,  3529,  3754,  3835,  4042,  4514,  5214,  5394,\n",
       "        6171,  6853,  6873,  6916,  7204,  7780,  8758,  8771,  9384,\n",
       "        9418,  9589, 10463, 10671, 11125, 11933, 12667, 13376, 13618,\n",
       "       13943, 13972, 14395, 14622, 14723, 14967, 15601, 15629, 16206,\n",
       "       17046, 17206, 18482, 18690, 18837, 19637, 21241, 21444, 21904,\n",
       "       21927, 21998, 22030, 22316, 22703, 22746, 24303, 25035, 25277,\n",
       "       25521, 26232, 26742, 27377, 27728, 27826], dtype=int64)"
      ]
     },
     "execution_count": 8,
     "metadata": {},
     "output_type": "execute_result"
    }
   ],
   "source": [
    "InTestButNotInTrain=np.setdiff1d(total_test_items,train_sessions_items)\n",
    "InTestButNotInTrain"
   ]
  },
  {
   "cell_type": "code",
   "execution_count": 9,
   "metadata": {},
   "outputs": [
    {
     "name": "stdout",
     "output_type": "stream",
     "text": [
      "69  items are in test sessions but not in train\n"
     ]
    }
   ],
   "source": [
    "print(len(InTestButNotInTrain),\" items are in test sessions but not in train\")"
   ]
  },
  {
   "cell_type": "code",
   "execution_count": 10,
   "metadata": {},
   "outputs": [
    {
     "data": {
      "text/plain": [
       "array([], dtype=int64)"
      ]
     },
     "execution_count": 10,
     "metadata": {},
     "output_type": "execute_result"
    }
   ],
   "source": [
    "np.intersect1d(InTestButNotInTrain,train_purchases_items)\n",
    "#None of those 67 items is seen in the train_purchases, so they are unknown items, should be treated in a special way"
   ]
  },
  {
   "cell_type": "code",
   "execution_count": 11,
   "metadata": {},
   "outputs": [
    {
     "data": {
      "text/plain": [
       "array([  221,   313,   344,   366,   575,   950,  1152,  1222,  1364,\n",
       "        1883,  1935,  2411,  2489,  2497,  2523,  2621,  2677,  2694,\n",
       "        3185,  3220,  3529,  3754,  3835,  4042,  4514,  6171,  6425,\n",
       "        6512,  6853,  6873,  6916,  7204,  7321,  7408,  7710,  7780,\n",
       "        8053,  8758,  8814,  8839,  8928,  9384,  9418,  9589,  9974,\n",
       "       10463, 10491, 10496, 10671, 10694, 11125, 11862, 11933, 12438,\n",
       "       12641, 12667, 13376, 13550, 13618, 13788, 13943, 13972, 14167,\n",
       "       14395, 14535, 14723, 15629, 15719, 16045, 16092, 16206, 16800,\n",
       "       17046, 17057, 17206, 17371, 17534, 17576, 17950, 18837, 19808,\n",
       "       20237, 21056, 21241, 21444, 21599, 21904, 21998, 22096, 22143,\n",
       "       22316, 22583, 22703, 22746, 22838, 23640, 23981, 24239, 24303,\n",
       "       25035, 25179, 25277, 25298, 25521, 26201, 26232, 26742, 27042,\n",
       "       27377, 27427, 27728, 27826, 27847], dtype=int64)"
      ]
     },
     "execution_count": 11,
     "metadata": {},
     "output_type": "execute_result"
    }
   ],
   "source": [
    "CandidateNeverBoughtInTrainingSet=np.setdiff1d(candidate_items,train_purchases_items)\n",
    "CandidateNeverBoughtInTrainingSet"
   ]
  },
  {
   "cell_type": "code",
   "execution_count": 12,
   "metadata": {},
   "outputs": [
    {
     "data": {
      "text/plain": [
       "113"
      ]
     },
     "execution_count": 12,
     "metadata": {},
     "output_type": "execute_result"
    }
   ],
   "source": [
    "len(CandidateNeverBoughtInTrainingSet)"
   ]
  },
  {
   "cell_type": "code",
   "execution_count": 13,
   "metadata": {},
   "outputs": [
    {
     "data": {
      "text/plain": [
       "array([  221,   344,   950,  1222,  1935,  2411,  2489,  2621,  3220,\n",
       "        6425,  6512,  7321,  7408,  7710,  8053,  8839,  8928,  9974,\n",
       "       10491, 10496, 10694, 11862, 12438, 12641, 13550, 13788, 14167,\n",
       "       14535, 15719, 16045, 16092, 16800, 17057, 17371, 17534, 17950,\n",
       "       19808, 21056, 21599, 22096, 22143, 22583, 22838, 23640, 23981,\n",
       "       24239, 25179, 25298, 27042, 27427, 27847], dtype=int64)"
      ]
     },
     "execution_count": 13,
     "metadata": {},
     "output_type": "execute_result"
    }
   ],
   "source": [
    "SeenInTrainSessions=np.intersect1d(CandidateNeverBoughtInTrainingSet,train_sessions_items)\n",
    "SeenInTrainSessions"
   ]
  },
  {
   "cell_type": "code",
   "execution_count": 14,
   "metadata": {},
   "outputs": [
    {
     "data": {
      "text/plain": [
       "51"
      ]
     },
     "execution_count": 14,
     "metadata": {},
     "output_type": "execute_result"
    }
   ],
   "source": [
    "len(SeenInTrainSessions)"
   ]
  },
  {
   "cell_type": "code",
   "execution_count": 15,
   "metadata": {
    "collapsed": false,
    "pycharm": {
     "name": "#%%\n"
    }
   },
   "outputs": [],
   "source": [
    "data=np.concatenate((candidate_items,train_purchases_items,train_sessions_items,test_sessions_items,test_sessions_leaderboard_items))\n"
   ]
  },
  {
   "cell_type": "code",
   "execution_count": 16,
   "metadata": {
    "collapsed": false,
    "pycharm": {
     "name": "#%%\n"
    }
   },
   "outputs": [],
   "source": [
    "df=pd.DataFrame(columns=[\"item_id\"],data=data,index=[i for i,_ in enumerate(data)]).drop_duplicates().reset_index()"
   ]
  },
  {
   "cell_type": "code",
   "execution_count": 17,
   "metadata": {
    "collapsed": false,
    "pycharm": {
     "name": "#%%\n"
    }
   },
   "outputs": [
    {
     "name": "stdout",
     "output_type": "stream",
     "text": [
      "<class 'pandas.core.frame.DataFrame'>\n",
      "RangeIndex: 23691 entries, 0 to 23690\n",
      "Data columns (total 2 columns):\n",
      " #   Column   Non-Null Count  Dtype\n",
      "---  ------   --------------  -----\n",
      " 0   index    23691 non-null  int64\n",
      " 1   item_id  23691 non-null  int64\n",
      "dtypes: int64(2)\n",
      "memory usage: 370.3 KB\n"
     ]
    }
   ],
   "source": [
    "df.info()"
   ]
  },
  {
   "cell_type": "code",
   "execution_count": 18,
   "metadata": {},
   "outputs": [],
   "source": [
    "df[\"code\"]=df.index\n",
    "df[\"code\"]+=1"
   ]
  },
  {
   "cell_type": "code",
   "execution_count": 19,
   "metadata": {},
   "outputs": [],
   "source": [
    "del df[\"index\"]"
   ]
  },
  {
   "cell_type": "code",
   "execution_count": 20,
   "metadata": {},
   "outputs": [],
   "source": [
    "df.to_csv(os.path.join(processed_data,\"map.csv\"),index=False)"
   ]
  },
  {
   "cell_type": "code",
   "execution_count": 21,
   "metadata": {},
   "outputs": [],
   "source": [
    "df[:19021].to_csv(os.path.join(processed_data,\"map_purchases.csv\"),index=False) # Mapping of only bought items"
   ]
  },
  {
   "cell_type": "code",
   "execution_count": 22,
   "metadata": {},
   "outputs": [],
   "source": [
    "train_sessions=pd.read_csv(os.path.join(original_data,\"train_sessions.csv\"),parse_dates=['date'], \n",
    "                         infer_datetime_format=True,header=0)\n",
    "                         \n",
    "train_sessions_ids=train_sessions.sort_values(\"date\").drop_duplicates(\"session_id\",keep='first')[\"session_id\"]\n",
    "train_sessions_ids=train_sessions_ids.reset_index()\n",
    "train_sessions_ids[\"index\"]=train_sessions_ids.index\n",
    "train_sessions_ids.to_csv(os.path.join(processed_data,\"sessions_map.csv\"),index=False)"
   ]
  },
  {
   "cell_type": "code",
   "execution_count": 23,
   "metadata": {},
   "outputs": [],
   "source": [
    "test_final_sessions=pd.read_csv(os.path.join(original_data,\"test_final_sessions.csv\"))\n",
    "test_leaderboard_sessions=pd.read_csv(os.path.join(original_data,\"test_leaderboard_sessions.csv\"))\n",
    "test_sessions=pd.concat([test_final_sessions,test_leaderboard_sessions],axis=0)\n",
    "\n",
    "test_sessions_ids=test_sessions.sort_values(\"date\").drop_duplicates(\"session_id\",keep='first')[\"session_id\"]\n",
    "test_sessions_ids=test_sessions_ids.reset_index()\n",
    "test_sessions_ids[\"index\"]=test_sessions_ids.index\n",
    "test_sessions_ids.to_csv(os.path.join(processed_data,\"test_sessions_map.csv\"),index=False)"
   ]
  },
  {
   "cell_type": "code",
   "execution_count": 24,
   "metadata": {},
   "outputs": [],
   "source": [
    "candidate_items=pd.read_csv(os.path.join(original_data,\"candidate_items.csv\"))\n",
    "candidate_items=candidate_items.merge(df,on=\"item_id\",how=\"left\")\n",
    "candidate_items[\"item_id\"]=candidate_items[\"code\"]\n",
    "del candidate_items[\"code\"]\n",
    "candidate_items.to_csv(os.path.join(processed_data,\"candidate_items_mapped.csv\"),index=False)"
   ]
  },
  {
   "cell_type": "code",
   "execution_count": 25,
   "metadata": {},
   "outputs": [],
   "source": [
    "test_final_sessions=pd.read_csv(os.path.join(original_data,\"test_final_sessions.csv\"))\n",
    "test_final_sessions=test_final_sessions.merge(df,on=\"item_id\",how=\"left\")\n",
    "test_final_sessions[\"item_id\"]=test_final_sessions[\"code\"]\n",
    "del test_final_sessions[\"code\"]\n",
    "test_final_sessions=test_final_sessions.merge(test_sessions_ids,on=\"session_id\",how=\"left\")\n",
    "test_final_sessions[\"session_id\"]=test_final_sessions[\"index\"]\n",
    "del test_final_sessions[\"index\"]\n",
    "test_final_sessions.to_csv(os.path.join(processed_data,\"test_final_sessions_full_mapped.csv\"),index=False)"
   ]
  },
  {
   "cell_type": "code",
   "execution_count": null,
   "metadata": {},
   "outputs": [],
   "source": [
    "test_final_sessions=pd.read_csv(os.path.join(original_data,\"test_final_sessions.csv\"))\n",
    "test_final_sessions=test_final_sessions.merge(df,on=\"item_id\",how=\"left\")\n",
    "test_final_sessions[\"item_id\"]=test_final_sessions[\"code\"]\n",
    "del test_final_sessions[\"code\"]\n",
    "test_final_sessions.to_csv(os.path.join(processed_data,\"test_final_sessions_mapped.csv\"),index=False)"
   ]
  },
  {
   "cell_type": "code",
   "execution_count": 26,
   "metadata": {},
   "outputs": [],
   "source": [
    "test_leaderboard_sessions=pd.read_csv(os.path.join(original_data,\"test_leaderboard_sessions.csv\"))\n",
    "test_leaderboard_sessions=test_leaderboard_sessions.merge(df,on=\"item_id\",how=\"left\")\n",
    "test_leaderboard_sessions[\"item_id\"]=test_leaderboard_sessions[\"code\"]\n",
    "del test_leaderboard_sessions[\"code\"]\n",
    "test_leaderboard_sessions=test_leaderboard_sessions.merge(test_sessions_ids,on=\"session_id\",how=\"left\")\n",
    "test_leaderboard_sessions[\"session_id\"]=test_leaderboard_sessions[\"index\"]\n",
    "del test_leaderboard_sessions[\"index\"]\n",
    "test_leaderboard_sessions.to_csv(os.path.join(processed_data,\"test_leaderboard_sessions_full_mapped.csv\"),index=False)"
   ]
  },
  {
   "cell_type": "code",
   "execution_count": null,
   "metadata": {},
   "outputs": [],
   "source": [
    "test_leaderboard_sessions=pd.read_csv(os.path.join(original_data,\"test_leaderboard_sessions.csv\"))\n",
    "test_leaderboard_sessions=test_leaderboard_sessions.merge(df,on=\"item_id\",how=\"left\")\n",
    "test_leaderboard_sessions[\"item_id\"]=test_leaderboard_sessions[\"code\"]\n",
    "del test_leaderboard_sessions[\"code\"]\n",
    "test_leaderboard_sessions.to_csv(os.path.join(processed_data,\"test_leaderboard_sessions_mapped.csv\"),index=False)"
   ]
  },
  {
   "cell_type": "code",
   "execution_count": 27,
   "metadata": {},
   "outputs": [],
   "source": [
    "train_purchases=pd.read_csv(os.path.join(original_data,\"train_purchases.csv\"))\n",
    "train_purchases=train_purchases.merge(df,on=\"item_id\",how=\"left\")\n",
    "train_purchases[\"item_id\"]=train_purchases[\"code\"]\n",
    "del train_purchases[\"code\"]\n",
    "train_purchases=train_purchases.merge(train_sessions_ids,on=\"session_id\",how=\"left\")\n",
    "train_purchases[\"session_id\"]=train_purchases[\"index\"]\n",
    "del train_purchases[\"index\"]\n",
    "train_purchases.to_csv(os.path.join(processed_data,\"train_purchases_mapped.csv\"),index=False)"
   ]
  },
  {
   "cell_type": "code",
   "execution_count": 28,
   "metadata": {},
   "outputs": [],
   "source": [
    "train_sessions=pd.read_csv(os.path.join(original_data,\"train_sessions.csv\"))\n",
    "train_sessions=train_sessions.merge(df,on=\"item_id\",how=\"left\")\n",
    "train_sessions[\"item_id\"]=train_sessions[\"code\"]\n",
    "del train_sessions[\"code\"]\n",
    "train_sessions=train_sessions.merge(train_sessions_ids,on=\"session_id\",how=\"left\")\n",
    "train_sessions[\"session_id\"]=train_sessions[\"index\"]\n",
    "del train_sessions[\"index\"]\n",
    "train_sessions.to_csv(os.path.join(processed_data,\"train_sessions_mapped.csv\"),index=False)"
   ]
  },
  {
   "cell_type": "code",
   "execution_count": 30,
   "metadata": {
    "collapsed": false,
    "pycharm": {
     "name": "#%%\n"
    }
   },
   "outputs": [],
   "source": [
    "item_features=pd.read_csv(os.path.join(original_data,\"item_features.csv\"))\n",
    "item_features=item_features.merge(df,on=\"item_id\",how=\"left\")\n",
    "item_features[\"item_id\"]=item_features[\"code\"]\n",
    "del item_features[\"code\"]\n",
    "item_features.to_csv(os.path.join(processed_data,\"item_features_mapped.csv\"),index=False)"
   ]
  },
  {
   "cell_type": "code",
   "execution_count": 31,
   "metadata": {},
   "outputs": [],
   "source": [
    "train_sessions=pd.read_csv(os.path.join(original_data,\"train_sessions.csv\"),parse_dates=['date'], \n",
    "                         infer_datetime_format=True,header=0)\n",
    "\n",
    "\n",
    "last_month_start = datetime.strptime(\"01/05/21 00:00:00\", '%d/%m/%y %H:%M:%S')\n",
    "\n",
    "train_sessions_train_split=train_sessions[train_sessions[\"date\"]<last_month_start]\n",
    "\n",
    "\n",
    "train_sessions_train_split=train_sessions_train_split.merge(df,on=\"item_id\",how=\"left\")\n",
    "train_sessions_train_split[\"item_id\"]=train_sessions_train_split[\"code\"]\n",
    "del train_sessions_train_split[\"code\"]\n",
    "train_sessions_train_split=train_sessions_train_split.merge(train_sessions_ids,on=\"session_id\",how=\"left\")\n",
    "train_sessions_train_split[\"session_id\"]=train_sessions_train_split[\"index\"]\n",
    "del train_sessions_train_split[\"index\"]\n",
    "train_sessions_train_split.to_csv(os.path.join(processed_data,\"train_sessions_train_split_mapped.csv\"),index=False)\n",
    "\n",
    "train_sessions_valid_split=train_sessions[train_sessions[\"date\"]>=last_month_start]\n",
    "\n",
    "\n",
    "train_sessions_valid_split=train_sessions_valid_split.merge(df,on=\"item_id\",how=\"left\")\n",
    "train_sessions_valid_split[\"item_id\"]=train_sessions_valid_split[\"code\"]\n",
    "del train_sessions_valid_split[\"code\"]\n",
    "train_sessions_valid_split=train_sessions_valid_split.merge(train_sessions_ids,on=\"session_id\",how=\"left\")\n",
    "train_sessions_valid_split[\"session_id\"]=train_sessions_valid_split[\"index\"]\n",
    "del train_sessions_valid_split[\"index\"]\n",
    "train_sessions_valid_split.to_csv(os.path.join(processed_data,\"train_sessions_valid_split_mapped.csv\"),index=False)"
   ]
  },
  {
   "cell_type": "code",
   "execution_count": 32,
   "metadata": {},
   "outputs": [],
   "source": [
    "train_purchases=pd.read_csv(os.path.join(original_data,\"train_purchases.csv\"),parse_dates=['date'], \n",
    "                         infer_datetime_format=True,header=0)\n",
    "\n",
    "\n",
    "last_month_start = datetime.strptime(\"01/05/21 00:00:00\", '%d/%m/%y %H:%M:%S')\n",
    "\n",
    "train_purchases_train_split=train_purchases[train_purchases[\"date\"]<last_month_start]\n",
    "\n",
    "\n",
    "train_purchases_train_split=train_purchases_train_split.merge(df,on=\"item_id\",how=\"left\")\n",
    "train_purchases_train_split[\"item_id\"]=train_purchases_train_split[\"code\"]\n",
    "del train_purchases_train_split[\"code\"]\n",
    "train_purchases_train_split=train_purchases_train_split.merge(train_sessions_ids,on=\"session_id\",how=\"left\")\n",
    "train_purchases_train_split[\"session_id\"]=train_purchases_train_split[\"index\"]\n",
    "del train_purchases_train_split[\"index\"]\n",
    "train_purchases_train_split.to_csv(os.path.join(processed_data,\"train_purchases_train_split_mapped.csv\"),index=False)\n",
    "\n",
    "train_purchases_valid_split=train_purchases[train_purchases[\"date\"]>=last_month_start]\n",
    "\n",
    "\n",
    "train_purchases_valid_split=train_purchases_valid_split.merge(df,on=\"item_id\",how=\"left\")\n",
    "train_purchases_valid_split[\"item_id\"]=train_purchases_valid_split[\"code\"]\n",
    "del train_purchases_valid_split[\"code\"]\n",
    "train_purchases_valid_split=train_purchases_valid_split.merge(train_sessions_ids,on=\"session_id\",how=\"left\")\n",
    "train_purchases_valid_split[\"session_id\"]=train_purchases_valid_split[\"index\"]\n",
    "del train_purchases_valid_split[\"index\"]\n",
    "train_purchases_valid_split.to_csv(os.path.join(processed_data,\"train_purchases_valid_split_mapped.csv\"),index=False)"
   ]
  }
 ],
 "metadata": {
  "interpreter": {
   "hash": "076f8a6b5b1418db8156a69c89ffd9be81dd0856c64ab85c86cdbdc614e845fe"
  },
  "kernelspec": {
   "display_name": "Python 3.7.11 ('kerasenv')",
   "language": "python",
   "name": "python3"
  },
  "language_info": {
   "codemirror_mode": {
    "name": "ipython",
    "version": 3
   },
   "file_extension": ".py",
   "mimetype": "text/x-python",
   "name": "python",
   "nbconvert_exporter": "python",
   "pygments_lexer": "ipython3",
   "version": "3.7.11"
  },
  "orig_nbformat": 4
 },
 "nbformat": 4,
 "nbformat_minor": 2
}
