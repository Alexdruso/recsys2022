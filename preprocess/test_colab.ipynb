{
 "cells": [
  {
   "cell_type": "code",
   "execution_count": 1,
   "outputs": [],
   "source": [
    "import os\n",
    "\n",
    "import pandas as pd\n",
    "\n",
    "from preprocess.features import macro_features_generation"
   ],
   "metadata": {
    "collapsed": false,
    "pycharm": {
     "name": "#%%\n"
    }
   }
  },
  {
   "cell_type": "code",
   "execution_count": null,
   "metadata": {
    "collapsed": true
   },
   "outputs": [],
   "source": [
    "\n",
    "\n",
    "base_path = '../dataset'\n",
    "\n",
    "original_data = os.path.join(base_path, 'original_data')\n",
    "processed_data = os.path.join(base_path, 'processed_data')\n",
    "\n",
    "train_sessions = pd.read_csv(\n",
    "    os.path.join(processed_data, 'train_sessions_mapped.csv'),\n",
    "    parse_dates=['date'],\n",
    "    infer_datetime_format=True\n",
    ")\n",
    "train_sessions = train_sessions.sort_values(by='date').groupby(['session_id']).agg(tuple).applymap(list).reset_index()\n",
    "train_sessions.sort_values(by=\"session_id\", inplace=True)\n",
    "result = macro_features_generation(train_sessions)\n",
    "# result = get_special_date_features(train_sessions)\n",
    "print(result)"
   ]
  }
 ],
 "metadata": {
  "kernelspec": {
   "display_name": "Python 3",
   "language": "python",
   "name": "python3"
  },
  "language_info": {
   "codemirror_mode": {
    "name": "ipython",
    "version": 2
   },
   "file_extension": ".py",
   "mimetype": "text/x-python",
   "name": "python",
   "nbconvert_exporter": "python",
   "pygments_lexer": "ipython2",
   "version": "2.7.6"
  }
 },
 "nbformat": 4,
 "nbformat_minor": 0
}